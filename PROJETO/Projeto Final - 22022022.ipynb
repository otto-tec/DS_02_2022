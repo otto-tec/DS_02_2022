{
 "cells": [
  {
   "cell_type": "markdown",
   "id": "a4dbfc68",
   "metadata": {
    "id": "a4dbfc68"
   },
   "source": [
    "# Módulo 5 - Técnicas de Programação II | Python\n",
    "\n",
    "## Projeto Final - História das Olimpíadas"
   ]
  },
  {
   "cell_type": "markdown",
   "id": "65064ba3",
   "metadata": {
    "id": "65064ba3"
   },
   "source": [
    "Este projeto consiste em uma análise de dados históricos dos jogos olímpicos.\n",
    "\n",
    "Utilize qualquer uma das bibliotecas estudadas (```matplotlib```, ```seaborn``` e ```plotly```) para realizar as atividades propostas. Não há problema em usar apenas uma para realizar todas as atividades, nem em utilizar cada uma delas em uma atividade diferente - siga suas preferências pessoais!\n",
    "\n",
    "Utilize os (muitos) parâmetros permitidos por cada função e/ou atributos dos objetos fornecidos pelas bibliotecas para criar uma identidade visual coesa para ser utilizada em todo o projeto. Use títulos, legendas e rótulos nos eixos para deixar os gráficos verdadeiramente informativos. E não se esqueça que a simples escolha das cores a serem utilizadas pode tornar os gráficos ainda mais interessantes!"
   ]
  },
  {
   "cell_type": "markdown",
   "id": "18fbd6d8",
   "metadata": {
    "id": "18fbd6d8"
   },
   "source": [
    "## Metadados:\n",
    "\n",
    "O arquivo ```athlete_events.csv``` contém 271116 linhas e 15 colunas. Cada linha corresponde a um indivíduo (atleta) que competiu em um evento olímpico individual. Veja a descrição das 15 colunas, a seguir:\n",
    "\n",
    "- **ID:** Valor único para cada atleta\n",
    "- **Name:** Nome do atleta\n",
    "- **Sex:** Gênero do atleta (M para masculino e F para feminino)\n",
    "- **Age:** Idade do atleta no momento da competição\n",
    "- **Height:** Altura do atleta, em centímetros\n",
    "- **Weight:** Peso do atleta, em kg\n",
    "- **Team:** Nome do time\n",
    "- **NOC:** National Olympic Committee (código de 3 letras)\n",
    "- **Games:** Ano e temporada dos jogos\n",
    "- **Year:** Ano dos jogos\n",
    "- **Season:** Temporada dos jogos (summer para verão e winter para inverno)\n",
    "- **City:** Cidade em que ocorreu os jogos\n",
    "- **Sport:** Esporte praticado pelo atleta\n",
    "- **Event:** Categoria/modalidade da competição\n",
    "- **Medal:** Medalha adquirida: Gold (ouro), Silver (prata), Bronze ou NA"
   ]
  },
  {
   "cell_type": "code",
   "execution_count": null,
   "id": "14730a4a",
   "metadata": {
    "id": "14730a4a"
   },
   "outputs": [],
   "source": []
  },
  {
   "cell_type": "markdown",
   "id": "4d9822e8",
   "metadata": {
    "id": "4d9822e8"
   },
   "source": [
    "## O Brasil nas olímpiadas\n",
    "\n",
    "<font size=+3>**1.** Crie um DataFrame contendo apenas informações sobre atletas **brasileiros**. Exiba a quantidade de linhas desse novo DataFrame.</font>"
   ]
  },
  {
   "cell_type": "code",
   "execution_count": 1,
   "id": "96beccb7",
   "metadata": {
    "id": "96beccb7"
   },
   "outputs": [],
   "source": [
    "import pandas as pd\n",
    "import numpy as np\n",
    "import matplotlib as mp\n",
    "import plotly.express as px\n",
    "import seaborn as sns\n",
    "import matplotlib.pyplot as plt"
   ]
  },
  {
   "cell_type": "code",
   "execution_count": 45,
   "id": "236fe3a3",
   "metadata": {
    "id": "236fe3a3"
   },
   "outputs": [],
   "source": [
    "df = pd.read_csv('data/athlete_events.csv')\n",
    "br = df[df['Team'] == 'Brazil'].copy()"
   ]
  },
  {
   "cell_type": "code",
   "execution_count": 46,
   "id": "a7045e21",
   "metadata": {
    "id": "a7045e21",
    "outputId": "203ccf8f-3c8c-4846-b353-a37db4e75ad1"
   },
   "outputs": [
    {
     "name": "stdout",
     "output_type": "stream",
     "text": [
      "<class 'pandas.core.frame.DataFrame'>\n",
      "Int64Index: 3772 entries, 665 to 270789\n",
      "Data columns (total 15 columns):\n",
      " #   Column  Non-Null Count  Dtype  \n",
      "---  ------  --------------  -----  \n",
      " 0   ID      3772 non-null   int64  \n",
      " 1   Name    3772 non-null   object \n",
      " 2   Sex     3772 non-null   object \n",
      " 3   Age     3713 non-null   float64\n",
      " 4   Height  3304 non-null   float64\n",
      " 5   Weight  3133 non-null   float64\n",
      " 6   Team    3772 non-null   object \n",
      " 7   NOC     3772 non-null   object \n",
      " 8   Games   3772 non-null   object \n",
      " 9   Year    3772 non-null   int64  \n",
      " 10  Season  3772 non-null   object \n",
      " 11  City    3772 non-null   object \n",
      " 12  Sport   3772 non-null   object \n",
      " 13  Event   3772 non-null   object \n",
      " 14  Medal   449 non-null    object \n",
      "dtypes: float64(3), int64(2), object(10)\n",
      "memory usage: 471.5+ KB\n"
     ]
    }
   ],
   "source": [
    "br.info()"
   ]
  },
  {
   "cell_type": "code",
   "execution_count": 47,
   "id": "930cee6e",
   "metadata": {
    "id": "930cee6e",
    "outputId": "6b4c787b-2e37-4611-a929-0aedd1003548",
    "scrolled": true
   },
   "outputs": [
    {
     "data": {
      "text/html": [
       "<div>\n",
       "<style scoped>\n",
       "    .dataframe tbody tr th:only-of-type {\n",
       "        vertical-align: middle;\n",
       "    }\n",
       "\n",
       "    .dataframe tbody tr th {\n",
       "        vertical-align: top;\n",
       "    }\n",
       "\n",
       "    .dataframe thead th {\n",
       "        text-align: right;\n",
       "    }\n",
       "</style>\n",
       "<table border=\"1\" class=\"dataframe\">\n",
       "  <thead>\n",
       "    <tr style=\"text-align: right;\">\n",
       "      <th></th>\n",
       "      <th>ID</th>\n",
       "      <th>Name</th>\n",
       "      <th>Sex</th>\n",
       "      <th>Age</th>\n",
       "      <th>Height</th>\n",
       "      <th>Weight</th>\n",
       "      <th>Team</th>\n",
       "      <th>NOC</th>\n",
       "      <th>Games</th>\n",
       "      <th>Year</th>\n",
       "      <th>Season</th>\n",
       "      <th>City</th>\n",
       "      <th>Sport</th>\n",
       "      <th>Event</th>\n",
       "      <th>Medal</th>\n",
       "    </tr>\n",
       "  </thead>\n",
       "  <tbody>\n",
       "    <tr>\n",
       "      <th>665</th>\n",
       "      <td>386</td>\n",
       "      <td>Alexandre Abeid</td>\n",
       "      <td>M</td>\n",
       "      <td>22.0</td>\n",
       "      <td>194.0</td>\n",
       "      <td>92.0</td>\n",
       "      <td>Brazil</td>\n",
       "      <td>BRA</td>\n",
       "      <td>1972 Summer</td>\n",
       "      <td>1972</td>\n",
       "      <td>Summer</td>\n",
       "      <td>Munich</td>\n",
       "      <td>Volleyball</td>\n",
       "      <td>Volleyball Men's Volleyball</td>\n",
       "      <td>NaN</td>\n",
       "    </tr>\n",
       "    <tr>\n",
       "      <th>666</th>\n",
       "      <td>386</td>\n",
       "      <td>Alexandre Abeid</td>\n",
       "      <td>M</td>\n",
       "      <td>26.0</td>\n",
       "      <td>194.0</td>\n",
       "      <td>92.0</td>\n",
       "      <td>Brazil</td>\n",
       "      <td>BRA</td>\n",
       "      <td>1976 Summer</td>\n",
       "      <td>1976</td>\n",
       "      <td>Summer</td>\n",
       "      <td>Montreal</td>\n",
       "      <td>Volleyball</td>\n",
       "      <td>Volleyball Men's Volleyball</td>\n",
       "      <td>NaN</td>\n",
       "    </tr>\n",
       "    <tr>\n",
       "      <th>668</th>\n",
       "      <td>388</td>\n",
       "      <td>Abel Carlos da Silva Braga</td>\n",
       "      <td>M</td>\n",
       "      <td>19.0</td>\n",
       "      <td>190.0</td>\n",
       "      <td>73.0</td>\n",
       "      <td>Brazil</td>\n",
       "      <td>BRA</td>\n",
       "      <td>1972 Summer</td>\n",
       "      <td>1972</td>\n",
       "      <td>Summer</td>\n",
       "      <td>Munich</td>\n",
       "      <td>Football</td>\n",
       "      <td>Football Men's Football</td>\n",
       "      <td>NaN</td>\n",
       "    </tr>\n",
       "    <tr>\n",
       "      <th>781</th>\n",
       "      <td>451</td>\n",
       "      <td>Diana Monteiro Abla</td>\n",
       "      <td>F</td>\n",
       "      <td>21.0</td>\n",
       "      <td>175.0</td>\n",
       "      <td>75.0</td>\n",
       "      <td>Brazil</td>\n",
       "      <td>BRA</td>\n",
       "      <td>2016 Summer</td>\n",
       "      <td>2016</td>\n",
       "      <td>Summer</td>\n",
       "      <td>Rio de Janeiro</td>\n",
       "      <td>Water Polo</td>\n",
       "      <td>Water Polo Women's Water Polo</td>\n",
       "      <td>NaN</td>\n",
       "    </tr>\n",
       "    <tr>\n",
       "      <th>1005</th>\n",
       "      <td>565</td>\n",
       "      <td>Glauclio Serro Abreu</td>\n",
       "      <td>M</td>\n",
       "      <td>26.0</td>\n",
       "      <td>185.0</td>\n",
       "      <td>75.0</td>\n",
       "      <td>Brazil</td>\n",
       "      <td>BRA</td>\n",
       "      <td>2004 Summer</td>\n",
       "      <td>2004</td>\n",
       "      <td>Summer</td>\n",
       "      <td>Athina</td>\n",
       "      <td>Boxing</td>\n",
       "      <td>Boxing Men's Middleweight</td>\n",
       "      <td>NaN</td>\n",
       "    </tr>\n",
       "  </tbody>\n",
       "</table>\n",
       "</div>"
      ],
      "text/plain": [
       "       ID                        Name Sex   Age  Height  Weight    Team  NOC  \\\n",
       "665   386             Alexandre Abeid   M  22.0   194.0    92.0  Brazil  BRA   \n",
       "666   386             Alexandre Abeid   M  26.0   194.0    92.0  Brazil  BRA   \n",
       "668   388  Abel Carlos da Silva Braga   M  19.0   190.0    73.0  Brazil  BRA   \n",
       "781   451         Diana Monteiro Abla   F  21.0   175.0    75.0  Brazil  BRA   \n",
       "1005  565        Glauclio Serro Abreu   M  26.0   185.0    75.0  Brazil  BRA   \n",
       "\n",
       "            Games  Year  Season            City       Sport  \\\n",
       "665   1972 Summer  1972  Summer          Munich  Volleyball   \n",
       "666   1976 Summer  1976  Summer        Montreal  Volleyball   \n",
       "668   1972 Summer  1972  Summer          Munich    Football   \n",
       "781   2016 Summer  2016  Summer  Rio de Janeiro  Water Polo   \n",
       "1005  2004 Summer  2004  Summer          Athina      Boxing   \n",
       "\n",
       "                              Event Medal  \n",
       "665     Volleyball Men's Volleyball   NaN  \n",
       "666     Volleyball Men's Volleyball   NaN  \n",
       "668         Football Men's Football   NaN  \n",
       "781   Water Polo Women's Water Polo   NaN  \n",
       "1005      Boxing Men's Middleweight   NaN  "
      ]
     },
     "execution_count": 47,
     "metadata": {},
     "output_type": "execute_result"
    }
   ],
   "source": [
    "br.head()"
   ]
  },
  {
   "cell_type": "markdown",
   "id": "4565dbe2",
   "metadata": {
    "id": "4565dbe2"
   },
   "source": [
    "<font size=+3>**2. Será que existe alguma correlação entre a altura do atleta e seu desempenho, para algum esporte? Faça essa análise separadamente para cada gênero, e conclua.**</font>\n",
    "\n",
    "Gere um ou mais gráficos de sua escolha, em que seja possível comparar as alturas dos atletas de cada esporte, separando-os por gênero. Se necessário, crie colunas ou DataFrames auxiliares.\n",
    "\n",
    "**Facilitador:** se quiser, analise apenas os esportes em que se tenha ao menos 5 atletas medalhistas e 5 atletas não medalhistas, para facilitar visualizações e conclusões."
   ]
  },
  {
   "cell_type": "markdown",
   "id": "LoZskoe9Vs6z",
   "metadata": {
    "id": "LoZskoe9Vs6z"
   },
   "source": [
    "Para se fazer a análise de desempenho decidiu-se dividir a variável medalhas apenas em \"medalhistas\" e \"não-medalhistas\", visto que o enunciado foca apenas em \"desempenho\" e não solicita uma estratificação entre ouro, prata e bronze. Considerou-se então \"desempenho bom\" o atleta ter recebido melhas, independente do seu valor.\n",
    "\n",
    "JUSTIFICATIVA ABAIXO, AVALIAR\n",
    "*** Mesmo porquê, considerar uma diferença entre ouro, prata e bronze, além de deixar a análise mais complexa, pois a correlação ficaria muito nebulosa se por exemplo o valor da altura para medalhas de prata fosse maior que o de ouro e de bronze ao mesmo tempo, mas por exemplo, menor do que para não-medalhistas."
   ]
  },
  {
   "cell_type": "code",
   "execution_count": 48,
   "id": "2dff4861",
   "metadata": {},
   "outputs": [
    {
     "data": {
      "text/plain": [
       "NO_MEDALS    3323\n",
       "MEDALS        449\n",
       "Name: Medal, dtype: int64"
      ]
     },
     "execution_count": 48,
     "metadata": {},
     "output_type": "execute_result"
    }
   ],
   "source": [
    "br['Medal'].fillna('NO_MEDALS', inplace=True)\n",
    "br_bin = br.copy()\n",
    "br_bin.replace({'Bronze': 'MEDALS',\n",
    "                'Silver': 'MEDALS',\n",
    "                'Gold': 'MEDALS'}, inplace=True)\n",
    "br_bin['Medal'].value_counts()"
   ]
  },
  {
   "cell_type": "code",
   "execution_count": 49,
   "id": "e6cd9016",
   "metadata": {
    "id": "e6cd9016"
   },
   "outputs": [
    {
     "data": {
      "text/html": [
       "<div>\n",
       "<style scoped>\n",
       "    .dataframe tbody tr th:only-of-type {\n",
       "        vertical-align: middle;\n",
       "    }\n",
       "\n",
       "    .dataframe tbody tr th {\n",
       "        vertical-align: top;\n",
       "    }\n",
       "\n",
       "    .dataframe thead th {\n",
       "        text-align: right;\n",
       "    }\n",
       "</style>\n",
       "<table border=\"1\" class=\"dataframe\">\n",
       "  <thead>\n",
       "    <tr style=\"text-align: right;\">\n",
       "      <th></th>\n",
       "      <th>ID</th>\n",
       "      <th>Name</th>\n",
       "      <th>Sex</th>\n",
       "      <th>Age</th>\n",
       "      <th>Height</th>\n",
       "      <th>Weight</th>\n",
       "      <th>Team</th>\n",
       "      <th>NOC</th>\n",
       "      <th>Games</th>\n",
       "      <th>Year</th>\n",
       "      <th>Season</th>\n",
       "      <th>City</th>\n",
       "      <th>Sport</th>\n",
       "      <th>Event</th>\n",
       "      <th>Medal</th>\n",
       "    </tr>\n",
       "  </thead>\n",
       "  <tbody>\n",
       "    <tr>\n",
       "      <th>781</th>\n",
       "      <td>451</td>\n",
       "      <td>Diana Monteiro Abla</td>\n",
       "      <td>F</td>\n",
       "      <td>21.0</td>\n",
       "      <td>175.0</td>\n",
       "      <td>75.0</td>\n",
       "      <td>Brazil</td>\n",
       "      <td>BRA</td>\n",
       "      <td>2016 Summer</td>\n",
       "      <td>2016</td>\n",
       "      <td>Summer</td>\n",
       "      <td>Rio de Janeiro</td>\n",
       "      <td>Water Polo</td>\n",
       "      <td>Water Polo Women's Water Polo</td>\n",
       "      <td>NO_MEDALS</td>\n",
       "    </tr>\n",
       "    <tr>\n",
       "      <th>1668</th>\n",
       "      <td>925</td>\n",
       "      <td>Adenzia Aparecida Ferreira da Silva</td>\n",
       "      <td>F</td>\n",
       "      <td>25.0</td>\n",
       "      <td>187.0</td>\n",
       "      <td>65.0</td>\n",
       "      <td>Brazil</td>\n",
       "      <td>BRA</td>\n",
       "      <td>2012 Summer</td>\n",
       "      <td>2012</td>\n",
       "      <td>Summer</td>\n",
       "      <td>London</td>\n",
       "      <td>Volleyball</td>\n",
       "      <td>Volleyball Women's Volleyball</td>\n",
       "      <td>MEDALS</td>\n",
       "    </tr>\n",
       "    <tr>\n",
       "      <th>1669</th>\n",
       "      <td>925</td>\n",
       "      <td>Adenzia Aparecida Ferreira da Silva</td>\n",
       "      <td>F</td>\n",
       "      <td>29.0</td>\n",
       "      <td>187.0</td>\n",
       "      <td>65.0</td>\n",
       "      <td>Brazil</td>\n",
       "      <td>BRA</td>\n",
       "      <td>2016 Summer</td>\n",
       "      <td>2016</td>\n",
       "      <td>Summer</td>\n",
       "      <td>Rio de Janeiro</td>\n",
       "      <td>Volleyball</td>\n",
       "      <td>Volleyball Women's Volleyball</td>\n",
       "      <td>NO_MEDALS</td>\n",
       "    </tr>\n",
       "    <tr>\n",
       "      <th>1855</th>\n",
       "      <td>1020</td>\n",
       "      <td>Adriana Aparecida dos Santos</td>\n",
       "      <td>F</td>\n",
       "      <td>21.0</td>\n",
       "      <td>180.0</td>\n",
       "      <td>61.0</td>\n",
       "      <td>Brazil</td>\n",
       "      <td>BRA</td>\n",
       "      <td>1992 Summer</td>\n",
       "      <td>1992</td>\n",
       "      <td>Summer</td>\n",
       "      <td>Barcelona</td>\n",
       "      <td>Basketball</td>\n",
       "      <td>Basketball Women's Basketball</td>\n",
       "      <td>NO_MEDALS</td>\n",
       "    </tr>\n",
       "    <tr>\n",
       "      <th>1856</th>\n",
       "      <td>1020</td>\n",
       "      <td>Adriana Aparecida dos Santos</td>\n",
       "      <td>F</td>\n",
       "      <td>25.0</td>\n",
       "      <td>180.0</td>\n",
       "      <td>61.0</td>\n",
       "      <td>Brazil</td>\n",
       "      <td>BRA</td>\n",
       "      <td>1996 Summer</td>\n",
       "      <td>1996</td>\n",
       "      <td>Summer</td>\n",
       "      <td>Atlanta</td>\n",
       "      <td>Basketball</td>\n",
       "      <td>Basketball Women's Basketball</td>\n",
       "      <td>MEDALS</td>\n",
       "    </tr>\n",
       "    <tr>\n",
       "      <th>...</th>\n",
       "      <td>...</td>\n",
       "      <td>...</td>\n",
       "      <td>...</td>\n",
       "      <td>...</td>\n",
       "      <td>...</td>\n",
       "      <td>...</td>\n",
       "      <td>...</td>\n",
       "      <td>...</td>\n",
       "      <td>...</td>\n",
       "      <td>...</td>\n",
       "      <td>...</td>\n",
       "      <td>...</td>\n",
       "      <td>...</td>\n",
       "      <td>...</td>\n",
       "      <td>...</td>\n",
       "    </tr>\n",
       "    <tr>\n",
       "      <th>267755</th>\n",
       "      <td>133947</td>\n",
       "      <td>Danielle Zangrando</td>\n",
       "      <td>F</td>\n",
       "      <td>16.0</td>\n",
       "      <td>162.0</td>\n",
       "      <td>57.0</td>\n",
       "      <td>Brazil</td>\n",
       "      <td>BRA</td>\n",
       "      <td>1996 Summer</td>\n",
       "      <td>1996</td>\n",
       "      <td>Summer</td>\n",
       "      <td>Atlanta</td>\n",
       "      <td>Judo</td>\n",
       "      <td>Judo Women's Lightweight</td>\n",
       "      <td>NO_MEDALS</td>\n",
       "    </tr>\n",
       "    <tr>\n",
       "      <th>267756</th>\n",
       "      <td>133947</td>\n",
       "      <td>Danielle Zangrando</td>\n",
       "      <td>F</td>\n",
       "      <td>25.0</td>\n",
       "      <td>162.0</td>\n",
       "      <td>57.0</td>\n",
       "      <td>Brazil</td>\n",
       "      <td>BRA</td>\n",
       "      <td>2004 Summer</td>\n",
       "      <td>2004</td>\n",
       "      <td>Summer</td>\n",
       "      <td>Athina</td>\n",
       "      <td>Judo</td>\n",
       "      <td>Judo Women's Lightweight</td>\n",
       "      <td>NO_MEDALS</td>\n",
       "    </tr>\n",
       "    <tr>\n",
       "      <th>268651</th>\n",
       "      <td>134399</td>\n",
       "      <td>Maria Jos \"Zez\" Batista de Sales</td>\n",
       "      <td>F</td>\n",
       "      <td>31.0</td>\n",
       "      <td>172.0</td>\n",
       "      <td>73.0</td>\n",
       "      <td>Brazil</td>\n",
       "      <td>BRA</td>\n",
       "      <td>2000 Summer</td>\n",
       "      <td>2000</td>\n",
       "      <td>Summer</td>\n",
       "      <td>Sydney</td>\n",
       "      <td>Handball</td>\n",
       "      <td>Handball Women's Handball</td>\n",
       "      <td>NO_MEDALS</td>\n",
       "    </tr>\n",
       "    <tr>\n",
       "      <th>268652</th>\n",
       "      <td>134400</td>\n",
       "      <td>Maria Jos \"Zz\" Bertolotti</td>\n",
       "      <td>F</td>\n",
       "      <td>26.0</td>\n",
       "      <td>190.0</td>\n",
       "      <td>NaN</td>\n",
       "      <td>Brazil</td>\n",
       "      <td>BRA</td>\n",
       "      <td>1992 Summer</td>\n",
       "      <td>1992</td>\n",
       "      <td>Summer</td>\n",
       "      <td>Barcelona</td>\n",
       "      <td>Basketball</td>\n",
       "      <td>Basketball Women's Basketball</td>\n",
       "      <td>NO_MEDALS</td>\n",
       "    </tr>\n",
       "    <tr>\n",
       "      <th>269745</th>\n",
       "      <td>134976</td>\n",
       "      <td>Sieglinda Lenk Zigler</td>\n",
       "      <td>F</td>\n",
       "      <td>17.0</td>\n",
       "      <td>NaN</td>\n",
       "      <td>NaN</td>\n",
       "      <td>Brazil</td>\n",
       "      <td>BRA</td>\n",
       "      <td>1936 Summer</td>\n",
       "      <td>1936</td>\n",
       "      <td>Summer</td>\n",
       "      <td>Berlin</td>\n",
       "      <td>Swimming</td>\n",
       "      <td>Swimming Women's 100 metres Backstroke</td>\n",
       "      <td>NO_MEDALS</td>\n",
       "    </tr>\n",
       "  </tbody>\n",
       "</table>\n",
       "<p>1124 rows × 15 columns</p>\n",
       "</div>"
      ],
      "text/plain": [
       "            ID                                 Name Sex   Age  Height  Weight  \\\n",
       "781        451                  Diana Monteiro Abla   F  21.0   175.0    75.0   \n",
       "1668       925  Adenzia Aparecida Ferreira da Silva   F  25.0   187.0    65.0   \n",
       "1669       925  Adenzia Aparecida Ferreira da Silva   F  29.0   187.0    65.0   \n",
       "1855      1020         Adriana Aparecida dos Santos   F  21.0   180.0    61.0   \n",
       "1856      1020         Adriana Aparecida dos Santos   F  25.0   180.0    61.0   \n",
       "...        ...                                  ...  ..   ...     ...     ...   \n",
       "267755  133947                   Danielle Zangrando   F  16.0   162.0    57.0   \n",
       "267756  133947                   Danielle Zangrando   F  25.0   162.0    57.0   \n",
       "268651  134399     Maria Jos \"Zez\" Batista de Sales   F  31.0   172.0    73.0   \n",
       "268652  134400            Maria Jos \"Zz\" Bertolotti   F  26.0   190.0     NaN   \n",
       "269745  134976                Sieglinda Lenk Zigler   F  17.0     NaN     NaN   \n",
       "\n",
       "          Team  NOC        Games  Year  Season            City       Sport  \\\n",
       "781     Brazil  BRA  2016 Summer  2016  Summer  Rio de Janeiro  Water Polo   \n",
       "1668    Brazil  BRA  2012 Summer  2012  Summer          London  Volleyball   \n",
       "1669    Brazil  BRA  2016 Summer  2016  Summer  Rio de Janeiro  Volleyball   \n",
       "1855    Brazil  BRA  1992 Summer  1992  Summer       Barcelona  Basketball   \n",
       "1856    Brazil  BRA  1996 Summer  1996  Summer         Atlanta  Basketball   \n",
       "...        ...  ...          ...   ...     ...             ...         ...   \n",
       "267755  Brazil  BRA  1996 Summer  1996  Summer         Atlanta        Judo   \n",
       "267756  Brazil  BRA  2004 Summer  2004  Summer          Athina        Judo   \n",
       "268651  Brazil  BRA  2000 Summer  2000  Summer          Sydney    Handball   \n",
       "268652  Brazil  BRA  1992 Summer  1992  Summer       Barcelona  Basketball   \n",
       "269745  Brazil  BRA  1936 Summer  1936  Summer          Berlin    Swimming   \n",
       "\n",
       "                                         Event      Medal  \n",
       "781              Water Polo Women's Water Polo  NO_MEDALS  \n",
       "1668             Volleyball Women's Volleyball     MEDALS  \n",
       "1669             Volleyball Women's Volleyball  NO_MEDALS  \n",
       "1855             Basketball Women's Basketball  NO_MEDALS  \n",
       "1856             Basketball Women's Basketball     MEDALS  \n",
       "...                                        ...        ...  \n",
       "267755                Judo Women's Lightweight  NO_MEDALS  \n",
       "267756                Judo Women's Lightweight  NO_MEDALS  \n",
       "268651               Handball Women's Handball  NO_MEDALS  \n",
       "268652           Basketball Women's Basketball  NO_MEDALS  \n",
       "269745  Swimming Women's 100 metres Backstroke  NO_MEDALS  \n",
       "\n",
       "[1124 rows x 15 columns]"
      ]
     },
     "execution_count": 49,
     "metadata": {},
     "output_type": "execute_result"
    }
   ],
   "source": [
    "br_f = br_bin[br_bin['Sex'] == 'F']\n",
    "br_f"
   ]
  },
  {
   "cell_type": "code",
   "execution_count": 50,
   "id": "d90fbdf9",
   "metadata": {},
   "outputs": [
    {
     "data": {
      "text/html": [
       "<div>\n",
       "<style scoped>\n",
       "    .dataframe tbody tr th:only-of-type {\n",
       "        vertical-align: middle;\n",
       "    }\n",
       "\n",
       "    .dataframe tbody tr th {\n",
       "        vertical-align: top;\n",
       "    }\n",
       "\n",
       "    .dataframe thead th {\n",
       "        text-align: right;\n",
       "    }\n",
       "</style>\n",
       "<table border=\"1\" class=\"dataframe\">\n",
       "  <thead>\n",
       "    <tr style=\"text-align: right;\">\n",
       "      <th></th>\n",
       "      <th>Sport</th>\n",
       "      <th>Medal</th>\n",
       "      <th>Event</th>\n",
       "    </tr>\n",
       "  </thead>\n",
       "  <tbody>\n",
       "    <tr>\n",
       "      <th>2</th>\n",
       "      <td>Athletics</td>\n",
       "      <td>NO_MEDALS</td>\n",
       "      <td>100</td>\n",
       "    </tr>\n",
       "    <tr>\n",
       "      <th>34</th>\n",
       "      <td>Swimming</td>\n",
       "      <td>NO_MEDALS</td>\n",
       "      <td>77</td>\n",
       "    </tr>\n",
       "    <tr>\n",
       "      <th>21</th>\n",
       "      <td>Gymnastics</td>\n",
       "      <td>NO_MEDALS</td>\n",
       "      <td>47</td>\n",
       "    </tr>\n",
       "    <tr>\n",
       "      <th>24</th>\n",
       "      <td>Judo</td>\n",
       "      <td>NO_MEDALS</td>\n",
       "      <td>37</td>\n",
       "    </tr>\n",
       "    <tr>\n",
       "      <th>31</th>\n",
       "      <td>Sailing</td>\n",
       "      <td>NO_MEDALS</td>\n",
       "      <td>18</td>\n",
       "    </tr>\n",
       "    <tr>\n",
       "      <th>13</th>\n",
       "      <td>Diving</td>\n",
       "      <td>NO_MEDALS</td>\n",
       "      <td>15</td>\n",
       "    </tr>\n",
       "    <tr>\n",
       "      <th>12</th>\n",
       "      <td>Cycling</td>\n",
       "      <td>NO_MEDALS</td>\n",
       "      <td>12</td>\n",
       "    </tr>\n",
       "    <tr>\n",
       "      <th>14</th>\n",
       "      <td>Equestrianism</td>\n",
       "      <td>NO_MEDALS</td>\n",
       "      <td>12</td>\n",
       "    </tr>\n",
       "    <tr>\n",
       "      <th>35</th>\n",
       "      <td>Synchronized Swimming</td>\n",
       "      <td>NO_MEDALS</td>\n",
       "      <td>12</td>\n",
       "    </tr>\n",
       "    <tr>\n",
       "      <th>36</th>\n",
       "      <td>Table Tennis</td>\n",
       "      <td>NO_MEDALS</td>\n",
       "      <td>12</td>\n",
       "    </tr>\n",
       "    <tr>\n",
       "      <th>32</th>\n",
       "      <td>Shooting</td>\n",
       "      <td>NO_MEDALS</td>\n",
       "      <td>11</td>\n",
       "    </tr>\n",
       "    <tr>\n",
       "      <th>0</th>\n",
       "      <td>Alpine Skiing</td>\n",
       "      <td>NO_MEDALS</td>\n",
       "      <td>8</td>\n",
       "    </tr>\n",
       "    <tr>\n",
       "      <th>39</th>\n",
       "      <td>Tennis</td>\n",
       "      <td>NO_MEDALS</td>\n",
       "      <td>8</td>\n",
       "    </tr>\n",
       "    <tr>\n",
       "      <th>15</th>\n",
       "      <td>Fencing</td>\n",
       "      <td>NO_MEDALS</td>\n",
       "      <td>7</td>\n",
       "    </tr>\n",
       "    <tr>\n",
       "      <th>27</th>\n",
       "      <td>Rhythmic Gymnastics</td>\n",
       "      <td>NO_MEDALS</td>\n",
       "      <td>7</td>\n",
       "    </tr>\n",
       "    <tr>\n",
       "      <th>28</th>\n",
       "      <td>Rowing</td>\n",
       "      <td>NO_MEDALS</td>\n",
       "      <td>6</td>\n",
       "    </tr>\n",
       "    <tr>\n",
       "      <th>38</th>\n",
       "      <td>Taekwondo</td>\n",
       "      <td>NO_MEDALS</td>\n",
       "      <td>6</td>\n",
       "    </tr>\n",
       "    <tr>\n",
       "      <th>42</th>\n",
       "      <td>Volleyball</td>\n",
       "      <td>NO_MEDALS</td>\n",
       "      <td>6</td>\n",
       "    </tr>\n",
       "    <tr>\n",
       "      <th>45</th>\n",
       "      <td>Wrestling</td>\n",
       "      <td>NO_MEDALS</td>\n",
       "      <td>6</td>\n",
       "    </tr>\n",
       "    <tr>\n",
       "      <th>5</th>\n",
       "      <td>Basketball</td>\n",
       "      <td>NO_MEDALS</td>\n",
       "      <td>5</td>\n",
       "    </tr>\n",
       "    <tr>\n",
       "      <th>10</th>\n",
       "      <td>Canoeing</td>\n",
       "      <td>NO_MEDALS</td>\n",
       "      <td>5</td>\n",
       "    </tr>\n",
       "    <tr>\n",
       "      <th>22</th>\n",
       "      <td>Handball</td>\n",
       "      <td>NO_MEDALS</td>\n",
       "      <td>5</td>\n",
       "    </tr>\n",
       "    <tr>\n",
       "      <th>40</th>\n",
       "      <td>Triathlon</td>\n",
       "      <td>NO_MEDALS</td>\n",
       "      <td>5</td>\n",
       "    </tr>\n",
       "    <tr>\n",
       "      <th>9</th>\n",
       "      <td>Boxing</td>\n",
       "      <td>NO_MEDALS</td>\n",
       "      <td>4</td>\n",
       "    </tr>\n",
       "    <tr>\n",
       "      <th>11</th>\n",
       "      <td>Cross Country Skiing</td>\n",
       "      <td>NO_MEDALS</td>\n",
       "      <td>4</td>\n",
       "    </tr>\n",
       "    <tr>\n",
       "      <th>18</th>\n",
       "      <td>Football</td>\n",
       "      <td>NO_MEDALS</td>\n",
       "      <td>4</td>\n",
       "    </tr>\n",
       "    <tr>\n",
       "      <th>44</th>\n",
       "      <td>Weightlifting</td>\n",
       "      <td>NO_MEDALS</td>\n",
       "      <td>4</td>\n",
       "    </tr>\n",
       "    <tr>\n",
       "      <th>1</th>\n",
       "      <td>Archery</td>\n",
       "      <td>NO_MEDALS</td>\n",
       "      <td>3</td>\n",
       "    </tr>\n",
       "    <tr>\n",
       "      <th>26</th>\n",
       "      <td>Modern Pentathlon</td>\n",
       "      <td>NO_MEDALS</td>\n",
       "      <td>3</td>\n",
       "    </tr>\n",
       "    <tr>\n",
       "      <th>33</th>\n",
       "      <td>Snowboarding</td>\n",
       "      <td>NO_MEDALS</td>\n",
       "      <td>3</td>\n",
       "    </tr>\n",
       "    <tr>\n",
       "      <th>6</th>\n",
       "      <td>Biathlon</td>\n",
       "      <td>NO_MEDALS</td>\n",
       "      <td>2</td>\n",
       "    </tr>\n",
       "    <tr>\n",
       "      <th>3</th>\n",
       "      <td>Badminton</td>\n",
       "      <td>NO_MEDALS</td>\n",
       "      <td>1</td>\n",
       "    </tr>\n",
       "    <tr>\n",
       "      <th>7</th>\n",
       "      <td>Bobsleigh</td>\n",
       "      <td>NO_MEDALS</td>\n",
       "      <td>1</td>\n",
       "    </tr>\n",
       "    <tr>\n",
       "      <th>16</th>\n",
       "      <td>Figure Skating</td>\n",
       "      <td>NO_MEDALS</td>\n",
       "      <td>1</td>\n",
       "    </tr>\n",
       "    <tr>\n",
       "      <th>19</th>\n",
       "      <td>Freestyle Skiing</td>\n",
       "      <td>NO_MEDALS</td>\n",
       "      <td>1</td>\n",
       "    </tr>\n",
       "    <tr>\n",
       "      <th>20</th>\n",
       "      <td>Golf</td>\n",
       "      <td>NO_MEDALS</td>\n",
       "      <td>1</td>\n",
       "    </tr>\n",
       "    <tr>\n",
       "      <th>29</th>\n",
       "      <td>Rugby Sevens</td>\n",
       "      <td>NO_MEDALS</td>\n",
       "      <td>1</td>\n",
       "    </tr>\n",
       "    <tr>\n",
       "      <th>43</th>\n",
       "      <td>Water Polo</td>\n",
       "      <td>NO_MEDALS</td>\n",
       "      <td>1</td>\n",
       "    </tr>\n",
       "    <tr>\n",
       "      <th>23</th>\n",
       "      <td>Judo</td>\n",
       "      <td>MEDALS</td>\n",
       "      <td>5</td>\n",
       "    </tr>\n",
       "    <tr>\n",
       "      <th>41</th>\n",
       "      <td>Volleyball</td>\n",
       "      <td>MEDALS</td>\n",
       "      <td>4</td>\n",
       "    </tr>\n",
       "    <tr>\n",
       "      <th>4</th>\n",
       "      <td>Basketball</td>\n",
       "      <td>MEDALS</td>\n",
       "      <td>2</td>\n",
       "    </tr>\n",
       "    <tr>\n",
       "      <th>17</th>\n",
       "      <td>Football</td>\n",
       "      <td>MEDALS</td>\n",
       "      <td>2</td>\n",
       "    </tr>\n",
       "    <tr>\n",
       "      <th>30</th>\n",
       "      <td>Sailing</td>\n",
       "      <td>MEDALS</td>\n",
       "      <td>2</td>\n",
       "    </tr>\n",
       "    <tr>\n",
       "      <th>8</th>\n",
       "      <td>Boxing</td>\n",
       "      <td>MEDALS</td>\n",
       "      <td>1</td>\n",
       "    </tr>\n",
       "    <tr>\n",
       "      <th>25</th>\n",
       "      <td>Modern Pentathlon</td>\n",
       "      <td>MEDALS</td>\n",
       "      <td>1</td>\n",
       "    </tr>\n",
       "    <tr>\n",
       "      <th>37</th>\n",
       "      <td>Taekwondo</td>\n",
       "      <td>MEDALS</td>\n",
       "      <td>1</td>\n",
       "    </tr>\n",
       "  </tbody>\n",
       "</table>\n",
       "</div>"
      ],
      "text/plain": [
       "                    Sport      Medal  Event\n",
       "2               Athletics  NO_MEDALS    100\n",
       "34               Swimming  NO_MEDALS     77\n",
       "21             Gymnastics  NO_MEDALS     47\n",
       "24                   Judo  NO_MEDALS     37\n",
       "31                Sailing  NO_MEDALS     18\n",
       "13                 Diving  NO_MEDALS     15\n",
       "12                Cycling  NO_MEDALS     12\n",
       "14          Equestrianism  NO_MEDALS     12\n",
       "35  Synchronized Swimming  NO_MEDALS     12\n",
       "36           Table Tennis  NO_MEDALS     12\n",
       "32               Shooting  NO_MEDALS     11\n",
       "0           Alpine Skiing  NO_MEDALS      8\n",
       "39                 Tennis  NO_MEDALS      8\n",
       "15                Fencing  NO_MEDALS      7\n",
       "27    Rhythmic Gymnastics  NO_MEDALS      7\n",
       "28                 Rowing  NO_MEDALS      6\n",
       "38              Taekwondo  NO_MEDALS      6\n",
       "42             Volleyball  NO_MEDALS      6\n",
       "45              Wrestling  NO_MEDALS      6\n",
       "5              Basketball  NO_MEDALS      5\n",
       "10               Canoeing  NO_MEDALS      5\n",
       "22               Handball  NO_MEDALS      5\n",
       "40              Triathlon  NO_MEDALS      5\n",
       "9                  Boxing  NO_MEDALS      4\n",
       "11   Cross Country Skiing  NO_MEDALS      4\n",
       "18               Football  NO_MEDALS      4\n",
       "44          Weightlifting  NO_MEDALS      4\n",
       "1                 Archery  NO_MEDALS      3\n",
       "26      Modern Pentathlon  NO_MEDALS      3\n",
       "33           Snowboarding  NO_MEDALS      3\n",
       "6                Biathlon  NO_MEDALS      2\n",
       "3               Badminton  NO_MEDALS      1\n",
       "7               Bobsleigh  NO_MEDALS      1\n",
       "16         Figure Skating  NO_MEDALS      1\n",
       "19       Freestyle Skiing  NO_MEDALS      1\n",
       "20                   Golf  NO_MEDALS      1\n",
       "29           Rugby Sevens  NO_MEDALS      1\n",
       "43             Water Polo  NO_MEDALS      1\n",
       "23                   Judo     MEDALS      5\n",
       "41             Volleyball     MEDALS      4\n",
       "4              Basketball     MEDALS      2\n",
       "17               Football     MEDALS      2\n",
       "30                Sailing     MEDALS      2\n",
       "8                  Boxing     MEDALS      1\n",
       "25      Modern Pentathlon     MEDALS      1\n",
       "37              Taekwondo     MEDALS      1"
      ]
     },
     "execution_count": 50,
     "metadata": {},
     "output_type": "execute_result"
    }
   ],
   "source": [
    "br_f.drop_duplicates(subset=['Year', 'Event'], keep='first').groupby(by=['Sport','Medal'],\n",
    "             as_index=False).count().sort_values(['Medal','Event'], \n",
    "                                                 ascending=False).drop(columns=['ID','Name','Sex','Age','Height','Weight',\n",
    "                         'Team','NOC','Games','Year','Season','City'])"
   ]
  },
  {
   "cell_type": "code",
   "execution_count": 51,
   "id": "d1dd3c7d",
   "metadata": {
    "id": "d1dd3c7d",
    "outputId": "c3943feb-60ba-46a3-fc80-164e0f330891"
   },
   "outputs": [
    {
     "data": {
      "text/plain": [
       "Volleyball    120\n",
       "Football      102\n",
       "Basketball     82\n",
       "Judo           42\n",
       "Sailing        28\n",
       "Name: Sport, dtype: int64"
      ]
     },
     "execution_count": 51,
     "metadata": {},
     "output_type": "execute_result"
    }
   ],
   "source": [
    "br_f_5 = br_f[(br_f['Sport'] == 'Judo') |\n",
    "              (br_f['Sport'] == 'Sailing') |\n",
    "              (br_f['Sport'] == 'Football') |\n",
    "              (br_f['Sport'] == 'Basketball') |\n",
    "              (br_f['Sport'] == 'Volleyball')]\n",
    "br_f_5['Sport'].value_counts()"
   ]
  },
  {
   "cell_type": "markdown",
   "id": "-hqcr-G9S4ua",
   "metadata": {
    "id": "-hqcr-G9S4ua"
   },
   "source": [
    "Abaixo temos um boxplot para as categorias femininas de 5 esportes (selecionados de acordo com a dica da professora). Nota-se que, para as mulheres a altura não aparenta ser uma variável correlacionada ao desempenho. Isso pode estar associado a vários fatores, como a maior quantidade de esportes de grupo estarem entre os 5, deixando mais indefinida a importancia da altura da atleta nas vitórias obtidas."
   ]
  },
  {
   "cell_type": "code",
   "execution_count": 53,
   "id": "7db6b6c3",
   "metadata": {
    "id": "7db6b6c3",
    "outputId": "dfc88211-6bb2-4e9a-8f3d-65203ad508cf"
   },
   "outputs": [
    {
     "data": {
      "application/vnd.plotly.v1+json": {
       "config": {
        "plotlyServerURL": "https://plot.ly"
       },
       "data": [
        {
         "alignmentgroup": "True",
         "hovertemplate": "Medal=MEDALS<br>Sport=%{x}<br>Height=%{y}<extra></extra>",
         "legendgroup": "MEDALS",
         "marker": {
          "color": "Orange"
         },
         "name": "MEDALS",
         "notched": false,
         "offsetgroup": "MEDALS",
         "orientation": "v",
         "showlegend": true,
         "type": "box",
         "x": [
          "Volleyball",
          "Basketball",
          "Basketball",
          "Basketball",
          "Basketball",
          "Basketball",
          "Football",
          "Volleyball",
          "Volleyball",
          "Football",
          "Football",
          "Football",
          "Basketball",
          "Volleyball",
          "Basketball",
          "Basketball",
          "Basketball",
          "Basketball",
          "Football",
          "Football",
          "Judo",
          "Judo",
          "Football",
          "Football",
          "Football",
          "Volleyball",
          "Football",
          "Football",
          "Volleyball",
          "Volleyball",
          "Football",
          "Volleyball",
          "Volleyball",
          "Volleyball",
          "Volleyball",
          "Volleyball",
          "Volleyball",
          "Volleyball",
          "Volleyball",
          "Football",
          "Football",
          "Football",
          "Volleyball",
          "Sailing",
          "Football",
          "Basketball",
          "Volleyball",
          "Basketball",
          "Volleyball",
          "Basketball",
          "Basketball",
          "Volleyball",
          "Volleyball",
          "Volleyball",
          "Football",
          "Volleyball",
          "Volleyball",
          "Basketball",
          "Football",
          "Volleyball",
          "Volleyball",
          "Football",
          "Football",
          "Sailing",
          "Basketball",
          "Volleyball",
          "Volleyball",
          "Basketball",
          "Volleyball",
          "Volleyball",
          "Volleyball",
          "Football",
          "Football",
          "Football",
          "Football",
          "Football",
          "Judo",
          "Football",
          "Volleyball",
          "Volleyball",
          "Sailing",
          "Basketball",
          "Volleyball",
          "Volleyball",
          "Football",
          "Football",
          "Judo",
          "Volleyball",
          "Volleyball",
          "Football",
          "Football",
          "Football",
          "Basketball",
          "Football",
          "Volleyball",
          "Volleyball",
          "Volleyball",
          "Volleyball",
          "Judo",
          "Basketball",
          "Basketball",
          "Football",
          "Basketball",
          "Basketball",
          "Sailing",
          "Volleyball",
          "Football",
          "Football",
          "Volleyball",
          "Volleyball",
          "Volleyball",
          "Volleyball",
          "Volleyball",
          "Volleyball",
          "Volleyball",
          "Basketball"
         ],
         "x0": " ",
         "xaxis": "x",
         "y": [
          187,
          180,
          180,
          170,
          200,
          200,
          180,
          187,
          183,
          175,
          175,
          171,
          170,
          182,
          195,
          195,
          192,
          170,
          176,
          176,
          177,
          177,
          171,
          171,
          167,
          184,
          172,
          164,
          169,
          169,
          161,
          193,
          193,
          180,
          172,
          192,
          173,
          173,
          173,
          162,
          162,
          161,
          181,
          168,
          162,
          175,
          182,
          174,
          177,
          182,
          182,
          192,
          186,
          186,
          169,
          187,
          172,
          193,
          164,
          193,
          179,
          171,
          171,
          172,
          187,
          179,
          179,
          186,
          183,
          185,
          188,
          162,
          162,
          159,
          155,
          155,
          154,
          178,
          185,
          184,
          161,
          174,
          184,
          184,
          157,
          157,
          164,
          191,
          185,
          172,
          173,
          173,
          180,
          156,
          178,
          179,
          185,
          185,
          169,
          173,
          173,
          172,
          190,
          190,
          181,
          184,
          166,
          166,
          196,
          196,
          180,
          185,
          185,
          190,
          190,
          190
         ],
         "y0": " ",
         "yaxis": "y"
        },
        {
         "alignmentgroup": "True",
         "hovertemplate": "Medal=NO_MEDALS<br>Sport=%{x}<br>Height=%{y}<extra></extra>",
         "legendgroup": "NO_MEDALS",
         "marker": {
          "color": "Lightgrey"
         },
         "name": "NO_MEDALS",
         "notched": false,
         "offsetgroup": "NO_MEDALS",
         "orientation": "v",
         "showlegend": true,
         "type": "box",
         "x": [
          "Volleyball",
          "Basketball",
          "Basketball",
          "Basketball",
          "Basketball",
          "Basketball",
          "Volleyball",
          "Basketball",
          "Football",
          "Football",
          "Judo",
          "Judo",
          "Judo",
          "Volleyball",
          "Volleyball",
          "Volleyball",
          "Volleyball",
          "Judo",
          "Judo",
          "Football",
          "Football",
          "Football",
          "Football",
          "Volleyball",
          "Sailing",
          "Sailing",
          "Football",
          "Judo",
          "Football",
          "Judo",
          "Volleyball",
          "Sailing",
          "Football",
          "Football",
          "Judo",
          "Judo",
          "Basketball",
          "Volleyball",
          "Volleyball",
          "Basketball",
          "Basketball",
          "Football",
          "Volleyball",
          "Basketball",
          "Basketball",
          "Basketball",
          "Basketball",
          "Football",
          "Football",
          "Volleyball",
          "Volleyball",
          "Basketball",
          "Judo",
          "Judo",
          "Judo",
          "Judo",
          "Judo",
          "Volleyball",
          "Football",
          "Football",
          "Basketball",
          "Basketball",
          "Volleyball",
          "Football",
          "Sailing",
          "Football",
          "Basketball",
          "Basketball",
          "Basketball",
          "Football",
          "Volleyball",
          "Football",
          "Football",
          "Basketball",
          "Basketball",
          "Basketball",
          "Football",
          "Football",
          "Football",
          "Volleyball",
          "Volleyball",
          "Volleyball",
          "Football",
          "Volleyball",
          "Volleyball",
          "Volleyball",
          "Basketball",
          "Judo",
          "Judo",
          "Volleyball",
          "Volleyball",
          "Football",
          "Football",
          "Football",
          "Football",
          "Sailing",
          "Sailing",
          "Sailing",
          "Football",
          "Basketball",
          "Basketball",
          "Sailing",
          "Sailing",
          "Sailing",
          "Volleyball",
          "Volleyball",
          "Basketball",
          "Football",
          "Basketball",
          "Basketball",
          "Basketball",
          "Volleyball",
          "Basketball",
          "Judo",
          "Volleyball",
          "Volleyball",
          "Volleyball",
          "Volleyball",
          "Basketball",
          "Judo",
          "Judo",
          "Judo",
          "Basketball",
          "Basketball",
          "Basketball",
          "Basketball",
          "Volleyball",
          "Basketball",
          "Volleyball",
          "Football",
          "Basketball",
          "Basketball",
          "Basketball",
          "Basketball",
          "Football",
          "Football",
          "Basketball",
          "Basketball",
          "Basketball",
          "Volleyball",
          "Sailing",
          "Football",
          "Sailing",
          "Sailing",
          "Sailing",
          "Basketball",
          "Volleyball",
          "Volleyball",
          "Volleyball",
          "Volleyball",
          "Volleyball",
          "Volleyball",
          "Basketball",
          "Basketball",
          "Volleyball",
          "Volleyball",
          "Volleyball",
          "Football",
          "Judo",
          "Football",
          "Football",
          "Judo",
          "Volleyball",
          "Football",
          "Football",
          "Football",
          "Volleyball",
          "Judo",
          "Judo",
          "Basketball",
          "Football",
          "Judo",
          "Judo",
          "Football",
          "Football",
          "Volleyball",
          "Volleyball",
          "Basketball",
          "Volleyball",
          "Football",
          "Football",
          "Sailing",
          "Sailing",
          "Sailing",
          "Sailing",
          "Volleyball",
          "Judo",
          "Basketball",
          "Sailing",
          "Sailing",
          "Sailing",
          "Volleyball",
          "Football",
          "Judo",
          "Basketball",
          "Judo",
          "Judo",
          "Football",
          "Football",
          "Football",
          "Volleyball",
          "Football",
          "Football",
          "Volleyball",
          "Volleyball",
          "Judo",
          "Judo",
          "Basketball",
          "Basketball",
          "Volleyball",
          "Football",
          "Football",
          "Football",
          "Football",
          "Basketball",
          "Volleyball",
          "Volleyball",
          "Volleyball",
          "Volleyball",
          "Sailing",
          "Volleyball",
          "Volleyball",
          "Volleyball",
          "Volleyball",
          "Volleyball",
          "Volleyball",
          "Judo",
          "Judo",
          "Judo",
          "Basketball",
          "Basketball",
          "Football",
          "Football",
          "Football",
          "Basketball",
          "Football",
          "Volleyball",
          "Football",
          "Football",
          "Sailing",
          "Sailing",
          "Football",
          "Football",
          "Football",
          "Football",
          "Volleyball",
          "Football",
          "Volleyball",
          "Football",
          "Volleyball",
          "Volleyball",
          "Volleyball",
          "Volleyball",
          "Basketball",
          "Volleyball",
          "Judo",
          "Judo",
          "Basketball"
         ],
         "x0": " ",
         "xaxis": "x",
         "y": [
          187,
          180,
          170,
          170,
          170,
          170,
          172,
          200,
          162,
          180,
          175,
          175,
          null,
          187,
          176,
          176,
          183,
          null,
          null,
          175,
          175,
          160,
          168,
          177,
          171,
          171,
          171,
          160,
          176,
          null,
          179,
          175,
          178,
          178,
          175,
          175,
          179,
          172,
          172,
          183,
          183,
          163,
          null,
          195,
          170,
          194,
          194,
          176,
          176,
          177,
          177,
          171,
          175,
          175,
          175,
          175,
          177,
          181,
          162,
          171,
          192,
          192,
          175,
          157,
          172,
          171,
          183,
          183,
          187,
          174,
          184,
          172,
          172,
          196,
          196,
          196,
          164,
          161,
          161,
          193,
          193,
          184,
          169,
          180,
          180,
          180,
          183,
          null,
          169,
          173,
          173,
          162,
          162,
          162,
          162,
          170,
          170,
          170,
          161,
          187,
          187,
          173,
          173,
          173,
          176,
          181,
          191,
          162,
          175,
          175,
          178,
          182,
          174,
          156,
          177,
          177,
          180,
          180,
          179,
          null,
          167,
          167,
          181,
          181,
          182,
          182,
          186,
          190,
          184,
          169,
          177,
          173,
          173,
          173,
          172,
          172,
          193,
          193,
          193,
          179,
          170,
          171,
          171,
          171,
          173,
          187,
          179,
          183,
          183,
          183,
          183,
          175,
          193,
          174,
          185,
          185,
          188,
          156,
          178,
          162,
          162,
          157,
          174,
          159,
          155,
          175,
          176,
          154,
          154,
          180,
          168,
          162,
          162,
          178,
          168,
          185,
          185,
          170,
          184,
          158,
          158,
          161,
          161,
          161,
          161,
          179,
          164,
          174,
          170,
          170,
          170,
          179,
          172,
          159,
          185,
          158,
          158,
          157,
          157,
          175,
          179,
          161,
          160,
          175,
          175,
          null,
          null,
          176,
          176,
          180,
          173,
          173,
          156,
          156,
          188,
          178,
          178,
          189,
          179,
          null,
          185,
          180,
          180,
          170,
          170,
          169,
          173,
          173,
          169,
          182,
          182,
          172,
          167,
          167,
          190,
          160,
          176,
          153,
          169,
          null,
          181,
          174,
          161,
          166,
          166,
          181,
          164,
          196,
          166,
          null,
          180,
          171,
          185,
          173,
          190,
          162,
          162,
          190
         ],
         "y0": " ",
         "yaxis": "y"
        }
       ],
       "layout": {
        "boxmode": "group",
        "legend": {
         "title": {
          "text": "Performance"
         },
         "tracegroupgap": 0
        },
        "template": {
         "data": {
          "bar": [
           {
            "error_x": {
             "color": "#2a3f5f"
            },
            "error_y": {
             "color": "#2a3f5f"
            },
            "marker": {
             "line": {
              "color": "#E5ECF6",
              "width": 0.5
             },
             "pattern": {
              "fillmode": "overlay",
              "size": 10,
              "solidity": 0.2
             }
            },
            "type": "bar"
           }
          ],
          "barpolar": [
           {
            "marker": {
             "line": {
              "color": "#E5ECF6",
              "width": 0.5
             },
             "pattern": {
              "fillmode": "overlay",
              "size": 10,
              "solidity": 0.2
             }
            },
            "type": "barpolar"
           }
          ],
          "carpet": [
           {
            "aaxis": {
             "endlinecolor": "#2a3f5f",
             "gridcolor": "white",
             "linecolor": "white",
             "minorgridcolor": "white",
             "startlinecolor": "#2a3f5f"
            },
            "baxis": {
             "endlinecolor": "#2a3f5f",
             "gridcolor": "white",
             "linecolor": "white",
             "minorgridcolor": "white",
             "startlinecolor": "#2a3f5f"
            },
            "type": "carpet"
           }
          ],
          "choropleth": [
           {
            "colorbar": {
             "outlinewidth": 0,
             "ticks": ""
            },
            "type": "choropleth"
           }
          ],
          "contour": [
           {
            "colorbar": {
             "outlinewidth": 0,
             "ticks": ""
            },
            "colorscale": [
             [
              0,
              "#0d0887"
             ],
             [
              0.1111111111111111,
              "#46039f"
             ],
             [
              0.2222222222222222,
              "#7201a8"
             ],
             [
              0.3333333333333333,
              "#9c179e"
             ],
             [
              0.4444444444444444,
              "#bd3786"
             ],
             [
              0.5555555555555556,
              "#d8576b"
             ],
             [
              0.6666666666666666,
              "#ed7953"
             ],
             [
              0.7777777777777778,
              "#fb9f3a"
             ],
             [
              0.8888888888888888,
              "#fdca26"
             ],
             [
              1,
              "#f0f921"
             ]
            ],
            "type": "contour"
           }
          ],
          "contourcarpet": [
           {
            "colorbar": {
             "outlinewidth": 0,
             "ticks": ""
            },
            "type": "contourcarpet"
           }
          ],
          "heatmap": [
           {
            "colorbar": {
             "outlinewidth": 0,
             "ticks": ""
            },
            "colorscale": [
             [
              0,
              "#0d0887"
             ],
             [
              0.1111111111111111,
              "#46039f"
             ],
             [
              0.2222222222222222,
              "#7201a8"
             ],
             [
              0.3333333333333333,
              "#9c179e"
             ],
             [
              0.4444444444444444,
              "#bd3786"
             ],
             [
              0.5555555555555556,
              "#d8576b"
             ],
             [
              0.6666666666666666,
              "#ed7953"
             ],
             [
              0.7777777777777778,
              "#fb9f3a"
             ],
             [
              0.8888888888888888,
              "#fdca26"
             ],
             [
              1,
              "#f0f921"
             ]
            ],
            "type": "heatmap"
           }
          ],
          "heatmapgl": [
           {
            "colorbar": {
             "outlinewidth": 0,
             "ticks": ""
            },
            "colorscale": [
             [
              0,
              "#0d0887"
             ],
             [
              0.1111111111111111,
              "#46039f"
             ],
             [
              0.2222222222222222,
              "#7201a8"
             ],
             [
              0.3333333333333333,
              "#9c179e"
             ],
             [
              0.4444444444444444,
              "#bd3786"
             ],
             [
              0.5555555555555556,
              "#d8576b"
             ],
             [
              0.6666666666666666,
              "#ed7953"
             ],
             [
              0.7777777777777778,
              "#fb9f3a"
             ],
             [
              0.8888888888888888,
              "#fdca26"
             ],
             [
              1,
              "#f0f921"
             ]
            ],
            "type": "heatmapgl"
           }
          ],
          "histogram": [
           {
            "marker": {
             "pattern": {
              "fillmode": "overlay",
              "size": 10,
              "solidity": 0.2
             }
            },
            "type": "histogram"
           }
          ],
          "histogram2d": [
           {
            "colorbar": {
             "outlinewidth": 0,
             "ticks": ""
            },
            "colorscale": [
             [
              0,
              "#0d0887"
             ],
             [
              0.1111111111111111,
              "#46039f"
             ],
             [
              0.2222222222222222,
              "#7201a8"
             ],
             [
              0.3333333333333333,
              "#9c179e"
             ],
             [
              0.4444444444444444,
              "#bd3786"
             ],
             [
              0.5555555555555556,
              "#d8576b"
             ],
             [
              0.6666666666666666,
              "#ed7953"
             ],
             [
              0.7777777777777778,
              "#fb9f3a"
             ],
             [
              0.8888888888888888,
              "#fdca26"
             ],
             [
              1,
              "#f0f921"
             ]
            ],
            "type": "histogram2d"
           }
          ],
          "histogram2dcontour": [
           {
            "colorbar": {
             "outlinewidth": 0,
             "ticks": ""
            },
            "colorscale": [
             [
              0,
              "#0d0887"
             ],
             [
              0.1111111111111111,
              "#46039f"
             ],
             [
              0.2222222222222222,
              "#7201a8"
             ],
             [
              0.3333333333333333,
              "#9c179e"
             ],
             [
              0.4444444444444444,
              "#bd3786"
             ],
             [
              0.5555555555555556,
              "#d8576b"
             ],
             [
              0.6666666666666666,
              "#ed7953"
             ],
             [
              0.7777777777777778,
              "#fb9f3a"
             ],
             [
              0.8888888888888888,
              "#fdca26"
             ],
             [
              1,
              "#f0f921"
             ]
            ],
            "type": "histogram2dcontour"
           }
          ],
          "mesh3d": [
           {
            "colorbar": {
             "outlinewidth": 0,
             "ticks": ""
            },
            "type": "mesh3d"
           }
          ],
          "parcoords": [
           {
            "line": {
             "colorbar": {
              "outlinewidth": 0,
              "ticks": ""
             }
            },
            "type": "parcoords"
           }
          ],
          "pie": [
           {
            "automargin": true,
            "type": "pie"
           }
          ],
          "scatter": [
           {
            "marker": {
             "colorbar": {
              "outlinewidth": 0,
              "ticks": ""
             }
            },
            "type": "scatter"
           }
          ],
          "scatter3d": [
           {
            "line": {
             "colorbar": {
              "outlinewidth": 0,
              "ticks": ""
             }
            },
            "marker": {
             "colorbar": {
              "outlinewidth": 0,
              "ticks": ""
             }
            },
            "type": "scatter3d"
           }
          ],
          "scattercarpet": [
           {
            "marker": {
             "colorbar": {
              "outlinewidth": 0,
              "ticks": ""
             }
            },
            "type": "scattercarpet"
           }
          ],
          "scattergeo": [
           {
            "marker": {
             "colorbar": {
              "outlinewidth": 0,
              "ticks": ""
             }
            },
            "type": "scattergeo"
           }
          ],
          "scattergl": [
           {
            "marker": {
             "colorbar": {
              "outlinewidth": 0,
              "ticks": ""
             }
            },
            "type": "scattergl"
           }
          ],
          "scattermapbox": [
           {
            "marker": {
             "colorbar": {
              "outlinewidth": 0,
              "ticks": ""
             }
            },
            "type": "scattermapbox"
           }
          ],
          "scatterpolar": [
           {
            "marker": {
             "colorbar": {
              "outlinewidth": 0,
              "ticks": ""
             }
            },
            "type": "scatterpolar"
           }
          ],
          "scatterpolargl": [
           {
            "marker": {
             "colorbar": {
              "outlinewidth": 0,
              "ticks": ""
             }
            },
            "type": "scatterpolargl"
           }
          ],
          "scatterternary": [
           {
            "marker": {
             "colorbar": {
              "outlinewidth": 0,
              "ticks": ""
             }
            },
            "type": "scatterternary"
           }
          ],
          "surface": [
           {
            "colorbar": {
             "outlinewidth": 0,
             "ticks": ""
            },
            "colorscale": [
             [
              0,
              "#0d0887"
             ],
             [
              0.1111111111111111,
              "#46039f"
             ],
             [
              0.2222222222222222,
              "#7201a8"
             ],
             [
              0.3333333333333333,
              "#9c179e"
             ],
             [
              0.4444444444444444,
              "#bd3786"
             ],
             [
              0.5555555555555556,
              "#d8576b"
             ],
             [
              0.6666666666666666,
              "#ed7953"
             ],
             [
              0.7777777777777778,
              "#fb9f3a"
             ],
             [
              0.8888888888888888,
              "#fdca26"
             ],
             [
              1,
              "#f0f921"
             ]
            ],
            "type": "surface"
           }
          ],
          "table": [
           {
            "cells": {
             "fill": {
              "color": "#EBF0F8"
             },
             "line": {
              "color": "white"
             }
            },
            "header": {
             "fill": {
              "color": "#C8D4E3"
             },
             "line": {
              "color": "white"
             }
            },
            "type": "table"
           }
          ]
         },
         "layout": {
          "annotationdefaults": {
           "arrowcolor": "#2a3f5f",
           "arrowhead": 0,
           "arrowwidth": 1
          },
          "autotypenumbers": "strict",
          "coloraxis": {
           "colorbar": {
            "outlinewidth": 0,
            "ticks": ""
           }
          },
          "colorscale": {
           "diverging": [
            [
             0,
             "#8e0152"
            ],
            [
             0.1,
             "#c51b7d"
            ],
            [
             0.2,
             "#de77ae"
            ],
            [
             0.3,
             "#f1b6da"
            ],
            [
             0.4,
             "#fde0ef"
            ],
            [
             0.5,
             "#f7f7f7"
            ],
            [
             0.6,
             "#e6f5d0"
            ],
            [
             0.7,
             "#b8e186"
            ],
            [
             0.8,
             "#7fbc41"
            ],
            [
             0.9,
             "#4d9221"
            ],
            [
             1,
             "#276419"
            ]
           ],
           "sequential": [
            [
             0,
             "#0d0887"
            ],
            [
             0.1111111111111111,
             "#46039f"
            ],
            [
             0.2222222222222222,
             "#7201a8"
            ],
            [
             0.3333333333333333,
             "#9c179e"
            ],
            [
             0.4444444444444444,
             "#bd3786"
            ],
            [
             0.5555555555555556,
             "#d8576b"
            ],
            [
             0.6666666666666666,
             "#ed7953"
            ],
            [
             0.7777777777777778,
             "#fb9f3a"
            ],
            [
             0.8888888888888888,
             "#fdca26"
            ],
            [
             1,
             "#f0f921"
            ]
           ],
           "sequentialminus": [
            [
             0,
             "#0d0887"
            ],
            [
             0.1111111111111111,
             "#46039f"
            ],
            [
             0.2222222222222222,
             "#7201a8"
            ],
            [
             0.3333333333333333,
             "#9c179e"
            ],
            [
             0.4444444444444444,
             "#bd3786"
            ],
            [
             0.5555555555555556,
             "#d8576b"
            ],
            [
             0.6666666666666666,
             "#ed7953"
            ],
            [
             0.7777777777777778,
             "#fb9f3a"
            ],
            [
             0.8888888888888888,
             "#fdca26"
            ],
            [
             1,
             "#f0f921"
            ]
           ]
          },
          "colorway": [
           "#636efa",
           "#EF553B",
           "#00cc96",
           "#ab63fa",
           "#FFA15A",
           "#19d3f3",
           "#FF6692",
           "#B6E880",
           "#FF97FF",
           "#FECB52"
          ],
          "font": {
           "color": "#2a3f5f"
          },
          "geo": {
           "bgcolor": "white",
           "lakecolor": "white",
           "landcolor": "#E5ECF6",
           "showlakes": true,
           "showland": true,
           "subunitcolor": "white"
          },
          "hoverlabel": {
           "align": "left"
          },
          "hovermode": "closest",
          "mapbox": {
           "style": "light"
          },
          "paper_bgcolor": "white",
          "plot_bgcolor": "#E5ECF6",
          "polar": {
           "angularaxis": {
            "gridcolor": "white",
            "linecolor": "white",
            "ticks": ""
           },
           "bgcolor": "#E5ECF6",
           "radialaxis": {
            "gridcolor": "white",
            "linecolor": "white",
            "ticks": ""
           }
          },
          "scene": {
           "xaxis": {
            "backgroundcolor": "#E5ECF6",
            "gridcolor": "white",
            "gridwidth": 2,
            "linecolor": "white",
            "showbackground": true,
            "ticks": "",
            "zerolinecolor": "white"
           },
           "yaxis": {
            "backgroundcolor": "#E5ECF6",
            "gridcolor": "white",
            "gridwidth": 2,
            "linecolor": "white",
            "showbackground": true,
            "ticks": "",
            "zerolinecolor": "white"
           },
           "zaxis": {
            "backgroundcolor": "#E5ECF6",
            "gridcolor": "white",
            "gridwidth": 2,
            "linecolor": "white",
            "showbackground": true,
            "ticks": "",
            "zerolinecolor": "white"
           }
          },
          "shapedefaults": {
           "line": {
            "color": "#2a3f5f"
           }
          },
          "ternary": {
           "aaxis": {
            "gridcolor": "white",
            "linecolor": "white",
            "ticks": ""
           },
           "baxis": {
            "gridcolor": "white",
            "linecolor": "white",
            "ticks": ""
           },
           "bgcolor": "#E5ECF6",
           "caxis": {
            "gridcolor": "white",
            "linecolor": "white",
            "ticks": ""
           }
          },
          "title": {
           "x": 0.05
          },
          "xaxis": {
           "automargin": true,
           "gridcolor": "white",
           "linecolor": "white",
           "ticks": "",
           "title": {
            "standoff": 15
           },
           "zerolinecolor": "white",
           "zerolinewidth": 2
          },
          "yaxis": {
           "automargin": true,
           "gridcolor": "white",
           "linecolor": "white",
           "ticks": "",
           "title": {
            "standoff": 15
           },
           "zerolinecolor": "white",
           "zerolinewidth": 2
          }
         }
        },
        "title": {
         "text": "Performance x Height (F)"
        },
        "xaxis": {
         "anchor": "y",
         "domain": [
          0,
          1
         ],
         "title": {
          "text": "Medals"
         }
        },
        "yaxis": {
         "anchor": "x",
         "domain": [
          0,
          1
         ],
         "title": {
          "text": "Height"
         }
        }
       }
      },
      "text/html": [
       "<div>                            <div id=\"a14a1343-efc9-4d4e-b557-3e63af5e2e4e\" class=\"plotly-graph-div\" style=\"height:525px; width:100%;\"></div>            <script type=\"text/javascript\">                require([\"plotly\"], function(Plotly) {                    window.PLOTLYENV=window.PLOTLYENV || {};                                    if (document.getElementById(\"a14a1343-efc9-4d4e-b557-3e63af5e2e4e\")) {                    Plotly.newPlot(                        \"a14a1343-efc9-4d4e-b557-3e63af5e2e4e\",                        [{\"alignmentgroup\":\"True\",\"hovertemplate\":\"Medal=MEDALS<br>Sport=%{x}<br>Height=%{y}<extra></extra>\",\"legendgroup\":\"MEDALS\",\"marker\":{\"color\":\"Orange\"},\"name\":\"MEDALS\",\"notched\":false,\"offsetgroup\":\"MEDALS\",\"orientation\":\"v\",\"showlegend\":true,\"x\":[\"Volleyball\",\"Basketball\",\"Basketball\",\"Basketball\",\"Basketball\",\"Basketball\",\"Football\",\"Volleyball\",\"Volleyball\",\"Football\",\"Football\",\"Football\",\"Basketball\",\"Volleyball\",\"Basketball\",\"Basketball\",\"Basketball\",\"Basketball\",\"Football\",\"Football\",\"Judo\",\"Judo\",\"Football\",\"Football\",\"Football\",\"Volleyball\",\"Football\",\"Football\",\"Volleyball\",\"Volleyball\",\"Football\",\"Volleyball\",\"Volleyball\",\"Volleyball\",\"Volleyball\",\"Volleyball\",\"Volleyball\",\"Volleyball\",\"Volleyball\",\"Football\",\"Football\",\"Football\",\"Volleyball\",\"Sailing\",\"Football\",\"Basketball\",\"Volleyball\",\"Basketball\",\"Volleyball\",\"Basketball\",\"Basketball\",\"Volleyball\",\"Volleyball\",\"Volleyball\",\"Football\",\"Volleyball\",\"Volleyball\",\"Basketball\",\"Football\",\"Volleyball\",\"Volleyball\",\"Football\",\"Football\",\"Sailing\",\"Basketball\",\"Volleyball\",\"Volleyball\",\"Basketball\",\"Volleyball\",\"Volleyball\",\"Volleyball\",\"Football\",\"Football\",\"Football\",\"Football\",\"Football\",\"Judo\",\"Football\",\"Volleyball\",\"Volleyball\",\"Sailing\",\"Basketball\",\"Volleyball\",\"Volleyball\",\"Football\",\"Football\",\"Judo\",\"Volleyball\",\"Volleyball\",\"Football\",\"Football\",\"Football\",\"Basketball\",\"Football\",\"Volleyball\",\"Volleyball\",\"Volleyball\",\"Volleyball\",\"Judo\",\"Basketball\",\"Basketball\",\"Football\",\"Basketball\",\"Basketball\",\"Sailing\",\"Volleyball\",\"Football\",\"Football\",\"Volleyball\",\"Volleyball\",\"Volleyball\",\"Volleyball\",\"Volleyball\",\"Volleyball\",\"Volleyball\",\"Basketball\"],\"x0\":\" \",\"xaxis\":\"x\",\"y\":[187.0,180.0,180.0,170.0,200.0,200.0,180.0,187.0,183.0,175.0,175.0,171.0,170.0,182.0,195.0,195.0,192.0,170.0,176.0,176.0,177.0,177.0,171.0,171.0,167.0,184.0,172.0,164.0,169.0,169.0,161.0,193.0,193.0,180.0,172.0,192.0,173.0,173.0,173.0,162.0,162.0,161.0,181.0,168.0,162.0,175.0,182.0,174.0,177.0,182.0,182.0,192.0,186.0,186.0,169.0,187.0,172.0,193.0,164.0,193.0,179.0,171.0,171.0,172.0,187.0,179.0,179.0,186.0,183.0,185.0,188.0,162.0,162.0,159.0,155.0,155.0,154.0,178.0,185.0,184.0,161.0,174.0,184.0,184.0,157.0,157.0,164.0,191.0,185.0,172.0,173.0,173.0,180.0,156.0,178.0,179.0,185.0,185.0,169.0,173.0,173.0,172.0,190.0,190.0,181.0,184.0,166.0,166.0,196.0,196.0,180.0,185.0,185.0,190.0,190.0,190.0],\"y0\":\" \",\"yaxis\":\"y\",\"type\":\"box\"},{\"alignmentgroup\":\"True\",\"hovertemplate\":\"Medal=NO_MEDALS<br>Sport=%{x}<br>Height=%{y}<extra></extra>\",\"legendgroup\":\"NO_MEDALS\",\"marker\":{\"color\":\"Lightgrey\"},\"name\":\"NO_MEDALS\",\"notched\":false,\"offsetgroup\":\"NO_MEDALS\",\"orientation\":\"v\",\"showlegend\":true,\"x\":[\"Volleyball\",\"Basketball\",\"Basketball\",\"Basketball\",\"Basketball\",\"Basketball\",\"Volleyball\",\"Basketball\",\"Football\",\"Football\",\"Judo\",\"Judo\",\"Judo\",\"Volleyball\",\"Volleyball\",\"Volleyball\",\"Volleyball\",\"Judo\",\"Judo\",\"Football\",\"Football\",\"Football\",\"Football\",\"Volleyball\",\"Sailing\",\"Sailing\",\"Football\",\"Judo\",\"Football\",\"Judo\",\"Volleyball\",\"Sailing\",\"Football\",\"Football\",\"Judo\",\"Judo\",\"Basketball\",\"Volleyball\",\"Volleyball\",\"Basketball\",\"Basketball\",\"Football\",\"Volleyball\",\"Basketball\",\"Basketball\",\"Basketball\",\"Basketball\",\"Football\",\"Football\",\"Volleyball\",\"Volleyball\",\"Basketball\",\"Judo\",\"Judo\",\"Judo\",\"Judo\",\"Judo\",\"Volleyball\",\"Football\",\"Football\",\"Basketball\",\"Basketball\",\"Volleyball\",\"Football\",\"Sailing\",\"Football\",\"Basketball\",\"Basketball\",\"Basketball\",\"Football\",\"Volleyball\",\"Football\",\"Football\",\"Basketball\",\"Basketball\",\"Basketball\",\"Football\",\"Football\",\"Football\",\"Volleyball\",\"Volleyball\",\"Volleyball\",\"Football\",\"Volleyball\",\"Volleyball\",\"Volleyball\",\"Basketball\",\"Judo\",\"Judo\",\"Volleyball\",\"Volleyball\",\"Football\",\"Football\",\"Football\",\"Football\",\"Sailing\",\"Sailing\",\"Sailing\",\"Football\",\"Basketball\",\"Basketball\",\"Sailing\",\"Sailing\",\"Sailing\",\"Volleyball\",\"Volleyball\",\"Basketball\",\"Football\",\"Basketball\",\"Basketball\",\"Basketball\",\"Volleyball\",\"Basketball\",\"Judo\",\"Volleyball\",\"Volleyball\",\"Volleyball\",\"Volleyball\",\"Basketball\",\"Judo\",\"Judo\",\"Judo\",\"Basketball\",\"Basketball\",\"Basketball\",\"Basketball\",\"Volleyball\",\"Basketball\",\"Volleyball\",\"Football\",\"Basketball\",\"Basketball\",\"Basketball\",\"Basketball\",\"Football\",\"Football\",\"Basketball\",\"Basketball\",\"Basketball\",\"Volleyball\",\"Sailing\",\"Football\",\"Sailing\",\"Sailing\",\"Sailing\",\"Basketball\",\"Volleyball\",\"Volleyball\",\"Volleyball\",\"Volleyball\",\"Volleyball\",\"Volleyball\",\"Basketball\",\"Basketball\",\"Volleyball\",\"Volleyball\",\"Volleyball\",\"Football\",\"Judo\",\"Football\",\"Football\",\"Judo\",\"Volleyball\",\"Football\",\"Football\",\"Football\",\"Volleyball\",\"Judo\",\"Judo\",\"Basketball\",\"Football\",\"Judo\",\"Judo\",\"Football\",\"Football\",\"Volleyball\",\"Volleyball\",\"Basketball\",\"Volleyball\",\"Football\",\"Football\",\"Sailing\",\"Sailing\",\"Sailing\",\"Sailing\",\"Volleyball\",\"Judo\",\"Basketball\",\"Sailing\",\"Sailing\",\"Sailing\",\"Volleyball\",\"Football\",\"Judo\",\"Basketball\",\"Judo\",\"Judo\",\"Football\",\"Football\",\"Football\",\"Volleyball\",\"Football\",\"Football\",\"Volleyball\",\"Volleyball\",\"Judo\",\"Judo\",\"Basketball\",\"Basketball\",\"Volleyball\",\"Football\",\"Football\",\"Football\",\"Football\",\"Basketball\",\"Volleyball\",\"Volleyball\",\"Volleyball\",\"Volleyball\",\"Sailing\",\"Volleyball\",\"Volleyball\",\"Volleyball\",\"Volleyball\",\"Volleyball\",\"Volleyball\",\"Judo\",\"Judo\",\"Judo\",\"Basketball\",\"Basketball\",\"Football\",\"Football\",\"Football\",\"Basketball\",\"Football\",\"Volleyball\",\"Football\",\"Football\",\"Sailing\",\"Sailing\",\"Football\",\"Football\",\"Football\",\"Football\",\"Volleyball\",\"Football\",\"Volleyball\",\"Football\",\"Volleyball\",\"Volleyball\",\"Volleyball\",\"Volleyball\",\"Basketball\",\"Volleyball\",\"Judo\",\"Judo\",\"Basketball\"],\"x0\":\" \",\"xaxis\":\"x\",\"y\":[187.0,180.0,170.0,170.0,170.0,170.0,172.0,200.0,162.0,180.0,175.0,175.0,null,187.0,176.0,176.0,183.0,null,null,175.0,175.0,160.0,168.0,177.0,171.0,171.0,171.0,160.0,176.0,null,179.0,175.0,178.0,178.0,175.0,175.0,179.0,172.0,172.0,183.0,183.0,163.0,null,195.0,170.0,194.0,194.0,176.0,176.0,177.0,177.0,171.0,175.0,175.0,175.0,175.0,177.0,181.0,162.0,171.0,192.0,192.0,175.0,157.0,172.0,171.0,183.0,183.0,187.0,174.0,184.0,172.0,172.0,196.0,196.0,196.0,164.0,161.0,161.0,193.0,193.0,184.0,169.0,180.0,180.0,180.0,183.0,null,169.0,173.0,173.0,162.0,162.0,162.0,162.0,170.0,170.0,170.0,161.0,187.0,187.0,173.0,173.0,173.0,176.0,181.0,191.0,162.0,175.0,175.0,178.0,182.0,174.0,156.0,177.0,177.0,180.0,180.0,179.0,null,167.0,167.0,181.0,181.0,182.0,182.0,186.0,190.0,184.0,169.0,177.0,173.0,173.0,173.0,172.0,172.0,193.0,193.0,193.0,179.0,170.0,171.0,171.0,171.0,173.0,187.0,179.0,183.0,183.0,183.0,183.0,175.0,193.0,174.0,185.0,185.0,188.0,156.0,178.0,162.0,162.0,157.0,174.0,159.0,155.0,175.0,176.0,154.0,154.0,180.0,168.0,162.0,162.0,178.0,168.0,185.0,185.0,170.0,184.0,158.0,158.0,161.0,161.0,161.0,161.0,179.0,164.0,174.0,170.0,170.0,170.0,179.0,172.0,159.0,185.0,158.0,158.0,157.0,157.0,175.0,179.0,161.0,160.0,175.0,175.0,null,null,176.0,176.0,180.0,173.0,173.0,156.0,156.0,188.0,178.0,178.0,189.0,179.0,null,185.0,180.0,180.0,170.0,170.0,169.0,173.0,173.0,169.0,182.0,182.0,172.0,167.0,167.0,190.0,160.0,176.0,153.0,169.0,null,181.0,174.0,161.0,166.0,166.0,181.0,164.0,196.0,166.0,null,180.0,171.0,185.0,173.0,190.0,162.0,162.0,190.0],\"y0\":\" \",\"yaxis\":\"y\",\"type\":\"box\"}],                        {\"template\":{\"data\":{\"bar\":[{\"error_x\":{\"color\":\"#2a3f5f\"},\"error_y\":{\"color\":\"#2a3f5f\"},\"marker\":{\"line\":{\"color\":\"#E5ECF6\",\"width\":0.5},\"pattern\":{\"fillmode\":\"overlay\",\"size\":10,\"solidity\":0.2}},\"type\":\"bar\"}],\"barpolar\":[{\"marker\":{\"line\":{\"color\":\"#E5ECF6\",\"width\":0.5},\"pattern\":{\"fillmode\":\"overlay\",\"size\":10,\"solidity\":0.2}},\"type\":\"barpolar\"}],\"carpet\":[{\"aaxis\":{\"endlinecolor\":\"#2a3f5f\",\"gridcolor\":\"white\",\"linecolor\":\"white\",\"minorgridcolor\":\"white\",\"startlinecolor\":\"#2a3f5f\"},\"baxis\":{\"endlinecolor\":\"#2a3f5f\",\"gridcolor\":\"white\",\"linecolor\":\"white\",\"minorgridcolor\":\"white\",\"startlinecolor\":\"#2a3f5f\"},\"type\":\"carpet\"}],\"choropleth\":[{\"colorbar\":{\"outlinewidth\":0,\"ticks\":\"\"},\"type\":\"choropleth\"}],\"contour\":[{\"colorbar\":{\"outlinewidth\":0,\"ticks\":\"\"},\"colorscale\":[[0.0,\"#0d0887\"],[0.1111111111111111,\"#46039f\"],[0.2222222222222222,\"#7201a8\"],[0.3333333333333333,\"#9c179e\"],[0.4444444444444444,\"#bd3786\"],[0.5555555555555556,\"#d8576b\"],[0.6666666666666666,\"#ed7953\"],[0.7777777777777778,\"#fb9f3a\"],[0.8888888888888888,\"#fdca26\"],[1.0,\"#f0f921\"]],\"type\":\"contour\"}],\"contourcarpet\":[{\"colorbar\":{\"outlinewidth\":0,\"ticks\":\"\"},\"type\":\"contourcarpet\"}],\"heatmap\":[{\"colorbar\":{\"outlinewidth\":0,\"ticks\":\"\"},\"colorscale\":[[0.0,\"#0d0887\"],[0.1111111111111111,\"#46039f\"],[0.2222222222222222,\"#7201a8\"],[0.3333333333333333,\"#9c179e\"],[0.4444444444444444,\"#bd3786\"],[0.5555555555555556,\"#d8576b\"],[0.6666666666666666,\"#ed7953\"],[0.7777777777777778,\"#fb9f3a\"],[0.8888888888888888,\"#fdca26\"],[1.0,\"#f0f921\"]],\"type\":\"heatmap\"}],\"heatmapgl\":[{\"colorbar\":{\"outlinewidth\":0,\"ticks\":\"\"},\"colorscale\":[[0.0,\"#0d0887\"],[0.1111111111111111,\"#46039f\"],[0.2222222222222222,\"#7201a8\"],[0.3333333333333333,\"#9c179e\"],[0.4444444444444444,\"#bd3786\"],[0.5555555555555556,\"#d8576b\"],[0.6666666666666666,\"#ed7953\"],[0.7777777777777778,\"#fb9f3a\"],[0.8888888888888888,\"#fdca26\"],[1.0,\"#f0f921\"]],\"type\":\"heatmapgl\"}],\"histogram\":[{\"marker\":{\"pattern\":{\"fillmode\":\"overlay\",\"size\":10,\"solidity\":0.2}},\"type\":\"histogram\"}],\"histogram2d\":[{\"colorbar\":{\"outlinewidth\":0,\"ticks\":\"\"},\"colorscale\":[[0.0,\"#0d0887\"],[0.1111111111111111,\"#46039f\"],[0.2222222222222222,\"#7201a8\"],[0.3333333333333333,\"#9c179e\"],[0.4444444444444444,\"#bd3786\"],[0.5555555555555556,\"#d8576b\"],[0.6666666666666666,\"#ed7953\"],[0.7777777777777778,\"#fb9f3a\"],[0.8888888888888888,\"#fdca26\"],[1.0,\"#f0f921\"]],\"type\":\"histogram2d\"}],\"histogram2dcontour\":[{\"colorbar\":{\"outlinewidth\":0,\"ticks\":\"\"},\"colorscale\":[[0.0,\"#0d0887\"],[0.1111111111111111,\"#46039f\"],[0.2222222222222222,\"#7201a8\"],[0.3333333333333333,\"#9c179e\"],[0.4444444444444444,\"#bd3786\"],[0.5555555555555556,\"#d8576b\"],[0.6666666666666666,\"#ed7953\"],[0.7777777777777778,\"#fb9f3a\"],[0.8888888888888888,\"#fdca26\"],[1.0,\"#f0f921\"]],\"type\":\"histogram2dcontour\"}],\"mesh3d\":[{\"colorbar\":{\"outlinewidth\":0,\"ticks\":\"\"},\"type\":\"mesh3d\"}],\"parcoords\":[{\"line\":{\"colorbar\":{\"outlinewidth\":0,\"ticks\":\"\"}},\"type\":\"parcoords\"}],\"pie\":[{\"automargin\":true,\"type\":\"pie\"}],\"scatter\":[{\"marker\":{\"colorbar\":{\"outlinewidth\":0,\"ticks\":\"\"}},\"type\":\"scatter\"}],\"scatter3d\":[{\"line\":{\"colorbar\":{\"outlinewidth\":0,\"ticks\":\"\"}},\"marker\":{\"colorbar\":{\"outlinewidth\":0,\"ticks\":\"\"}},\"type\":\"scatter3d\"}],\"scattercarpet\":[{\"marker\":{\"colorbar\":{\"outlinewidth\":0,\"ticks\":\"\"}},\"type\":\"scattercarpet\"}],\"scattergeo\":[{\"marker\":{\"colorbar\":{\"outlinewidth\":0,\"ticks\":\"\"}},\"type\":\"scattergeo\"}],\"scattergl\":[{\"marker\":{\"colorbar\":{\"outlinewidth\":0,\"ticks\":\"\"}},\"type\":\"scattergl\"}],\"scattermapbox\":[{\"marker\":{\"colorbar\":{\"outlinewidth\":0,\"ticks\":\"\"}},\"type\":\"scattermapbox\"}],\"scatterpolar\":[{\"marker\":{\"colorbar\":{\"outlinewidth\":0,\"ticks\":\"\"}},\"type\":\"scatterpolar\"}],\"scatterpolargl\":[{\"marker\":{\"colorbar\":{\"outlinewidth\":0,\"ticks\":\"\"}},\"type\":\"scatterpolargl\"}],\"scatterternary\":[{\"marker\":{\"colorbar\":{\"outlinewidth\":0,\"ticks\":\"\"}},\"type\":\"scatterternary\"}],\"surface\":[{\"colorbar\":{\"outlinewidth\":0,\"ticks\":\"\"},\"colorscale\":[[0.0,\"#0d0887\"],[0.1111111111111111,\"#46039f\"],[0.2222222222222222,\"#7201a8\"],[0.3333333333333333,\"#9c179e\"],[0.4444444444444444,\"#bd3786\"],[0.5555555555555556,\"#d8576b\"],[0.6666666666666666,\"#ed7953\"],[0.7777777777777778,\"#fb9f3a\"],[0.8888888888888888,\"#fdca26\"],[1.0,\"#f0f921\"]],\"type\":\"surface\"}],\"table\":[{\"cells\":{\"fill\":{\"color\":\"#EBF0F8\"},\"line\":{\"color\":\"white\"}},\"header\":{\"fill\":{\"color\":\"#C8D4E3\"},\"line\":{\"color\":\"white\"}},\"type\":\"table\"}]},\"layout\":{\"annotationdefaults\":{\"arrowcolor\":\"#2a3f5f\",\"arrowhead\":0,\"arrowwidth\":1},\"autotypenumbers\":\"strict\",\"coloraxis\":{\"colorbar\":{\"outlinewidth\":0,\"ticks\":\"\"}},\"colorscale\":{\"diverging\":[[0,\"#8e0152\"],[0.1,\"#c51b7d\"],[0.2,\"#de77ae\"],[0.3,\"#f1b6da\"],[0.4,\"#fde0ef\"],[0.5,\"#f7f7f7\"],[0.6,\"#e6f5d0\"],[0.7,\"#b8e186\"],[0.8,\"#7fbc41\"],[0.9,\"#4d9221\"],[1,\"#276419\"]],\"sequential\":[[0.0,\"#0d0887\"],[0.1111111111111111,\"#46039f\"],[0.2222222222222222,\"#7201a8\"],[0.3333333333333333,\"#9c179e\"],[0.4444444444444444,\"#bd3786\"],[0.5555555555555556,\"#d8576b\"],[0.6666666666666666,\"#ed7953\"],[0.7777777777777778,\"#fb9f3a\"],[0.8888888888888888,\"#fdca26\"],[1.0,\"#f0f921\"]],\"sequentialminus\":[[0.0,\"#0d0887\"],[0.1111111111111111,\"#46039f\"],[0.2222222222222222,\"#7201a8\"],[0.3333333333333333,\"#9c179e\"],[0.4444444444444444,\"#bd3786\"],[0.5555555555555556,\"#d8576b\"],[0.6666666666666666,\"#ed7953\"],[0.7777777777777778,\"#fb9f3a\"],[0.8888888888888888,\"#fdca26\"],[1.0,\"#f0f921\"]]},\"colorway\":[\"#636efa\",\"#EF553B\",\"#00cc96\",\"#ab63fa\",\"#FFA15A\",\"#19d3f3\",\"#FF6692\",\"#B6E880\",\"#FF97FF\",\"#FECB52\"],\"font\":{\"color\":\"#2a3f5f\"},\"geo\":{\"bgcolor\":\"white\",\"lakecolor\":\"white\",\"landcolor\":\"#E5ECF6\",\"showlakes\":true,\"showland\":true,\"subunitcolor\":\"white\"},\"hoverlabel\":{\"align\":\"left\"},\"hovermode\":\"closest\",\"mapbox\":{\"style\":\"light\"},\"paper_bgcolor\":\"white\",\"plot_bgcolor\":\"#E5ECF6\",\"polar\":{\"angularaxis\":{\"gridcolor\":\"white\",\"linecolor\":\"white\",\"ticks\":\"\"},\"bgcolor\":\"#E5ECF6\",\"radialaxis\":{\"gridcolor\":\"white\",\"linecolor\":\"white\",\"ticks\":\"\"}},\"scene\":{\"xaxis\":{\"backgroundcolor\":\"#E5ECF6\",\"gridcolor\":\"white\",\"gridwidth\":2,\"linecolor\":\"white\",\"showbackground\":true,\"ticks\":\"\",\"zerolinecolor\":\"white\"},\"yaxis\":{\"backgroundcolor\":\"#E5ECF6\",\"gridcolor\":\"white\",\"gridwidth\":2,\"linecolor\":\"white\",\"showbackground\":true,\"ticks\":\"\",\"zerolinecolor\":\"white\"},\"zaxis\":{\"backgroundcolor\":\"#E5ECF6\",\"gridcolor\":\"white\",\"gridwidth\":2,\"linecolor\":\"white\",\"showbackground\":true,\"ticks\":\"\",\"zerolinecolor\":\"white\"}},\"shapedefaults\":{\"line\":{\"color\":\"#2a3f5f\"}},\"ternary\":{\"aaxis\":{\"gridcolor\":\"white\",\"linecolor\":\"white\",\"ticks\":\"\"},\"baxis\":{\"gridcolor\":\"white\",\"linecolor\":\"white\",\"ticks\":\"\"},\"bgcolor\":\"#E5ECF6\",\"caxis\":{\"gridcolor\":\"white\",\"linecolor\":\"white\",\"ticks\":\"\"}},\"title\":{\"x\":0.05},\"xaxis\":{\"automargin\":true,\"gridcolor\":\"white\",\"linecolor\":\"white\",\"ticks\":\"\",\"title\":{\"standoff\":15},\"zerolinecolor\":\"white\",\"zerolinewidth\":2},\"yaxis\":{\"automargin\":true,\"gridcolor\":\"white\",\"linecolor\":\"white\",\"ticks\":\"\",\"title\":{\"standoff\":15},\"zerolinecolor\":\"white\",\"zerolinewidth\":2}}},\"xaxis\":{\"anchor\":\"y\",\"domain\":[0.0,1.0],\"title\":{\"text\":\"Medals\"}},\"yaxis\":{\"anchor\":\"x\",\"domain\":[0.0,1.0],\"title\":{\"text\":\"Height\"}},\"legend\":{\"title\":{\"text\":\"Performance\"},\"tracegroupgap\":0},\"title\":{\"text\":\"Performance x Height (F)\"},\"boxmode\":\"group\"},                        {\"responsive\": true}                    ).then(function(){\n",
       "                            \n",
       "var gd = document.getElementById('a14a1343-efc9-4d4e-b557-3e63af5e2e4e');\n",
       "var x = new MutationObserver(function (mutations, observer) {{\n",
       "        var display = window.getComputedStyle(gd).display;\n",
       "        if (!display || display === 'none') {{\n",
       "            console.log([gd, 'removed!']);\n",
       "            Plotly.purge(gd);\n",
       "            observer.disconnect();\n",
       "        }}\n",
       "}});\n",
       "\n",
       "// Listen for the removal of the full notebook cells\n",
       "var notebookContainer = gd.closest('#notebook-container');\n",
       "if (notebookContainer) {{\n",
       "    x.observe(notebookContainer, {childList: true});\n",
       "}}\n",
       "\n",
       "// Listen for the clearing of the current output cell\n",
       "var outputEl = gd.closest('.output');\n",
       "if (outputEl) {{\n",
       "    x.observe(outputEl, {childList: true});\n",
       "}}\n",
       "\n",
       "                        })                };                });            </script>        </div>"
      ]
     },
     "metadata": {},
     "output_type": "display_data"
    }
   ],
   "source": [
    "fig = px.box(x='Sport',\n",
    "             y='Height',\n",
    "             data_frame=br_f_5,\n",
    "             color='Medal',\n",
    "             title='Performance x Height (F)',\n",
    "            color_discrete_sequence=['Orange','Lightgrey'])\n",
    "\n",
    "fig.update_yaxes(title='Height')\n",
    "fig.update_xaxes(title='Medals')\n",
    "\n",
    "fig.update_layout(legend=dict(title='Performance'))\n",
    "\n",
    "fig.show()"
   ]
  },
  {
   "cell_type": "markdown",
   "id": "84951e7e",
   "metadata": {},
   "source": [
    "### Correlação entre Altura e Desempenho para os 5 Esportes Acima"
   ]
  },
  {
   "cell_type": "code",
   "execution_count": 55,
   "id": "dda33468",
   "metadata": {
    "scrolled": true
   },
   "outputs": [
    {
     "data": {
      "image/png": "[encoded data removed]",
      "text/plain": [
       "<Figure size 432x288 with 2 Axes>"
      ]
     },
     "metadata": {
      "needs_background": "light"
     },
     "output_type": "display_data"
    }
   ],
   "source": [
    "br_dummied_f = pd.get_dummies(br_f_5[['Height','Medal']])\n",
    "\n",
    "sns.heatmap(br_dummied_f[['Medal_NO_MEDALS','Medal_MEDALS','Height']]\n",
    "            .corr('spearman'), annot=True, cmap=\"PiYG\");"
   ]
  },
  {
   "cell_type": "markdown",
   "id": "18c07251",
   "metadata": {},
   "source": [
    "### MASCULINO"
   ]
  },
  {
   "cell_type": "code",
   "execution_count": 56,
   "id": "8161fffb",
   "metadata": {},
   "outputs": [
    {
     "data": {
      "text/html": [
       "<div>\n",
       "<style scoped>\n",
       "    .dataframe tbody tr th:only-of-type {\n",
       "        vertical-align: middle;\n",
       "    }\n",
       "\n",
       "    .dataframe tbody tr th {\n",
       "        vertical-align: top;\n",
       "    }\n",
       "\n",
       "    .dataframe thead th {\n",
       "        text-align: right;\n",
       "    }\n",
       "</style>\n",
       "<table border=\"1\" class=\"dataframe\">\n",
       "  <thead>\n",
       "    <tr style=\"text-align: right;\">\n",
       "      <th></th>\n",
       "      <th>Sport</th>\n",
       "      <th>Medal</th>\n",
       "      <th>Event</th>\n",
       "    </tr>\n",
       "  </thead>\n",
       "  <tbody>\n",
       "    <tr>\n",
       "      <th>4</th>\n",
       "      <td>Athletics</td>\n",
       "      <td>NO_MEDALS</td>\n",
       "      <td>192</td>\n",
       "    </tr>\n",
       "    <tr>\n",
       "      <th>36</th>\n",
       "      <td>Swimming</td>\n",
       "      <td>NO_MEDALS</td>\n",
       "      <td>183</td>\n",
       "    </tr>\n",
       "    <tr>\n",
       "      <th>10</th>\n",
       "      <td>Boxing</td>\n",
       "      <td>NO_MEDALS</td>\n",
       "      <td>71</td>\n",
       "    </tr>\n",
       "    <tr>\n",
       "      <th>32</th>\n",
       "      <td>Sailing</td>\n",
       "      <td>NO_MEDALS</td>\n",
       "      <td>62</td>\n",
       "    </tr>\n",
       "    <tr>\n",
       "      <th>26</th>\n",
       "      <td>Judo</td>\n",
       "      <td>NO_MEDALS</td>\n",
       "      <td>61</td>\n",
       "    </tr>\n",
       "    <tr>\n",
       "      <th>34</th>\n",
       "      <td>Shooting</td>\n",
       "      <td>NO_MEDALS</td>\n",
       "      <td>59</td>\n",
       "    </tr>\n",
       "    <tr>\n",
       "      <th>22</th>\n",
       "      <td>Gymnastics</td>\n",
       "      <td>NO_MEDALS</td>\n",
       "      <td>51</td>\n",
       "    </tr>\n",
       "    <tr>\n",
       "      <th>17</th>\n",
       "      <td>Equestrianism</td>\n",
       "      <td>NO_MEDALS</td>\n",
       "      <td>49</td>\n",
       "    </tr>\n",
       "    <tr>\n",
       "      <th>29</th>\n",
       "      <td>Rowing</td>\n",
       "      <td>NO_MEDALS</td>\n",
       "      <td>42</td>\n",
       "    </tr>\n",
       "    <tr>\n",
       "      <th>14</th>\n",
       "      <td>Cycling</td>\n",
       "      <td>NO_MEDALS</td>\n",
       "      <td>41</td>\n",
       "    </tr>\n",
       "    <tr>\n",
       "      <th>18</th>\n",
       "      <td>Fencing</td>\n",
       "      <td>NO_MEDALS</td>\n",
       "      <td>33</td>\n",
       "    </tr>\n",
       "    <tr>\n",
       "      <th>12</th>\n",
       "      <td>Canoeing</td>\n",
       "      <td>NO_MEDALS</td>\n",
       "      <td>28</td>\n",
       "    </tr>\n",
       "    <tr>\n",
       "      <th>15</th>\n",
       "      <td>Diving</td>\n",
       "      <td>NO_MEDALS</td>\n",
       "      <td>24</td>\n",
       "    </tr>\n",
       "    <tr>\n",
       "      <th>46</th>\n",
       "      <td>Weightlifting</td>\n",
       "      <td>NO_MEDALS</td>\n",
       "      <td>21</td>\n",
       "    </tr>\n",
       "    <tr>\n",
       "      <th>0</th>\n",
       "      <td>Alpine Skiing</td>\n",
       "      <td>NO_MEDALS</td>\n",
       "      <td>16</td>\n",
       "    </tr>\n",
       "    <tr>\n",
       "      <th>37</th>\n",
       "      <td>Table Tennis</td>\n",
       "      <td>NO_MEDALS</td>\n",
       "      <td>16</td>\n",
       "    </tr>\n",
       "    <tr>\n",
       "      <th>40</th>\n",
       "      <td>Tennis</td>\n",
       "      <td>NO_MEDALS</td>\n",
       "      <td>14</td>\n",
       "    </tr>\n",
       "    <tr>\n",
       "      <th>7</th>\n",
       "      <td>Basketball</td>\n",
       "      <td>NO_MEDALS</td>\n",
       "      <td>12</td>\n",
       "    </tr>\n",
       "    <tr>\n",
       "      <th>28</th>\n",
       "      <td>Modern Pentathlon</td>\n",
       "      <td>NO_MEDALS</td>\n",
       "      <td>11</td>\n",
       "    </tr>\n",
       "    <tr>\n",
       "      <th>1</th>\n",
       "      <td>Archery</td>\n",
       "      <td>NO_MEDALS</td>\n",
       "      <td>8</td>\n",
       "    </tr>\n",
       "    <tr>\n",
       "      <th>44</th>\n",
       "      <td>Volleyball</td>\n",
       "      <td>NO_MEDALS</td>\n",
       "      <td>8</td>\n",
       "    </tr>\n",
       "    <tr>\n",
       "      <th>45</th>\n",
       "      <td>Water Polo</td>\n",
       "      <td>NO_MEDALS</td>\n",
       "      <td>8</td>\n",
       "    </tr>\n",
       "    <tr>\n",
       "      <th>20</th>\n",
       "      <td>Football</td>\n",
       "      <td>NO_MEDALS</td>\n",
       "      <td>7</td>\n",
       "    </tr>\n",
       "    <tr>\n",
       "      <th>47</th>\n",
       "      <td>Wrestling</td>\n",
       "      <td>NO_MEDALS</td>\n",
       "      <td>7</td>\n",
       "    </tr>\n",
       "    <tr>\n",
       "      <th>23</th>\n",
       "      <td>Handball</td>\n",
       "      <td>NO_MEDALS</td>\n",
       "      <td>5</td>\n",
       "    </tr>\n",
       "    <tr>\n",
       "      <th>39</th>\n",
       "      <td>Taekwondo</td>\n",
       "      <td>NO_MEDALS</td>\n",
       "      <td>5</td>\n",
       "    </tr>\n",
       "    <tr>\n",
       "      <th>42</th>\n",
       "      <td>Triathlon</td>\n",
       "      <td>NO_MEDALS</td>\n",
       "      <td>5</td>\n",
       "    </tr>\n",
       "    <tr>\n",
       "      <th>13</th>\n",
       "      <td>Cross Country Skiing</td>\n",
       "      <td>NO_MEDALS</td>\n",
       "      <td>4</td>\n",
       "    </tr>\n",
       "    <tr>\n",
       "      <th>8</th>\n",
       "      <td>Bobsleigh</td>\n",
       "      <td>NO_MEDALS</td>\n",
       "      <td>3</td>\n",
       "    </tr>\n",
       "    <tr>\n",
       "      <th>2</th>\n",
       "      <td>Art Competitions</td>\n",
       "      <td>NO_MEDALS</td>\n",
       "      <td>1</td>\n",
       "    </tr>\n",
       "    <tr>\n",
       "      <th>5</th>\n",
       "      <td>Badminton</td>\n",
       "      <td>NO_MEDALS</td>\n",
       "      <td>1</td>\n",
       "    </tr>\n",
       "    <tr>\n",
       "      <th>21</th>\n",
       "      <td>Golf</td>\n",
       "      <td>NO_MEDALS</td>\n",
       "      <td>1</td>\n",
       "    </tr>\n",
       "    <tr>\n",
       "      <th>24</th>\n",
       "      <td>Hockey</td>\n",
       "      <td>NO_MEDALS</td>\n",
       "      <td>1</td>\n",
       "    </tr>\n",
       "    <tr>\n",
       "      <th>27</th>\n",
       "      <td>Luge</td>\n",
       "      <td>NO_MEDALS</td>\n",
       "      <td>1</td>\n",
       "    </tr>\n",
       "    <tr>\n",
       "      <th>30</th>\n",
       "      <td>Rugby Sevens</td>\n",
       "      <td>NO_MEDALS</td>\n",
       "      <td>1</td>\n",
       "    </tr>\n",
       "    <tr>\n",
       "      <th>41</th>\n",
       "      <td>Trampolining</td>\n",
       "      <td>NO_MEDALS</td>\n",
       "      <td>1</td>\n",
       "    </tr>\n",
       "    <tr>\n",
       "      <th>25</th>\n",
       "      <td>Judo</td>\n",
       "      <td>MEDALS</td>\n",
       "      <td>17</td>\n",
       "    </tr>\n",
       "    <tr>\n",
       "      <th>31</th>\n",
       "      <td>Sailing</td>\n",
       "      <td>MEDALS</td>\n",
       "      <td>16</td>\n",
       "    </tr>\n",
       "    <tr>\n",
       "      <th>3</th>\n",
       "      <td>Athletics</td>\n",
       "      <td>MEDALS</td>\n",
       "      <td>12</td>\n",
       "    </tr>\n",
       "    <tr>\n",
       "      <th>35</th>\n",
       "      <td>Swimming</td>\n",
       "      <td>MEDALS</td>\n",
       "      <td>10</td>\n",
       "    </tr>\n",
       "    <tr>\n",
       "      <th>19</th>\n",
       "      <td>Football</td>\n",
       "      <td>MEDALS</td>\n",
       "      <td>6</td>\n",
       "    </tr>\n",
       "    <tr>\n",
       "      <th>43</th>\n",
       "      <td>Volleyball</td>\n",
       "      <td>MEDALS</td>\n",
       "      <td>6</td>\n",
       "    </tr>\n",
       "    <tr>\n",
       "      <th>9</th>\n",
       "      <td>Boxing</td>\n",
       "      <td>MEDALS</td>\n",
       "      <td>4</td>\n",
       "    </tr>\n",
       "    <tr>\n",
       "      <th>6</th>\n",
       "      <td>Basketball</td>\n",
       "      <td>MEDALS</td>\n",
       "      <td>3</td>\n",
       "    </tr>\n",
       "    <tr>\n",
       "      <th>11</th>\n",
       "      <td>Canoeing</td>\n",
       "      <td>MEDALS</td>\n",
       "      <td>3</td>\n",
       "    </tr>\n",
       "    <tr>\n",
       "      <th>16</th>\n",
       "      <td>Equestrianism</td>\n",
       "      <td>MEDALS</td>\n",
       "      <td>2</td>\n",
       "    </tr>\n",
       "    <tr>\n",
       "      <th>33</th>\n",
       "      <td>Shooting</td>\n",
       "      <td>MEDALS</td>\n",
       "      <td>1</td>\n",
       "    </tr>\n",
       "    <tr>\n",
       "      <th>38</th>\n",
       "      <td>Taekwondo</td>\n",
       "      <td>MEDALS</td>\n",
       "      <td>1</td>\n",
       "    </tr>\n",
       "  </tbody>\n",
       "</table>\n",
       "</div>"
      ],
      "text/plain": [
       "                   Sport      Medal  Event\n",
       "4              Athletics  NO_MEDALS    192\n",
       "36              Swimming  NO_MEDALS    183\n",
       "10                Boxing  NO_MEDALS     71\n",
       "32               Sailing  NO_MEDALS     62\n",
       "26                  Judo  NO_MEDALS     61\n",
       "34              Shooting  NO_MEDALS     59\n",
       "22            Gymnastics  NO_MEDALS     51\n",
       "17         Equestrianism  NO_MEDALS     49\n",
       "29                Rowing  NO_MEDALS     42\n",
       "14               Cycling  NO_MEDALS     41\n",
       "18               Fencing  NO_MEDALS     33\n",
       "12              Canoeing  NO_MEDALS     28\n",
       "15                Diving  NO_MEDALS     24\n",
       "46         Weightlifting  NO_MEDALS     21\n",
       "0          Alpine Skiing  NO_MEDALS     16\n",
       "37          Table Tennis  NO_MEDALS     16\n",
       "40                Tennis  NO_MEDALS     14\n",
       "7             Basketball  NO_MEDALS     12\n",
       "28     Modern Pentathlon  NO_MEDALS     11\n",
       "1                Archery  NO_MEDALS      8\n",
       "44            Volleyball  NO_MEDALS      8\n",
       "45            Water Polo  NO_MEDALS      8\n",
       "20              Football  NO_MEDALS      7\n",
       "47             Wrestling  NO_MEDALS      7\n",
       "23              Handball  NO_MEDALS      5\n",
       "39             Taekwondo  NO_MEDALS      5\n",
       "42             Triathlon  NO_MEDALS      5\n",
       "13  Cross Country Skiing  NO_MEDALS      4\n",
       "8              Bobsleigh  NO_MEDALS      3\n",
       "2       Art Competitions  NO_MEDALS      1\n",
       "5              Badminton  NO_MEDALS      1\n",
       "21                  Golf  NO_MEDALS      1\n",
       "24                Hockey  NO_MEDALS      1\n",
       "27                  Luge  NO_MEDALS      1\n",
       "30          Rugby Sevens  NO_MEDALS      1\n",
       "41          Trampolining  NO_MEDALS      1\n",
       "25                  Judo     MEDALS     17\n",
       "31               Sailing     MEDALS     16\n",
       "3              Athletics     MEDALS     12\n",
       "35              Swimming     MEDALS     10\n",
       "19              Football     MEDALS      6\n",
       "43            Volleyball     MEDALS      6\n",
       "9                 Boxing     MEDALS      4\n",
       "6             Basketball     MEDALS      3\n",
       "11              Canoeing     MEDALS      3\n",
       "16         Equestrianism     MEDALS      2\n",
       "33              Shooting     MEDALS      1\n",
       "38             Taekwondo     MEDALS      1"
      ]
     },
     "execution_count": 56,
     "metadata": {},
     "output_type": "execute_result"
    }
   ],
   "source": [
    "br_m = br_bin[br_bin['Sex'] == 'M']\n",
    "\n",
    "br_m.drop_duplicates(subset=['Year', 'Event'], keep='first').groupby(by=['Sport','Medal'],\n",
    "             as_index=False).count().sort_values(['Medal','Event'], \n",
    "                                                 ascending=False).drop(columns=['ID','Name','Sex','Age','Height','Weight',\n",
    "                         'Team','NOC','Games','Year','Season','City'])"
   ]
  },
  {
   "cell_type": "code",
   "execution_count": 57,
   "id": "2aeb02de",
   "metadata": {
    "id": "2aeb02de",
    "outputId": "57d8f7eb-3c28-4a37-9fc1-560680c7ebe4"
   },
   "outputs": [
    {
     "data": {
      "text/plain": [
       "Swimming      387\n",
       "Athletics     363\n",
       "Volleyball    165\n",
       "Sailing       133\n",
       "Judo           78\n",
       "Name: Sport, dtype: int64"
      ]
     },
     "execution_count": 57,
     "metadata": {},
     "output_type": "execute_result"
    }
   ],
   "source": [
    "br_m_5 = br_m[(br_m['Sport'] == 'Judo') |\n",
    "              (br_m['Sport'] == 'Sailing') |\n",
    "              (br_m['Sport'] == 'Athletics') |\n",
    "              (br_m['Sport'] == 'Swimming') |\n",
    "              (br_m['Sport'] == 'Volleyball')]\n",
    "\n",
    "br_m_5['Sport'].value_counts()"
   ]
  },
  {
   "cell_type": "markdown",
   "id": "e7bf4041",
   "metadata": {},
   "source": [
    "## DROP DUPLICATES"
   ]
  },
  {
   "cell_type": "markdown",
   "id": "rsusvxQYUP9Y",
   "metadata": {
    "id": "rsusvxQYUP9Y"
   },
   "source": [
    "Já para o conjunto de 5 esportes masculinhos uma possível correlação da altura com o desempenho começa a ficar mais evidente, pois tanto a mediana como a caixa da distribuição das alturas tem um posicionamento mais acima no gráfico quando se olham os vermelhos, os medalhistas. Como possível explicação temos o fato de que 4 dos esportes são individuais, e o único em grupo (volleyball) tem como benefício uma altura maior, tendo em vista a altura da rede e a necessidade da rotatividade na quadra. Quanto aos individuais, principalmente natação e atletismo, nota-se que a envergadura grande também pode ser um fator determimante na obtenção de medalhas."
   ]
  },
  {
   "cell_type": "code",
   "execution_count": 58,
   "id": "130f4b81",
   "metadata": {
    "id": "130f4b81",
    "outputId": "7ed8b453-0fcc-42cf-fbb1-1499a6682da4",
    "scrolled": false
   },
   "outputs": [
    {
     "data": {
      "application/vnd.plotly.v1+json": {
       "config": {
        "plotlyServerURL": "https://plot.ly"
       },
       "data": [
        {
         "alignmentgroup": "True",
         "hovertemplate": "Medal=NO_MEDALS<br>Sport=%{x}<br>Height=%{y}<extra></extra>",
         "legendgroup": "NO_MEDALS",
         "marker": {
          "color": "#636efa"
         },
         "name": "NO_MEDALS",
         "notched": false,
         "offsetgroup": "NO_MEDALS",
         "orientation": "v",
         "showlegend": true,
         "type": "box",
         "x": [
          "Volleyball",
          "Volleyball",
          "Sailing",
          "Sailing",
          "Sailing",
          "Sailing",
          "Sailing",
          "Sailing",
          "Sailing",
          "Swimming",
          "Swimming",
          "Swimming",
          "Swimming",
          "Swimming",
          "Swimming",
          "Swimming",
          "Swimming",
          "Swimming",
          "Swimming",
          "Swimming",
          "Swimming",
          "Athletics",
          "Sailing",
          "Swimming",
          "Volleyball",
          "Volleyball",
          "Swimming",
          "Athletics",
          "Athletics",
          "Athletics",
          "Judo",
          "Swimming",
          "Swimming",
          "Swimming",
          "Swimming",
          "Swimming",
          "Swimming",
          "Swimming",
          "Swimming",
          "Swimming",
          "Swimming",
          "Swimming",
          "Swimming",
          "Swimming",
          "Swimming",
          "Athletics",
          "Athletics",
          "Sailing",
          "Sailing",
          "Sailing",
          "Swimming",
          "Volleyball",
          "Sailing",
          "Sailing",
          "Swimming",
          "Swimming",
          "Volleyball",
          "Athletics",
          "Athletics",
          "Athletics",
          "Athletics",
          "Athletics",
          "Swimming",
          "Swimming",
          "Swimming",
          "Athletics",
          "Athletics",
          "Athletics",
          "Athletics",
          "Athletics",
          "Athletics",
          "Volleyball",
          "Volleyball",
          "Swimming",
          "Swimming",
          "Swimming",
          "Sailing",
          "Sailing",
          "Sailing",
          "Sailing",
          "Sailing",
          "Volleyball",
          "Volleyball",
          "Volleyball",
          "Athletics",
          "Sailing",
          "Sailing",
          "Sailing",
          "Sailing",
          "Sailing",
          "Sailing",
          "Sailing",
          "Sailing",
          "Sailing",
          "Swimming",
          "Swimming",
          "Swimming",
          "Swimming",
          "Swimming",
          "Swimming",
          "Athletics",
          "Athletics",
          "Athletics",
          "Athletics",
          "Athletics",
          "Sailing",
          "Swimming",
          "Swimming",
          "Swimming",
          "Swimming",
          "Swimming",
          "Swimming",
          "Swimming",
          "Swimming",
          "Swimming",
          "Volleyball",
          "Volleyball",
          "Athletics",
          "Sailing",
          "Sailing",
          "Sailing",
          "Sailing",
          "Sailing",
          "Sailing",
          "Sailing",
          "Sailing",
          "Athletics",
          "Judo",
          "Athletics",
          "Swimming",
          "Athletics",
          "Athletics",
          "Judo",
          "Judo",
          "Judo",
          "Athletics",
          "Judo",
          "Volleyball",
          "Judo",
          "Judo",
          "Judo",
          "Athletics",
          "Swimming",
          "Swimming",
          "Swimming",
          "Swimming",
          "Swimming",
          "Swimming",
          "Swimming",
          "Swimming",
          "Swimming",
          "Swimming",
          "Swimming",
          "Swimming",
          "Swimming",
          "Judo",
          "Volleyball",
          "Athletics",
          "Swimming",
          "Swimming",
          "Athletics",
          "Athletics",
          "Judo",
          "Swimming",
          "Swimming",
          "Swimming",
          "Swimming",
          "Swimming",
          "Athletics",
          "Swimming",
          "Swimming",
          "Athletics",
          "Sailing",
          "Sailing",
          "Sailing",
          "Swimming",
          "Sailing",
          "Judo",
          "Judo",
          "Athletics",
          "Athletics",
          "Athletics",
          "Athletics",
          "Swimming",
          "Swimming",
          "Athletics",
          "Athletics",
          "Sailing",
          "Athletics",
          "Athletics",
          "Athletics",
          "Judo",
          "Judo",
          "Athletics",
          "Athletics",
          "Athletics",
          "Athletics",
          "Athletics",
          "Volleyball",
          "Volleyball",
          "Athletics",
          "Athletics",
          "Sailing",
          "Sailing",
          "Sailing",
          "Swimming",
          "Swimming",
          "Athletics",
          "Athletics",
          "Athletics",
          "Athletics",
          "Athletics",
          "Athletics",
          "Athletics",
          "Athletics",
          "Athletics",
          "Athletics",
          "Athletics",
          "Athletics",
          "Athletics",
          "Athletics",
          "Athletics",
          "Athletics",
          "Athletics",
          "Athletics",
          "Athletics",
          "Athletics",
          "Athletics",
          "Athletics",
          "Athletics",
          "Athletics",
          "Athletics",
          "Athletics",
          "Athletics",
          "Athletics",
          "Athletics",
          "Athletics",
          "Athletics",
          "Athletics",
          "Athletics",
          "Athletics",
          "Athletics",
          "Athletics",
          "Swimming",
          "Swimming",
          "Athletics",
          "Athletics",
          "Athletics",
          "Athletics",
          "Athletics",
          "Athletics",
          "Athletics",
          "Athletics",
          "Athletics",
          "Athletics",
          "Athletics",
          "Athletics",
          "Athletics",
          "Athletics",
          "Athletics",
          "Athletics",
          "Athletics",
          "Volleyball",
          "Volleyball",
          "Athletics",
          "Athletics",
          "Swimming",
          "Swimming",
          "Athletics",
          "Athletics",
          "Athletics",
          "Athletics",
          "Athletics",
          "Athletics",
          "Athletics",
          "Athletics",
          "Athletics",
          "Athletics",
          "Athletics",
          "Sailing",
          "Volleyball",
          "Volleyball",
          "Athletics",
          "Athletics",
          "Athletics",
          "Athletics",
          "Athletics",
          "Athletics",
          "Athletics",
          "Athletics",
          "Athletics",
          "Athletics",
          "Athletics",
          "Athletics",
          "Swimming",
          "Swimming",
          "Swimming",
          "Swimming",
          "Athletics",
          "Athletics",
          "Athletics",
          "Athletics",
          "Athletics",
          "Athletics",
          "Athletics",
          "Athletics",
          "Athletics",
          "Swimming",
          "Swimming",
          "Swimming",
          "Athletics",
          "Athletics",
          "Athletics",
          "Athletics",
          "Athletics",
          "Athletics",
          "Athletics",
          "Volleyball",
          "Athletics",
          "Athletics",
          "Athletics",
          "Volleyball",
          "Athletics",
          "Athletics",
          "Athletics",
          "Athletics",
          "Athletics",
          "Athletics",
          "Swimming",
          "Swimming",
          "Swimming",
          "Swimming",
          "Swimming",
          "Volleyball",
          "Athletics",
          "Athletics",
          "Athletics",
          "Athletics",
          "Sailing",
          "Sailing",
          "Athletics",
          "Athletics",
          "Athletics",
          "Athletics",
          "Athletics",
          "Athletics",
          "Volleyball",
          "Athletics",
          "Athletics",
          "Athletics",
          "Athletics",
          "Athletics",
          "Athletics",
          "Athletics",
          "Volleyball",
          "Swimming",
          "Swimming",
          "Swimming",
          "Swimming",
          "Swimming",
          "Swimming",
          "Swimming",
          "Swimming",
          "Judo",
          "Sailing",
          "Sailing",
          "Sailing",
          "Sailing",
          "Swimming",
          "Swimming",
          "Athletics",
          "Athletics",
          "Athletics",
          "Volleyball",
          "Athletics",
          "Athletics",
          "Athletics",
          "Athletics",
          "Swimming",
          "Athletics",
          "Athletics",
          "Athletics",
          "Athletics",
          "Athletics",
          "Athletics",
          "Athletics",
          "Athletics",
          "Athletics",
          "Athletics",
          "Athletics",
          "Athletics",
          "Athletics",
          "Athletics",
          "Athletics",
          "Athletics",
          "Judo",
          "Swimming",
          "Swimming",
          "Swimming",
          "Athletics",
          "Athletics",
          "Athletics",
          "Athletics",
          "Athletics",
          "Athletics",
          "Athletics",
          "Athletics",
          "Volleyball",
          "Swimming",
          "Sailing",
          "Sailing",
          "Athletics",
          "Athletics",
          "Volleyball",
          "Sailing",
          "Swimming",
          "Athletics",
          "Volleyball",
          "Volleyball",
          "Volleyball",
          "Athletics",
          "Athletics",
          "Athletics",
          "Athletics",
          "Sailing",
          "Swimming",
          "Swimming",
          "Athletics",
          "Athletics",
          "Athletics",
          "Sailing",
          "Swimming",
          "Swimming",
          "Swimming",
          "Swimming",
          "Swimming",
          "Swimming",
          "Swimming",
          "Swimming",
          "Swimming",
          "Swimming",
          "Swimming",
          "Swimming",
          "Swimming",
          "Swimming",
          "Judo",
          "Judo",
          "Judo",
          "Swimming",
          "Swimming",
          "Sailing",
          "Sailing",
          "Swimming",
          "Swimming",
          "Swimming",
          "Swimming",
          "Swimming",
          "Swimming",
          "Swimming",
          "Swimming",
          "Swimming",
          "Volleyball",
          "Swimming",
          "Swimming",
          "Swimming",
          "Swimming",
          "Swimming",
          "Swimming",
          "Swimming",
          "Swimming",
          "Swimming",
          "Athletics",
          "Sailing",
          "Athletics",
          "Athletics",
          "Athletics",
          "Athletics",
          "Athletics",
          "Swimming",
          "Athletics",
          "Judo",
          "Volleyball",
          "Volleyball",
          "Athletics",
          "Volleyball",
          "Volleyball",
          "Athletics",
          "Sailing",
          "Athletics",
          "Athletics",
          "Athletics",
          "Athletics",
          "Athletics",
          "Swimming",
          "Swimming",
          "Athletics",
          "Athletics",
          "Swimming",
          "Swimming",
          "Swimming",
          "Sailing",
          "Sailing",
          "Sailing",
          "Sailing",
          "Volleyball",
          "Athletics",
          "Athletics",
          "Athletics",
          "Swimming",
          "Swimming",
          "Swimming",
          "Swimming",
          "Swimming",
          "Judo",
          "Athletics",
          "Athletics",
          "Athletics",
          "Athletics",
          "Athletics",
          "Athletics",
          "Judo",
          "Judo",
          "Swimming",
          "Athletics",
          "Volleyball",
          "Sailing",
          "Athletics",
          "Athletics",
          "Athletics",
          "Swimming",
          "Swimming",
          "Sailing",
          "Volleyball",
          "Judo",
          "Judo",
          "Athletics",
          "Judo",
          "Athletics",
          "Judo",
          "Swimming",
          "Swimming",
          "Volleyball",
          "Volleyball",
          "Swimming",
          "Swimming",
          "Sailing",
          "Swimming",
          "Swimming",
          "Swimming",
          "Swimming",
          "Swimming",
          "Swimming",
          "Swimming",
          "Swimming",
          "Athletics",
          "Volleyball",
          "Volleyball",
          "Athletics",
          "Sailing",
          "Swimming",
          "Swimming",
          "Swimming",
          "Swimming",
          "Swimming",
          "Volleyball",
          "Judo",
          "Athletics",
          "Athletics",
          "Athletics",
          "Swimming",
          "Swimming",
          "Swimming",
          "Swimming",
          "Swimming",
          "Swimming",
          "Judo",
          "Swimming",
          "Swimming",
          "Swimming",
          "Swimming",
          "Swimming",
          "Swimming",
          "Swimming",
          "Swimming",
          "Swimming",
          "Swimming",
          "Swimming",
          "Swimming",
          "Swimming",
          "Swimming",
          "Swimming",
          "Swimming",
          "Swimming",
          "Athletics",
          "Athletics",
          "Swimming",
          "Swimming",
          "Swimming",
          "Swimming",
          "Judo",
          "Judo",
          "Swimming",
          "Swimming",
          "Swimming",
          "Swimming",
          "Swimming",
          "Swimming",
          "Swimming",
          "Swimming",
          "Judo",
          "Swimming",
          "Swimming",
          "Swimming",
          "Swimming",
          "Swimming",
          "Swimming",
          "Swimming",
          "Swimming",
          "Swimming",
          "Swimming",
          "Volleyball",
          "Volleyball",
          "Athletics",
          "Athletics",
          "Athletics",
          "Swimming",
          "Swimming",
          "Sailing",
          "Athletics",
          "Swimming",
          "Swimming",
          "Swimming",
          "Swimming",
          "Swimming",
          "Swimming",
          "Volleyball",
          "Volleyball",
          "Volleyball",
          "Athletics",
          "Sailing",
          "Athletics",
          "Swimming",
          "Swimming",
          "Athletics",
          "Judo",
          "Swimming",
          "Swimming",
          "Swimming",
          "Swimming",
          "Swimming",
          "Swimming",
          "Swimming",
          "Swimming",
          "Swimming",
          "Swimming",
          "Judo",
          "Swimming",
          "Swimming",
          "Volleyball",
          "Volleyball",
          "Swimming",
          "Swimming",
          "Swimming",
          "Swimming",
          "Athletics",
          "Volleyball",
          "Volleyball",
          "Volleyball",
          "Volleyball",
          "Swimming",
          "Swimming",
          "Judo",
          "Judo",
          "Athletics",
          "Athletics",
          "Athletics",
          "Athletics",
          "Athletics",
          "Volleyball",
          "Volleyball",
          "Volleyball",
          "Sailing",
          "Athletics",
          "Volleyball",
          "Swimming",
          "Swimming",
          "Swimming",
          "Swimming",
          "Swimming",
          "Volleyball",
          "Swimming",
          "Swimming",
          "Swimming",
          "Swimming",
          "Swimming",
          "Swimming",
          "Swimming",
          "Swimming",
          "Swimming",
          "Swimming",
          "Swimming",
          "Swimming",
          "Swimming",
          "Judo",
          "Judo",
          "Judo",
          "Swimming",
          "Judo",
          "Athletics",
          "Athletics",
          "Athletics",
          "Athletics",
          "Athletics",
          "Athletics",
          "Swimming",
          "Volleyball",
          "Sailing",
          "Sailing",
          "Sailing",
          "Sailing",
          "Judo",
          "Judo",
          "Athletics",
          "Athletics",
          "Athletics",
          "Athletics",
          "Athletics",
          "Volleyball",
          "Volleyball",
          "Swimming",
          "Athletics",
          "Athletics",
          "Athletics",
          "Athletics",
          "Sailing",
          "Judo",
          "Swimming",
          "Volleyball",
          "Swimming",
          "Volleyball",
          "Volleyball",
          "Judo",
          "Swimming",
          "Swimming",
          "Swimming",
          "Swimming",
          "Swimming",
          "Swimming",
          "Swimming",
          "Swimming",
          "Athletics",
          "Swimming",
          "Swimming",
          "Judo",
          "Volleyball",
          "Volleyball",
          "Sailing",
          "Volleyball",
          "Volleyball",
          "Swimming",
          "Swimming",
          "Athletics",
          "Athletics",
          "Athletics",
          "Swimming",
          "Swimming",
          "Swimming",
          "Swimming",
          "Swimming",
          "Swimming",
          "Swimming",
          "Swimming",
          "Swimming",
          "Sailing",
          "Sailing",
          "Sailing",
          "Sailing",
          "Volleyball",
          "Athletics",
          "Athletics",
          "Athletics",
          "Volleyball",
          "Swimming",
          "Swimming",
          "Swimming",
          "Swimming",
          "Athletics",
          "Athletics",
          "Athletics",
          "Athletics",
          "Athletics",
          "Sailing",
          "Sailing",
          "Sailing",
          "Volleyball",
          "Volleyball",
          "Athletics",
          "Athletics",
          "Athletics",
          "Athletics",
          "Athletics",
          "Swimming",
          "Swimming",
          "Swimming",
          "Swimming",
          "Swimming",
          "Swimming",
          "Swimming",
          "Sailing",
          "Athletics",
          "Athletics",
          "Volleyball",
          "Sailing",
          "Athletics",
          "Athletics",
          "Swimming",
          "Swimming",
          "Athletics",
          "Swimming",
          "Swimming",
          "Volleyball",
          "Athletics",
          "Swimming",
          "Swimming",
          "Swimming",
          "Swimming",
          "Swimming",
          "Swimming",
          "Swimming",
          "Swimming",
          "Swimming",
          "Swimming",
          "Athletics",
          "Athletics",
          "Athletics",
          "Athletics",
          "Judo",
          "Judo",
          "Swimming",
          "Swimming",
          "Swimming",
          "Swimming",
          "Judo",
          "Sailing",
          "Sailing",
          "Swimming",
          "Judo",
          "Swimming",
          "Sailing",
          "Swimming",
          "Swimming",
          "Sailing",
          "Swimming",
          "Swimming",
          "Swimming",
          "Swimming",
          "Swimming",
          "Athletics",
          "Judo",
          "Volleyball",
          "Volleyball",
          "Athletics",
          "Volleyball",
          "Judo",
          "Judo",
          "Judo",
          "Judo",
          "Sailing",
          "Judo",
          "Athletics",
          "Athletics",
          "Athletics",
          "Swimming",
          "Athletics",
          "Athletics",
          "Athletics",
          "Swimming",
          "Athletics",
          "Swimming",
          "Swimming",
          "Judo",
          "Swimming",
          "Athletics",
          "Athletics",
          "Athletics",
          "Athletics",
          "Swimming",
          "Swimming",
          "Swimming",
          "Swimming",
          "Swimming",
          "Swimming",
          "Sailing",
          "Sailing",
          "Athletics",
          "Athletics",
          "Volleyball",
          "Volleyball",
          "Sailing",
          "Volleyball",
          "Volleyball",
          "Swimming",
          "Swimming",
          "Swimming",
          "Swimming",
          "Athletics",
          "Athletics",
          "Athletics",
          "Sailing",
          "Sailing",
          "Sailing",
          "Athletics",
          "Athletics",
          "Swimming",
          "Swimming",
          "Swimming",
          "Judo",
          "Swimming",
          "Athletics",
          "Athletics",
          "Athletics",
          "Athletics",
          "Athletics",
          "Athletics",
          "Judo",
          "Swimming",
          "Swimming",
          "Swimming",
          "Swimming",
          "Swimming",
          "Volleyball",
          "Volleyball",
          "Athletics",
          "Swimming",
          "Swimming",
          "Sailing",
          "Volleyball",
          "Sailing",
          "Volleyball",
          "Volleyball",
          "Volleyball",
          "Athletics",
          "Volleyball",
          "Swimming",
          "Judo",
          "Swimming",
          "Swimming",
          "Swimming",
          "Swimming",
          "Swimming",
          "Swimming",
          "Swimming",
          "Athletics",
          "Athletics",
          "Athletics",
          "Judo",
          "Sailing",
          "Sailing",
          "Sailing",
          "Sailing",
          "Volleyball",
          "Volleyball",
          "Athletics"
         ],
         "x0": " ",
         "xaxis": "x",
         "y": [
          194,
          194,
          186,
          186,
          186,
          180,
          180,
          180,
          180,
          186,
          186,
          177,
          177,
          177,
          177,
          177,
          177,
          177,
          177,
          177,
          177,
          183,
          171,
          null,
          198,
          198,
          null,
          172,
          172,
          163,
          180,
          191,
          191,
          191,
          191,
          191,
          191,
          185,
          185,
          185,
          185,
          185,
          185,
          185,
          185,
          188,
          188,
          184,
          184,
          184,
          null,
          189,
          189,
          172,
          185,
          185,
          193,
          172,
          172,
          172,
          187,
          null,
          195,
          195,
          195,
          184,
          184,
          184,
          184,
          184,
          184,
          180,
          180,
          null,
          null,
          187,
          null,
          198,
          198,
          198,
          198,
          187,
          187,
          185,
          174,
          181,
          187,
          187,
          187,
          185,
          185,
          185,
          185,
          185,
          null,
          null,
          null,
          null,
          177,
          177,
          174,
          174,
          174,
          185,
          181,
          180,
          203,
          203,
          203,
          203,
          203,
          203,
          203,
          203,
          203,
          177,
          177,
          173,
          180,
          180,
          180,
          176,
          176,
          188,
          188,
          180,
          180,
          183,
          null,
          null,
          173,
          173,
          180,
          180,
          179,
          null,
          174,
          196,
          183,
          183,
          183,
          185,
          187,
          187,
          187,
          181,
          181,
          184,
          184,
          184,
          184,
          184,
          184,
          184,
          184,
          null,
          183,
          182,
          182,
          182,
          190,
          190,
          163,
          190,
          190,
          190,
          190,
          190,
          195,
          195,
          195,
          180,
          179,
          179,
          179,
          193,
          177,
          189,
          189,
          178,
          178,
          178,
          178,
          196,
          196,
          null,
          null,
          180,
          187,
          187,
          187,
          176,
          170,
          186,
          186,
          186,
          186,
          186,
          185,
          185,
          167,
          185,
          174,
          174,
          174,
          null,
          null,
          178,
          178,
          163,
          187,
          187,
          187,
          187,
          187,
          188,
          179,
          179,
          174,
          174,
          174,
          174,
          174,
          186,
          186,
          185,
          173,
          184,
          null,
          null,
          null,
          null,
          185,
          185,
          185,
          178,
          178,
          160,
          181,
          181,
          178,
          178,
          null,
          null,
          null,
          178,
          178,
          187,
          187,
          187,
          187,
          187,
          187,
          187,
          172,
          172,
          180,
          180,
          186,
          193,
          193,
          193,
          189,
          201,
          175,
          175,
          183,
          183,
          186,
          174,
          174,
          174,
          182,
          182,
          182,
          182,
          182,
          184,
          184,
          175,
          184,
          184,
          182,
          182,
          182,
          182,
          182,
          null,
          null,
          null,
          null,
          176,
          176,
          176,
          175,
          175,
          175,
          175,
          null,
          191,
          191,
          168,
          168,
          166,
          166,
          166,
          166,
          193,
          193,
          193,
          180,
          180,
          180,
          178,
          180,
          180,
          180,
          187,
          null,
          null,
          null,
          182,
          186,
          186,
          190,
          185,
          182,
          170,
          186,
          186,
          186,
          186,
          178,
          198,
          170,
          170,
          170,
          194,
          180,
          180,
          176,
          176,
          176,
          181,
          181,
          181,
          193,
          163,
          181,
          181,
          183,
          183,
          183,
          192,
          183,
          182,
          182,
          182,
          182,
          182,
          182,
          182,
          182,
          163,
          178,
          178,
          178,
          178,
          174,
          174,
          172,
          172,
          187,
          198,
          173,
          null,
          180,
          186,
          null,
          166,
          166,
          166,
          168,
          174,
          174,
          174,
          168,
          168,
          168,
          168,
          175,
          175,
          175,
          175,
          181,
          170,
          null,
          null,
          null,
          null,
          185,
          185,
          188,
          188,
          171,
          171,
          171,
          200,
          180,
          177,
          177,
          183,
          183,
          190,
          null,
          null,
          183,
          180,
          180,
          199,
          173,
          173,
          173,
          173,
          181,
          null,
          null,
          188,
          188,
          175,
          190,
          183,
          183,
          179,
          179,
          179,
          179,
          179,
          179,
          179,
          180,
          180,
          180,
          180,
          180,
          190,
          190,
          190,
          null,
          null,
          175,
          175,
          180,
          182,
          182,
          182,
          182,
          182,
          182,
          182,
          182,
          185,
          186,
          186,
          186,
          186,
          186,
          186,
          187,
          187,
          187,
          182,
          182,
          166,
          166,
          166,
          null,
          null,
          null,
          178,
          163,
          192,
          192,
          168,
          196,
          196,
          185,
          178,
          185,
          181,
          181,
          178,
          178,
          190,
          190,
          175,
          175,
          175,
          175,
          175,
          185,
          185,
          181,
          185,
          198,
          202,
          202,
          202,
          174,
          194,
          194,
          194,
          194,
          176,
          175,
          175,
          175,
          175,
          175,
          null,
          172,
          172,
          null,
          178,
          203,
          165,
          null,
          null,
          null,
          null,
          null,
          182,
          199,
          190,
          190,
          180,
          175,
          192,
          180,
          190,
          190,
          189,
          189,
          null,
          null,
          181,
          null,
          null,
          174,
          174,
          174,
          174,
          174,
          174,
          194,
          186,
          186,
          168,
          187,
          180,
          180,
          180,
          null,
          null,
          193,
          164,
          null,
          null,
          null,
          null,
          null,
          null,
          null,
          null,
          187,
          170,
          188,
          188,
          188,
          188,
          188,
          188,
          188,
          188,
          188,
          188,
          195,
          184,
          184,
          184,
          184,
          184,
          184,
          178,
          178,
          180,
          180,
          180,
          180,
          163,
          163,
          null,
          189,
          181,
          181,
          181,
          181,
          193,
          193,
          174,
          181,
          181,
          181,
          181,
          181,
          181,
          181,
          181,
          194,
          194,
          183,
          183,
          165,
          175,
          178,
          180,
          180,
          179,
          185,
          190,
          190,
          190,
          181,
          181,
          181,
          184,
          184,
          184,
          178,
          null,
          null,
          174,
          174,
          null,
          173,
          null,
          null,
          187,
          187,
          187,
          187,
          187,
          187,
          187,
          187,
          180,
          null,
          null,
          187,
          187,
          null,
          null,
          null,
          178,
          172,
          192,
          192,
          192,
          192,
          189,
          182,
          179,
          186,
          183,
          178,
          178,
          178,
          178,
          196,
          196,
          198,
          185,
          180,
          192,
          175,
          175,
          null,
          null,
          null,
          185,
          null,
          195,
          195,
          195,
          195,
          195,
          195,
          195,
          195,
          187,
          187,
          187,
          187,
          null,
          168,
          168,
          190,
          182,
          183,
          183,
          183,
          184,
          180,
          180,
          null,
          194,
          168,
          168,
          176,
          176,
          180,
          180,
          194,
          194,
          194,
          170,
          170,
          201,
          201,
          null,
          186,
          186,
          185,
          185,
          187,
          174,
          185,
          187,
          178,
          198,
          198,
          176,
          187,
          187,
          187,
          187,
          187,
          187,
          187,
          187,
          190,
          175,
          175,
          172,
          197,
          197,
          172,
          195,
          185,
          185,
          185,
          null,
          null,
          null,
          187,
          187,
          187,
          158,
          158,
          158,
          158,
          158,
          158,
          178,
          178,
          175,
          175,
          181,
          182,
          173,
          173,
          182,
          185,
          185,
          185,
          185,
          177,
          null,
          null,
          null,
          178,
          177,
          177,
          175,
          190,
          190,
          null,
          null,
          190,
          190,
          190,
          181,
          181,
          181,
          181,
          185,
          185,
          185,
          180,
          192,
          172,
          null,
          null,
          181,
          181,
          194,
          194,
          170,
          null,
          null,
          185,
          187,
          181,
          181,
          181,
          181,
          181,
          181,
          181,
          181,
          181,
          181,
          180,
          180,
          173,
          192,
          189,
          189,
          182,
          176,
          176,
          176,
          160,
          166,
          166,
          189,
          182,
          184,
          180,
          190,
          190,
          188,
          193,
          193,
          193,
          193,
          193,
          176,
          197,
          186,
          197,
          null,
          184,
          160,
          160,
          166,
          166,
          185,
          174,
          181,
          183,
          183,
          196,
          188,
          182,
          182,
          null,
          190,
          194,
          194,
          187,
          184,
          168,
          168,
          168,
          189,
          193,
          193,
          193,
          null,
          null,
          null,
          187,
          187,
          184,
          184,
          191,
          191,
          168,
          200,
          200,
          null,
          192,
          192,
          192,
          185,
          185,
          180,
          187,
          187,
          187,
          196,
          196,
          175,
          175,
          175,
          null,
          176,
          188,
          188,
          188,
          188,
          171,
          171,
          164,
          null,
          null,
          null,
          null,
          null,
          187,
          187,
          180,
          185,
          185,
          170,
          191,
          180,
          185,
          185,
          185,
          180,
          193,
          186,
          null,
          187,
          187,
          187,
          187,
          184,
          184,
          184,
          null,
          null,
          null,
          180,
          191,
          191,
          190,
          190,
          177,
          186,
          184
         ],
         "y0": " ",
         "yaxis": "y"
        },
        {
         "alignmentgroup": "True",
         "hovertemplate": "Medal=MEDALS<br>Sport=%{x}<br>Height=%{y}<extra></extra>",
         "legendgroup": "MEDALS",
         "marker": {
          "color": "#EF553B"
         },
         "name": "MEDALS",
         "notched": false,
         "offsetgroup": "MEDALS",
         "orientation": "v",
         "showlegend": true,
         "type": "box",
         "x": [
          "Sailing",
          "Volleyball",
          "Volleyball",
          "Volleyball",
          "Volleyball",
          "Volleyball",
          "Volleyball",
          "Volleyball",
          "Volleyball",
          "Volleyball",
          "Sailing",
          "Swimming",
          "Swimming",
          "Swimming",
          "Swimming",
          "Volleyball",
          "Athletics",
          "Volleyball",
          "Volleyball",
          "Volleyball",
          "Judo",
          "Judo",
          "Judo",
          "Judo",
          "Volleyball",
          "Judo",
          "Swimming",
          "Swimming",
          "Swimming",
          "Sailing",
          "Sailing",
          "Sailing",
          "Athletics",
          "Athletics",
          "Athletics",
          "Athletics",
          "Athletics",
          "Athletics",
          "Athletics",
          "Athletics",
          "Athletics",
          "Judo",
          "Judo",
          "Athletics",
          "Athletics",
          "Volleyball",
          "Volleyball",
          "Volleyball",
          "Athletics",
          "Athletics",
          "Athletics",
          "Athletics",
          "Athletics",
          "Athletics",
          "Swimming",
          "Volleyball",
          "Swimming",
          "Volleyball",
          "Volleyball",
          "Volleyball",
          "Volleyball",
          "Volleyball",
          "Volleyball",
          "Sailing",
          "Volleyball",
          "Sailing",
          "Sailing",
          "Sailing",
          "Sailing",
          "Sailing",
          "Volleyball",
          "Volleyball",
          "Volleyball",
          "Volleyball",
          "Volleyball",
          "Sailing",
          "Sailing",
          "Sailing",
          "Sailing",
          "Sailing",
          "Sailing",
          "Sailing",
          "Volleyball",
          "Judo",
          "Judo",
          "Judo",
          "Volleyball",
          "Volleyball",
          "Volleyball",
          "Volleyball",
          "Judo",
          "Judo",
          "Volleyball",
          "Swimming",
          "Volleyball",
          "Judo",
          "Swimming",
          "Volleyball",
          "Volleyball",
          "Swimming",
          "Volleyball",
          "Volleyball",
          "Swimming",
          "Volleyball",
          "Volleyball",
          "Judo",
          "Judo",
          "Volleyball",
          "Athletics",
          "Volleyball",
          "Volleyball",
          "Volleyball",
          "Volleyball",
          "Volleyball",
          "Volleyball",
          "Volleyball",
          "Swimming",
          "Judo",
          "Volleyball",
          "Volleyball",
          "Sailing",
          "Sailing",
          "Swimming",
          "Sailing",
          "Sailing",
          "Swimming",
          "Athletics",
          "Athletics",
          "Volleyball",
          "Athletics",
          "Athletics",
          "Volleyball",
          "Volleyball",
          "Volleyball",
          "Volleyball",
          "Volleyball",
          "Volleyball",
          "Volleyball",
          "Volleyball",
          "Volleyball",
          "Sailing",
          "Sailing",
          "Sailing",
          "Sailing",
          "Sailing",
          "Swimming",
          "Swimming",
          "Sailing",
          "Volleyball",
          "Swimming",
          "Sailing",
          "Athletics",
          "Volleyball",
          "Volleyball",
          "Volleyball",
          "Volleyball",
          "Athletics",
          "Judo",
          "Volleyball",
          "Volleyball",
          "Sailing",
          "Volleyball",
          "Volleyball"
         ],
         "x0": " ",
         "xaxis": "x",
         "y": [
          180,
          194,
          198,
          198,
          190,
          190,
          186,
          193,
          187,
          185,
          184,
          203,
          203,
          203,
          203,
          199,
          183,
          190,
          190,
          190,
          180,
          180,
          179,
          null,
          196,
          183,
          195,
          195,
          195,
          179,
          179,
          177,
          187,
          187,
          186,
          178,
          178,
          187,
          187,
          174,
          186,
          203,
          203,
          187,
          187,
          201,
          201,
          201,
          182,
          168,
          166,
          166,
          186,
          186,
          182,
          198,
          184,
          200,
          205,
          184,
          184,
          184,
          184,
          180,
          199,
          181,
          181,
          181,
          190,
          182,
          192,
          192,
          192,
          196,
          196,
          185,
          185,
          185,
          185,
          185,
          185,
          185,
          207,
          176,
          176,
          172,
          203,
          203,
          199,
          199,
          175,
          180,
          195,
          190,
          192,
          164,
          188,
          195,
          196,
          181,
          183,
          195,
          181,
          184,
          184,
          180,
          180,
          187,
          172,
          190,
          190,
          196,
          195,
          195,
          198,
          212,
          null,
          168,
          194,
          201,
          187,
          177,
          187,
          185,
          185,
          158,
          182,
          182,
          190,
          190,
          190,
          191,
          191,
          205,
          205,
          205,
          194,
          209,
          209,
          200,
          188,
          188,
          188,
          188,
          188,
          193,
          193,
          170,
          203,
          194,
          173,
          168,
          199,
          209,
          194,
          200,
          188,
          170,
          198,
          198,
          186,
          185,
          193
         ],
         "y0": " ",
         "yaxis": "y"
        }
       ],
       "layout": {
        "boxmode": "group",
        "legend": {
         "title": {
          "text": "Performance"
         },
         "tracegroupgap": 0
        },
        "template": {
         "data": {
          "bar": [
           {
            "error_x": {
             "color": "#2a3f5f"
            },
            "error_y": {
             "color": "#2a3f5f"
            },
            "marker": {
             "line": {
              "color": "#E5ECF6",
              "width": 0.5
             },
             "pattern": {
              "fillmode": "overlay",
              "size": 10,
              "solidity": 0.2
             }
            },
            "type": "bar"
           }
          ],
          "barpolar": [
           {
            "marker": {
             "line": {
              "color": "#E5ECF6",
              "width": 0.5
             },
             "pattern": {
              "fillmode": "overlay",
              "size": 10,
              "solidity": 0.2
             }
            },
            "type": "barpolar"
           }
          ],
          "carpet": [
           {
            "aaxis": {
             "endlinecolor": "#2a3f5f",
             "gridcolor": "white",
             "linecolor": "white",
             "minorgridcolor": "white",
             "startlinecolor": "#2a3f5f"
            },
            "baxis": {
             "endlinecolor": "#2a3f5f",
             "gridcolor": "white",
             "linecolor": "white",
             "minorgridcolor": "white",
             "startlinecolor": "#2a3f5f"
            },
            "type": "carpet"
           }
          ],
          "choropleth": [
           {
            "colorbar": {
             "outlinewidth": 0,
             "ticks": ""
            },
            "type": "choropleth"
           }
          ],
          "contour": [
           {
            "colorbar": {
             "outlinewidth": 0,
             "ticks": ""
            },
            "colorscale": [
             [
              0,
              "#0d0887"
             ],
             [
              0.1111111111111111,
              "#46039f"
             ],
             [
              0.2222222222222222,
              "#7201a8"
             ],
             [
              0.3333333333333333,
              "#9c179e"
             ],
             [
              0.4444444444444444,
              "#bd3786"
             ],
             [
              0.5555555555555556,
              "#d8576b"
             ],
             [
              0.6666666666666666,
              "#ed7953"
             ],
             [
              0.7777777777777778,
              "#fb9f3a"
             ],
             [
              0.8888888888888888,
              "#fdca26"
             ],
             [
              1,
              "#f0f921"
             ]
            ],
            "type": "contour"
           }
          ],
          "contourcarpet": [
           {
            "colorbar": {
             "outlinewidth": 0,
             "ticks": ""
            },
            "type": "contourcarpet"
           }
          ],
          "heatmap": [
           {
            "colorbar": {
             "outlinewidth": 0,
             "ticks": ""
            },
            "colorscale": [
             [
              0,
              "#0d0887"
             ],
             [
              0.1111111111111111,
              "#46039f"
             ],
             [
              0.2222222222222222,
              "#7201a8"
             ],
             [
              0.3333333333333333,
              "#9c179e"
             ],
             [
              0.4444444444444444,
              "#bd3786"
             ],
             [
              0.5555555555555556,
              "#d8576b"
             ],
             [
              0.6666666666666666,
              "#ed7953"
             ],
             [
              0.7777777777777778,
              "#fb9f3a"
             ],
             [
              0.8888888888888888,
              "#fdca26"
             ],
             [
              1,
              "#f0f921"
             ]
            ],
            "type": "heatmap"
           }
          ],
          "heatmapgl": [
           {
            "colorbar": {
             "outlinewidth": 0,
             "ticks": ""
            },
            "colorscale": [
             [
              0,
              "#0d0887"
             ],
             [
              0.1111111111111111,
              "#46039f"
             ],
             [
              0.2222222222222222,
              "#7201a8"
             ],
             [
              0.3333333333333333,
              "#9c179e"
             ],
             [
              0.4444444444444444,
              "#bd3786"
             ],
             [
              0.5555555555555556,
              "#d8576b"
             ],
             [
              0.6666666666666666,
              "#ed7953"
             ],
             [
              0.7777777777777778,
              "#fb9f3a"
             ],
             [
              0.8888888888888888,
              "#fdca26"
             ],
             [
              1,
              "#f0f921"
             ]
            ],
            "type": "heatmapgl"
           }
          ],
          "histogram": [
           {
            "marker": {
             "pattern": {
              "fillmode": "overlay",
              "size": 10,
              "solidity": 0.2
             }
            },
            "type": "histogram"
           }
          ],
          "histogram2d": [
           {
            "colorbar": {
             "outlinewidth": 0,
             "ticks": ""
            },
            "colorscale": [
             [
              0,
              "#0d0887"
             ],
             [
              0.1111111111111111,
              "#46039f"
             ],
             [
              0.2222222222222222,
              "#7201a8"
             ],
             [
              0.3333333333333333,
              "#9c179e"
             ],
             [
              0.4444444444444444,
              "#bd3786"
             ],
             [
              0.5555555555555556,
              "#d8576b"
             ],
             [
              0.6666666666666666,
              "#ed7953"
             ],
             [
              0.7777777777777778,
              "#fb9f3a"
             ],
             [
              0.8888888888888888,
              "#fdca26"
             ],
             [
              1,
              "#f0f921"
             ]
            ],
            "type": "histogram2d"
           }
          ],
          "histogram2dcontour": [
           {
            "colorbar": {
             "outlinewidth": 0,
             "ticks": ""
            },
            "colorscale": [
             [
              0,
              "#0d0887"
             ],
             [
              0.1111111111111111,
              "#46039f"
             ],
             [
              0.2222222222222222,
              "#7201a8"
             ],
             [
              0.3333333333333333,
              "#9c179e"
             ],
             [
              0.4444444444444444,
              "#bd3786"
             ],
             [
              0.5555555555555556,
              "#d8576b"
             ],
             [
              0.6666666666666666,
              "#ed7953"
             ],
             [
              0.7777777777777778,
              "#fb9f3a"
             ],
             [
              0.8888888888888888,
              "#fdca26"
             ],
             [
              1,
              "#f0f921"
             ]
            ],
            "type": "histogram2dcontour"
           }
          ],
          "mesh3d": [
           {
            "colorbar": {
             "outlinewidth": 0,
             "ticks": ""
            },
            "type": "mesh3d"
           }
          ],
          "parcoords": [
           {
            "line": {
             "colorbar": {
              "outlinewidth": 0,
              "ticks": ""
             }
            },
            "type": "parcoords"
           }
          ],
          "pie": [
           {
            "automargin": true,
            "type": "pie"
           }
          ],
          "scatter": [
           {
            "marker": {
             "colorbar": {
              "outlinewidth": 0,
              "ticks": ""
             }
            },
            "type": "scatter"
           }
          ],
          "scatter3d": [
           {
            "line": {
             "colorbar": {
              "outlinewidth": 0,
              "ticks": ""
             }
            },
            "marker": {
             "colorbar": {
              "outlinewidth": 0,
              "ticks": ""
             }
            },
            "type": "scatter3d"
           }
          ],
          "scattercarpet": [
           {
            "marker": {
             "colorbar": {
              "outlinewidth": 0,
              "ticks": ""
             }
            },
            "type": "scattercarpet"
           }
          ],
          "scattergeo": [
           {
            "marker": {
             "colorbar": {
              "outlinewidth": 0,
              "ticks": ""
             }
            },
            "type": "scattergeo"
           }
          ],
          "scattergl": [
           {
            "marker": {
             "colorbar": {
              "outlinewidth": 0,
              "ticks": ""
             }
            },
            "type": "scattergl"
           }
          ],
          "scattermapbox": [
           {
            "marker": {
             "colorbar": {
              "outlinewidth": 0,
              "ticks": ""
             }
            },
            "type": "scattermapbox"
           }
          ],
          "scatterpolar": [
           {
            "marker": {
             "colorbar": {
              "outlinewidth": 0,
              "ticks": ""
             }
            },
            "type": "scatterpolar"
           }
          ],
          "scatterpolargl": [
           {
            "marker": {
             "colorbar": {
              "outlinewidth": 0,
              "ticks": ""
             }
            },
            "type": "scatterpolargl"
           }
          ],
          "scatterternary": [
           {
            "marker": {
             "colorbar": {
              "outlinewidth": 0,
              "ticks": ""
             }
            },
            "type": "scatterternary"
           }
          ],
          "surface": [
           {
            "colorbar": {
             "outlinewidth": 0,
             "ticks": ""
            },
            "colorscale": [
             [
              0,
              "#0d0887"
             ],
             [
              0.1111111111111111,
              "#46039f"
             ],
             [
              0.2222222222222222,
              "#7201a8"
             ],
             [
              0.3333333333333333,
              "#9c179e"
             ],
             [
              0.4444444444444444,
              "#bd3786"
             ],
             [
              0.5555555555555556,
              "#d8576b"
             ],
             [
              0.6666666666666666,
              "#ed7953"
             ],
             [
              0.7777777777777778,
              "#fb9f3a"
             ],
             [
              0.8888888888888888,
              "#fdca26"
             ],
             [
              1,
              "#f0f921"
             ]
            ],
            "type": "surface"
           }
          ],
          "table": [
           {
            "cells": {
             "fill": {
              "color": "#EBF0F8"
             },
             "line": {
              "color": "white"
             }
            },
            "header": {
             "fill": {
              "color": "#C8D4E3"
             },
             "line": {
              "color": "white"
             }
            },
            "type": "table"
           }
          ]
         },
         "layout": {
          "annotationdefaults": {
           "arrowcolor": "#2a3f5f",
           "arrowhead": 0,
           "arrowwidth": 1
          },
          "autotypenumbers": "strict",
          "coloraxis": {
           "colorbar": {
            "outlinewidth": 0,
            "ticks": ""
           }
          },
          "colorscale": {
           "diverging": [
            [
             0,
             "#8e0152"
            ],
            [
             0.1,
             "#c51b7d"
            ],
            [
             0.2,
             "#de77ae"
            ],
            [
             0.3,
             "#f1b6da"
            ],
            [
             0.4,
             "#fde0ef"
            ],
            [
             0.5,
             "#f7f7f7"
            ],
            [
             0.6,
             "#e6f5d0"
            ],
            [
             0.7,
             "#b8e186"
            ],
            [
             0.8,
             "#7fbc41"
            ],
            [
             0.9,
             "#4d9221"
            ],
            [
             1,
             "#276419"
            ]
           ],
           "sequential": [
            [
             0,
             "#0d0887"
            ],
            [
             0.1111111111111111,
             "#46039f"
            ],
            [
             0.2222222222222222,
             "#7201a8"
            ],
            [
             0.3333333333333333,
             "#9c179e"
            ],
            [
             0.4444444444444444,
             "#bd3786"
            ],
            [
             0.5555555555555556,
             "#d8576b"
            ],
            [
             0.6666666666666666,
             "#ed7953"
            ],
            [
             0.7777777777777778,
             "#fb9f3a"
            ],
            [
             0.8888888888888888,
             "#fdca26"
            ],
            [
             1,
             "#f0f921"
            ]
           ],
           "sequentialminus": [
            [
             0,
             "#0d0887"
            ],
            [
             0.1111111111111111,
             "#46039f"
            ],
            [
             0.2222222222222222,
             "#7201a8"
            ],
            [
             0.3333333333333333,
             "#9c179e"
            ],
            [
             0.4444444444444444,
             "#bd3786"
            ],
            [
             0.5555555555555556,
             "#d8576b"
            ],
            [
             0.6666666666666666,
             "#ed7953"
            ],
            [
             0.7777777777777778,
             "#fb9f3a"
            ],
            [
             0.8888888888888888,
             "#fdca26"
            ],
            [
             1,
             "#f0f921"
            ]
           ]
          },
          "colorway": [
           "#636efa",
           "#EF553B",
           "#00cc96",
           "#ab63fa",
           "#FFA15A",
           "#19d3f3",
           "#FF6692",
           "#B6E880",
           "#FF97FF",
           "#FECB52"
          ],
          "font": {
           "color": "#2a3f5f"
          },
          "geo": {
           "bgcolor": "white",
           "lakecolor": "white",
           "landcolor": "#E5ECF6",
           "showlakes": true,
           "showland": true,
           "subunitcolor": "white"
          },
          "hoverlabel": {
           "align": "left"
          },
          "hovermode": "closest",
          "mapbox": {
           "style": "light"
          },
          "paper_bgcolor": "white",
          "plot_bgcolor": "#E5ECF6",
          "polar": {
           "angularaxis": {
            "gridcolor": "white",
            "linecolor": "white",
            "ticks": ""
           },
           "bgcolor": "#E5ECF6",
           "radialaxis": {
            "gridcolor": "white",
            "linecolor": "white",
            "ticks": ""
           }
          },
          "scene": {
           "xaxis": {
            "backgroundcolor": "#E5ECF6",
            "gridcolor": "white",
            "gridwidth": 2,
            "linecolor": "white",
            "showbackground": true,
            "ticks": "",
            "zerolinecolor": "white"
           },
           "yaxis": {
            "backgroundcolor": "#E5ECF6",
            "gridcolor": "white",
            "gridwidth": 2,
            "linecolor": "white",
            "showbackground": true,
            "ticks": "",
            "zerolinecolor": "white"
           },
           "zaxis": {
            "backgroundcolor": "#E5ECF6",
            "gridcolor": "white",
            "gridwidth": 2,
            "linecolor": "white",
            "showbackground": true,
            "ticks": "",
            "zerolinecolor": "white"
           }
          },
          "shapedefaults": {
           "line": {
            "color": "#2a3f5f"
           }
          },
          "ternary": {
           "aaxis": {
            "gridcolor": "white",
            "linecolor": "white",
            "ticks": ""
           },
           "baxis": {
            "gridcolor": "white",
            "linecolor": "white",
            "ticks": ""
           },
           "bgcolor": "#E5ECF6",
           "caxis": {
            "gridcolor": "white",
            "linecolor": "white",
            "ticks": ""
           }
          },
          "title": {
           "x": 0.05
          },
          "xaxis": {
           "automargin": true,
           "gridcolor": "white",
           "linecolor": "white",
           "ticks": "",
           "title": {
            "standoff": 15
           },
           "zerolinecolor": "white",
           "zerolinewidth": 2
          },
          "yaxis": {
           "automargin": true,
           "gridcolor": "white",
           "linecolor": "white",
           "ticks": "",
           "title": {
            "standoff": 15
           },
           "zerolinecolor": "white",
           "zerolinewidth": 2
          }
         }
        },
        "title": {
         "text": "Performance x Height (M)"
        },
        "xaxis": {
         "anchor": "y",
         "domain": [
          0,
          1
         ],
         "title": {
          "text": "Medals"
         }
        },
        "yaxis": {
         "anchor": "x",
         "domain": [
          0,
          1
         ],
         "title": {
          "text": "Height"
         }
        }
       }
      },
      "text/html": [
       "<div>                            <div id=\"49367ebf-118a-478e-9107-5d63505cff6b\" class=\"plotly-graph-div\" style=\"height:525px; width:100%;\"></div>            <script type=\"text/javascript\">                require([\"plotly\"], function(Plotly) {                    window.PLOTLYENV=window.PLOTLYENV || {};                                    if (document.getElementById(\"49367ebf-118a-478e-9107-5d63505cff6b\")) {                    Plotly.newPlot(                        \"49367ebf-118a-478e-9107-5d63505cff6b\",                        [{\"alignmentgroup\":\"True\",\"hovertemplate\":\"Medal=NO_MEDALS<br>Sport=%{x}<br>Height=%{y}<extra></extra>\",\"legendgroup\":\"NO_MEDALS\",\"marker\":{\"color\":\"#636efa\"},\"name\":\"NO_MEDALS\",\"notched\":false,\"offsetgroup\":\"NO_MEDALS\",\"orientation\":\"v\",\"showlegend\":true,\"x\":[\"Volleyball\",\"Volleyball\",\"Sailing\",\"Sailing\",\"Sailing\",\"Sailing\",\"Sailing\",\"Sailing\",\"Sailing\",\"Swimming\",\"Swimming\",\"Swimming\",\"Swimming\",\"Swimming\",\"Swimming\",\"Swimming\",\"Swimming\",\"Swimming\",\"Swimming\",\"Swimming\",\"Swimming\",\"Athletics\",\"Sailing\",\"Swimming\",\"Volleyball\",\"Volleyball\",\"Swimming\",\"Athletics\",\"Athletics\",\"Athletics\",\"Judo\",\"Swimming\",\"Swimming\",\"Swimming\",\"Swimming\",\"Swimming\",\"Swimming\",\"Swimming\",\"Swimming\",\"Swimming\",\"Swimming\",\"Swimming\",\"Swimming\",\"Swimming\",\"Swimming\",\"Athletics\",\"Athletics\",\"Sailing\",\"Sailing\",\"Sailing\",\"Swimming\",\"Volleyball\",\"Sailing\",\"Sailing\",\"Swimming\",\"Swimming\",\"Volleyball\",\"Athletics\",\"Athletics\",\"Athletics\",\"Athletics\",\"Athletics\",\"Swimming\",\"Swimming\",\"Swimming\",\"Athletics\",\"Athletics\",\"Athletics\",\"Athletics\",\"Athletics\",\"Athletics\",\"Volleyball\",\"Volleyball\",\"Swimming\",\"Swimming\",\"Swimming\",\"Sailing\",\"Sailing\",\"Sailing\",\"Sailing\",\"Sailing\",\"Volleyball\",\"Volleyball\",\"Volleyball\",\"Athletics\",\"Sailing\",\"Sailing\",\"Sailing\",\"Sailing\",\"Sailing\",\"Sailing\",\"Sailing\",\"Sailing\",\"Sailing\",\"Swimming\",\"Swimming\",\"Swimming\",\"Swimming\",\"Swimming\",\"Swimming\",\"Athletics\",\"Athletics\",\"Athletics\",\"Athletics\",\"Athletics\",\"Sailing\",\"Swimming\",\"Swimming\",\"Swimming\",\"Swimming\",\"Swimming\",\"Swimming\",\"Swimming\",\"Swimming\",\"Swimming\",\"Volleyball\",\"Volleyball\",\"Athletics\",\"Sailing\",\"Sailing\",\"Sailing\",\"Sailing\",\"Sailing\",\"Sailing\",\"Sailing\",\"Sailing\",\"Athletics\",\"Judo\",\"Athletics\",\"Swimming\",\"Athletics\",\"Athletics\",\"Judo\",\"Judo\",\"Judo\",\"Athletics\",\"Judo\",\"Volleyball\",\"Judo\",\"Judo\",\"Judo\",\"Athletics\",\"Swimming\",\"Swimming\",\"Swimming\",\"Swimming\",\"Swimming\",\"Swimming\",\"Swimming\",\"Swimming\",\"Swimming\",\"Swimming\",\"Swimming\",\"Swimming\",\"Swimming\",\"Judo\",\"Volleyball\",\"Athletics\",\"Swimming\",\"Swimming\",\"Athletics\",\"Athletics\",\"Judo\",\"Swimming\",\"Swimming\",\"Swimming\",\"Swimming\",\"Swimming\",\"Athletics\",\"Swimming\",\"Swimming\",\"Athletics\",\"Sailing\",\"Sailing\",\"Sailing\",\"Swimming\",\"Sailing\",\"Judo\",\"Judo\",\"Athletics\",\"Athletics\",\"Athletics\",\"Athletics\",\"Swimming\",\"Swimming\",\"Athletics\",\"Athletics\",\"Sailing\",\"Athletics\",\"Athletics\",\"Athletics\",\"Judo\",\"Judo\",\"Athletics\",\"Athletics\",\"Athletics\",\"Athletics\",\"Athletics\",\"Volleyball\",\"Volleyball\",\"Athletics\",\"Athletics\",\"Sailing\",\"Sailing\",\"Sailing\",\"Swimming\",\"Swimming\",\"Athletics\",\"Athletics\",\"Athletics\",\"Athletics\",\"Athletics\",\"Athletics\",\"Athletics\",\"Athletics\",\"Athletics\",\"Athletics\",\"Athletics\",\"Athletics\",\"Athletics\",\"Athletics\",\"Athletics\",\"Athletics\",\"Athletics\",\"Athletics\",\"Athletics\",\"Athletics\",\"Athletics\",\"Athletics\",\"Athletics\",\"Athletics\",\"Athletics\",\"Athletics\",\"Athletics\",\"Athletics\",\"Athletics\",\"Athletics\",\"Athletics\",\"Athletics\",\"Athletics\",\"Athletics\",\"Athletics\",\"Athletics\",\"Swimming\",\"Swimming\",\"Athletics\",\"Athletics\",\"Athletics\",\"Athletics\",\"Athletics\",\"Athletics\",\"Athletics\",\"Athletics\",\"Athletics\",\"Athletics\",\"Athletics\",\"Athletics\",\"Athletics\",\"Athletics\",\"Athletics\",\"Athletics\",\"Athletics\",\"Volleyball\",\"Volleyball\",\"Athletics\",\"Athletics\",\"Swimming\",\"Swimming\",\"Athletics\",\"Athletics\",\"Athletics\",\"Athletics\",\"Athletics\",\"Athletics\",\"Athletics\",\"Athletics\",\"Athletics\",\"Athletics\",\"Athletics\",\"Sailing\",\"Volleyball\",\"Volleyball\",\"Athletics\",\"Athletics\",\"Athletics\",\"Athletics\",\"Athletics\",\"Athletics\",\"Athletics\",\"Athletics\",\"Athletics\",\"Athletics\",\"Athletics\",\"Athletics\",\"Swimming\",\"Swimming\",\"Swimming\",\"Swimming\",\"Athletics\",\"Athletics\",\"Athletics\",\"Athletics\",\"Athletics\",\"Athletics\",\"Athletics\",\"Athletics\",\"Athletics\",\"Swimming\",\"Swimming\",\"Swimming\",\"Athletics\",\"Athletics\",\"Athletics\",\"Athletics\",\"Athletics\",\"Athletics\",\"Athletics\",\"Volleyball\",\"Athletics\",\"Athletics\",\"Athletics\",\"Volleyball\",\"Athletics\",\"Athletics\",\"Athletics\",\"Athletics\",\"Athletics\",\"Athletics\",\"Swimming\",\"Swimming\",\"Swimming\",\"Swimming\",\"Swimming\",\"Volleyball\",\"Athletics\",\"Athletics\",\"Athletics\",\"Athletics\",\"Sailing\",\"Sailing\",\"Athletics\",\"Athletics\",\"Athletics\",\"Athletics\",\"Athletics\",\"Athletics\",\"Volleyball\",\"Athletics\",\"Athletics\",\"Athletics\",\"Athletics\",\"Athletics\",\"Athletics\",\"Athletics\",\"Volleyball\",\"Swimming\",\"Swimming\",\"Swimming\",\"Swimming\",\"Swimming\",\"Swimming\",\"Swimming\",\"Swimming\",\"Judo\",\"Sailing\",\"Sailing\",\"Sailing\",\"Sailing\",\"Swimming\",\"Swimming\",\"Athletics\",\"Athletics\",\"Athletics\",\"Volleyball\",\"Athletics\",\"Athletics\",\"Athletics\",\"Athletics\",\"Swimming\",\"Athletics\",\"Athletics\",\"Athletics\",\"Athletics\",\"Athletics\",\"Athletics\",\"Athletics\",\"Athletics\",\"Athletics\",\"Athletics\",\"Athletics\",\"Athletics\",\"Athletics\",\"Athletics\",\"Athletics\",\"Athletics\",\"Judo\",\"Swimming\",\"Swimming\",\"Swimming\",\"Athletics\",\"Athletics\",\"Athletics\",\"Athletics\",\"Athletics\",\"Athletics\",\"Athletics\",\"Athletics\",\"Volleyball\",\"Swimming\",\"Sailing\",\"Sailing\",\"Athletics\",\"Athletics\",\"Volleyball\",\"Sailing\",\"Swimming\",\"Athletics\",\"Volleyball\",\"Volleyball\",\"Volleyball\",\"Athletics\",\"Athletics\",\"Athletics\",\"Athletics\",\"Sailing\",\"Swimming\",\"Swimming\",\"Athletics\",\"Athletics\",\"Athletics\",\"Sailing\",\"Swimming\",\"Swimming\",\"Swimming\",\"Swimming\",\"Swimming\",\"Swimming\",\"Swimming\",\"Swimming\",\"Swimming\",\"Swimming\",\"Swimming\",\"Swimming\",\"Swimming\",\"Swimming\",\"Judo\",\"Judo\",\"Judo\",\"Swimming\",\"Swimming\",\"Sailing\",\"Sailing\",\"Swimming\",\"Swimming\",\"Swimming\",\"Swimming\",\"Swimming\",\"Swimming\",\"Swimming\",\"Swimming\",\"Swimming\",\"Volleyball\",\"Swimming\",\"Swimming\",\"Swimming\",\"Swimming\",\"Swimming\",\"Swimming\",\"Swimming\",\"Swimming\",\"Swimming\",\"Athletics\",\"Sailing\",\"Athletics\",\"Athletics\",\"Athletics\",\"Athletics\",\"Athletics\",\"Swimming\",\"Athletics\",\"Judo\",\"Volleyball\",\"Volleyball\",\"Athletics\",\"Volleyball\",\"Volleyball\",\"Athletics\",\"Sailing\",\"Athletics\",\"Athletics\",\"Athletics\",\"Athletics\",\"Athletics\",\"Swimming\",\"Swimming\",\"Athletics\",\"Athletics\",\"Swimming\",\"Swimming\",\"Swimming\",\"Sailing\",\"Sailing\",\"Sailing\",\"Sailing\",\"Volleyball\",\"Athletics\",\"Athletics\",\"Athletics\",\"Swimming\",\"Swimming\",\"Swimming\",\"Swimming\",\"Swimming\",\"Judo\",\"Athletics\",\"Athletics\",\"Athletics\",\"Athletics\",\"Athletics\",\"Athletics\",\"Judo\",\"Judo\",\"Swimming\",\"Athletics\",\"Volleyball\",\"Sailing\",\"Athletics\",\"Athletics\",\"Athletics\",\"Swimming\",\"Swimming\",\"Sailing\",\"Volleyball\",\"Judo\",\"Judo\",\"Athletics\",\"Judo\",\"Athletics\",\"Judo\",\"Swimming\",\"Swimming\",\"Volleyball\",\"Volleyball\",\"Swimming\",\"Swimming\",\"Sailing\",\"Swimming\",\"Swimming\",\"Swimming\",\"Swimming\",\"Swimming\",\"Swimming\",\"Swimming\",\"Swimming\",\"Athletics\",\"Volleyball\",\"Volleyball\",\"Athletics\",\"Sailing\",\"Swimming\",\"Swimming\",\"Swimming\",\"Swimming\",\"Swimming\",\"Volleyball\",\"Judo\",\"Athletics\",\"Athletics\",\"Athletics\",\"Swimming\",\"Swimming\",\"Swimming\",\"Swimming\",\"Swimming\",\"Swimming\",\"Judo\",\"Swimming\",\"Swimming\",\"Swimming\",\"Swimming\",\"Swimming\",\"Swimming\",\"Swimming\",\"Swimming\",\"Swimming\",\"Swimming\",\"Swimming\",\"Swimming\",\"Swimming\",\"Swimming\",\"Swimming\",\"Swimming\",\"Swimming\",\"Athletics\",\"Athletics\",\"Swimming\",\"Swimming\",\"Swimming\",\"Swimming\",\"Judo\",\"Judo\",\"Swimming\",\"Swimming\",\"Swimming\",\"Swimming\",\"Swimming\",\"Swimming\",\"Swimming\",\"Swimming\",\"Judo\",\"Swimming\",\"Swimming\",\"Swimming\",\"Swimming\",\"Swimming\",\"Swimming\",\"Swimming\",\"Swimming\",\"Swimming\",\"Swimming\",\"Volleyball\",\"Volleyball\",\"Athletics\",\"Athletics\",\"Athletics\",\"Swimming\",\"Swimming\",\"Sailing\",\"Athletics\",\"Swimming\",\"Swimming\",\"Swimming\",\"Swimming\",\"Swimming\",\"Swimming\",\"Volleyball\",\"Volleyball\",\"Volleyball\",\"Athletics\",\"Sailing\",\"Athletics\",\"Swimming\",\"Swimming\",\"Athletics\",\"Judo\",\"Swimming\",\"Swimming\",\"Swimming\",\"Swimming\",\"Swimming\",\"Swimming\",\"Swimming\",\"Swimming\",\"Swimming\",\"Swimming\",\"Judo\",\"Swimming\",\"Swimming\",\"Volleyball\",\"Volleyball\",\"Swimming\",\"Swimming\",\"Swimming\",\"Swimming\",\"Athletics\",\"Volleyball\",\"Volleyball\",\"Volleyball\",\"Volleyball\",\"Swimming\",\"Swimming\",\"Judo\",\"Judo\",\"Athletics\",\"Athletics\",\"Athletics\",\"Athletics\",\"Athletics\",\"Volleyball\",\"Volleyball\",\"Volleyball\",\"Sailing\",\"Athletics\",\"Volleyball\",\"Swimming\",\"Swimming\",\"Swimming\",\"Swimming\",\"Swimming\",\"Volleyball\",\"Swimming\",\"Swimming\",\"Swimming\",\"Swimming\",\"Swimming\",\"Swimming\",\"Swimming\",\"Swimming\",\"Swimming\",\"Swimming\",\"Swimming\",\"Swimming\",\"Swimming\",\"Judo\",\"Judo\",\"Judo\",\"Swimming\",\"Judo\",\"Athletics\",\"Athletics\",\"Athletics\",\"Athletics\",\"Athletics\",\"Athletics\",\"Swimming\",\"Volleyball\",\"Sailing\",\"Sailing\",\"Sailing\",\"Sailing\",\"Judo\",\"Judo\",\"Athletics\",\"Athletics\",\"Athletics\",\"Athletics\",\"Athletics\",\"Volleyball\",\"Volleyball\",\"Swimming\",\"Athletics\",\"Athletics\",\"Athletics\",\"Athletics\",\"Sailing\",\"Judo\",\"Swimming\",\"Volleyball\",\"Swimming\",\"Volleyball\",\"Volleyball\",\"Judo\",\"Swimming\",\"Swimming\",\"Swimming\",\"Swimming\",\"Swimming\",\"Swimming\",\"Swimming\",\"Swimming\",\"Athletics\",\"Swimming\",\"Swimming\",\"Judo\",\"Volleyball\",\"Volleyball\",\"Sailing\",\"Volleyball\",\"Volleyball\",\"Swimming\",\"Swimming\",\"Athletics\",\"Athletics\",\"Athletics\",\"Swimming\",\"Swimming\",\"Swimming\",\"Swimming\",\"Swimming\",\"Swimming\",\"Swimming\",\"Swimming\",\"Swimming\",\"Sailing\",\"Sailing\",\"Sailing\",\"Sailing\",\"Volleyball\",\"Athletics\",\"Athletics\",\"Athletics\",\"Volleyball\",\"Swimming\",\"Swimming\",\"Swimming\",\"Swimming\",\"Athletics\",\"Athletics\",\"Athletics\",\"Athletics\",\"Athletics\",\"Sailing\",\"Sailing\",\"Sailing\",\"Volleyball\",\"Volleyball\",\"Athletics\",\"Athletics\",\"Athletics\",\"Athletics\",\"Athletics\",\"Swimming\",\"Swimming\",\"Swimming\",\"Swimming\",\"Swimming\",\"Swimming\",\"Swimming\",\"Sailing\",\"Athletics\",\"Athletics\",\"Volleyball\",\"Sailing\",\"Athletics\",\"Athletics\",\"Swimming\",\"Swimming\",\"Athletics\",\"Swimming\",\"Swimming\",\"Volleyball\",\"Athletics\",\"Swimming\",\"Swimming\",\"Swimming\",\"Swimming\",\"Swimming\",\"Swimming\",\"Swimming\",\"Swimming\",\"Swimming\",\"Swimming\",\"Athletics\",\"Athletics\",\"Athletics\",\"Athletics\",\"Judo\",\"Judo\",\"Swimming\",\"Swimming\",\"Swimming\",\"Swimming\",\"Judo\",\"Sailing\",\"Sailing\",\"Swimming\",\"Judo\",\"Swimming\",\"Sailing\",\"Swimming\",\"Swimming\",\"Sailing\",\"Swimming\",\"Swimming\",\"Swimming\",\"Swimming\",\"Swimming\",\"Athletics\",\"Judo\",\"Volleyball\",\"Volleyball\",\"Athletics\",\"Volleyball\",\"Judo\",\"Judo\",\"Judo\",\"Judo\",\"Sailing\",\"Judo\",\"Athletics\",\"Athletics\",\"Athletics\",\"Swimming\",\"Athletics\",\"Athletics\",\"Athletics\",\"Swimming\",\"Athletics\",\"Swimming\",\"Swimming\",\"Judo\",\"Swimming\",\"Athletics\",\"Athletics\",\"Athletics\",\"Athletics\",\"Swimming\",\"Swimming\",\"Swimming\",\"Swimming\",\"Swimming\",\"Swimming\",\"Sailing\",\"Sailing\",\"Athletics\",\"Athletics\",\"Volleyball\",\"Volleyball\",\"Sailing\",\"Volleyball\",\"Volleyball\",\"Swimming\",\"Swimming\",\"Swimming\",\"Swimming\",\"Athletics\",\"Athletics\",\"Athletics\",\"Sailing\",\"Sailing\",\"Sailing\",\"Athletics\",\"Athletics\",\"Swimming\",\"Swimming\",\"Swimming\",\"Judo\",\"Swimming\",\"Athletics\",\"Athletics\",\"Athletics\",\"Athletics\",\"Athletics\",\"Athletics\",\"Judo\",\"Swimming\",\"Swimming\",\"Swimming\",\"Swimming\",\"Swimming\",\"Volleyball\",\"Volleyball\",\"Athletics\",\"Swimming\",\"Swimming\",\"Sailing\",\"Volleyball\",\"Sailing\",\"Volleyball\",\"Volleyball\",\"Volleyball\",\"Athletics\",\"Volleyball\",\"Swimming\",\"Judo\",\"Swimming\",\"Swimming\",\"Swimming\",\"Swimming\",\"Swimming\",\"Swimming\",\"Swimming\",\"Athletics\",\"Athletics\",\"Athletics\",\"Judo\",\"Sailing\",\"Sailing\",\"Sailing\",\"Sailing\",\"Volleyball\",\"Volleyball\",\"Athletics\"],\"x0\":\" \",\"xaxis\":\"x\",\"y\":[194.0,194.0,186.0,186.0,186.0,180.0,180.0,180.0,180.0,186.0,186.0,177.0,177.0,177.0,177.0,177.0,177.0,177.0,177.0,177.0,177.0,183.0,171.0,null,198.0,198.0,null,172.0,172.0,163.0,180.0,191.0,191.0,191.0,191.0,191.0,191.0,185.0,185.0,185.0,185.0,185.0,185.0,185.0,185.0,188.0,188.0,184.0,184.0,184.0,null,189.0,189.0,172.0,185.0,185.0,193.0,172.0,172.0,172.0,187.0,null,195.0,195.0,195.0,184.0,184.0,184.0,184.0,184.0,184.0,180.0,180.0,null,null,187.0,null,198.0,198.0,198.0,198.0,187.0,187.0,185.0,174.0,181.0,187.0,187.0,187.0,185.0,185.0,185.0,185.0,185.0,null,null,null,null,177.0,177.0,174.0,174.0,174.0,185.0,181.0,180.0,203.0,203.0,203.0,203.0,203.0,203.0,203.0,203.0,203.0,177.0,177.0,173.0,180.0,180.0,180.0,176.0,176.0,188.0,188.0,180.0,180.0,183.0,null,null,173.0,173.0,180.0,180.0,179.0,null,174.0,196.0,183.0,183.0,183.0,185.0,187.0,187.0,187.0,181.0,181.0,184.0,184.0,184.0,184.0,184.0,184.0,184.0,184.0,null,183.0,182.0,182.0,182.0,190.0,190.0,163.0,190.0,190.0,190.0,190.0,190.0,195.0,195.0,195.0,180.0,179.0,179.0,179.0,193.0,177.0,189.0,189.0,178.0,178.0,178.0,178.0,196.0,196.0,null,null,180.0,187.0,187.0,187.0,176.0,170.0,186.0,186.0,186.0,186.0,186.0,185.0,185.0,167.0,185.0,174.0,174.0,174.0,null,null,178.0,178.0,163.0,187.0,187.0,187.0,187.0,187.0,188.0,179.0,179.0,174.0,174.0,174.0,174.0,174.0,186.0,186.0,185.0,173.0,184.0,null,null,null,null,185.0,185.0,185.0,178.0,178.0,160.0,181.0,181.0,178.0,178.0,null,null,null,178.0,178.0,187.0,187.0,187.0,187.0,187.0,187.0,187.0,172.0,172.0,180.0,180.0,186.0,193.0,193.0,193.0,189.0,201.0,175.0,175.0,183.0,183.0,186.0,174.0,174.0,174.0,182.0,182.0,182.0,182.0,182.0,184.0,184.0,175.0,184.0,184.0,182.0,182.0,182.0,182.0,182.0,null,null,null,null,176.0,176.0,176.0,175.0,175.0,175.0,175.0,null,191.0,191.0,168.0,168.0,166.0,166.0,166.0,166.0,193.0,193.0,193.0,180.0,180.0,180.0,178.0,180.0,180.0,180.0,187.0,null,null,null,182.0,186.0,186.0,190.0,185.0,182.0,170.0,186.0,186.0,186.0,186.0,178.0,198.0,170.0,170.0,170.0,194.0,180.0,180.0,176.0,176.0,176.0,181.0,181.0,181.0,193.0,163.0,181.0,181.0,183.0,183.0,183.0,192.0,183.0,182.0,182.0,182.0,182.0,182.0,182.0,182.0,182.0,163.0,178.0,178.0,178.0,178.0,174.0,174.0,172.0,172.0,187.0,198.0,173.0,null,180.0,186.0,null,166.0,166.0,166.0,168.0,174.0,174.0,174.0,168.0,168.0,168.0,168.0,175.0,175.0,175.0,175.0,181.0,170.0,null,null,null,null,185.0,185.0,188.0,188.0,171.0,171.0,171.0,200.0,180.0,177.0,177.0,183.0,183.0,190.0,null,null,183.0,180.0,180.0,199.0,173.0,173.0,173.0,173.0,181.0,null,null,188.0,188.0,175.0,190.0,183.0,183.0,179.0,179.0,179.0,179.0,179.0,179.0,179.0,180.0,180.0,180.0,180.0,180.0,190.0,190.0,190.0,null,null,175.0,175.0,180.0,182.0,182.0,182.0,182.0,182.0,182.0,182.0,182.0,185.0,186.0,186.0,186.0,186.0,186.0,186.0,187.0,187.0,187.0,182.0,182.0,166.0,166.0,166.0,null,null,null,178.0,163.0,192.0,192.0,168.0,196.0,196.0,185.0,178.0,185.0,181.0,181.0,178.0,178.0,190.0,190.0,175.0,175.0,175.0,175.0,175.0,185.0,185.0,181.0,185.0,198.0,202.0,202.0,202.0,174.0,194.0,194.0,194.0,194.0,176.0,175.0,175.0,175.0,175.0,175.0,null,172.0,172.0,null,178.0,203.0,165.0,null,null,null,null,null,182.0,199.0,190.0,190.0,180.0,175.0,192.0,180.0,190.0,190.0,189.0,189.0,null,null,181.0,null,null,174.0,174.0,174.0,174.0,174.0,174.0,194.0,186.0,186.0,168.0,187.0,180.0,180.0,180.0,null,null,193.0,164.0,null,null,null,null,null,null,null,null,187.0,170.0,188.0,188.0,188.0,188.0,188.0,188.0,188.0,188.0,188.0,188.0,195.0,184.0,184.0,184.0,184.0,184.0,184.0,178.0,178.0,180.0,180.0,180.0,180.0,163.0,163.0,null,189.0,181.0,181.0,181.0,181.0,193.0,193.0,174.0,181.0,181.0,181.0,181.0,181.0,181.0,181.0,181.0,194.0,194.0,183.0,183.0,165.0,175.0,178.0,180.0,180.0,179.0,185.0,190.0,190.0,190.0,181.0,181.0,181.0,184.0,184.0,184.0,178.0,null,null,174.0,174.0,null,173.0,null,null,187.0,187.0,187.0,187.0,187.0,187.0,187.0,187.0,180.0,null,null,187.0,187.0,null,null,null,178.0,172.0,192.0,192.0,192.0,192.0,189.0,182.0,179.0,186.0,183.0,178.0,178.0,178.0,178.0,196.0,196.0,198.0,185.0,180.0,192.0,175.0,175.0,null,null,null,185.0,null,195.0,195.0,195.0,195.0,195.0,195.0,195.0,195.0,187.0,187.0,187.0,187.0,null,168.0,168.0,190.0,182.0,183.0,183.0,183.0,184.0,180.0,180.0,null,194.0,168.0,168.0,176.0,176.0,180.0,180.0,194.0,194.0,194.0,170.0,170.0,201.0,201.0,null,186.0,186.0,185.0,185.0,187.0,174.0,185.0,187.0,178.0,198.0,198.0,176.0,187.0,187.0,187.0,187.0,187.0,187.0,187.0,187.0,190.0,175.0,175.0,172.0,197.0,197.0,172.0,195.0,185.0,185.0,185.0,null,null,null,187.0,187.0,187.0,158.0,158.0,158.0,158.0,158.0,158.0,178.0,178.0,175.0,175.0,181.0,182.0,173.0,173.0,182.0,185.0,185.0,185.0,185.0,177.0,null,null,null,178.0,177.0,177.0,175.0,190.0,190.0,null,null,190.0,190.0,190.0,181.0,181.0,181.0,181.0,185.0,185.0,185.0,180.0,192.0,172.0,null,null,181.0,181.0,194.0,194.0,170.0,null,null,185.0,187.0,181.0,181.0,181.0,181.0,181.0,181.0,181.0,181.0,181.0,181.0,180.0,180.0,173.0,192.0,189.0,189.0,182.0,176.0,176.0,176.0,160.0,166.0,166.0,189.0,182.0,184.0,180.0,190.0,190.0,188.0,193.0,193.0,193.0,193.0,193.0,176.0,197.0,186.0,197.0,null,184.0,160.0,160.0,166.0,166.0,185.0,174.0,181.0,183.0,183.0,196.0,188.0,182.0,182.0,null,190.0,194.0,194.0,187.0,184.0,168.0,168.0,168.0,189.0,193.0,193.0,193.0,null,null,null,187.0,187.0,184.0,184.0,191.0,191.0,168.0,200.0,200.0,null,192.0,192.0,192.0,185.0,185.0,180.0,187.0,187.0,187.0,196.0,196.0,175.0,175.0,175.0,null,176.0,188.0,188.0,188.0,188.0,171.0,171.0,164.0,null,null,null,null,null,187.0,187.0,180.0,185.0,185.0,170.0,191.0,180.0,185.0,185.0,185.0,180.0,193.0,186.0,null,187.0,187.0,187.0,187.0,184.0,184.0,184.0,null,null,null,180.0,191.0,191.0,190.0,190.0,177.0,186.0,184.0],\"y0\":\" \",\"yaxis\":\"y\",\"type\":\"box\"},{\"alignmentgroup\":\"True\",\"hovertemplate\":\"Medal=MEDALS<br>Sport=%{x}<br>Height=%{y}<extra></extra>\",\"legendgroup\":\"MEDALS\",\"marker\":{\"color\":\"#EF553B\"},\"name\":\"MEDALS\",\"notched\":false,\"offsetgroup\":\"MEDALS\",\"orientation\":\"v\",\"showlegend\":true,\"x\":[\"Sailing\",\"Volleyball\",\"Volleyball\",\"Volleyball\",\"Volleyball\",\"Volleyball\",\"Volleyball\",\"Volleyball\",\"Volleyball\",\"Volleyball\",\"Sailing\",\"Swimming\",\"Swimming\",\"Swimming\",\"Swimming\",\"Volleyball\",\"Athletics\",\"Volleyball\",\"Volleyball\",\"Volleyball\",\"Judo\",\"Judo\",\"Judo\",\"Judo\",\"Volleyball\",\"Judo\",\"Swimming\",\"Swimming\",\"Swimming\",\"Sailing\",\"Sailing\",\"Sailing\",\"Athletics\",\"Athletics\",\"Athletics\",\"Athletics\",\"Athletics\",\"Athletics\",\"Athletics\",\"Athletics\",\"Athletics\",\"Judo\",\"Judo\",\"Athletics\",\"Athletics\",\"Volleyball\",\"Volleyball\",\"Volleyball\",\"Athletics\",\"Athletics\",\"Athletics\",\"Athletics\",\"Athletics\",\"Athletics\",\"Swimming\",\"Volleyball\",\"Swimming\",\"Volleyball\",\"Volleyball\",\"Volleyball\",\"Volleyball\",\"Volleyball\",\"Volleyball\",\"Sailing\",\"Volleyball\",\"Sailing\",\"Sailing\",\"Sailing\",\"Sailing\",\"Sailing\",\"Volleyball\",\"Volleyball\",\"Volleyball\",\"Volleyball\",\"Volleyball\",\"Sailing\",\"Sailing\",\"Sailing\",\"Sailing\",\"Sailing\",\"Sailing\",\"Sailing\",\"Volleyball\",\"Judo\",\"Judo\",\"Judo\",\"Volleyball\",\"Volleyball\",\"Volleyball\",\"Volleyball\",\"Judo\",\"Judo\",\"Volleyball\",\"Swimming\",\"Volleyball\",\"Judo\",\"Swimming\",\"Volleyball\",\"Volleyball\",\"Swimming\",\"Volleyball\",\"Volleyball\",\"Swimming\",\"Volleyball\",\"Volleyball\",\"Judo\",\"Judo\",\"Volleyball\",\"Athletics\",\"Volleyball\",\"Volleyball\",\"Volleyball\",\"Volleyball\",\"Volleyball\",\"Volleyball\",\"Volleyball\",\"Swimming\",\"Judo\",\"Volleyball\",\"Volleyball\",\"Sailing\",\"Sailing\",\"Swimming\",\"Sailing\",\"Sailing\",\"Swimming\",\"Athletics\",\"Athletics\",\"Volleyball\",\"Athletics\",\"Athletics\",\"Volleyball\",\"Volleyball\",\"Volleyball\",\"Volleyball\",\"Volleyball\",\"Volleyball\",\"Volleyball\",\"Volleyball\",\"Volleyball\",\"Sailing\",\"Sailing\",\"Sailing\",\"Sailing\",\"Sailing\",\"Swimming\",\"Swimming\",\"Sailing\",\"Volleyball\",\"Swimming\",\"Sailing\",\"Athletics\",\"Volleyball\",\"Volleyball\",\"Volleyball\",\"Volleyball\",\"Athletics\",\"Judo\",\"Volleyball\",\"Volleyball\",\"Sailing\",\"Volleyball\",\"Volleyball\"],\"x0\":\" \",\"xaxis\":\"x\",\"y\":[180.0,194.0,198.0,198.0,190.0,190.0,186.0,193.0,187.0,185.0,184.0,203.0,203.0,203.0,203.0,199.0,183.0,190.0,190.0,190.0,180.0,180.0,179.0,null,196.0,183.0,195.0,195.0,195.0,179.0,179.0,177.0,187.0,187.0,186.0,178.0,178.0,187.0,187.0,174.0,186.0,203.0,203.0,187.0,187.0,201.0,201.0,201.0,182.0,168.0,166.0,166.0,186.0,186.0,182.0,198.0,184.0,200.0,205.0,184.0,184.0,184.0,184.0,180.0,199.0,181.0,181.0,181.0,190.0,182.0,192.0,192.0,192.0,196.0,196.0,185.0,185.0,185.0,185.0,185.0,185.0,185.0,207.0,176.0,176.0,172.0,203.0,203.0,199.0,199.0,175.0,180.0,195.0,190.0,192.0,164.0,188.0,195.0,196.0,181.0,183.0,195.0,181.0,184.0,184.0,180.0,180.0,187.0,172.0,190.0,190.0,196.0,195.0,195.0,198.0,212.0,null,168.0,194.0,201.0,187.0,177.0,187.0,185.0,185.0,158.0,182.0,182.0,190.0,190.0,190.0,191.0,191.0,205.0,205.0,205.0,194.0,209.0,209.0,200.0,188.0,188.0,188.0,188.0,188.0,193.0,193.0,170.0,203.0,194.0,173.0,168.0,199.0,209.0,194.0,200.0,188.0,170.0,198.0,198.0,186.0,185.0,193.0],\"y0\":\" \",\"yaxis\":\"y\",\"type\":\"box\"}],                        {\"template\":{\"data\":{\"bar\":[{\"error_x\":{\"color\":\"#2a3f5f\"},\"error_y\":{\"color\":\"#2a3f5f\"},\"marker\":{\"line\":{\"color\":\"#E5ECF6\",\"width\":0.5},\"pattern\":{\"fillmode\":\"overlay\",\"size\":10,\"solidity\":0.2}},\"type\":\"bar\"}],\"barpolar\":[{\"marker\":{\"line\":{\"color\":\"#E5ECF6\",\"width\":0.5},\"pattern\":{\"fillmode\":\"overlay\",\"size\":10,\"solidity\":0.2}},\"type\":\"barpolar\"}],\"carpet\":[{\"aaxis\":{\"endlinecolor\":\"#2a3f5f\",\"gridcolor\":\"white\",\"linecolor\":\"white\",\"minorgridcolor\":\"white\",\"startlinecolor\":\"#2a3f5f\"},\"baxis\":{\"endlinecolor\":\"#2a3f5f\",\"gridcolor\":\"white\",\"linecolor\":\"white\",\"minorgridcolor\":\"white\",\"startlinecolor\":\"#2a3f5f\"},\"type\":\"carpet\"}],\"choropleth\":[{\"colorbar\":{\"outlinewidth\":0,\"ticks\":\"\"},\"type\":\"choropleth\"}],\"contour\":[{\"colorbar\":{\"outlinewidth\":0,\"ticks\":\"\"},\"colorscale\":[[0.0,\"#0d0887\"],[0.1111111111111111,\"#46039f\"],[0.2222222222222222,\"#7201a8\"],[0.3333333333333333,\"#9c179e\"],[0.4444444444444444,\"#bd3786\"],[0.5555555555555556,\"#d8576b\"],[0.6666666666666666,\"#ed7953\"],[0.7777777777777778,\"#fb9f3a\"],[0.8888888888888888,\"#fdca26\"],[1.0,\"#f0f921\"]],\"type\":\"contour\"}],\"contourcarpet\":[{\"colorbar\":{\"outlinewidth\":0,\"ticks\":\"\"},\"type\":\"contourcarpet\"}],\"heatmap\":[{\"colorbar\":{\"outlinewidth\":0,\"ticks\":\"\"},\"colorscale\":[[0.0,\"#0d0887\"],[0.1111111111111111,\"#46039f\"],[0.2222222222222222,\"#7201a8\"],[0.3333333333333333,\"#9c179e\"],[0.4444444444444444,\"#bd3786\"],[0.5555555555555556,\"#d8576b\"],[0.6666666666666666,\"#ed7953\"],[0.7777777777777778,\"#fb9f3a\"],[0.8888888888888888,\"#fdca26\"],[1.0,\"#f0f921\"]],\"type\":\"heatmap\"}],\"heatmapgl\":[{\"colorbar\":{\"outlinewidth\":0,\"ticks\":\"\"},\"colorscale\":[[0.0,\"#0d0887\"],[0.1111111111111111,\"#46039f\"],[0.2222222222222222,\"#7201a8\"],[0.3333333333333333,\"#9c179e\"],[0.4444444444444444,\"#bd3786\"],[0.5555555555555556,\"#d8576b\"],[0.6666666666666666,\"#ed7953\"],[0.7777777777777778,\"#fb9f3a\"],[0.8888888888888888,\"#fdca26\"],[1.0,\"#f0f921\"]],\"type\":\"heatmapgl\"}],\"histogram\":[{\"marker\":{\"pattern\":{\"fillmode\":\"overlay\",\"size\":10,\"solidity\":0.2}},\"type\":\"histogram\"}],\"histogram2d\":[{\"colorbar\":{\"outlinewidth\":0,\"ticks\":\"\"},\"colorscale\":[[0.0,\"#0d0887\"],[0.1111111111111111,\"#46039f\"],[0.2222222222222222,\"#7201a8\"],[0.3333333333333333,\"#9c179e\"],[0.4444444444444444,\"#bd3786\"],[0.5555555555555556,\"#d8576b\"],[0.6666666666666666,\"#ed7953\"],[0.7777777777777778,\"#fb9f3a\"],[0.8888888888888888,\"#fdca26\"],[1.0,\"#f0f921\"]],\"type\":\"histogram2d\"}],\"histogram2dcontour\":[{\"colorbar\":{\"outlinewidth\":0,\"ticks\":\"\"},\"colorscale\":[[0.0,\"#0d0887\"],[0.1111111111111111,\"#46039f\"],[0.2222222222222222,\"#7201a8\"],[0.3333333333333333,\"#9c179e\"],[0.4444444444444444,\"#bd3786\"],[0.5555555555555556,\"#d8576b\"],[0.6666666666666666,\"#ed7953\"],[0.7777777777777778,\"#fb9f3a\"],[0.8888888888888888,\"#fdca26\"],[1.0,\"#f0f921\"]],\"type\":\"histogram2dcontour\"}],\"mesh3d\":[{\"colorbar\":{\"outlinewidth\":0,\"ticks\":\"\"},\"type\":\"mesh3d\"}],\"parcoords\":[{\"line\":{\"colorbar\":{\"outlinewidth\":0,\"ticks\":\"\"}},\"type\":\"parcoords\"}],\"pie\":[{\"automargin\":true,\"type\":\"pie\"}],\"scatter\":[{\"marker\":{\"colorbar\":{\"outlinewidth\":0,\"ticks\":\"\"}},\"type\":\"scatter\"}],\"scatter3d\":[{\"line\":{\"colorbar\":{\"outlinewidth\":0,\"ticks\":\"\"}},\"marker\":{\"colorbar\":{\"outlinewidth\":0,\"ticks\":\"\"}},\"type\":\"scatter3d\"}],\"scattercarpet\":[{\"marker\":{\"colorbar\":{\"outlinewidth\":0,\"ticks\":\"\"}},\"type\":\"scattercarpet\"}],\"scattergeo\":[{\"marker\":{\"colorbar\":{\"outlinewidth\":0,\"ticks\":\"\"}},\"type\":\"scattergeo\"}],\"scattergl\":[{\"marker\":{\"colorbar\":{\"outlinewidth\":0,\"ticks\":\"\"}},\"type\":\"scattergl\"}],\"scattermapbox\":[{\"marker\":{\"colorbar\":{\"outlinewidth\":0,\"ticks\":\"\"}},\"type\":\"scattermapbox\"}],\"scatterpolar\":[{\"marker\":{\"colorbar\":{\"outlinewidth\":0,\"ticks\":\"\"}},\"type\":\"scatterpolar\"}],\"scatterpolargl\":[{\"marker\":{\"colorbar\":{\"outlinewidth\":0,\"ticks\":\"\"}},\"type\":\"scatterpolargl\"}],\"scatterternary\":[{\"marker\":{\"colorbar\":{\"outlinewidth\":0,\"ticks\":\"\"}},\"type\":\"scatterternary\"}],\"surface\":[{\"colorbar\":{\"outlinewidth\":0,\"ticks\":\"\"},\"colorscale\":[[0.0,\"#0d0887\"],[0.1111111111111111,\"#46039f\"],[0.2222222222222222,\"#7201a8\"],[0.3333333333333333,\"#9c179e\"],[0.4444444444444444,\"#bd3786\"],[0.5555555555555556,\"#d8576b\"],[0.6666666666666666,\"#ed7953\"],[0.7777777777777778,\"#fb9f3a\"],[0.8888888888888888,\"#fdca26\"],[1.0,\"#f0f921\"]],\"type\":\"surface\"}],\"table\":[{\"cells\":{\"fill\":{\"color\":\"#EBF0F8\"},\"line\":{\"color\":\"white\"}},\"header\":{\"fill\":{\"color\":\"#C8D4E3\"},\"line\":{\"color\":\"white\"}},\"type\":\"table\"}]},\"layout\":{\"annotationdefaults\":{\"arrowcolor\":\"#2a3f5f\",\"arrowhead\":0,\"arrowwidth\":1},\"autotypenumbers\":\"strict\",\"coloraxis\":{\"colorbar\":{\"outlinewidth\":0,\"ticks\":\"\"}},\"colorscale\":{\"diverging\":[[0,\"#8e0152\"],[0.1,\"#c51b7d\"],[0.2,\"#de77ae\"],[0.3,\"#f1b6da\"],[0.4,\"#fde0ef\"],[0.5,\"#f7f7f7\"],[0.6,\"#e6f5d0\"],[0.7,\"#b8e186\"],[0.8,\"#7fbc41\"],[0.9,\"#4d9221\"],[1,\"#276419\"]],\"sequential\":[[0.0,\"#0d0887\"],[0.1111111111111111,\"#46039f\"],[0.2222222222222222,\"#7201a8\"],[0.3333333333333333,\"#9c179e\"],[0.4444444444444444,\"#bd3786\"],[0.5555555555555556,\"#d8576b\"],[0.6666666666666666,\"#ed7953\"],[0.7777777777777778,\"#fb9f3a\"],[0.8888888888888888,\"#fdca26\"],[1.0,\"#f0f921\"]],\"sequentialminus\":[[0.0,\"#0d0887\"],[0.1111111111111111,\"#46039f\"],[0.2222222222222222,\"#7201a8\"],[0.3333333333333333,\"#9c179e\"],[0.4444444444444444,\"#bd3786\"],[0.5555555555555556,\"#d8576b\"],[0.6666666666666666,\"#ed7953\"],[0.7777777777777778,\"#fb9f3a\"],[0.8888888888888888,\"#fdca26\"],[1.0,\"#f0f921\"]]},\"colorway\":[\"#636efa\",\"#EF553B\",\"#00cc96\",\"#ab63fa\",\"#FFA15A\",\"#19d3f3\",\"#FF6692\",\"#B6E880\",\"#FF97FF\",\"#FECB52\"],\"font\":{\"color\":\"#2a3f5f\"},\"geo\":{\"bgcolor\":\"white\",\"lakecolor\":\"white\",\"landcolor\":\"#E5ECF6\",\"showlakes\":true,\"showland\":true,\"subunitcolor\":\"white\"},\"hoverlabel\":{\"align\":\"left\"},\"hovermode\":\"closest\",\"mapbox\":{\"style\":\"light\"},\"paper_bgcolor\":\"white\",\"plot_bgcolor\":\"#E5ECF6\",\"polar\":{\"angularaxis\":{\"gridcolor\":\"white\",\"linecolor\":\"white\",\"ticks\":\"\"},\"bgcolor\":\"#E5ECF6\",\"radialaxis\":{\"gridcolor\":\"white\",\"linecolor\":\"white\",\"ticks\":\"\"}},\"scene\":{\"xaxis\":{\"backgroundcolor\":\"#E5ECF6\",\"gridcolor\":\"white\",\"gridwidth\":2,\"linecolor\":\"white\",\"showbackground\":true,\"ticks\":\"\",\"zerolinecolor\":\"white\"},\"yaxis\":{\"backgroundcolor\":\"#E5ECF6\",\"gridcolor\":\"white\",\"gridwidth\":2,\"linecolor\":\"white\",\"showbackground\":true,\"ticks\":\"\",\"zerolinecolor\":\"white\"},\"zaxis\":{\"backgroundcolor\":\"#E5ECF6\",\"gridcolor\":\"white\",\"gridwidth\":2,\"linecolor\":\"white\",\"showbackground\":true,\"ticks\":\"\",\"zerolinecolor\":\"white\"}},\"shapedefaults\":{\"line\":{\"color\":\"#2a3f5f\"}},\"ternary\":{\"aaxis\":{\"gridcolor\":\"white\",\"linecolor\":\"white\",\"ticks\":\"\"},\"baxis\":{\"gridcolor\":\"white\",\"linecolor\":\"white\",\"ticks\":\"\"},\"bgcolor\":\"#E5ECF6\",\"caxis\":{\"gridcolor\":\"white\",\"linecolor\":\"white\",\"ticks\":\"\"}},\"title\":{\"x\":0.05},\"xaxis\":{\"automargin\":true,\"gridcolor\":\"white\",\"linecolor\":\"white\",\"ticks\":\"\",\"title\":{\"standoff\":15},\"zerolinecolor\":\"white\",\"zerolinewidth\":2},\"yaxis\":{\"automargin\":true,\"gridcolor\":\"white\",\"linecolor\":\"white\",\"ticks\":\"\",\"title\":{\"standoff\":15},\"zerolinecolor\":\"white\",\"zerolinewidth\":2}}},\"xaxis\":{\"anchor\":\"y\",\"domain\":[0.0,1.0],\"title\":{\"text\":\"Medals\"}},\"yaxis\":{\"anchor\":\"x\",\"domain\":[0.0,1.0],\"title\":{\"text\":\"Height\"}},\"legend\":{\"title\":{\"text\":\"Performance\"},\"tracegroupgap\":0},\"title\":{\"text\":\"Performance x Height (M)\"},\"boxmode\":\"group\"},                        {\"responsive\": true}                    ).then(function(){\n",
       "                            \n",
       "var gd = document.getElementById('49367ebf-118a-478e-9107-5d63505cff6b');\n",
       "var x = new MutationObserver(function (mutations, observer) {{\n",
       "        var display = window.getComputedStyle(gd).display;\n",
       "        if (!display || display === 'none') {{\n",
       "            console.log([gd, 'removed!']);\n",
       "            Plotly.purge(gd);\n",
       "            observer.disconnect();\n",
       "        }}\n",
       "}});\n",
       "\n",
       "// Listen for the removal of the full notebook cells\n",
       "var notebookContainer = gd.closest('#notebook-container');\n",
       "if (notebookContainer) {{\n",
       "    x.observe(notebookContainer, {childList: true});\n",
       "}}\n",
       "\n",
       "// Listen for the clearing of the current output cell\n",
       "var outputEl = gd.closest('.output');\n",
       "if (outputEl) {{\n",
       "    x.observe(outputEl, {childList: true});\n",
       "}}\n",
       "\n",
       "                        })                };                });            </script>        </div>"
      ]
     },
     "metadata": {},
     "output_type": "display_data"
    }
   ],
   "source": [
    "fig = px.box(x='Sport', y='Height', data_frame=br_m_5,\n",
    "             color='Medal', title='Performance x Height (M)')\n",
    "\n",
    "fig.update_yaxes(title='Height')\n",
    "fig.update_xaxes(title='Medals')\n",
    "\n",
    "fig.update_layout(legend=dict(title='Performance'))\n",
    "\n",
    "fig.show()"
   ]
  },
  {
   "cell_type": "markdown",
   "id": "0e51c251",
   "metadata": {},
   "source": [
    "### Correlação entre Altura e Desempenho para os 5 Esportes Acima"
   ]
  },
  {
   "cell_type": "code",
   "execution_count": 59,
   "id": "3bd684ba",
   "metadata": {
    "scrolled": false
   },
   "outputs": [
    {
     "data": {
      "image/png": "[encoded data removed]",
      "text/plain": [
       "<Figure size 432x288 with 2 Axes>"
      ]
     },
     "metadata": {
      "needs_background": "light"
     },
     "output_type": "display_data"
    }
   ],
   "source": [
    "br_dummied_m = pd.get_dummies(br_m_5[['Height','Medal']])\n",
    "sns.heatmap(br_dummied_m[['Medal_NO_MEDALS','Medal_MEDALS','Height']].corr('spearman'), annot=True, cmap=\"PiYG\");"
   ]
  },
  {
   "cell_type": "markdown",
   "id": "dDVh8pBjXGmK",
   "metadata": {
    "id": "dDVh8pBjXGmK"
   },
   "source": [
    "CONCLUSÃO\n",
    "\n",
    "A altura parece ter uma leve correlação com o desempenho apenas nas categorias masculinas, nos 5 esportes analisados."
   ]
  },
  {
   "cell_type": "markdown",
   "id": "f8d0fab7",
   "metadata": {
    "id": "f8d0fab7"
   },
   "source": [
    "<font size=+3>**3. Vamos analisar agora as medalhas que nossos atletas trouxeram para casa.**</font>\n",
    "\n",
    "Crie uma visualização de sua preferência para mostrar, por esporte, a proporção de medalhas de ouro, prata e bronze que nosso país já consquistou.\n",
    "\n",
    "**Facilitador:** Se preferir, mostre as proporções apenas para os 6 esportes que tiveram mais medalhas.  \n",
    "\n",
    "*DICA:* Cuidado! Esportes em equipe dão medalhas a todos os jogadores, mas só contabilizam uma vez!"
   ]
  },
  {
   "cell_type": "code",
   "execution_count": 60,
   "id": "581581a7",
   "metadata": {},
   "outputs": [
    {
     "data": {
      "text/html": [
       "<div>\n",
       "<style scoped>\n",
       "    .dataframe tbody tr th:only-of-type {\n",
       "        vertical-align: middle;\n",
       "    }\n",
       "\n",
       "    .dataframe tbody tr th {\n",
       "        vertical-align: top;\n",
       "    }\n",
       "\n",
       "    .dataframe thead th {\n",
       "        text-align: right;\n",
       "    }\n",
       "</style>\n",
       "<table border=\"1\" class=\"dataframe\">\n",
       "  <thead>\n",
       "    <tr style=\"text-align: right;\">\n",
       "      <th></th>\n",
       "      <th>Sport</th>\n",
       "      <th>Medal</th>\n",
       "      <th>Event</th>\n",
       "    </tr>\n",
       "  </thead>\n",
       "  <tbody>\n",
       "    <tr>\n",
       "      <th>7</th>\n",
       "      <td>Judo</td>\n",
       "      <td>MEDALS</td>\n",
       "      <td>22</td>\n",
       "    </tr>\n",
       "    <tr>\n",
       "      <th>9</th>\n",
       "      <td>Sailing</td>\n",
       "      <td>MEDALS</td>\n",
       "      <td>18</td>\n",
       "    </tr>\n",
       "    <tr>\n",
       "      <th>0</th>\n",
       "      <td>Athletics</td>\n",
       "      <td>MEDALS</td>\n",
       "      <td>16</td>\n",
       "    </tr>\n",
       "    <tr>\n",
       "      <th>11</th>\n",
       "      <td>Swimming</td>\n",
       "      <td>MEDALS</td>\n",
       "      <td>14</td>\n",
       "    </tr>\n",
       "    <tr>\n",
       "      <th>13</th>\n",
       "      <td>Volleyball</td>\n",
       "      <td>MEDALS</td>\n",
       "      <td>10</td>\n",
       "    </tr>\n",
       "    <tr>\n",
       "      <th>5</th>\n",
       "      <td>Football</td>\n",
       "      <td>MEDALS</td>\n",
       "      <td>8</td>\n",
       "    </tr>\n",
       "    <tr>\n",
       "      <th>1</th>\n",
       "      <td>Basketball</td>\n",
       "      <td>MEDALS</td>\n",
       "      <td>5</td>\n",
       "    </tr>\n",
       "    <tr>\n",
       "      <th>2</th>\n",
       "      <td>Boxing</td>\n",
       "      <td>MEDALS</td>\n",
       "      <td>5</td>\n",
       "    </tr>\n",
       "    <tr>\n",
       "      <th>10</th>\n",
       "      <td>Shooting</td>\n",
       "      <td>MEDALS</td>\n",
       "      <td>4</td>\n",
       "    </tr>\n",
       "    <tr>\n",
       "      <th>3</th>\n",
       "      <td>Canoeing</td>\n",
       "      <td>MEDALS</td>\n",
       "      <td>3</td>\n",
       "    </tr>\n",
       "    <tr>\n",
       "      <th>4</th>\n",
       "      <td>Equestrianism</td>\n",
       "      <td>MEDALS</td>\n",
       "      <td>3</td>\n",
       "    </tr>\n",
       "    <tr>\n",
       "      <th>6</th>\n",
       "      <td>Gymnastics</td>\n",
       "      <td>MEDALS</td>\n",
       "      <td>3</td>\n",
       "    </tr>\n",
       "    <tr>\n",
       "      <th>12</th>\n",
       "      <td>Taekwondo</td>\n",
       "      <td>MEDALS</td>\n",
       "      <td>2</td>\n",
       "    </tr>\n",
       "    <tr>\n",
       "      <th>8</th>\n",
       "      <td>Modern Pentathlon</td>\n",
       "      <td>MEDALS</td>\n",
       "      <td>1</td>\n",
       "    </tr>\n",
       "  </tbody>\n",
       "</table>\n",
       "</div>"
      ],
      "text/plain": [
       "                Sport   Medal  Event\n",
       "7                Judo  MEDALS     22\n",
       "9             Sailing  MEDALS     18\n",
       "0           Athletics  MEDALS     16\n",
       "11           Swimming  MEDALS     14\n",
       "13         Volleyball  MEDALS     10\n",
       "5            Football  MEDALS      8\n",
       "1          Basketball  MEDALS      5\n",
       "2              Boxing  MEDALS      5\n",
       "10           Shooting  MEDALS      4\n",
       "3            Canoeing  MEDALS      3\n",
       "4       Equestrianism  MEDALS      3\n",
       "6          Gymnastics  MEDALS      3\n",
       "12          Taekwondo  MEDALS      2\n",
       "8   Modern Pentathlon  MEDALS      1"
      ]
     },
     "execution_count": 60,
     "metadata": {},
     "output_type": "execute_result"
    }
   ],
   "source": [
    "df_2 = pd.read_csv('data/athlete_events.csv')\n",
    "\n",
    "br_2 = df_2[df_2['Team'] == 'Brazil']\n",
    "\n",
    "br_bin_2 = br_2.copy()\n",
    "\n",
    "br_bin_2.replace({'Bronze': 'MEDALS',\n",
    "                'Silver': 'MEDALS',\n",
    "                'Gold': 'MEDALS'}, inplace=True)\n",
    "\n",
    "br_bin_2.sort_values('Year', inplace=True)\n",
    "\n",
    "br_bin_2.dropna(subset=['Medal'], inplace=True)\n",
    "\n",
    "br_bin_2.drop_duplicates(subset=['Year', 'Event'], keep='first', inplace=True)\n",
    "\n",
    "br_bin_2_group = br_bin_2.groupby(\n",
    "    by=['Sport','Medal'], as_index=False).count().sort_values(\n",
    "    ['Event'], ascending=False)\n",
    "\n",
    "br_bin_2_group.drop(\n",
    "    columns=['ID','Name','Sex','Age','Height','Weight','Team',\n",
    "             'NOC','Games','Year','Season','City'], inplace=True)\n",
    "\n",
    "br_mean_medal = br_2.sort_values('Year')\n",
    "br_mean_medal_1 = br_mean_medal.drop_duplicates(subset=['Year', 'Event'], keep='first')\n",
    "\n",
    "br_bin_2_group"
   ]
  },
  {
   "cell_type": "code",
   "execution_count": 61,
   "id": "92fab657",
   "metadata": {
    "id": "92fab657",
    "outputId": "0170d7fd-3cac-4765-9b08-38e247a72468"
   },
   "outputs": [
    {
     "data": {
      "text/html": [
       "<div>\n",
       "<style scoped>\n",
       "    .dataframe tbody tr th:only-of-type {\n",
       "        vertical-align: middle;\n",
       "    }\n",
       "\n",
       "    .dataframe tbody tr th {\n",
       "        vertical-align: top;\n",
       "    }\n",
       "\n",
       "    .dataframe thead th {\n",
       "        text-align: right;\n",
       "    }\n",
       "</style>\n",
       "<table border=\"1\" class=\"dataframe\">\n",
       "  <thead>\n",
       "    <tr style=\"text-align: right;\">\n",
       "      <th></th>\n",
       "      <th>ID</th>\n",
       "      <th>Name</th>\n",
       "      <th>Sex</th>\n",
       "      <th>Age</th>\n",
       "      <th>Height</th>\n",
       "      <th>Weight</th>\n",
       "      <th>Team</th>\n",
       "      <th>NOC</th>\n",
       "      <th>Games</th>\n",
       "      <th>Year</th>\n",
       "      <th>Season</th>\n",
       "      <th>City</th>\n",
       "      <th>Sport</th>\n",
       "      <th>Event</th>\n",
       "      <th>Medal</th>\n",
       "    </tr>\n",
       "  </thead>\n",
       "  <tbody>\n",
       "    <tr>\n",
       "      <th>121234</th>\n",
       "      <td>61291</td>\n",
       "      <td>Adolphe Christiano Klingelhoeffer</td>\n",
       "      <td>M</td>\n",
       "      <td>20.0</td>\n",
       "      <td>NaN</td>\n",
       "      <td>NaN</td>\n",
       "      <td>Brazil</td>\n",
       "      <td>BRA</td>\n",
       "      <td>1900 Summer</td>\n",
       "      <td>1900</td>\n",
       "      <td>Summer</td>\n",
       "      <td>Paris</td>\n",
       "      <td>Athletics</td>\n",
       "      <td>Athletics Men's 110 metres Hurdles</td>\n",
       "      <td>NaN</td>\n",
       "    </tr>\n",
       "    <tr>\n",
       "      <th>121232</th>\n",
       "      <td>61291</td>\n",
       "      <td>Adolphe Christiano Klingelhoeffer</td>\n",
       "      <td>M</td>\n",
       "      <td>20.0</td>\n",
       "      <td>NaN</td>\n",
       "      <td>NaN</td>\n",
       "      <td>Brazil</td>\n",
       "      <td>BRA</td>\n",
       "      <td>1900 Summer</td>\n",
       "      <td>1900</td>\n",
       "      <td>Summer</td>\n",
       "      <td>Paris</td>\n",
       "      <td>Athletics</td>\n",
       "      <td>Athletics Men's 60 metres</td>\n",
       "      <td>NaN</td>\n",
       "    </tr>\n",
       "    <tr>\n",
       "      <th>121233</th>\n",
       "      <td>61291</td>\n",
       "      <td>Adolphe Christiano Klingelhoeffer</td>\n",
       "      <td>M</td>\n",
       "      <td>20.0</td>\n",
       "      <td>NaN</td>\n",
       "      <td>NaN</td>\n",
       "      <td>Brazil</td>\n",
       "      <td>BRA</td>\n",
       "      <td>1900 Summer</td>\n",
       "      <td>1900</td>\n",
       "      <td>Summer</td>\n",
       "      <td>Paris</td>\n",
       "      <td>Athletics</td>\n",
       "      <td>Athletics Men's 200 metres</td>\n",
       "      <td>NaN</td>\n",
       "    </tr>\n",
       "    <tr>\n",
       "      <th>6045</th>\n",
       "      <td>3399</td>\n",
       "      <td>Orlando Amndola</td>\n",
       "      <td>M</td>\n",
       "      <td>NaN</td>\n",
       "      <td>NaN</td>\n",
       "      <td>NaN</td>\n",
       "      <td>Brazil</td>\n",
       "      <td>BRA</td>\n",
       "      <td>1920 Summer</td>\n",
       "      <td>1920</td>\n",
       "      <td>Summer</td>\n",
       "      <td>Antwerpen</td>\n",
       "      <td>Swimming</td>\n",
       "      <td>Swimming Men's 100 metres Freestyle</td>\n",
       "      <td>NaN</td>\n",
       "    </tr>\n",
       "    <tr>\n",
       "      <th>267759</th>\n",
       "      <td>133948</td>\n",
       "      <td>Octvio Zani</td>\n",
       "      <td>M</td>\n",
       "      <td>22.0</td>\n",
       "      <td>NaN</td>\n",
       "      <td>NaN</td>\n",
       "      <td>Brazil</td>\n",
       "      <td>BRA</td>\n",
       "      <td>1924 Summer</td>\n",
       "      <td>1924</td>\n",
       "      <td>Summer</td>\n",
       "      <td>Paris</td>\n",
       "      <td>Athletics</td>\n",
       "      <td>Athletics Men's Hammer Throw</td>\n",
       "      <td>NaN</td>\n",
       "    </tr>\n",
       "    <tr>\n",
       "      <th>...</th>\n",
       "      <td>...</td>\n",
       "      <td>...</td>\n",
       "      <td>...</td>\n",
       "      <td>...</td>\n",
       "      <td>...</td>\n",
       "      <td>...</td>\n",
       "      <td>...</td>\n",
       "      <td>...</td>\n",
       "      <td>...</td>\n",
       "      <td>...</td>\n",
       "      <td>...</td>\n",
       "      <td>...</td>\n",
       "      <td>...</td>\n",
       "      <td>...</td>\n",
       "      <td>...</td>\n",
       "    </tr>\n",
       "    <tr>\n",
       "      <th>51584</th>\n",
       "      <td>26512</td>\n",
       "      <td>Jlio Csar Miranda de Oliveira</td>\n",
       "      <td>M</td>\n",
       "      <td>30.0</td>\n",
       "      <td>185.0</td>\n",
       "      <td>95.0</td>\n",
       "      <td>Brazil</td>\n",
       "      <td>BRA</td>\n",
       "      <td>2016 Summer</td>\n",
       "      <td>2016</td>\n",
       "      <td>Summer</td>\n",
       "      <td>Rio de Janeiro</td>\n",
       "      <td>Athletics</td>\n",
       "      <td>Athletics Men's Javelin Throw</td>\n",
       "      <td>NaN</td>\n",
       "    </tr>\n",
       "    <tr>\n",
       "      <th>219943</th>\n",
       "      <td>110488</td>\n",
       "      <td>Altobeli Santos da Silva</td>\n",
       "      <td>M</td>\n",
       "      <td>25.0</td>\n",
       "      <td>181.0</td>\n",
       "      <td>60.0</td>\n",
       "      <td>Brazil</td>\n",
       "      <td>BRA</td>\n",
       "      <td>2016 Summer</td>\n",
       "      <td>2016</td>\n",
       "      <td>Summer</td>\n",
       "      <td>Rio de Janeiro</td>\n",
       "      <td>Athletics</td>\n",
       "      <td>Athletics Men's 3,000 metres Steeplechase</td>\n",
       "      <td>NaN</td>\n",
       "    </tr>\n",
       "    <tr>\n",
       "      <th>219942</th>\n",
       "      <td>110487</td>\n",
       "      <td>Alex William Pombo Silva</td>\n",
       "      <td>M</td>\n",
       "      <td>28.0</td>\n",
       "      <td>174.0</td>\n",
       "      <td>73.0</td>\n",
       "      <td>Brazil</td>\n",
       "      <td>BRA</td>\n",
       "      <td>2016 Summer</td>\n",
       "      <td>2016</td>\n",
       "      <td>Summer</td>\n",
       "      <td>Rio de Janeiro</td>\n",
       "      <td>Judo</td>\n",
       "      <td>Judo Men's Lightweight</td>\n",
       "      <td>NaN</td>\n",
       "    </tr>\n",
       "    <tr>\n",
       "      <th>5714</th>\n",
       "      <td>3221</td>\n",
       "      <td>Higor Silva Alves</td>\n",
       "      <td>M</td>\n",
       "      <td>22.0</td>\n",
       "      <td>183.0</td>\n",
       "      <td>64.0</td>\n",
       "      <td>Brazil</td>\n",
       "      <td>BRA</td>\n",
       "      <td>2016 Summer</td>\n",
       "      <td>2016</td>\n",
       "      <td>Summer</td>\n",
       "      <td>Rio de Janeiro</td>\n",
       "      <td>Athletics</td>\n",
       "      <td>Athletics Men's Long Jump</td>\n",
       "      <td>NaN</td>\n",
       "    </tr>\n",
       "    <tr>\n",
       "      <th>5487</th>\n",
       "      <td>3097</td>\n",
       "      <td>Maria Suelen Altheman</td>\n",
       "      <td>F</td>\n",
       "      <td>27.0</td>\n",
       "      <td>175.0</td>\n",
       "      <td>110.0</td>\n",
       "      <td>Brazil</td>\n",
       "      <td>BRA</td>\n",
       "      <td>2016 Summer</td>\n",
       "      <td>2016</td>\n",
       "      <td>Summer</td>\n",
       "      <td>Rio de Janeiro</td>\n",
       "      <td>Judo</td>\n",
       "      <td>Judo Women's Heavyweight</td>\n",
       "      <td>NaN</td>\n",
       "    </tr>\n",
       "  </tbody>\n",
       "</table>\n",
       "<p>834 rows × 15 columns</p>\n",
       "</div>"
      ],
      "text/plain": [
       "            ID                               Name Sex   Age  Height  Weight  \\\n",
       "121234   61291  Adolphe Christiano Klingelhoeffer   M  20.0     NaN     NaN   \n",
       "121232   61291  Adolphe Christiano Klingelhoeffer   M  20.0     NaN     NaN   \n",
       "121233   61291  Adolphe Christiano Klingelhoeffer   M  20.0     NaN     NaN   \n",
       "6045      3399                    Orlando Amndola   M   NaN     NaN     NaN   \n",
       "267759  133948                        Octvio Zani   M  22.0     NaN     NaN   \n",
       "...        ...                                ...  ..   ...     ...     ...   \n",
       "51584    26512      Jlio Csar Miranda de Oliveira   M  30.0   185.0    95.0   \n",
       "219943  110488           Altobeli Santos da Silva   M  25.0   181.0    60.0   \n",
       "219942  110487           Alex William Pombo Silva   M  28.0   174.0    73.0   \n",
       "5714      3221                  Higor Silva Alves   M  22.0   183.0    64.0   \n",
       "5487      3097              Maria Suelen Altheman   F  27.0   175.0   110.0   \n",
       "\n",
       "          Team  NOC        Games  Year  Season            City      Sport  \\\n",
       "121234  Brazil  BRA  1900 Summer  1900  Summer           Paris  Athletics   \n",
       "121232  Brazil  BRA  1900 Summer  1900  Summer           Paris  Athletics   \n",
       "121233  Brazil  BRA  1900 Summer  1900  Summer           Paris  Athletics   \n",
       "6045    Brazil  BRA  1920 Summer  1920  Summer       Antwerpen   Swimming   \n",
       "267759  Brazil  BRA  1924 Summer  1924  Summer           Paris  Athletics   \n",
       "...        ...  ...          ...   ...     ...             ...        ...   \n",
       "51584   Brazil  BRA  2016 Summer  2016  Summer  Rio de Janeiro  Athletics   \n",
       "219943  Brazil  BRA  2016 Summer  2016  Summer  Rio de Janeiro  Athletics   \n",
       "219942  Brazil  BRA  2016 Summer  2016  Summer  Rio de Janeiro       Judo   \n",
       "5714    Brazil  BRA  2016 Summer  2016  Summer  Rio de Janeiro  Athletics   \n",
       "5487    Brazil  BRA  2016 Summer  2016  Summer  Rio de Janeiro       Judo   \n",
       "\n",
       "                                            Event Medal  \n",
       "121234         Athletics Men's 110 metres Hurdles   NaN  \n",
       "121232                  Athletics Men's 60 metres   NaN  \n",
       "121233                 Athletics Men's 200 metres   NaN  \n",
       "6045          Swimming Men's 100 metres Freestyle   NaN  \n",
       "267759               Athletics Men's Hammer Throw   NaN  \n",
       "...                                           ...   ...  \n",
       "51584               Athletics Men's Javelin Throw   NaN  \n",
       "219943  Athletics Men's 3,000 metres Steeplechase   NaN  \n",
       "219942                     Judo Men's Lightweight   NaN  \n",
       "5714                    Athletics Men's Long Jump   NaN  \n",
       "5487                     Judo Women's Heavyweight   NaN  \n",
       "\n",
       "[834 rows x 15 columns]"
      ]
     },
     "execution_count": 61,
     "metadata": {},
     "output_type": "execute_result"
    }
   ],
   "source": [
    "br_6 = br_mean_medal_1[(br_mean_medal_1['Sport'] == 'Judo') |\n",
    "                       (br_mean_medal_1['Sport'] == 'Sailing') |\n",
    "                       (br_mean_medal_1['Sport'] == 'Athletics') |\n",
    "                       (br_mean_medal_1['Sport'] == 'Swimming') |\n",
    "                       (br_mean_medal_1['Sport'] == 'Volleyball') |\n",
    "                       (br_mean_medal_1['Sport'] == 'Football')]\n",
    "br_6"
   ]
  },
  {
   "cell_type": "code",
   "execution_count": 62,
   "id": "f2dbac6b",
   "metadata": {
    "id": "f2dbac6b"
   },
   "outputs": [],
   "source": [
    "br_6_group = br_6.groupby(by = ['Sport','Medal'], as_index=False).count()"
   ]
  },
  {
   "cell_type": "code",
   "execution_count": 63,
   "id": "b5a31ebf",
   "metadata": {},
   "outputs": [
    {
     "data": {
      "text/html": [
       "<div>\n",
       "<style scoped>\n",
       "    .dataframe tbody tr th:only-of-type {\n",
       "        vertical-align: middle;\n",
       "    }\n",
       "\n",
       "    .dataframe tbody tr th {\n",
       "        vertical-align: top;\n",
       "    }\n",
       "\n",
       "    .dataframe thead th {\n",
       "        text-align: right;\n",
       "    }\n",
       "</style>\n",
       "<table border=\"1\" class=\"dataframe\">\n",
       "  <thead>\n",
       "    <tr style=\"text-align: right;\">\n",
       "      <th></th>\n",
       "      <th>ID</th>\n",
       "      <th>Name</th>\n",
       "      <th>Sex</th>\n",
       "      <th>Age</th>\n",
       "      <th>Height</th>\n",
       "      <th>Weight</th>\n",
       "      <th>Team</th>\n",
       "      <th>NOC</th>\n",
       "      <th>Games</th>\n",
       "      <th>Year</th>\n",
       "      <th>Season</th>\n",
       "      <th>City</th>\n",
       "      <th>Sport</th>\n",
       "      <th>Event</th>\n",
       "      <th>Medal</th>\n",
       "    </tr>\n",
       "  </thead>\n",
       "  <tbody>\n",
       "    <tr>\n",
       "      <th>47792</th>\n",
       "      <td>24637</td>\n",
       "      <td>Afrnio Antnio da Costa</td>\n",
       "      <td>M</td>\n",
       "      <td>28.0</td>\n",
       "      <td>178.0</td>\n",
       "      <td>NaN</td>\n",
       "      <td>Brazil</td>\n",
       "      <td>BRA</td>\n",
       "      <td>1920 Summer</td>\n",
       "      <td>1920</td>\n",
       "      <td>Summer</td>\n",
       "      <td>Antwerpen</td>\n",
       "      <td>Shooting</td>\n",
       "      <td>Shooting Men's Free Pistol, 50 metres</td>\n",
       "      <td>MEDALS</td>\n",
       "    </tr>\n",
       "    <tr>\n",
       "      <th>4562</th>\n",
       "      <td>2592</td>\n",
       "      <td>Alexandre \"Alexandre Pato\" Rodrigues da Silva</td>\n",
       "      <td>M</td>\n",
       "      <td>22.0</td>\n",
       "      <td>179.0</td>\n",
       "      <td>71.0</td>\n",
       "      <td>Brazil</td>\n",
       "      <td>BRA</td>\n",
       "      <td>2012 Summer</td>\n",
       "      <td>2012</td>\n",
       "      <td>Summer</td>\n",
       "      <td>London</td>\n",
       "      <td>Football</td>\n",
       "      <td>Football Men's Football</td>\n",
       "      <td>MEDALS</td>\n",
       "    </tr>\n",
       "    <tr>\n",
       "      <th>199960</th>\n",
       "      <td>100429</td>\n",
       "      <td>Ricardo \"Ricardinho\" Bermudez Garcia</td>\n",
       "      <td>M</td>\n",
       "      <td>36.0</td>\n",
       "      <td>191.0</td>\n",
       "      <td>90.0</td>\n",
       "      <td>Brazil</td>\n",
       "      <td>BRA</td>\n",
       "      <td>2012 Summer</td>\n",
       "      <td>2012</td>\n",
       "      <td>Summer</td>\n",
       "      <td>London</td>\n",
       "      <td>Volleyball</td>\n",
       "      <td>Volleyball Men's Volleyball</td>\n",
       "      <td>MEDALS</td>\n",
       "    </tr>\n",
       "    <tr>\n",
       "      <th>194869</th>\n",
       "      <td>97805</td>\n",
       "      <td>Ketleyn Lima Quadros</td>\n",
       "      <td>F</td>\n",
       "      <td>20.0</td>\n",
       "      <td>164.0</td>\n",
       "      <td>57.0</td>\n",
       "      <td>Brazil</td>\n",
       "      <td>BRA</td>\n",
       "      <td>2008 Summer</td>\n",
       "      <td>2008</td>\n",
       "      <td>Summer</td>\n",
       "      <td>Beijing</td>\n",
       "      <td>Judo</td>\n",
       "      <td>Judo Women's Lightweight</td>\n",
       "      <td>MEDALS</td>\n",
       "    </tr>\n",
       "    <tr>\n",
       "      <th>86229</th>\n",
       "      <td>43708</td>\n",
       "      <td>Leandro Marques Guilheiro</td>\n",
       "      <td>M</td>\n",
       "      <td>24.0</td>\n",
       "      <td>176.0</td>\n",
       "      <td>81.0</td>\n",
       "      <td>Brazil</td>\n",
       "      <td>BRA</td>\n",
       "      <td>2008 Summer</td>\n",
       "      <td>2008</td>\n",
       "      <td>Summer</td>\n",
       "      <td>Beijing</td>\n",
       "      <td>Judo</td>\n",
       "      <td>Judo Men's Lightweight</td>\n",
       "      <td>MEDALS</td>\n",
       "    </tr>\n",
       "    <tr>\n",
       "      <th>...</th>\n",
       "      <td>...</td>\n",
       "      <td>...</td>\n",
       "      <td>...</td>\n",
       "      <td>...</td>\n",
       "      <td>...</td>\n",
       "      <td>...</td>\n",
       "      <td>...</td>\n",
       "      <td>...</td>\n",
       "      <td>...</td>\n",
       "      <td>...</td>\n",
       "      <td>...</td>\n",
       "      <td>...</td>\n",
       "      <td>...</td>\n",
       "      <td>...</td>\n",
       "      <td>...</td>\n",
       "    </tr>\n",
       "    <tr>\n",
       "      <th>47989</th>\n",
       "      <td>24731</td>\n",
       "      <td>Rbson Caetano da Silva</td>\n",
       "      <td>M</td>\n",
       "      <td>24.0</td>\n",
       "      <td>187.0</td>\n",
       "      <td>74.0</td>\n",
       "      <td>Brazil</td>\n",
       "      <td>BRA</td>\n",
       "      <td>1988 Summer</td>\n",
       "      <td>1988</td>\n",
       "      <td>Summer</td>\n",
       "      <td>Seoul</td>\n",
       "      <td>Athletics</td>\n",
       "      <td>Athletics Men's 200 metres</td>\n",
       "      <td>MEDALS</td>\n",
       "    </tr>\n",
       "    <tr>\n",
       "      <th>158468</th>\n",
       "      <td>79547</td>\n",
       "      <td>Aurlio Fernndez Miguel</td>\n",
       "      <td>M</td>\n",
       "      <td>24.0</td>\n",
       "      <td>180.0</td>\n",
       "      <td>95.0</td>\n",
       "      <td>Brazil</td>\n",
       "      <td>BRA</td>\n",
       "      <td>1988 Summer</td>\n",
       "      <td>1988</td>\n",
       "      <td>Summer</td>\n",
       "      <td>Seoul</td>\n",
       "      <td>Judo</td>\n",
       "      <td>Judo Men's Half-Heavyweight</td>\n",
       "      <td>MEDALS</td>\n",
       "    </tr>\n",
       "    <tr>\n",
       "      <th>83120</th>\n",
       "      <td>42226</td>\n",
       "      <td>Lars Schmidt Grael</td>\n",
       "      <td>M</td>\n",
       "      <td>24.0</td>\n",
       "      <td>185.0</td>\n",
       "      <td>80.0</td>\n",
       "      <td>Brazil</td>\n",
       "      <td>BRA</td>\n",
       "      <td>1988 Summer</td>\n",
       "      <td>1988</td>\n",
       "      <td>Summer</td>\n",
       "      <td>Seoul</td>\n",
       "      <td>Sailing</td>\n",
       "      <td>Sailing Mixed Multihull</td>\n",
       "      <td>MEDALS</td>\n",
       "    </tr>\n",
       "    <tr>\n",
       "      <th>66171</th>\n",
       "      <td>33849</td>\n",
       "      <td>Nelson Falco</td>\n",
       "      <td>M</td>\n",
       "      <td>42.0</td>\n",
       "      <td>180.0</td>\n",
       "      <td>75.0</td>\n",
       "      <td>Brazil</td>\n",
       "      <td>BRA</td>\n",
       "      <td>1988 Summer</td>\n",
       "      <td>1988</td>\n",
       "      <td>Summer</td>\n",
       "      <td>Seoul</td>\n",
       "      <td>Sailing</td>\n",
       "      <td>Sailing Mixed Two Person Keelboat</td>\n",
       "      <td>MEDALS</td>\n",
       "    </tr>\n",
       "    <tr>\n",
       "      <th>43889</th>\n",
       "      <td>22623</td>\n",
       "      <td>Robson Donato Conceio</td>\n",
       "      <td>M</td>\n",
       "      <td>27.0</td>\n",
       "      <td>171.0</td>\n",
       "      <td>57.0</td>\n",
       "      <td>Brazil</td>\n",
       "      <td>BRA</td>\n",
       "      <td>2016 Summer</td>\n",
       "      <td>2016</td>\n",
       "      <td>Summer</td>\n",
       "      <td>Rio de Janeiro</td>\n",
       "      <td>Boxing</td>\n",
       "      <td>Boxing Men's Lightweight</td>\n",
       "      <td>MEDALS</td>\n",
       "    </tr>\n",
       "  </tbody>\n",
       "</table>\n",
       "<p>114 rows × 15 columns</p>\n",
       "</div>"
      ],
      "text/plain": [
       "            ID                                           Name Sex   Age  \\\n",
       "47792    24637                         Afrnio Antnio da Costa   M  28.0   \n",
       "4562      2592  Alexandre \"Alexandre Pato\" Rodrigues da Silva   M  22.0   \n",
       "199960  100429           Ricardo \"Ricardinho\" Bermudez Garcia   M  36.0   \n",
       "194869   97805                           Ketleyn Lima Quadros   F  20.0   \n",
       "86229    43708                      Leandro Marques Guilheiro   M  24.0   \n",
       "...        ...                                            ...  ..   ...   \n",
       "47989    24731                         Rbson Caetano da Silva   M  24.0   \n",
       "158468   79547                         Aurlio Fernndez Miguel   M  24.0   \n",
       "83120    42226                             Lars Schmidt Grael   M  24.0   \n",
       "66171    33849                                   Nelson Falco   M  42.0   \n",
       "43889    22623                          Robson Donato Conceio   M  27.0   \n",
       "\n",
       "        Height  Weight    Team  NOC        Games  Year  Season  \\\n",
       "47792    178.0     NaN  Brazil  BRA  1920 Summer  1920  Summer   \n",
       "4562     179.0    71.0  Brazil  BRA  2012 Summer  2012  Summer   \n",
       "199960   191.0    90.0  Brazil  BRA  2012 Summer  2012  Summer   \n",
       "194869   164.0    57.0  Brazil  BRA  2008 Summer  2008  Summer   \n",
       "86229    176.0    81.0  Brazil  BRA  2008 Summer  2008  Summer   \n",
       "...        ...     ...     ...  ...          ...   ...     ...   \n",
       "47989    187.0    74.0  Brazil  BRA  1988 Summer  1988  Summer   \n",
       "158468   180.0    95.0  Brazil  BRA  1988 Summer  1988  Summer   \n",
       "83120    185.0    80.0  Brazil  BRA  1988 Summer  1988  Summer   \n",
       "66171    180.0    75.0  Brazil  BRA  1988 Summer  1988  Summer   \n",
       "43889    171.0    57.0  Brazil  BRA  2016 Summer  2016  Summer   \n",
       "\n",
       "                  City       Sport                                  Event  \\\n",
       "47792        Antwerpen    Shooting  Shooting Men's Free Pistol, 50 metres   \n",
       "4562            London    Football                Football Men's Football   \n",
       "199960          London  Volleyball            Volleyball Men's Volleyball   \n",
       "194869         Beijing        Judo               Judo Women's Lightweight   \n",
       "86229          Beijing        Judo                 Judo Men's Lightweight   \n",
       "...                ...         ...                                    ...   \n",
       "47989            Seoul   Athletics             Athletics Men's 200 metres   \n",
       "158468           Seoul        Judo            Judo Men's Half-Heavyweight   \n",
       "83120            Seoul     Sailing                Sailing Mixed Multihull   \n",
       "66171            Seoul     Sailing      Sailing Mixed Two Person Keelboat   \n",
       "43889   Rio de Janeiro      Boxing               Boxing Men's Lightweight   \n",
       "\n",
       "         Medal  \n",
       "47792   MEDALS  \n",
       "4562    MEDALS  \n",
       "199960  MEDALS  \n",
       "194869  MEDALS  \n",
       "86229   MEDALS  \n",
       "...        ...  \n",
       "47989   MEDALS  \n",
       "158468  MEDALS  \n",
       "83120   MEDALS  \n",
       "66171   MEDALS  \n",
       "43889   MEDALS  \n",
       "\n",
       "[114 rows x 15 columns]"
      ]
     },
     "execution_count": 63,
     "metadata": {},
     "output_type": "execute_result"
    }
   ],
   "source": [
    "br_bin_2.sort_values('Medal', ascending=False)"
   ]
  },
  {
   "cell_type": "code",
   "execution_count": 64,
   "id": "d753c68f",
   "metadata": {
    "id": "d753c68f",
    "outputId": "04f2690e-e6a0-4058-e927-6bdeb7d19907"
   },
   "outputs": [
    {
     "data": {
      "text/html": [
       "<div>\n",
       "<style scoped>\n",
       "    .dataframe tbody tr th:only-of-type {\n",
       "        vertical-align: middle;\n",
       "    }\n",
       "\n",
       "    .dataframe tbody tr th {\n",
       "        vertical-align: top;\n",
       "    }\n",
       "\n",
       "    .dataframe thead th {\n",
       "        text-align: right;\n",
       "    }\n",
       "</style>\n",
       "<table border=\"1\" class=\"dataframe\">\n",
       "  <thead>\n",
       "    <tr style=\"text-align: right;\">\n",
       "      <th></th>\n",
       "      <th>Sport</th>\n",
       "      <th>Medal</th>\n",
       "      <th>ID</th>\n",
       "      <th>Name</th>\n",
       "      <th>Sex</th>\n",
       "      <th>Age</th>\n",
       "      <th>Height</th>\n",
       "      <th>Weight</th>\n",
       "      <th>Team</th>\n",
       "      <th>NOC</th>\n",
       "      <th>Games</th>\n",
       "      <th>Year</th>\n",
       "      <th>Season</th>\n",
       "      <th>City</th>\n",
       "      <th>Event</th>\n",
       "    </tr>\n",
       "  </thead>\n",
       "  <tbody>\n",
       "    <tr>\n",
       "      <th>0</th>\n",
       "      <td>Athletics</td>\n",
       "      <td>Bronze</td>\n",
       "      <td>6</td>\n",
       "      <td>6</td>\n",
       "      <td>6</td>\n",
       "      <td>6</td>\n",
       "      <td>6</td>\n",
       "      <td>6</td>\n",
       "      <td>6</td>\n",
       "      <td>6</td>\n",
       "      <td>6</td>\n",
       "      <td>6</td>\n",
       "      <td>6</td>\n",
       "      <td>6</td>\n",
       "      <td>6</td>\n",
       "    </tr>\n",
       "    <tr>\n",
       "      <th>1</th>\n",
       "      <td>Athletics</td>\n",
       "      <td>Gold</td>\n",
       "      <td>4</td>\n",
       "      <td>4</td>\n",
       "      <td>4</td>\n",
       "      <td>4</td>\n",
       "      <td>4</td>\n",
       "      <td>4</td>\n",
       "      <td>4</td>\n",
       "      <td>4</td>\n",
       "      <td>4</td>\n",
       "      <td>4</td>\n",
       "      <td>4</td>\n",
       "      <td>4</td>\n",
       "      <td>4</td>\n",
       "    </tr>\n",
       "    <tr>\n",
       "      <th>2</th>\n",
       "      <td>Athletics</td>\n",
       "      <td>Silver</td>\n",
       "      <td>2</td>\n",
       "      <td>2</td>\n",
       "      <td>2</td>\n",
       "      <td>2</td>\n",
       "      <td>2</td>\n",
       "      <td>2</td>\n",
       "      <td>2</td>\n",
       "      <td>2</td>\n",
       "      <td>2</td>\n",
       "      <td>2</td>\n",
       "      <td>2</td>\n",
       "      <td>2</td>\n",
       "      <td>2</td>\n",
       "    </tr>\n",
       "    <tr>\n",
       "      <th>3</th>\n",
       "      <td>Football</td>\n",
       "      <td>Bronze</td>\n",
       "      <td>2</td>\n",
       "      <td>2</td>\n",
       "      <td>2</td>\n",
       "      <td>2</td>\n",
       "      <td>2</td>\n",
       "      <td>2</td>\n",
       "      <td>2</td>\n",
       "      <td>2</td>\n",
       "      <td>2</td>\n",
       "      <td>2</td>\n",
       "      <td>2</td>\n",
       "      <td>2</td>\n",
       "      <td>2</td>\n",
       "    </tr>\n",
       "    <tr>\n",
       "      <th>4</th>\n",
       "      <td>Football</td>\n",
       "      <td>Gold</td>\n",
       "      <td>1</td>\n",
       "      <td>1</td>\n",
       "      <td>1</td>\n",
       "      <td>1</td>\n",
       "      <td>1</td>\n",
       "      <td>1</td>\n",
       "      <td>1</td>\n",
       "      <td>1</td>\n",
       "      <td>1</td>\n",
       "      <td>1</td>\n",
       "      <td>1</td>\n",
       "      <td>1</td>\n",
       "      <td>1</td>\n",
       "    </tr>\n",
       "    <tr>\n",
       "      <th>5</th>\n",
       "      <td>Football</td>\n",
       "      <td>Silver</td>\n",
       "      <td>5</td>\n",
       "      <td>5</td>\n",
       "      <td>5</td>\n",
       "      <td>5</td>\n",
       "      <td>5</td>\n",
       "      <td>5</td>\n",
       "      <td>5</td>\n",
       "      <td>5</td>\n",
       "      <td>5</td>\n",
       "      <td>5</td>\n",
       "      <td>5</td>\n",
       "      <td>5</td>\n",
       "      <td>5</td>\n",
       "    </tr>\n",
       "    <tr>\n",
       "      <th>6</th>\n",
       "      <td>Judo</td>\n",
       "      <td>Bronze</td>\n",
       "      <td>15</td>\n",
       "      <td>15</td>\n",
       "      <td>15</td>\n",
       "      <td>15</td>\n",
       "      <td>15</td>\n",
       "      <td>15</td>\n",
       "      <td>15</td>\n",
       "      <td>15</td>\n",
       "      <td>15</td>\n",
       "      <td>15</td>\n",
       "      <td>15</td>\n",
       "      <td>15</td>\n",
       "      <td>15</td>\n",
       "    </tr>\n",
       "    <tr>\n",
       "      <th>7</th>\n",
       "      <td>Judo</td>\n",
       "      <td>Gold</td>\n",
       "      <td>4</td>\n",
       "      <td>4</td>\n",
       "      <td>4</td>\n",
       "      <td>4</td>\n",
       "      <td>3</td>\n",
       "      <td>3</td>\n",
       "      <td>4</td>\n",
       "      <td>4</td>\n",
       "      <td>4</td>\n",
       "      <td>4</td>\n",
       "      <td>4</td>\n",
       "      <td>4</td>\n",
       "      <td>4</td>\n",
       "    </tr>\n",
       "    <tr>\n",
       "      <th>8</th>\n",
       "      <td>Judo</td>\n",
       "      <td>Silver</td>\n",
       "      <td>3</td>\n",
       "      <td>3</td>\n",
       "      <td>3</td>\n",
       "      <td>3</td>\n",
       "      <td>3</td>\n",
       "      <td>3</td>\n",
       "      <td>3</td>\n",
       "      <td>3</td>\n",
       "      <td>3</td>\n",
       "      <td>3</td>\n",
       "      <td>3</td>\n",
       "      <td>3</td>\n",
       "      <td>3</td>\n",
       "    </tr>\n",
       "    <tr>\n",
       "      <th>9</th>\n",
       "      <td>Sailing</td>\n",
       "      <td>Bronze</td>\n",
       "      <td>8</td>\n",
       "      <td>8</td>\n",
       "      <td>8</td>\n",
       "      <td>8</td>\n",
       "      <td>8</td>\n",
       "      <td>8</td>\n",
       "      <td>8</td>\n",
       "      <td>8</td>\n",
       "      <td>8</td>\n",
       "      <td>8</td>\n",
       "      <td>8</td>\n",
       "      <td>8</td>\n",
       "      <td>8</td>\n",
       "    </tr>\n",
       "    <tr>\n",
       "      <th>10</th>\n",
       "      <td>Sailing</td>\n",
       "      <td>Gold</td>\n",
       "      <td>7</td>\n",
       "      <td>7</td>\n",
       "      <td>7</td>\n",
       "      <td>7</td>\n",
       "      <td>7</td>\n",
       "      <td>7</td>\n",
       "      <td>7</td>\n",
       "      <td>7</td>\n",
       "      <td>7</td>\n",
       "      <td>7</td>\n",
       "      <td>7</td>\n",
       "      <td>7</td>\n",
       "      <td>7</td>\n",
       "    </tr>\n",
       "    <tr>\n",
       "      <th>11</th>\n",
       "      <td>Sailing</td>\n",
       "      <td>Silver</td>\n",
       "      <td>3</td>\n",
       "      <td>3</td>\n",
       "      <td>3</td>\n",
       "      <td>3</td>\n",
       "      <td>3</td>\n",
       "      <td>3</td>\n",
       "      <td>3</td>\n",
       "      <td>3</td>\n",
       "      <td>3</td>\n",
       "      <td>3</td>\n",
       "      <td>3</td>\n",
       "      <td>3</td>\n",
       "      <td>3</td>\n",
       "    </tr>\n",
       "    <tr>\n",
       "      <th>12</th>\n",
       "      <td>Swimming</td>\n",
       "      <td>Bronze</td>\n",
       "      <td>6</td>\n",
       "      <td>6</td>\n",
       "      <td>6</td>\n",
       "      <td>6</td>\n",
       "      <td>6</td>\n",
       "      <td>5</td>\n",
       "      <td>6</td>\n",
       "      <td>6</td>\n",
       "      <td>6</td>\n",
       "      <td>6</td>\n",
       "      <td>6</td>\n",
       "      <td>6</td>\n",
       "      <td>6</td>\n",
       "    </tr>\n",
       "    <tr>\n",
       "      <th>13</th>\n",
       "      <td>Swimming</td>\n",
       "      <td>Silver</td>\n",
       "      <td>4</td>\n",
       "      <td>4</td>\n",
       "      <td>4</td>\n",
       "      <td>4</td>\n",
       "      <td>4</td>\n",
       "      <td>4</td>\n",
       "      <td>4</td>\n",
       "      <td>4</td>\n",
       "      <td>4</td>\n",
       "      <td>4</td>\n",
       "      <td>4</td>\n",
       "      <td>4</td>\n",
       "      <td>4</td>\n",
       "    </tr>\n",
       "    <tr>\n",
       "      <th>14</th>\n",
       "      <td>Volleyball</td>\n",
       "      <td>Bronze</td>\n",
       "      <td>2</td>\n",
       "      <td>2</td>\n",
       "      <td>2</td>\n",
       "      <td>2</td>\n",
       "      <td>2</td>\n",
       "      <td>2</td>\n",
       "      <td>2</td>\n",
       "      <td>2</td>\n",
       "      <td>2</td>\n",
       "      <td>2</td>\n",
       "      <td>2</td>\n",
       "      <td>2</td>\n",
       "      <td>2</td>\n",
       "    </tr>\n",
       "    <tr>\n",
       "      <th>15</th>\n",
       "      <td>Volleyball</td>\n",
       "      <td>Gold</td>\n",
       "      <td>5</td>\n",
       "      <td>5</td>\n",
       "      <td>5</td>\n",
       "      <td>5</td>\n",
       "      <td>5</td>\n",
       "      <td>5</td>\n",
       "      <td>5</td>\n",
       "      <td>5</td>\n",
       "      <td>5</td>\n",
       "      <td>5</td>\n",
       "      <td>5</td>\n",
       "      <td>5</td>\n",
       "      <td>5</td>\n",
       "    </tr>\n",
       "    <tr>\n",
       "      <th>16</th>\n",
       "      <td>Volleyball</td>\n",
       "      <td>Silver</td>\n",
       "      <td>3</td>\n",
       "      <td>3</td>\n",
       "      <td>3</td>\n",
       "      <td>3</td>\n",
       "      <td>3</td>\n",
       "      <td>3</td>\n",
       "      <td>3</td>\n",
       "      <td>3</td>\n",
       "      <td>3</td>\n",
       "      <td>3</td>\n",
       "      <td>3</td>\n",
       "      <td>3</td>\n",
       "      <td>3</td>\n",
       "    </tr>\n",
       "  </tbody>\n",
       "</table>\n",
       "</div>"
      ],
      "text/plain": [
       "         Sport   Medal  ID  Name  Sex  Age  Height  Weight  Team  NOC  Games  \\\n",
       "0    Athletics  Bronze   6     6    6    6       6       6     6    6      6   \n",
       "1    Athletics    Gold   4     4    4    4       4       4     4    4      4   \n",
       "2    Athletics  Silver   2     2    2    2       2       2     2    2      2   \n",
       "3     Football  Bronze   2     2    2    2       2       2     2    2      2   \n",
       "4     Football    Gold   1     1    1    1       1       1     1    1      1   \n",
       "5     Football  Silver   5     5    5    5       5       5     5    5      5   \n",
       "6         Judo  Bronze  15    15   15   15      15      15    15   15     15   \n",
       "7         Judo    Gold   4     4    4    4       3       3     4    4      4   \n",
       "8         Judo  Silver   3     3    3    3       3       3     3    3      3   \n",
       "9      Sailing  Bronze   8     8    8    8       8       8     8    8      8   \n",
       "10     Sailing    Gold   7     7    7    7       7       7     7    7      7   \n",
       "11     Sailing  Silver   3     3    3    3       3       3     3    3      3   \n",
       "12    Swimming  Bronze   6     6    6    6       6       5     6    6      6   \n",
       "13    Swimming  Silver   4     4    4    4       4       4     4    4      4   \n",
       "14  Volleyball  Bronze   2     2    2    2       2       2     2    2      2   \n",
       "15  Volleyball    Gold   5     5    5    5       5       5     5    5      5   \n",
       "16  Volleyball  Silver   3     3    3    3       3       3     3    3      3   \n",
       "\n",
       "    Year  Season  City  Event  \n",
       "0      6       6     6      6  \n",
       "1      4       4     4      4  \n",
       "2      2       2     2      2  \n",
       "3      2       2     2      2  \n",
       "4      1       1     1      1  \n",
       "5      5       5     5      5  \n",
       "6     15      15    15     15  \n",
       "7      4       4     4      4  \n",
       "8      3       3     3      3  \n",
       "9      8       8     8      8  \n",
       "10     7       7     7      7  \n",
       "11     3       3     3      3  \n",
       "12     6       6     6      6  \n",
       "13     4       4     4      4  \n",
       "14     2       2     2      2  \n",
       "15     5       5     5      5  \n",
       "16     3       3     3      3  "
      ]
     },
     "execution_count": 64,
     "metadata": {},
     "output_type": "execute_result"
    }
   ],
   "source": [
    "br_6_group"
   ]
  },
  {
   "cell_type": "code",
   "execution_count": 65,
   "id": "053550e6",
   "metadata": {
    "id": "053550e6"
   },
   "outputs": [],
   "source": [
    "br_6_group.drop(columns=['ID','Name','Sex','Age','Height','Weight',\n",
    "                         'Team','NOC','Games','Year','Season','City'], inplace=True)"
   ]
  },
  {
   "cell_type": "code",
   "execution_count": 66,
   "id": "73fa6844",
   "metadata": {
    "id": "73fa6844",
    "outputId": "a1ecd42d-9a1c-42a0-f876-bef3df31e995"
   },
   "outputs": [
    {
     "data": {
      "text/html": [
       "<div>\n",
       "<style scoped>\n",
       "    .dataframe tbody tr th:only-of-type {\n",
       "        vertical-align: middle;\n",
       "    }\n",
       "\n",
       "    .dataframe tbody tr th {\n",
       "        vertical-align: top;\n",
       "    }\n",
       "\n",
       "    .dataframe thead th {\n",
       "        text-align: right;\n",
       "    }\n",
       "</style>\n",
       "<table border=\"1\" class=\"dataframe\">\n",
       "  <thead>\n",
       "    <tr style=\"text-align: right;\">\n",
       "      <th></th>\n",
       "      <th>Sport</th>\n",
       "      <th>Medal</th>\n",
       "      <th>Event</th>\n",
       "    </tr>\n",
       "  </thead>\n",
       "  <tbody>\n",
       "    <tr>\n",
       "      <th>0</th>\n",
       "      <td>Athletics</td>\n",
       "      <td>Bronze</td>\n",
       "      <td>6</td>\n",
       "    </tr>\n",
       "    <tr>\n",
       "      <th>1</th>\n",
       "      <td>Athletics</td>\n",
       "      <td>Gold</td>\n",
       "      <td>4</td>\n",
       "    </tr>\n",
       "    <tr>\n",
       "      <th>2</th>\n",
       "      <td>Athletics</td>\n",
       "      <td>Silver</td>\n",
       "      <td>2</td>\n",
       "    </tr>\n",
       "    <tr>\n",
       "      <th>3</th>\n",
       "      <td>Football</td>\n",
       "      <td>Bronze</td>\n",
       "      <td>2</td>\n",
       "    </tr>\n",
       "    <tr>\n",
       "      <th>4</th>\n",
       "      <td>Football</td>\n",
       "      <td>Gold</td>\n",
       "      <td>1</td>\n",
       "    </tr>\n",
       "    <tr>\n",
       "      <th>5</th>\n",
       "      <td>Football</td>\n",
       "      <td>Silver</td>\n",
       "      <td>5</td>\n",
       "    </tr>\n",
       "    <tr>\n",
       "      <th>6</th>\n",
       "      <td>Judo</td>\n",
       "      <td>Bronze</td>\n",
       "      <td>15</td>\n",
       "    </tr>\n",
       "    <tr>\n",
       "      <th>7</th>\n",
       "      <td>Judo</td>\n",
       "      <td>Gold</td>\n",
       "      <td>4</td>\n",
       "    </tr>\n",
       "    <tr>\n",
       "      <th>8</th>\n",
       "      <td>Judo</td>\n",
       "      <td>Silver</td>\n",
       "      <td>3</td>\n",
       "    </tr>\n",
       "    <tr>\n",
       "      <th>9</th>\n",
       "      <td>Sailing</td>\n",
       "      <td>Bronze</td>\n",
       "      <td>8</td>\n",
       "    </tr>\n",
       "    <tr>\n",
       "      <th>10</th>\n",
       "      <td>Sailing</td>\n",
       "      <td>Gold</td>\n",
       "      <td>7</td>\n",
       "    </tr>\n",
       "    <tr>\n",
       "      <th>11</th>\n",
       "      <td>Sailing</td>\n",
       "      <td>Silver</td>\n",
       "      <td>3</td>\n",
       "    </tr>\n",
       "    <tr>\n",
       "      <th>12</th>\n",
       "      <td>Swimming</td>\n",
       "      <td>Bronze</td>\n",
       "      <td>6</td>\n",
       "    </tr>\n",
       "    <tr>\n",
       "      <th>13</th>\n",
       "      <td>Swimming</td>\n",
       "      <td>Silver</td>\n",
       "      <td>4</td>\n",
       "    </tr>\n",
       "    <tr>\n",
       "      <th>14</th>\n",
       "      <td>Volleyball</td>\n",
       "      <td>Bronze</td>\n",
       "      <td>2</td>\n",
       "    </tr>\n",
       "    <tr>\n",
       "      <th>15</th>\n",
       "      <td>Volleyball</td>\n",
       "      <td>Gold</td>\n",
       "      <td>5</td>\n",
       "    </tr>\n",
       "    <tr>\n",
       "      <th>16</th>\n",
       "      <td>Volleyball</td>\n",
       "      <td>Silver</td>\n",
       "      <td>3</td>\n",
       "    </tr>\n",
       "  </tbody>\n",
       "</table>\n",
       "</div>"
      ],
      "text/plain": [
       "         Sport   Medal  Event\n",
       "0    Athletics  Bronze      6\n",
       "1    Athletics    Gold      4\n",
       "2    Athletics  Silver      2\n",
       "3     Football  Bronze      2\n",
       "4     Football    Gold      1\n",
       "5     Football  Silver      5\n",
       "6         Judo  Bronze     15\n",
       "7         Judo    Gold      4\n",
       "8         Judo  Silver      3\n",
       "9      Sailing  Bronze      8\n",
       "10     Sailing    Gold      7\n",
       "11     Sailing  Silver      3\n",
       "12    Swimming  Bronze      6\n",
       "13    Swimming  Silver      4\n",
       "14  Volleyball  Bronze      2\n",
       "15  Volleyball    Gold      5\n",
       "16  Volleyball  Silver      3"
      ]
     },
     "execution_count": 66,
     "metadata": {},
     "output_type": "execute_result"
    }
   ],
   "source": [
    "br_6_group"
   ]
  },
  {
   "cell_type": "code",
   "execution_count": 67,
   "id": "96383252",
   "metadata": {
    "scrolled": false
   },
   "outputs": [
    {
     "data": {
      "application/vnd.plotly.v1+json": {
       "config": {
        "plotlyServerURL": "https://plot.ly"
       },
       "data": [
        {
         "alignmentgroup": "True",
         "bingroup": "x",
         "histfunc": "sum",
         "hovertemplate": "Medal=Bronze<br>Sport=%{x}<br>sum of Event (normalized as percent)=%{y}<extra></extra>",
         "legendgroup": "Bronze",
         "marker": {
          "color": "darkorange",
          "opacity": 0.7,
          "pattern": {
           "shape": ""
          }
         },
         "name": "Bronze",
         "offsetgroup": "Bronze",
         "orientation": "v",
         "showlegend": true,
         "texttemplate": "%{value}",
         "type": "histogram",
         "x": [
          "Athletics",
          "Football",
          "Judo",
          "Sailing",
          "Swimming",
          "Volleyball"
         ],
         "xaxis": "x",
         "y": [
          6,
          2,
          15,
          8,
          6,
          2
         ],
         "yaxis": "y"
        },
        {
         "alignmentgroup": "True",
         "bingroup": "x",
         "histfunc": "sum",
         "hovertemplate": "Medal=Silver<br>Sport=%{x}<br>sum of Event (normalized as percent)=%{y}<extra></extra>",
         "legendgroup": "Silver",
         "marker": {
          "color": "silver",
          "opacity": 0.7,
          "pattern": {
           "shape": ""
          }
         },
         "name": "Silver",
         "offsetgroup": "Silver",
         "orientation": "v",
         "showlegend": true,
         "texttemplate": "%{value}",
         "type": "histogram",
         "x": [
          "Athletics",
          "Football",
          "Judo",
          "Sailing",
          "Swimming",
          "Volleyball"
         ],
         "xaxis": "x",
         "y": [
          2,
          5,
          3,
          3,
          4,
          3
         ],
         "yaxis": "y"
        },
        {
         "alignmentgroup": "True",
         "bingroup": "x",
         "histfunc": "sum",
         "hovertemplate": "Medal=Gold<br>Sport=%{x}<br>sum of Event (normalized as percent)=%{y}<extra></extra>",
         "legendgroup": "Gold",
         "marker": {
          "color": "gold",
          "opacity": 0.7,
          "pattern": {
           "shape": ""
          }
         },
         "name": "Gold",
         "offsetgroup": "Gold",
         "orientation": "v",
         "showlegend": true,
         "texttemplate": "%{value}",
         "type": "histogram",
         "x": [
          "Athletics",
          "Football",
          "Judo",
          "Sailing",
          "Volleyball"
         ],
         "xaxis": "x",
         "y": [
          4,
          1,
          4,
          7,
          5
         ],
         "yaxis": "y"
        }
       ],
       "layout": {
        "annotations": [
         {
          "ax": 0,
          "ay": -80,
          "font": {
           "color": "#e67e22",
           "family": "Nunito",
           "size": 16
          },
          "showarrow": false,
          "text": "Totals:                                13                                              8                                              22                                            18                                        9                                        10",
          "x": 2,
          "xref": "x",
          "y": 115,
          "yref": "y"
         }
        ],
        "barmode": "relative",
        "barnorm": "percent",
        "legend": {
         "title": {
          "text": "Medal"
         },
         "tracegroupgap": 0
        },
        "template": {
         "data": {
          "bar": [
           {
            "error_x": {
             "color": "#2a3f5f"
            },
            "error_y": {
             "color": "#2a3f5f"
            },
            "marker": {
             "line": {
              "color": "#E5ECF6",
              "width": 0.5
             },
             "pattern": {
              "fillmode": "overlay",
              "size": 10,
              "solidity": 0.2
             }
            },
            "type": "bar"
           }
          ],
          "barpolar": [
           {
            "marker": {
             "line": {
              "color": "#E5ECF6",
              "width": 0.5
             },
             "pattern": {
              "fillmode": "overlay",
              "size": 10,
              "solidity": 0.2
             }
            },
            "type": "barpolar"
           }
          ],
          "carpet": [
           {
            "aaxis": {
             "endlinecolor": "#2a3f5f",
             "gridcolor": "white",
             "linecolor": "white",
             "minorgridcolor": "white",
             "startlinecolor": "#2a3f5f"
            },
            "baxis": {
             "endlinecolor": "#2a3f5f",
             "gridcolor": "white",
             "linecolor": "white",
             "minorgridcolor": "white",
             "startlinecolor": "#2a3f5f"
            },
            "type": "carpet"
           }
          ],
          "choropleth": [
           {
            "colorbar": {
             "outlinewidth": 0,
             "ticks": ""
            },
            "type": "choropleth"
           }
          ],
          "contour": [
           {
            "colorbar": {
             "outlinewidth": 0,
             "ticks": ""
            },
            "colorscale": [
             [
              0,
              "#0d0887"
             ],
             [
              0.1111111111111111,
              "#46039f"
             ],
             [
              0.2222222222222222,
              "#7201a8"
             ],
             [
              0.3333333333333333,
              "#9c179e"
             ],
             [
              0.4444444444444444,
              "#bd3786"
             ],
             [
              0.5555555555555556,
              "#d8576b"
             ],
             [
              0.6666666666666666,
              "#ed7953"
             ],
             [
              0.7777777777777778,
              "#fb9f3a"
             ],
             [
              0.8888888888888888,
              "#fdca26"
             ],
             [
              1,
              "#f0f921"
             ]
            ],
            "type": "contour"
           }
          ],
          "contourcarpet": [
           {
            "colorbar": {
             "outlinewidth": 0,
             "ticks": ""
            },
            "type": "contourcarpet"
           }
          ],
          "heatmap": [
           {
            "colorbar": {
             "outlinewidth": 0,
             "ticks": ""
            },
            "colorscale": [
             [
              0,
              "#0d0887"
             ],
             [
              0.1111111111111111,
              "#46039f"
             ],
             [
              0.2222222222222222,
              "#7201a8"
             ],
             [
              0.3333333333333333,
              "#9c179e"
             ],
             [
              0.4444444444444444,
              "#bd3786"
             ],
             [
              0.5555555555555556,
              "#d8576b"
             ],
             [
              0.6666666666666666,
              "#ed7953"
             ],
             [
              0.7777777777777778,
              "#fb9f3a"
             ],
             [
              0.8888888888888888,
              "#fdca26"
             ],
             [
              1,
              "#f0f921"
             ]
            ],
            "type": "heatmap"
           }
          ],
          "heatmapgl": [
           {
            "colorbar": {
             "outlinewidth": 0,
             "ticks": ""
            },
            "colorscale": [
             [
              0,
              "#0d0887"
             ],
             [
              0.1111111111111111,
              "#46039f"
             ],
             [
              0.2222222222222222,
              "#7201a8"
             ],
             [
              0.3333333333333333,
              "#9c179e"
             ],
             [
              0.4444444444444444,
              "#bd3786"
             ],
             [
              0.5555555555555556,
              "#d8576b"
             ],
             [
              0.6666666666666666,
              "#ed7953"
             ],
             [
              0.7777777777777778,
              "#fb9f3a"
             ],
             [
              0.8888888888888888,
              "#fdca26"
             ],
             [
              1,
              "#f0f921"
             ]
            ],
            "type": "heatmapgl"
           }
          ],
          "histogram": [
           {
            "marker": {
             "pattern": {
              "fillmode": "overlay",
              "size": 10,
              "solidity": 0.2
             }
            },
            "type": "histogram"
           }
          ],
          "histogram2d": [
           {
            "colorbar": {
             "outlinewidth": 0,
             "ticks": ""
            },
            "colorscale": [
             [
              0,
              "#0d0887"
             ],
             [
              0.1111111111111111,
              "#46039f"
             ],
             [
              0.2222222222222222,
              "#7201a8"
             ],
             [
              0.3333333333333333,
              "#9c179e"
             ],
             [
              0.4444444444444444,
              "#bd3786"
             ],
             [
              0.5555555555555556,
              "#d8576b"
             ],
             [
              0.6666666666666666,
              "#ed7953"
             ],
             [
              0.7777777777777778,
              "#fb9f3a"
             ],
             [
              0.8888888888888888,
              "#fdca26"
             ],
             [
              1,
              "#f0f921"
             ]
            ],
            "type": "histogram2d"
           }
          ],
          "histogram2dcontour": [
           {
            "colorbar": {
             "outlinewidth": 0,
             "ticks": ""
            },
            "colorscale": [
             [
              0,
              "#0d0887"
             ],
             [
              0.1111111111111111,
              "#46039f"
             ],
             [
              0.2222222222222222,
              "#7201a8"
             ],
             [
              0.3333333333333333,
              "#9c179e"
             ],
             [
              0.4444444444444444,
              "#bd3786"
             ],
             [
              0.5555555555555556,
              "#d8576b"
             ],
             [
              0.6666666666666666,
              "#ed7953"
             ],
             [
              0.7777777777777778,
              "#fb9f3a"
             ],
             [
              0.8888888888888888,
              "#fdca26"
             ],
             [
              1,
              "#f0f921"
             ]
            ],
            "type": "histogram2dcontour"
           }
          ],
          "mesh3d": [
           {
            "colorbar": {
             "outlinewidth": 0,
             "ticks": ""
            },
            "type": "mesh3d"
           }
          ],
          "parcoords": [
           {
            "line": {
             "colorbar": {
              "outlinewidth": 0,
              "ticks": ""
             }
            },
            "type": "parcoords"
           }
          ],
          "pie": [
           {
            "automargin": true,
            "type": "pie"
           }
          ],
          "scatter": [
           {
            "marker": {
             "colorbar": {
              "outlinewidth": 0,
              "ticks": ""
             }
            },
            "type": "scatter"
           }
          ],
          "scatter3d": [
           {
            "line": {
             "colorbar": {
              "outlinewidth": 0,
              "ticks": ""
             }
            },
            "marker": {
             "colorbar": {
              "outlinewidth": 0,
              "ticks": ""
             }
            },
            "type": "scatter3d"
           }
          ],
          "scattercarpet": [
           {
            "marker": {
             "colorbar": {
              "outlinewidth": 0,
              "ticks": ""
             }
            },
            "type": "scattercarpet"
           }
          ],
          "scattergeo": [
           {
            "marker": {
             "colorbar": {
              "outlinewidth": 0,
              "ticks": ""
             }
            },
            "type": "scattergeo"
           }
          ],
          "scattergl": [
           {
            "marker": {
             "colorbar": {
              "outlinewidth": 0,
              "ticks": ""
             }
            },
            "type": "scattergl"
           }
          ],
          "scattermapbox": [
           {
            "marker": {
             "colorbar": {
              "outlinewidth": 0,
              "ticks": ""
             }
            },
            "type": "scattermapbox"
           }
          ],
          "scatterpolar": [
           {
            "marker": {
             "colorbar": {
              "outlinewidth": 0,
              "ticks": ""
             }
            },
            "type": "scatterpolar"
           }
          ],
          "scatterpolargl": [
           {
            "marker": {
             "colorbar": {
              "outlinewidth": 0,
              "ticks": ""
             }
            },
            "type": "scatterpolargl"
           }
          ],
          "scatterternary": [
           {
            "marker": {
             "colorbar": {
              "outlinewidth": 0,
              "ticks": ""
             }
            },
            "type": "scatterternary"
           }
          ],
          "surface": [
           {
            "colorbar": {
             "outlinewidth": 0,
             "ticks": ""
            },
            "colorscale": [
             [
              0,
              "#0d0887"
             ],
             [
              0.1111111111111111,
              "#46039f"
             ],
             [
              0.2222222222222222,
              "#7201a8"
             ],
             [
              0.3333333333333333,
              "#9c179e"
             ],
             [
              0.4444444444444444,
              "#bd3786"
             ],
             [
              0.5555555555555556,
              "#d8576b"
             ],
             [
              0.6666666666666666,
              "#ed7953"
             ],
             [
              0.7777777777777778,
              "#fb9f3a"
             ],
             [
              0.8888888888888888,
              "#fdca26"
             ],
             [
              1,
              "#f0f921"
             ]
            ],
            "type": "surface"
           }
          ],
          "table": [
           {
            "cells": {
             "fill": {
              "color": "#EBF0F8"
             },
             "line": {
              "color": "white"
             }
            },
            "header": {
             "fill": {
              "color": "#C8D4E3"
             },
             "line": {
              "color": "white"
             }
            },
            "type": "table"
           }
          ]
         },
         "layout": {
          "annotationdefaults": {
           "arrowcolor": "#2a3f5f",
           "arrowhead": 0,
           "arrowwidth": 1
          },
          "autotypenumbers": "strict",
          "coloraxis": {
           "colorbar": {
            "outlinewidth": 0,
            "ticks": ""
           }
          },
          "colorscale": {
           "diverging": [
            [
             0,
             "#8e0152"
            ],
            [
             0.1,
             "#c51b7d"
            ],
            [
             0.2,
             "#de77ae"
            ],
            [
             0.3,
             "#f1b6da"
            ],
            [
             0.4,
             "#fde0ef"
            ],
            [
             0.5,
             "#f7f7f7"
            ],
            [
             0.6,
             "#e6f5d0"
            ],
            [
             0.7,
             "#b8e186"
            ],
            [
             0.8,
             "#7fbc41"
            ],
            [
             0.9,
             "#4d9221"
            ],
            [
             1,
             "#276419"
            ]
           ],
           "sequential": [
            [
             0,
             "#0d0887"
            ],
            [
             0.1111111111111111,
             "#46039f"
            ],
            [
             0.2222222222222222,
             "#7201a8"
            ],
            [
             0.3333333333333333,
             "#9c179e"
            ],
            [
             0.4444444444444444,
             "#bd3786"
            ],
            [
             0.5555555555555556,
             "#d8576b"
            ],
            [
             0.6666666666666666,
             "#ed7953"
            ],
            [
             0.7777777777777778,
             "#fb9f3a"
            ],
            [
             0.8888888888888888,
             "#fdca26"
            ],
            [
             1,
             "#f0f921"
            ]
           ],
           "sequentialminus": [
            [
             0,
             "#0d0887"
            ],
            [
             0.1111111111111111,
             "#46039f"
            ],
            [
             0.2222222222222222,
             "#7201a8"
            ],
            [
             0.3333333333333333,
             "#9c179e"
            ],
            [
             0.4444444444444444,
             "#bd3786"
            ],
            [
             0.5555555555555556,
             "#d8576b"
            ],
            [
             0.6666666666666666,
             "#ed7953"
            ],
            [
             0.7777777777777778,
             "#fb9f3a"
            ],
            [
             0.8888888888888888,
             "#fdca26"
            ],
            [
             1,
             "#f0f921"
            ]
           ]
          },
          "colorway": [
           "#636efa",
           "#EF553B",
           "#00cc96",
           "#ab63fa",
           "#FFA15A",
           "#19d3f3",
           "#FF6692",
           "#B6E880",
           "#FF97FF",
           "#FECB52"
          ],
          "font": {
           "color": "#2a3f5f"
          },
          "geo": {
           "bgcolor": "white",
           "lakecolor": "white",
           "landcolor": "#E5ECF6",
           "showlakes": true,
           "showland": true,
           "subunitcolor": "white"
          },
          "hoverlabel": {
           "align": "left"
          },
          "hovermode": "closest",
          "mapbox": {
           "style": "light"
          },
          "paper_bgcolor": "white",
          "plot_bgcolor": "#E5ECF6",
          "polar": {
           "angularaxis": {
            "gridcolor": "white",
            "linecolor": "white",
            "ticks": ""
           },
           "bgcolor": "#E5ECF6",
           "radialaxis": {
            "gridcolor": "white",
            "linecolor": "white",
            "ticks": ""
           }
          },
          "scene": {
           "xaxis": {
            "backgroundcolor": "#E5ECF6",
            "gridcolor": "white",
            "gridwidth": 2,
            "linecolor": "white",
            "showbackground": true,
            "ticks": "",
            "zerolinecolor": "white"
           },
           "yaxis": {
            "backgroundcolor": "#E5ECF6",
            "gridcolor": "white",
            "gridwidth": 2,
            "linecolor": "white",
            "showbackground": true,
            "ticks": "",
            "zerolinecolor": "white"
           },
           "zaxis": {
            "backgroundcolor": "#E5ECF6",
            "gridcolor": "white",
            "gridwidth": 2,
            "linecolor": "white",
            "showbackground": true,
            "ticks": "",
            "zerolinecolor": "white"
           }
          },
          "shapedefaults": {
           "line": {
            "color": "#2a3f5f"
           }
          },
          "ternary": {
           "aaxis": {
            "gridcolor": "white",
            "linecolor": "white",
            "ticks": ""
           },
           "baxis": {
            "gridcolor": "white",
            "linecolor": "white",
            "ticks": ""
           },
           "bgcolor": "#E5ECF6",
           "caxis": {
            "gridcolor": "white",
            "linecolor": "white",
            "ticks": ""
           }
          },
          "title": {
           "x": 0.05
          },
          "xaxis": {
           "automargin": true,
           "gridcolor": "white",
           "linecolor": "white",
           "ticks": "",
           "title": {
            "standoff": 15
           },
           "zerolinecolor": "white",
           "zerolinewidth": 2
          },
          "yaxis": {
           "automargin": true,
           "gridcolor": "white",
           "linecolor": "white",
           "ticks": "",
           "title": {
            "standoff": 15
           },
           "zerolinecolor": "white",
           "zerolinewidth": 2
          }
         }
        },
        "title": {
         "text": "Ratio of Medals x Sport"
        },
        "xaxis": {
         "anchor": "y",
         "domain": [
          0,
          1
         ],
         "title": {
          "text": "Sports"
         }
        },
        "yaxis": {
         "anchor": "x",
         "domain": [
          0,
          1
         ],
         "title": {
          "text": "Medals in %"
         }
        }
       }
      },
      "text/html": [
       "<div>                            <div id=\"357481d1-dc57-4615-8744-f2040f1b8d26\" class=\"plotly-graph-div\" style=\"height:525px; width:100%;\"></div>            <script type=\"text/javascript\">                require([\"plotly\"], function(Plotly) {                    window.PLOTLYENV=window.PLOTLYENV || {};                                    if (document.getElementById(\"357481d1-dc57-4615-8744-f2040f1b8d26\")) {                    Plotly.newPlot(                        \"357481d1-dc57-4615-8744-f2040f1b8d26\",                        [{\"alignmentgroup\":\"True\",\"bingroup\":\"x\",\"histfunc\":\"sum\",\"hovertemplate\":\"Medal=Bronze<br>Sport=%{x}<br>sum of Event (normalized as percent)=%{y}<extra></extra>\",\"legendgroup\":\"Bronze\",\"marker\":{\"color\":\"darkorange\",\"opacity\":0.7,\"pattern\":{\"shape\":\"\"}},\"name\":\"Bronze\",\"offsetgroup\":\"Bronze\",\"orientation\":\"v\",\"showlegend\":true,\"texttemplate\":\"%{value}\",\"x\":[\"Athletics\",\"Football\",\"Judo\",\"Sailing\",\"Swimming\",\"Volleyball\"],\"xaxis\":\"x\",\"y\":[6,2,15,8,6,2],\"yaxis\":\"y\",\"type\":\"histogram\"},{\"alignmentgroup\":\"True\",\"bingroup\":\"x\",\"histfunc\":\"sum\",\"hovertemplate\":\"Medal=Silver<br>Sport=%{x}<br>sum of Event (normalized as percent)=%{y}<extra></extra>\",\"legendgroup\":\"Silver\",\"marker\":{\"color\":\"silver\",\"opacity\":0.7,\"pattern\":{\"shape\":\"\"}},\"name\":\"Silver\",\"offsetgroup\":\"Silver\",\"orientation\":\"v\",\"showlegend\":true,\"texttemplate\":\"%{value}\",\"x\":[\"Athletics\",\"Football\",\"Judo\",\"Sailing\",\"Swimming\",\"Volleyball\"],\"xaxis\":\"x\",\"y\":[2,5,3,3,4,3],\"yaxis\":\"y\",\"type\":\"histogram\"},{\"alignmentgroup\":\"True\",\"bingroup\":\"x\",\"histfunc\":\"sum\",\"hovertemplate\":\"Medal=Gold<br>Sport=%{x}<br>sum of Event (normalized as percent)=%{y}<extra></extra>\",\"legendgroup\":\"Gold\",\"marker\":{\"color\":\"gold\",\"opacity\":0.7,\"pattern\":{\"shape\":\"\"}},\"name\":\"Gold\",\"offsetgroup\":\"Gold\",\"orientation\":\"v\",\"showlegend\":true,\"texttemplate\":\"%{value}\",\"x\":[\"Athletics\",\"Football\",\"Judo\",\"Sailing\",\"Volleyball\"],\"xaxis\":\"x\",\"y\":[4,1,4,7,5],\"yaxis\":\"y\",\"type\":\"histogram\"}],                        {\"template\":{\"data\":{\"bar\":[{\"error_x\":{\"color\":\"#2a3f5f\"},\"error_y\":{\"color\":\"#2a3f5f\"},\"marker\":{\"line\":{\"color\":\"#E5ECF6\",\"width\":0.5},\"pattern\":{\"fillmode\":\"overlay\",\"size\":10,\"solidity\":0.2}},\"type\":\"bar\"}],\"barpolar\":[{\"marker\":{\"line\":{\"color\":\"#E5ECF6\",\"width\":0.5},\"pattern\":{\"fillmode\":\"overlay\",\"size\":10,\"solidity\":0.2}},\"type\":\"barpolar\"}],\"carpet\":[{\"aaxis\":{\"endlinecolor\":\"#2a3f5f\",\"gridcolor\":\"white\",\"linecolor\":\"white\",\"minorgridcolor\":\"white\",\"startlinecolor\":\"#2a3f5f\"},\"baxis\":{\"endlinecolor\":\"#2a3f5f\",\"gridcolor\":\"white\",\"linecolor\":\"white\",\"minorgridcolor\":\"white\",\"startlinecolor\":\"#2a3f5f\"},\"type\":\"carpet\"}],\"choropleth\":[{\"colorbar\":{\"outlinewidth\":0,\"ticks\":\"\"},\"type\":\"choropleth\"}],\"contour\":[{\"colorbar\":{\"outlinewidth\":0,\"ticks\":\"\"},\"colorscale\":[[0.0,\"#0d0887\"],[0.1111111111111111,\"#46039f\"],[0.2222222222222222,\"#7201a8\"],[0.3333333333333333,\"#9c179e\"],[0.4444444444444444,\"#bd3786\"],[0.5555555555555556,\"#d8576b\"],[0.6666666666666666,\"#ed7953\"],[0.7777777777777778,\"#fb9f3a\"],[0.8888888888888888,\"#fdca26\"],[1.0,\"#f0f921\"]],\"type\":\"contour\"}],\"contourcarpet\":[{\"colorbar\":{\"outlinewidth\":0,\"ticks\":\"\"},\"type\":\"contourcarpet\"}],\"heatmap\":[{\"colorbar\":{\"outlinewidth\":0,\"ticks\":\"\"},\"colorscale\":[[0.0,\"#0d0887\"],[0.1111111111111111,\"#46039f\"],[0.2222222222222222,\"#7201a8\"],[0.3333333333333333,\"#9c179e\"],[0.4444444444444444,\"#bd3786\"],[0.5555555555555556,\"#d8576b\"],[0.6666666666666666,\"#ed7953\"],[0.7777777777777778,\"#fb9f3a\"],[0.8888888888888888,\"#fdca26\"],[1.0,\"#f0f921\"]],\"type\":\"heatmap\"}],\"heatmapgl\":[{\"colorbar\":{\"outlinewidth\":0,\"ticks\":\"\"},\"colorscale\":[[0.0,\"#0d0887\"],[0.1111111111111111,\"#46039f\"],[0.2222222222222222,\"#7201a8\"],[0.3333333333333333,\"#9c179e\"],[0.4444444444444444,\"#bd3786\"],[0.5555555555555556,\"#d8576b\"],[0.6666666666666666,\"#ed7953\"],[0.7777777777777778,\"#fb9f3a\"],[0.8888888888888888,\"#fdca26\"],[1.0,\"#f0f921\"]],\"type\":\"heatmapgl\"}],\"histogram\":[{\"marker\":{\"pattern\":{\"fillmode\":\"overlay\",\"size\":10,\"solidity\":0.2}},\"type\":\"histogram\"}],\"histogram2d\":[{\"colorbar\":{\"outlinewidth\":0,\"ticks\":\"\"},\"colorscale\":[[0.0,\"#0d0887\"],[0.1111111111111111,\"#46039f\"],[0.2222222222222222,\"#7201a8\"],[0.3333333333333333,\"#9c179e\"],[0.4444444444444444,\"#bd3786\"],[0.5555555555555556,\"#d8576b\"],[0.6666666666666666,\"#ed7953\"],[0.7777777777777778,\"#fb9f3a\"],[0.8888888888888888,\"#fdca26\"],[1.0,\"#f0f921\"]],\"type\":\"histogram2d\"}],\"histogram2dcontour\":[{\"colorbar\":{\"outlinewidth\":0,\"ticks\":\"\"},\"colorscale\":[[0.0,\"#0d0887\"],[0.1111111111111111,\"#46039f\"],[0.2222222222222222,\"#7201a8\"],[0.3333333333333333,\"#9c179e\"],[0.4444444444444444,\"#bd3786\"],[0.5555555555555556,\"#d8576b\"],[0.6666666666666666,\"#ed7953\"],[0.7777777777777778,\"#fb9f3a\"],[0.8888888888888888,\"#fdca26\"],[1.0,\"#f0f921\"]],\"type\":\"histogram2dcontour\"}],\"mesh3d\":[{\"colorbar\":{\"outlinewidth\":0,\"ticks\":\"\"},\"type\":\"mesh3d\"}],\"parcoords\":[{\"line\":{\"colorbar\":{\"outlinewidth\":0,\"ticks\":\"\"}},\"type\":\"parcoords\"}],\"pie\":[{\"automargin\":true,\"type\":\"pie\"}],\"scatter\":[{\"marker\":{\"colorbar\":{\"outlinewidth\":0,\"ticks\":\"\"}},\"type\":\"scatter\"}],\"scatter3d\":[{\"line\":{\"colorbar\":{\"outlinewidth\":0,\"ticks\":\"\"}},\"marker\":{\"colorbar\":{\"outlinewidth\":0,\"ticks\":\"\"}},\"type\":\"scatter3d\"}],\"scattercarpet\":[{\"marker\":{\"colorbar\":{\"outlinewidth\":0,\"ticks\":\"\"}},\"type\":\"scattercarpet\"}],\"scattergeo\":[{\"marker\":{\"colorbar\":{\"outlinewidth\":0,\"ticks\":\"\"}},\"type\":\"scattergeo\"}],\"scattergl\":[{\"marker\":{\"colorbar\":{\"outlinewidth\":0,\"ticks\":\"\"}},\"type\":\"scattergl\"}],\"scattermapbox\":[{\"marker\":{\"colorbar\":{\"outlinewidth\":0,\"ticks\":\"\"}},\"type\":\"scattermapbox\"}],\"scatterpolar\":[{\"marker\":{\"colorbar\":{\"outlinewidth\":0,\"ticks\":\"\"}},\"type\":\"scatterpolar\"}],\"scatterpolargl\":[{\"marker\":{\"colorbar\":{\"outlinewidth\":0,\"ticks\":\"\"}},\"type\":\"scatterpolargl\"}],\"scatterternary\":[{\"marker\":{\"colorbar\":{\"outlinewidth\":0,\"ticks\":\"\"}},\"type\":\"scatterternary\"}],\"surface\":[{\"colorbar\":{\"outlinewidth\":0,\"ticks\":\"\"},\"colorscale\":[[0.0,\"#0d0887\"],[0.1111111111111111,\"#46039f\"],[0.2222222222222222,\"#7201a8\"],[0.3333333333333333,\"#9c179e\"],[0.4444444444444444,\"#bd3786\"],[0.5555555555555556,\"#d8576b\"],[0.6666666666666666,\"#ed7953\"],[0.7777777777777778,\"#fb9f3a\"],[0.8888888888888888,\"#fdca26\"],[1.0,\"#f0f921\"]],\"type\":\"surface\"}],\"table\":[{\"cells\":{\"fill\":{\"color\":\"#EBF0F8\"},\"line\":{\"color\":\"white\"}},\"header\":{\"fill\":{\"color\":\"#C8D4E3\"},\"line\":{\"color\":\"white\"}},\"type\":\"table\"}]},\"layout\":{\"annotationdefaults\":{\"arrowcolor\":\"#2a3f5f\",\"arrowhead\":0,\"arrowwidth\":1},\"autotypenumbers\":\"strict\",\"coloraxis\":{\"colorbar\":{\"outlinewidth\":0,\"ticks\":\"\"}},\"colorscale\":{\"diverging\":[[0,\"#8e0152\"],[0.1,\"#c51b7d\"],[0.2,\"#de77ae\"],[0.3,\"#f1b6da\"],[0.4,\"#fde0ef\"],[0.5,\"#f7f7f7\"],[0.6,\"#e6f5d0\"],[0.7,\"#b8e186\"],[0.8,\"#7fbc41\"],[0.9,\"#4d9221\"],[1,\"#276419\"]],\"sequential\":[[0.0,\"#0d0887\"],[0.1111111111111111,\"#46039f\"],[0.2222222222222222,\"#7201a8\"],[0.3333333333333333,\"#9c179e\"],[0.4444444444444444,\"#bd3786\"],[0.5555555555555556,\"#d8576b\"],[0.6666666666666666,\"#ed7953\"],[0.7777777777777778,\"#fb9f3a\"],[0.8888888888888888,\"#fdca26\"],[1.0,\"#f0f921\"]],\"sequentialminus\":[[0.0,\"#0d0887\"],[0.1111111111111111,\"#46039f\"],[0.2222222222222222,\"#7201a8\"],[0.3333333333333333,\"#9c179e\"],[0.4444444444444444,\"#bd3786\"],[0.5555555555555556,\"#d8576b\"],[0.6666666666666666,\"#ed7953\"],[0.7777777777777778,\"#fb9f3a\"],[0.8888888888888888,\"#fdca26\"],[1.0,\"#f0f921\"]]},\"colorway\":[\"#636efa\",\"#EF553B\",\"#00cc96\",\"#ab63fa\",\"#FFA15A\",\"#19d3f3\",\"#FF6692\",\"#B6E880\",\"#FF97FF\",\"#FECB52\"],\"font\":{\"color\":\"#2a3f5f\"},\"geo\":{\"bgcolor\":\"white\",\"lakecolor\":\"white\",\"landcolor\":\"#E5ECF6\",\"showlakes\":true,\"showland\":true,\"subunitcolor\":\"white\"},\"hoverlabel\":{\"align\":\"left\"},\"hovermode\":\"closest\",\"mapbox\":{\"style\":\"light\"},\"paper_bgcolor\":\"white\",\"plot_bgcolor\":\"#E5ECF6\",\"polar\":{\"angularaxis\":{\"gridcolor\":\"white\",\"linecolor\":\"white\",\"ticks\":\"\"},\"bgcolor\":\"#E5ECF6\",\"radialaxis\":{\"gridcolor\":\"white\",\"linecolor\":\"white\",\"ticks\":\"\"}},\"scene\":{\"xaxis\":{\"backgroundcolor\":\"#E5ECF6\",\"gridcolor\":\"white\",\"gridwidth\":2,\"linecolor\":\"white\",\"showbackground\":true,\"ticks\":\"\",\"zerolinecolor\":\"white\"},\"yaxis\":{\"backgroundcolor\":\"#E5ECF6\",\"gridcolor\":\"white\",\"gridwidth\":2,\"linecolor\":\"white\",\"showbackground\":true,\"ticks\":\"\",\"zerolinecolor\":\"white\"},\"zaxis\":{\"backgroundcolor\":\"#E5ECF6\",\"gridcolor\":\"white\",\"gridwidth\":2,\"linecolor\":\"white\",\"showbackground\":true,\"ticks\":\"\",\"zerolinecolor\":\"white\"}},\"shapedefaults\":{\"line\":{\"color\":\"#2a3f5f\"}},\"ternary\":{\"aaxis\":{\"gridcolor\":\"white\",\"linecolor\":\"white\",\"ticks\":\"\"},\"baxis\":{\"gridcolor\":\"white\",\"linecolor\":\"white\",\"ticks\":\"\"},\"bgcolor\":\"#E5ECF6\",\"caxis\":{\"gridcolor\":\"white\",\"linecolor\":\"white\",\"ticks\":\"\"}},\"title\":{\"x\":0.05},\"xaxis\":{\"automargin\":true,\"gridcolor\":\"white\",\"linecolor\":\"white\",\"ticks\":\"\",\"title\":{\"standoff\":15},\"zerolinecolor\":\"white\",\"zerolinewidth\":2},\"yaxis\":{\"automargin\":true,\"gridcolor\":\"white\",\"linecolor\":\"white\",\"ticks\":\"\",\"title\":{\"standoff\":15},\"zerolinecolor\":\"white\",\"zerolinewidth\":2}}},\"xaxis\":{\"anchor\":\"y\",\"domain\":[0.0,1.0],\"title\":{\"text\":\"Sports\"}},\"yaxis\":{\"anchor\":\"x\",\"domain\":[0.0,1.0],\"title\":{\"text\":\"Medals in %\"}},\"legend\":{\"title\":{\"text\":\"Medal\"},\"tracegroupgap\":0},\"title\":{\"text\":\"Ratio of Medals x Sport\"},\"barmode\":\"relative\",\"barnorm\":\"percent\",\"annotations\":[{\"ax\":0,\"ay\":-80,\"font\":{\"color\":\"#e67e22\",\"family\":\"Nunito\",\"size\":16},\"showarrow\":false,\"text\":\"Totals:                                13                                              8                                              22                                            18                                        9                                        10\",\"x\":2,\"xref\":\"x\",\"y\":115,\"yref\":\"y\"}]},                        {\"responsive\": true}                    ).then(function(){\n",
       "                            \n",
       "var gd = document.getElementById('357481d1-dc57-4615-8744-f2040f1b8d26');\n",
       "var x = new MutationObserver(function (mutations, observer) {{\n",
       "        var display = window.getComputedStyle(gd).display;\n",
       "        if (!display || display === 'none') {{\n",
       "            console.log([gd, 'removed!']);\n",
       "            Plotly.purge(gd);\n",
       "            observer.disconnect();\n",
       "        }}\n",
       "}});\n",
       "\n",
       "// Listen for the removal of the full notebook cells\n",
       "var notebookContainer = gd.closest('#notebook-container');\n",
       "if (notebookContainer) {{\n",
       "    x.observe(notebookContainer, {childList: true});\n",
       "}}\n",
       "\n",
       "// Listen for the clearing of the current output cell\n",
       "var outputEl = gd.closest('.output');\n",
       "if (outputEl) {{\n",
       "    x.observe(outputEl, {childList: true});\n",
       "}}\n",
       "\n",
       "                        })                };                });            </script>        </div>"
      ]
     },
     "metadata": {},
     "output_type": "display_data"
    }
   ],
   "source": [
    "fig = px.histogram(x='Sport', y=\"Event\", data_frame=br_6_group, color='Medal',\n",
    "                   category_orders={'Medal': ['Bronze','Silver','Gold']},\n",
    "                   color_discrete_sequence=['darkorange','silver','gold'], opacity=0.7,\n",
    "                   barnorm='percent', text_auto=True, title = 'Ratio of Medals x Sport')\n",
    "fig.update_layout(annotations=[{\n",
    "    'text':'Totals:                                13                                              8                                              22                                            18                                        9                                        10',\n",
    "    'xref':'x',    \n",
    "    'yref':'y', \n",
    "    'x':2, \n",
    "    'y':115,\n",
    "    'showarrow':False,\n",
    "    'ax': 0,\n",
    "    'ay': -80,\n",
    "    'font':dict(\n",
    "            family=\"Nunito\",\n",
    "            size=16,\n",
    "            color=\"#e67e22\"\n",
    "            )\n",
    "}])\n",
    "\n",
    "fig.update_xaxes(title='Sports')\n",
    "fig.update_yaxes(title='Medals in %')"
   ]
  },
  {
   "cell_type": "markdown",
   "id": "C2lQyFUpXUF4",
   "metadata": {
    "id": "C2lQyFUpXUF4"
   },
   "source": [
    "GRÁFICO DE BARRAS EMPILHADAS (NORMALIZADAS)\n",
    "\n",
    "Este gráfico foi escolhido, em detrimento dos de pizza, pela facilidade da visualização de todos os 6 esportes com mais medalhas em uma mesma plotagem. Como se pode observar, a proporção é visível tanto nas cores escolhidas para cada tipo de medalha como no valor exibido no topo de cada barra.\n",
    "\n",
    "Com esse gráfico é possível observar que, ao longo deste século contemplado no Data Frame, o esporte em equipel Volleyball é o que nos trouxe a maior proporção de medalhas de ouro e que o futebol (que é considerado o esporte nacional) ironicamente nos traz a menor proporção destas.\n",
    "\n",
    "AVALIAR:\n",
    "Outras observações também podem ser feitas comparando-se as proporções de medalhas, sendo este um gráfico de leitura fácil, que nos permite colocar em uma tela todas as informações na \"mesma pauta\", diferente de um conjunto de gráficos de pizza que nos forçaria a colocar, talvez, dois conjuntos de 3 e prejudicar um pouco a visualização e leitura, por dar a impressão que são 6 gráificos em vez de um só, a possível necessidade de uma edição adicional para que apenas um título aparecesse, em vez de 6, assim como os labels de cores."
   ]
  },
  {
   "cell_type": "markdown",
   "id": "3a5951fa",
   "metadata": {
    "id": "5669892d"
   },
   "source": [
    "<font size=+3>4. Para finalizar a história do Brasil, vamos ver a série temporal de medalhas brasileiras.</font>\n",
    "\n",
    "Crie um gráfico de sua escolha, que mostre o total de medalhas de ouro, prata e bronze, por edição da olimpíada (em ordem cronológica).\n",
    "\n",
    "DICA: Mais uma vez, tome cuidado com os esportes em grupo - os contabilize apenas uma vez!"
   ]
  },
  {
   "cell_type": "code",
   "execution_count": 68,
   "id": "643c827a",
   "metadata": {
    "scrolled": false
   },
   "outputs": [
    {
     "data": {
      "text/html": [
       "<div>\n",
       "<style scoped>\n",
       "    .dataframe tbody tr th:only-of-type {\n",
       "        vertical-align: middle;\n",
       "    }\n",
       "\n",
       "    .dataframe tbody tr th {\n",
       "        vertical-align: top;\n",
       "    }\n",
       "\n",
       "    .dataframe thead th {\n",
       "        text-align: right;\n",
       "    }\n",
       "</style>\n",
       "<table border=\"1\" class=\"dataframe\">\n",
       "  <thead>\n",
       "    <tr style=\"text-align: right;\">\n",
       "      <th></th>\n",
       "      <th>ID</th>\n",
       "      <th>Name</th>\n",
       "      <th>Sex</th>\n",
       "      <th>Age</th>\n",
       "      <th>Height</th>\n",
       "      <th>Weight</th>\n",
       "      <th>Team</th>\n",
       "      <th>NOC</th>\n",
       "      <th>Games</th>\n",
       "      <th>Year</th>\n",
       "      <th>Season</th>\n",
       "      <th>City</th>\n",
       "      <th>Sport</th>\n",
       "      <th>Event</th>\n",
       "      <th>Medal</th>\n",
       "    </tr>\n",
       "  </thead>\n",
       "  <tbody>\n",
       "    <tr>\n",
       "      <th>181713</th>\n",
       "      <td>91332</td>\n",
       "      <td>Guilherme Paraense</td>\n",
       "      <td>M</td>\n",
       "      <td>35.0</td>\n",
       "      <td>NaN</td>\n",
       "      <td>NaN</td>\n",
       "      <td>Brazil</td>\n",
       "      <td>BRA</td>\n",
       "      <td>1920 Summer</td>\n",
       "      <td>1920</td>\n",
       "      <td>Summer</td>\n",
       "      <td>Antwerpen</td>\n",
       "      <td>Shooting</td>\n",
       "      <td>Shooting Men's Military Pistol, 30 metres</td>\n",
       "      <td>Gold</td>\n",
       "    </tr>\n",
       "    <tr>\n",
       "      <th>14409</th>\n",
       "      <td>7767</td>\n",
       "      <td>Dario Barbosa</td>\n",
       "      <td>M</td>\n",
       "      <td>37.0</td>\n",
       "      <td>NaN</td>\n",
       "      <td>NaN</td>\n",
       "      <td>Brazil</td>\n",
       "      <td>BRA</td>\n",
       "      <td>1920 Summer</td>\n",
       "      <td>1920</td>\n",
       "      <td>Summer</td>\n",
       "      <td>Antwerpen</td>\n",
       "      <td>Shooting</td>\n",
       "      <td>Shooting Men's Free Pistol, 50 metres, Team</td>\n",
       "      <td>Bronze</td>\n",
       "    </tr>\n",
       "    <tr>\n",
       "      <th>47792</th>\n",
       "      <td>24637</td>\n",
       "      <td>Afrnio Antnio da Costa</td>\n",
       "      <td>M</td>\n",
       "      <td>28.0</td>\n",
       "      <td>178.0</td>\n",
       "      <td>NaN</td>\n",
       "      <td>Brazil</td>\n",
       "      <td>BRA</td>\n",
       "      <td>1920 Summer</td>\n",
       "      <td>1920</td>\n",
       "      <td>Summer</td>\n",
       "      <td>Antwerpen</td>\n",
       "      <td>Shooting</td>\n",
       "      <td>Shooting Men's Free Pistol, 50 metres</td>\n",
       "      <td>Silver</td>\n",
       "    </tr>\n",
       "    <tr>\n",
       "      <th>4642</th>\n",
       "      <td>2648</td>\n",
       "      <td>Zenny \"Algodo\" de Azevedo</td>\n",
       "      <td>M</td>\n",
       "      <td>23.0</td>\n",
       "      <td>183.0</td>\n",
       "      <td>77.0</td>\n",
       "      <td>Brazil</td>\n",
       "      <td>BRA</td>\n",
       "      <td>1948 Summer</td>\n",
       "      <td>1948</td>\n",
       "      <td>Summer</td>\n",
       "      <td>London</td>\n",
       "      <td>Basketball</td>\n",
       "      <td>Basketball Men's Basketball</td>\n",
       "      <td>Bronze</td>\n",
       "    </tr>\n",
       "    <tr>\n",
       "      <th>175891</th>\n",
       "      <td>88419</td>\n",
       "      <td>Tetsuo Okamoto</td>\n",
       "      <td>M</td>\n",
       "      <td>20.0</td>\n",
       "      <td>NaN</td>\n",
       "      <td>NaN</td>\n",
       "      <td>Brazil</td>\n",
       "      <td>BRA</td>\n",
       "      <td>1952 Summer</td>\n",
       "      <td>1952</td>\n",
       "      <td>Summer</td>\n",
       "      <td>Helsinki</td>\n",
       "      <td>Swimming</td>\n",
       "      <td>Swimming Men's 1,500 metres Freestyle</td>\n",
       "      <td>Bronze</td>\n",
       "    </tr>\n",
       "  </tbody>\n",
       "</table>\n",
       "</div>"
      ],
      "text/plain": [
       "           ID                       Name Sex   Age  Height  Weight    Team  \\\n",
       "181713  91332         Guilherme Paraense   M  35.0     NaN     NaN  Brazil   \n",
       "14409    7767              Dario Barbosa   M  37.0     NaN     NaN  Brazil   \n",
       "47792   24637     Afrnio Antnio da Costa   M  28.0   178.0     NaN  Brazil   \n",
       "4642     2648  Zenny \"Algodo\" de Azevedo   M  23.0   183.0    77.0  Brazil   \n",
       "175891  88419             Tetsuo Okamoto   M  20.0     NaN     NaN  Brazil   \n",
       "\n",
       "        NOC        Games  Year  Season       City       Sport  \\\n",
       "181713  BRA  1920 Summer  1920  Summer  Antwerpen    Shooting   \n",
       "14409   BRA  1920 Summer  1920  Summer  Antwerpen    Shooting   \n",
       "47792   BRA  1920 Summer  1920  Summer  Antwerpen    Shooting   \n",
       "4642    BRA  1948 Summer  1948  Summer     London  Basketball   \n",
       "175891  BRA  1952 Summer  1952  Summer   Helsinki    Swimming   \n",
       "\n",
       "                                              Event   Medal  \n",
       "181713    Shooting Men's Military Pistol, 30 metres    Gold  \n",
       "14409   Shooting Men's Free Pistol, 50 metres, Team  Bronze  \n",
       "47792         Shooting Men's Free Pistol, 50 metres  Silver  \n",
       "4642                    Basketball Men's Basketball  Bronze  \n",
       "175891        Swimming Men's 1,500 metres Freestyle  Bronze  "
      ]
     },
     "execution_count": 68,
     "metadata": {},
     "output_type": "execute_result"
    }
   ],
   "source": [
    "df = pd.read_csv('data/athlete_events.csv')\n",
    "br4 = df[df['Team'] == 'Brazil'].copy()\n",
    "br4.dropna(subset=['Medal'], inplace=True)\n",
    "br_uniq = br4.drop_duplicates(subset=['Year', 'Event'], keep='first').copy()\n",
    "br_uniq.sort_values(by='Year').head()"
   ]
  },
  {
   "cell_type": "markdown",
   "id": "a5a1f501",
   "metadata": {},
   "source": [
    "No gráfico abaixo podemos observar um histograma de barras com as quantidades de medalhas obtidas a cada 4 anos, proximadamente. Esse gráfico se mostra útil, por em apenas uma visualização ser capaz de informar não apenas a quantidade de melhadas por tipo, como também observar o aumento das vitórias ao longo dos anos.\n",
    "\n",
    "OBS.: de acordo com o Data Frame, não há medalhas contabilizadas antes do ano de 1920"
   ]
  },
  {
   "cell_type": "code",
   "execution_count": 70,
   "id": "3363370a",
   "metadata": {
    "scrolled": false
   },
   "outputs": [
    {
     "data": {
      "application/vnd.plotly.v1+json": {
       "config": {
        "plotlyServerURL": "https://plot.ly"
       },
       "data": [
        {
         "alignmentgroup": "True",
         "bingroup": "x",
         "hovertemplate": "Medal=Bronze<br>Year=%{x}<br>count=%{y}<extra></extra>",
         "legendgroup": "Bronze",
         "marker": {
          "color": "darkorange",
          "opacity": 0.7,
          "pattern": {
           "shape": ""
          }
         },
         "name": "Bronze",
         "nbinsx": 50,
         "offsetgroup": "Bronze",
         "orientation": "v",
         "showlegend": true,
         "texttemplate": "%{value}",
         "type": "histogram",
         "x": [
          2000,
          1996,
          2008,
          1948,
          1960,
          1964,
          1996,
          2012,
          1920,
          1996,
          2000,
          2008,
          2004,
          1984,
          2008,
          2012,
          1968,
          1976,
          1952,
          1996,
          2012,
          2016,
          2012,
          2016,
          1988,
          1996,
          2000,
          2008,
          2004,
          1976,
          1980,
          1968,
          1980,
          1960,
          2000,
          2008,
          1988,
          2012,
          2000,
          1988,
          1996,
          2004,
          2008,
          1996,
          1972,
          2012,
          2012,
          1996,
          1952,
          2016,
          2008,
          1984,
          2012,
          1972,
          2008,
          2016,
          1996,
          2016
         ],
         "xaxis": "x",
         "yaxis": "y"
        },
        {
         "alignmentgroup": "True",
         "bingroup": "x",
         "hovertemplate": "Medal=Silver<br>Year=%{x}<br>count=%{y}<extra></extra>",
         "legendgroup": "Silver",
         "marker": {
          "color": "silver",
          "opacity": 0.7,
          "pattern": {
           "shape": ""
          }
         },
         "name": "Silver",
         "nbinsx": 50,
         "offsetgroup": "Silver",
         "orientation": "v",
         "showlegend": true,
         "texttemplate": "%{value}",
         "type": "histogram",
         "x": [
          1984,
          1988,
          1984,
          1996,
          2012,
          2004,
          2012,
          1984,
          2008,
          2008,
          1992,
          1996,
          2000,
          1988,
          1920,
          2000,
          2012,
          2000,
          2016,
          2012,
          2008,
          1984,
          1968,
          2016,
          2016,
          2000,
          1984,
          2016,
          2016
         ],
         "xaxis": "x",
         "yaxis": "y"
        },
        {
         "alignmentgroup": "True",
         "bingroup": "x",
         "hovertemplate": "Medal=Gold<br>Year=%{x}<br>count=%{y}<extra></extra>",
         "legendgroup": "Gold",
         "marker": {
          "color": "gold",
          "opacity": 0.7,
          "pattern": {
           "shape": ""
          }
         },
         "name": "Gold",
         "nbinsx": 50,
         "offsetgroup": "Gold",
         "orientation": "v",
         "showlegend": true,
         "texttemplate": "%{value}",
         "type": "histogram",
         "x": [
          2012,
          1992,
          2004,
          2016,
          1980,
          2016,
          1992,
          2008,
          2008,
          2016,
          1984,
          1952,
          1956,
          2016,
          1996,
          2004,
          2016,
          2008,
          2012,
          1988,
          1920,
          1980,
          2004,
          1996,
          2004,
          2016,
          2012
         ],
         "xaxis": "x",
         "yaxis": "y"
        }
       ],
       "layout": {
        "barmode": "relative",
        "legend": {
         "title": {
          "text": "MEDAL"
         },
         "tracegroupgap": 0
        },
        "template": {
         "data": {
          "bar": [
           {
            "error_x": {
             "color": "#2a3f5f"
            },
            "error_y": {
             "color": "#2a3f5f"
            },
            "marker": {
             "line": {
              "color": "#E5ECF6",
              "width": 0.5
             },
             "pattern": {
              "fillmode": "overlay",
              "size": 10,
              "solidity": 0.2
             }
            },
            "type": "bar"
           }
          ],
          "barpolar": [
           {
            "marker": {
             "line": {
              "color": "#E5ECF6",
              "width": 0.5
             },
             "pattern": {
              "fillmode": "overlay",
              "size": 10,
              "solidity": 0.2
             }
            },
            "type": "barpolar"
           }
          ],
          "carpet": [
           {
            "aaxis": {
             "endlinecolor": "#2a3f5f",
             "gridcolor": "white",
             "linecolor": "white",
             "minorgridcolor": "white",
             "startlinecolor": "#2a3f5f"
            },
            "baxis": {
             "endlinecolor": "#2a3f5f",
             "gridcolor": "white",
             "linecolor": "white",
             "minorgridcolor": "white",
             "startlinecolor": "#2a3f5f"
            },
            "type": "carpet"
           }
          ],
          "choropleth": [
           {
            "colorbar": {
             "outlinewidth": 0,
             "ticks": ""
            },
            "type": "choropleth"
           }
          ],
          "contour": [
           {
            "colorbar": {
             "outlinewidth": 0,
             "ticks": ""
            },
            "colorscale": [
             [
              0,
              "#0d0887"
             ],
             [
              0.1111111111111111,
              "#46039f"
             ],
             [
              0.2222222222222222,
              "#7201a8"
             ],
             [
              0.3333333333333333,
              "#9c179e"
             ],
             [
              0.4444444444444444,
              "#bd3786"
             ],
             [
              0.5555555555555556,
              "#d8576b"
             ],
             [
              0.6666666666666666,
              "#ed7953"
             ],
             [
              0.7777777777777778,
              "#fb9f3a"
             ],
             [
              0.8888888888888888,
              "#fdca26"
             ],
             [
              1,
              "#f0f921"
             ]
            ],
            "type": "contour"
           }
          ],
          "contourcarpet": [
           {
            "colorbar": {
             "outlinewidth": 0,
             "ticks": ""
            },
            "type": "contourcarpet"
           }
          ],
          "heatmap": [
           {
            "colorbar": {
             "outlinewidth": 0,
             "ticks": ""
            },
            "colorscale": [
             [
              0,
              "#0d0887"
             ],
             [
              0.1111111111111111,
              "#46039f"
             ],
             [
              0.2222222222222222,
              "#7201a8"
             ],
             [
              0.3333333333333333,
              "#9c179e"
             ],
             [
              0.4444444444444444,
              "#bd3786"
             ],
             [
              0.5555555555555556,
              "#d8576b"
             ],
             [
              0.6666666666666666,
              "#ed7953"
             ],
             [
              0.7777777777777778,
              "#fb9f3a"
             ],
             [
              0.8888888888888888,
              "#fdca26"
             ],
             [
              1,
              "#f0f921"
             ]
            ],
            "type": "heatmap"
           }
          ],
          "heatmapgl": [
           {
            "colorbar": {
             "outlinewidth": 0,
             "ticks": ""
            },
            "colorscale": [
             [
              0,
              "#0d0887"
             ],
             [
              0.1111111111111111,
              "#46039f"
             ],
             [
              0.2222222222222222,
              "#7201a8"
             ],
             [
              0.3333333333333333,
              "#9c179e"
             ],
             [
              0.4444444444444444,
              "#bd3786"
             ],
             [
              0.5555555555555556,
              "#d8576b"
             ],
             [
              0.6666666666666666,
              "#ed7953"
             ],
             [
              0.7777777777777778,
              "#fb9f3a"
             ],
             [
              0.8888888888888888,
              "#fdca26"
             ],
             [
              1,
              "#f0f921"
             ]
            ],
            "type": "heatmapgl"
           }
          ],
          "histogram": [
           {
            "marker": {
             "pattern": {
              "fillmode": "overlay",
              "size": 10,
              "solidity": 0.2
             }
            },
            "type": "histogram"
           }
          ],
          "histogram2d": [
           {
            "colorbar": {
             "outlinewidth": 0,
             "ticks": ""
            },
            "colorscale": [
             [
              0,
              "#0d0887"
             ],
             [
              0.1111111111111111,
              "#46039f"
             ],
             [
              0.2222222222222222,
              "#7201a8"
             ],
             [
              0.3333333333333333,
              "#9c179e"
             ],
             [
              0.4444444444444444,
              "#bd3786"
             ],
             [
              0.5555555555555556,
              "#d8576b"
             ],
             [
              0.6666666666666666,
              "#ed7953"
             ],
             [
              0.7777777777777778,
              "#fb9f3a"
             ],
             [
              0.8888888888888888,
              "#fdca26"
             ],
             [
              1,
              "#f0f921"
             ]
            ],
            "type": "histogram2d"
           }
          ],
          "histogram2dcontour": [
           {
            "colorbar": {
             "outlinewidth": 0,
             "ticks": ""
            },
            "colorscale": [
             [
              0,
              "#0d0887"
             ],
             [
              0.1111111111111111,
              "#46039f"
             ],
             [
              0.2222222222222222,
              "#7201a8"
             ],
             [
              0.3333333333333333,
              "#9c179e"
             ],
             [
              0.4444444444444444,
              "#bd3786"
             ],
             [
              0.5555555555555556,
              "#d8576b"
             ],
             [
              0.6666666666666666,
              "#ed7953"
             ],
             [
              0.7777777777777778,
              "#fb9f3a"
             ],
             [
              0.8888888888888888,
              "#fdca26"
             ],
             [
              1,
              "#f0f921"
             ]
            ],
            "type": "histogram2dcontour"
           }
          ],
          "mesh3d": [
           {
            "colorbar": {
             "outlinewidth": 0,
             "ticks": ""
            },
            "type": "mesh3d"
           }
          ],
          "parcoords": [
           {
            "line": {
             "colorbar": {
              "outlinewidth": 0,
              "ticks": ""
             }
            },
            "type": "parcoords"
           }
          ],
          "pie": [
           {
            "automargin": true,
            "type": "pie"
           }
          ],
          "scatter": [
           {
            "marker": {
             "colorbar": {
              "outlinewidth": 0,
              "ticks": ""
             }
            },
            "type": "scatter"
           }
          ],
          "scatter3d": [
           {
            "line": {
             "colorbar": {
              "outlinewidth": 0,
              "ticks": ""
             }
            },
            "marker": {
             "colorbar": {
              "outlinewidth": 0,
              "ticks": ""
             }
            },
            "type": "scatter3d"
           }
          ],
          "scattercarpet": [
           {
            "marker": {
             "colorbar": {
              "outlinewidth": 0,
              "ticks": ""
             }
            },
            "type": "scattercarpet"
           }
          ],
          "scattergeo": [
           {
            "marker": {
             "colorbar": {
              "outlinewidth": 0,
              "ticks": ""
             }
            },
            "type": "scattergeo"
           }
          ],
          "scattergl": [
           {
            "marker": {
             "colorbar": {
              "outlinewidth": 0,
              "ticks": ""
             }
            },
            "type": "scattergl"
           }
          ],
          "scattermapbox": [
           {
            "marker": {
             "colorbar": {
              "outlinewidth": 0,
              "ticks": ""
             }
            },
            "type": "scattermapbox"
           }
          ],
          "scatterpolar": [
           {
            "marker": {
             "colorbar": {
              "outlinewidth": 0,
              "ticks": ""
             }
            },
            "type": "scatterpolar"
           }
          ],
          "scatterpolargl": [
           {
            "marker": {
             "colorbar": {
              "outlinewidth": 0,
              "ticks": ""
             }
            },
            "type": "scatterpolargl"
           }
          ],
          "scatterternary": [
           {
            "marker": {
             "colorbar": {
              "outlinewidth": 0,
              "ticks": ""
             }
            },
            "type": "scatterternary"
           }
          ],
          "surface": [
           {
            "colorbar": {
             "outlinewidth": 0,
             "ticks": ""
            },
            "colorscale": [
             [
              0,
              "#0d0887"
             ],
             [
              0.1111111111111111,
              "#46039f"
             ],
             [
              0.2222222222222222,
              "#7201a8"
             ],
             [
              0.3333333333333333,
              "#9c179e"
             ],
             [
              0.4444444444444444,
              "#bd3786"
             ],
             [
              0.5555555555555556,
              "#d8576b"
             ],
             [
              0.6666666666666666,
              "#ed7953"
             ],
             [
              0.7777777777777778,
              "#fb9f3a"
             ],
             [
              0.8888888888888888,
              "#fdca26"
             ],
             [
              1,
              "#f0f921"
             ]
            ],
            "type": "surface"
           }
          ],
          "table": [
           {
            "cells": {
             "fill": {
              "color": "#EBF0F8"
             },
             "line": {
              "color": "white"
             }
            },
            "header": {
             "fill": {
              "color": "#C8D4E3"
             },
             "line": {
              "color": "white"
             }
            },
            "type": "table"
           }
          ]
         },
         "layout": {
          "annotationdefaults": {
           "arrowcolor": "#2a3f5f",
           "arrowhead": 0,
           "arrowwidth": 1
          },
          "autotypenumbers": "strict",
          "coloraxis": {
           "colorbar": {
            "outlinewidth": 0,
            "ticks": ""
           }
          },
          "colorscale": {
           "diverging": [
            [
             0,
             "#8e0152"
            ],
            [
             0.1,
             "#c51b7d"
            ],
            [
             0.2,
             "#de77ae"
            ],
            [
             0.3,
             "#f1b6da"
            ],
            [
             0.4,
             "#fde0ef"
            ],
            [
             0.5,
             "#f7f7f7"
            ],
            [
             0.6,
             "#e6f5d0"
            ],
            [
             0.7,
             "#b8e186"
            ],
            [
             0.8,
             "#7fbc41"
            ],
            [
             0.9,
             "#4d9221"
            ],
            [
             1,
             "#276419"
            ]
           ],
           "sequential": [
            [
             0,
             "#0d0887"
            ],
            [
             0.1111111111111111,
             "#46039f"
            ],
            [
             0.2222222222222222,
             "#7201a8"
            ],
            [
             0.3333333333333333,
             "#9c179e"
            ],
            [
             0.4444444444444444,
             "#bd3786"
            ],
            [
             0.5555555555555556,
             "#d8576b"
            ],
            [
             0.6666666666666666,
             "#ed7953"
            ],
            [
             0.7777777777777778,
             "#fb9f3a"
            ],
            [
             0.8888888888888888,
             "#fdca26"
            ],
            [
             1,
             "#f0f921"
            ]
           ],
           "sequentialminus": [
            [
             0,
             "#0d0887"
            ],
            [
             0.1111111111111111,
             "#46039f"
            ],
            [
             0.2222222222222222,
             "#7201a8"
            ],
            [
             0.3333333333333333,
             "#9c179e"
            ],
            [
             0.4444444444444444,
             "#bd3786"
            ],
            [
             0.5555555555555556,
             "#d8576b"
            ],
            [
             0.6666666666666666,
             "#ed7953"
            ],
            [
             0.7777777777777778,
             "#fb9f3a"
            ],
            [
             0.8888888888888888,
             "#fdca26"
            ],
            [
             1,
             "#f0f921"
            ]
           ]
          },
          "colorway": [
           "#636efa",
           "#EF553B",
           "#00cc96",
           "#ab63fa",
           "#FFA15A",
           "#19d3f3",
           "#FF6692",
           "#B6E880",
           "#FF97FF",
           "#FECB52"
          ],
          "font": {
           "color": "#2a3f5f"
          },
          "geo": {
           "bgcolor": "white",
           "lakecolor": "white",
           "landcolor": "#E5ECF6",
           "showlakes": true,
           "showland": true,
           "subunitcolor": "white"
          },
          "hoverlabel": {
           "align": "left"
          },
          "hovermode": "closest",
          "mapbox": {
           "style": "light"
          },
          "paper_bgcolor": "white",
          "plot_bgcolor": "#E5ECF6",
          "polar": {
           "angularaxis": {
            "gridcolor": "white",
            "linecolor": "white",
            "ticks": ""
           },
           "bgcolor": "#E5ECF6",
           "radialaxis": {
            "gridcolor": "white",
            "linecolor": "white",
            "ticks": ""
           }
          },
          "scene": {
           "xaxis": {
            "backgroundcolor": "#E5ECF6",
            "gridcolor": "white",
            "gridwidth": 2,
            "linecolor": "white",
            "showbackground": true,
            "ticks": "",
            "zerolinecolor": "white"
           },
           "yaxis": {
            "backgroundcolor": "#E5ECF6",
            "gridcolor": "white",
            "gridwidth": 2,
            "linecolor": "white",
            "showbackground": true,
            "ticks": "",
            "zerolinecolor": "white"
           },
           "zaxis": {
            "backgroundcolor": "#E5ECF6",
            "gridcolor": "white",
            "gridwidth": 2,
            "linecolor": "white",
            "showbackground": true,
            "ticks": "",
            "zerolinecolor": "white"
           }
          },
          "shapedefaults": {
           "line": {
            "color": "#2a3f5f"
           }
          },
          "ternary": {
           "aaxis": {
            "gridcolor": "white",
            "linecolor": "white",
            "ticks": ""
           },
           "baxis": {
            "gridcolor": "white",
            "linecolor": "white",
            "ticks": ""
           },
           "bgcolor": "#E5ECF6",
           "caxis": {
            "gridcolor": "white",
            "linecolor": "white",
            "ticks": ""
           }
          },
          "title": {
           "x": 0.05
          },
          "xaxis": {
           "automargin": true,
           "gridcolor": "white",
           "linecolor": "white",
           "ticks": "",
           "title": {
            "standoff": 15
           },
           "zerolinecolor": "white",
           "zerolinewidth": 2
          },
          "yaxis": {
           "automargin": true,
           "gridcolor": "white",
           "linecolor": "white",
           "ticks": "",
           "title": {
            "standoff": 15
           },
           "zerolinecolor": "white",
           "zerolinewidth": 2
          }
         }
        },
        "title": {
         "text": "Historical Medal Series"
        },
        "xaxis": {
         "anchor": "y",
         "domain": [
          0,
          1
         ],
         "title": {
          "text": "YEARS"
         }
        },
        "yaxis": {
         "anchor": "x",
         "domain": [
          0,
          1
         ],
         "title": {
          "text": "MEDALS"
         }
        }
       }
      },
      "text/html": [
       "<div>                            <div id=\"2eab0e04-0595-49e8-8380-f7612ac30ca0\" class=\"plotly-graph-div\" style=\"height:525px; width:100%;\"></div>            <script type=\"text/javascript\">                require([\"plotly\"], function(Plotly) {                    window.PLOTLYENV=window.PLOTLYENV || {};                                    if (document.getElementById(\"2eab0e04-0595-49e8-8380-f7612ac30ca0\")) {                    Plotly.newPlot(                        \"2eab0e04-0595-49e8-8380-f7612ac30ca0\",                        [{\"alignmentgroup\":\"True\",\"bingroup\":\"x\",\"hovertemplate\":\"Medal=Bronze<br>Year=%{x}<br>count=%{y}<extra></extra>\",\"legendgroup\":\"Bronze\",\"marker\":{\"color\":\"darkorange\",\"opacity\":0.7,\"pattern\":{\"shape\":\"\"}},\"name\":\"Bronze\",\"nbinsx\":50,\"offsetgroup\":\"Bronze\",\"orientation\":\"v\",\"showlegend\":true,\"texttemplate\":\"%{value}\",\"x\":[2000,1996,2008,1948,1960,1964,1996,2012,1920,1996,2000,2008,2004,1984,2008,2012,1968,1976,1952,1996,2012,2016,2012,2016,1988,1996,2000,2008,2004,1976,1980,1968,1980,1960,2000,2008,1988,2012,2000,1988,1996,2004,2008,1996,1972,2012,2012,1996,1952,2016,2008,1984,2012,1972,2008,2016,1996,2016],\"xaxis\":\"x\",\"yaxis\":\"y\",\"type\":\"histogram\"},{\"alignmentgroup\":\"True\",\"bingroup\":\"x\",\"hovertemplate\":\"Medal=Silver<br>Year=%{x}<br>count=%{y}<extra></extra>\",\"legendgroup\":\"Silver\",\"marker\":{\"color\":\"silver\",\"opacity\":0.7,\"pattern\":{\"shape\":\"\"}},\"name\":\"Silver\",\"nbinsx\":50,\"offsetgroup\":\"Silver\",\"orientation\":\"v\",\"showlegend\":true,\"texttemplate\":\"%{value}\",\"x\":[1984,1988,1984,1996,2012,2004,2012,1984,2008,2008,1992,1996,2000,1988,1920,2000,2012,2000,2016,2012,2008,1984,1968,2016,2016,2000,1984,2016,2016],\"xaxis\":\"x\",\"yaxis\":\"y\",\"type\":\"histogram\"},{\"alignmentgroup\":\"True\",\"bingroup\":\"x\",\"hovertemplate\":\"Medal=Gold<br>Year=%{x}<br>count=%{y}<extra></extra>\",\"legendgroup\":\"Gold\",\"marker\":{\"color\":\"gold\",\"opacity\":0.7,\"pattern\":{\"shape\":\"\"}},\"name\":\"Gold\",\"nbinsx\":50,\"offsetgroup\":\"Gold\",\"orientation\":\"v\",\"showlegend\":true,\"texttemplate\":\"%{value}\",\"x\":[2012,1992,2004,2016,1980,2016,1992,2008,2008,2016,1984,1952,1956,2016,1996,2004,2016,2008,2012,1988,1920,1980,2004,1996,2004,2016,2012],\"xaxis\":\"x\",\"yaxis\":\"y\",\"type\":\"histogram\"}],                        {\"template\":{\"data\":{\"bar\":[{\"error_x\":{\"color\":\"#2a3f5f\"},\"error_y\":{\"color\":\"#2a3f5f\"},\"marker\":{\"line\":{\"color\":\"#E5ECF6\",\"width\":0.5},\"pattern\":{\"fillmode\":\"overlay\",\"size\":10,\"solidity\":0.2}},\"type\":\"bar\"}],\"barpolar\":[{\"marker\":{\"line\":{\"color\":\"#E5ECF6\",\"width\":0.5},\"pattern\":{\"fillmode\":\"overlay\",\"size\":10,\"solidity\":0.2}},\"type\":\"barpolar\"}],\"carpet\":[{\"aaxis\":{\"endlinecolor\":\"#2a3f5f\",\"gridcolor\":\"white\",\"linecolor\":\"white\",\"minorgridcolor\":\"white\",\"startlinecolor\":\"#2a3f5f\"},\"baxis\":{\"endlinecolor\":\"#2a3f5f\",\"gridcolor\":\"white\",\"linecolor\":\"white\",\"minorgridcolor\":\"white\",\"startlinecolor\":\"#2a3f5f\"},\"type\":\"carpet\"}],\"choropleth\":[{\"colorbar\":{\"outlinewidth\":0,\"ticks\":\"\"},\"type\":\"choropleth\"}],\"contour\":[{\"colorbar\":{\"outlinewidth\":0,\"ticks\":\"\"},\"colorscale\":[[0.0,\"#0d0887\"],[0.1111111111111111,\"#46039f\"],[0.2222222222222222,\"#7201a8\"],[0.3333333333333333,\"#9c179e\"],[0.4444444444444444,\"#bd3786\"],[0.5555555555555556,\"#d8576b\"],[0.6666666666666666,\"#ed7953\"],[0.7777777777777778,\"#fb9f3a\"],[0.8888888888888888,\"#fdca26\"],[1.0,\"#f0f921\"]],\"type\":\"contour\"}],\"contourcarpet\":[{\"colorbar\":{\"outlinewidth\":0,\"ticks\":\"\"},\"type\":\"contourcarpet\"}],\"heatmap\":[{\"colorbar\":{\"outlinewidth\":0,\"ticks\":\"\"},\"colorscale\":[[0.0,\"#0d0887\"],[0.1111111111111111,\"#46039f\"],[0.2222222222222222,\"#7201a8\"],[0.3333333333333333,\"#9c179e\"],[0.4444444444444444,\"#bd3786\"],[0.5555555555555556,\"#d8576b\"],[0.6666666666666666,\"#ed7953\"],[0.7777777777777778,\"#fb9f3a\"],[0.8888888888888888,\"#fdca26\"],[1.0,\"#f0f921\"]],\"type\":\"heatmap\"}],\"heatmapgl\":[{\"colorbar\":{\"outlinewidth\":0,\"ticks\":\"\"},\"colorscale\":[[0.0,\"#0d0887\"],[0.1111111111111111,\"#46039f\"],[0.2222222222222222,\"#7201a8\"],[0.3333333333333333,\"#9c179e\"],[0.4444444444444444,\"#bd3786\"],[0.5555555555555556,\"#d8576b\"],[0.6666666666666666,\"#ed7953\"],[0.7777777777777778,\"#fb9f3a\"],[0.8888888888888888,\"#fdca26\"],[1.0,\"#f0f921\"]],\"type\":\"heatmapgl\"}],\"histogram\":[{\"marker\":{\"pattern\":{\"fillmode\":\"overlay\",\"size\":10,\"solidity\":0.2}},\"type\":\"histogram\"}],\"histogram2d\":[{\"colorbar\":{\"outlinewidth\":0,\"ticks\":\"\"},\"colorscale\":[[0.0,\"#0d0887\"],[0.1111111111111111,\"#46039f\"],[0.2222222222222222,\"#7201a8\"],[0.3333333333333333,\"#9c179e\"],[0.4444444444444444,\"#bd3786\"],[0.5555555555555556,\"#d8576b\"],[0.6666666666666666,\"#ed7953\"],[0.7777777777777778,\"#fb9f3a\"],[0.8888888888888888,\"#fdca26\"],[1.0,\"#f0f921\"]],\"type\":\"histogram2d\"}],\"histogram2dcontour\":[{\"colorbar\":{\"outlinewidth\":0,\"ticks\":\"\"},\"colorscale\":[[0.0,\"#0d0887\"],[0.1111111111111111,\"#46039f\"],[0.2222222222222222,\"#7201a8\"],[0.3333333333333333,\"#9c179e\"],[0.4444444444444444,\"#bd3786\"],[0.5555555555555556,\"#d8576b\"],[0.6666666666666666,\"#ed7953\"],[0.7777777777777778,\"#fb9f3a\"],[0.8888888888888888,\"#fdca26\"],[1.0,\"#f0f921\"]],\"type\":\"histogram2dcontour\"}],\"mesh3d\":[{\"colorbar\":{\"outlinewidth\":0,\"ticks\":\"\"},\"type\":\"mesh3d\"}],\"parcoords\":[{\"line\":{\"colorbar\":{\"outlinewidth\":0,\"ticks\":\"\"}},\"type\":\"parcoords\"}],\"pie\":[{\"automargin\":true,\"type\":\"pie\"}],\"scatter\":[{\"marker\":{\"colorbar\":{\"outlinewidth\":0,\"ticks\":\"\"}},\"type\":\"scatter\"}],\"scatter3d\":[{\"line\":{\"colorbar\":{\"outlinewidth\":0,\"ticks\":\"\"}},\"marker\":{\"colorbar\":{\"outlinewidth\":0,\"ticks\":\"\"}},\"type\":\"scatter3d\"}],\"scattercarpet\":[{\"marker\":{\"colorbar\":{\"outlinewidth\":0,\"ticks\":\"\"}},\"type\":\"scattercarpet\"}],\"scattergeo\":[{\"marker\":{\"colorbar\":{\"outlinewidth\":0,\"ticks\":\"\"}},\"type\":\"scattergeo\"}],\"scattergl\":[{\"marker\":{\"colorbar\":{\"outlinewidth\":0,\"ticks\":\"\"}},\"type\":\"scattergl\"}],\"scattermapbox\":[{\"marker\":{\"colorbar\":{\"outlinewidth\":0,\"ticks\":\"\"}},\"type\":\"scattermapbox\"}],\"scatterpolar\":[{\"marker\":{\"colorbar\":{\"outlinewidth\":0,\"ticks\":\"\"}},\"type\":\"scatterpolar\"}],\"scatterpolargl\":[{\"marker\":{\"colorbar\":{\"outlinewidth\":0,\"ticks\":\"\"}},\"type\":\"scatterpolargl\"}],\"scatterternary\":[{\"marker\":{\"colorbar\":{\"outlinewidth\":0,\"ticks\":\"\"}},\"type\":\"scatterternary\"}],\"surface\":[{\"colorbar\":{\"outlinewidth\":0,\"ticks\":\"\"},\"colorscale\":[[0.0,\"#0d0887\"],[0.1111111111111111,\"#46039f\"],[0.2222222222222222,\"#7201a8\"],[0.3333333333333333,\"#9c179e\"],[0.4444444444444444,\"#bd3786\"],[0.5555555555555556,\"#d8576b\"],[0.6666666666666666,\"#ed7953\"],[0.7777777777777778,\"#fb9f3a\"],[0.8888888888888888,\"#fdca26\"],[1.0,\"#f0f921\"]],\"type\":\"surface\"}],\"table\":[{\"cells\":{\"fill\":{\"color\":\"#EBF0F8\"},\"line\":{\"color\":\"white\"}},\"header\":{\"fill\":{\"color\":\"#C8D4E3\"},\"line\":{\"color\":\"white\"}},\"type\":\"table\"}]},\"layout\":{\"annotationdefaults\":{\"arrowcolor\":\"#2a3f5f\",\"arrowhead\":0,\"arrowwidth\":1},\"autotypenumbers\":\"strict\",\"coloraxis\":{\"colorbar\":{\"outlinewidth\":0,\"ticks\":\"\"}},\"colorscale\":{\"diverging\":[[0,\"#8e0152\"],[0.1,\"#c51b7d\"],[0.2,\"#de77ae\"],[0.3,\"#f1b6da\"],[0.4,\"#fde0ef\"],[0.5,\"#f7f7f7\"],[0.6,\"#e6f5d0\"],[0.7,\"#b8e186\"],[0.8,\"#7fbc41\"],[0.9,\"#4d9221\"],[1,\"#276419\"]],\"sequential\":[[0.0,\"#0d0887\"],[0.1111111111111111,\"#46039f\"],[0.2222222222222222,\"#7201a8\"],[0.3333333333333333,\"#9c179e\"],[0.4444444444444444,\"#bd3786\"],[0.5555555555555556,\"#d8576b\"],[0.6666666666666666,\"#ed7953\"],[0.7777777777777778,\"#fb9f3a\"],[0.8888888888888888,\"#fdca26\"],[1.0,\"#f0f921\"]],\"sequentialminus\":[[0.0,\"#0d0887\"],[0.1111111111111111,\"#46039f\"],[0.2222222222222222,\"#7201a8\"],[0.3333333333333333,\"#9c179e\"],[0.4444444444444444,\"#bd3786\"],[0.5555555555555556,\"#d8576b\"],[0.6666666666666666,\"#ed7953\"],[0.7777777777777778,\"#fb9f3a\"],[0.8888888888888888,\"#fdca26\"],[1.0,\"#f0f921\"]]},\"colorway\":[\"#636efa\",\"#EF553B\",\"#00cc96\",\"#ab63fa\",\"#FFA15A\",\"#19d3f3\",\"#FF6692\",\"#B6E880\",\"#FF97FF\",\"#FECB52\"],\"font\":{\"color\":\"#2a3f5f\"},\"geo\":{\"bgcolor\":\"white\",\"lakecolor\":\"white\",\"landcolor\":\"#E5ECF6\",\"showlakes\":true,\"showland\":true,\"subunitcolor\":\"white\"},\"hoverlabel\":{\"align\":\"left\"},\"hovermode\":\"closest\",\"mapbox\":{\"style\":\"light\"},\"paper_bgcolor\":\"white\",\"plot_bgcolor\":\"#E5ECF6\",\"polar\":{\"angularaxis\":{\"gridcolor\":\"white\",\"linecolor\":\"white\",\"ticks\":\"\"},\"bgcolor\":\"#E5ECF6\",\"radialaxis\":{\"gridcolor\":\"white\",\"linecolor\":\"white\",\"ticks\":\"\"}},\"scene\":{\"xaxis\":{\"backgroundcolor\":\"#E5ECF6\",\"gridcolor\":\"white\",\"gridwidth\":2,\"linecolor\":\"white\",\"showbackground\":true,\"ticks\":\"\",\"zerolinecolor\":\"white\"},\"yaxis\":{\"backgroundcolor\":\"#E5ECF6\",\"gridcolor\":\"white\",\"gridwidth\":2,\"linecolor\":\"white\",\"showbackground\":true,\"ticks\":\"\",\"zerolinecolor\":\"white\"},\"zaxis\":{\"backgroundcolor\":\"#E5ECF6\",\"gridcolor\":\"white\",\"gridwidth\":2,\"linecolor\":\"white\",\"showbackground\":true,\"ticks\":\"\",\"zerolinecolor\":\"white\"}},\"shapedefaults\":{\"line\":{\"color\":\"#2a3f5f\"}},\"ternary\":{\"aaxis\":{\"gridcolor\":\"white\",\"linecolor\":\"white\",\"ticks\":\"\"},\"baxis\":{\"gridcolor\":\"white\",\"linecolor\":\"white\",\"ticks\":\"\"},\"bgcolor\":\"#E5ECF6\",\"caxis\":{\"gridcolor\":\"white\",\"linecolor\":\"white\",\"ticks\":\"\"}},\"title\":{\"x\":0.05},\"xaxis\":{\"automargin\":true,\"gridcolor\":\"white\",\"linecolor\":\"white\",\"ticks\":\"\",\"title\":{\"standoff\":15},\"zerolinecolor\":\"white\",\"zerolinewidth\":2},\"yaxis\":{\"automargin\":true,\"gridcolor\":\"white\",\"linecolor\":\"white\",\"ticks\":\"\",\"title\":{\"standoff\":15},\"zerolinecolor\":\"white\",\"zerolinewidth\":2}}},\"xaxis\":{\"anchor\":\"y\",\"domain\":[0.0,1.0],\"title\":{\"text\":\"YEARS\"}},\"yaxis\":{\"anchor\":\"x\",\"domain\":[0.0,1.0],\"title\":{\"text\":\"MEDALS\"}},\"legend\":{\"title\":{\"text\":\"MEDAL\"},\"tracegroupgap\":0},\"title\":{\"text\":\"Historical Medal Series\"},\"barmode\":\"relative\"},                        {\"responsive\": true}                    ).then(function(){\n",
       "                            \n",
       "var gd = document.getElementById('2eab0e04-0595-49e8-8380-f7612ac30ca0');\n",
       "var x = new MutationObserver(function (mutations, observer) {{\n",
       "        var display = window.getComputedStyle(gd).display;\n",
       "        if (!display || display === 'none') {{\n",
       "            console.log([gd, 'removed!']);\n",
       "            Plotly.purge(gd);\n",
       "            observer.disconnect();\n",
       "        }}\n",
       "}});\n",
       "\n",
       "// Listen for the removal of the full notebook cells\n",
       "var notebookContainer = gd.closest('#notebook-container');\n",
       "if (notebookContainer) {{\n",
       "    x.observe(notebookContainer, {childList: true});\n",
       "}}\n",
       "\n",
       "// Listen for the clearing of the current output cell\n",
       "var outputEl = gd.closest('.output');\n",
       "if (outputEl) {{\n",
       "    x.observe(outputEl, {childList: true});\n",
       "}}\n",
       "\n",
       "                        })                };                });            </script>        </div>"
      ]
     },
     "metadata": {},
     "output_type": "display_data"
    }
   ],
   "source": [
    "fig = px.histogram(x='Year', data_frame=br_uniq, color='Medal', nbins=50,\n",
    "                   category_orders={'Medal': ['Bronze','Silver','Gold']},\n",
    "                   color_discrete_sequence=['darkorange','silver','gold'], opacity=0.7,\n",
    "                   text_auto=True, title = 'Historical Medal Series')\n",
    "\n",
    "fig.update_xaxes(title='YEARS')\n",
    "#fig.update_xticks(title='Anos')\n",
    "fig.update_yaxes(title='MEDALS')\n",
    "fig.update_layout(legend=dict(title='MEDAL'))"
   ]
  },
  {
   "cell_type": "markdown",
   "id": "41e7a486",
   "metadata": {},
   "source": [
    "Conclusão: É visível que o Brasil apresenta uma boa crescente, principalmente a partir da metade dos anos 80."
   ]
  },
  {
   "cell_type": "markdown",
   "id": "ebce0056",
   "metadata": {},
   "source": [
    "<font size=+3>**5. Agora é com vocês!**</font>\n",
    "\n",
    "Escolha uma análise visual que julga interessante de fazer neste conjunto de dados, faça o(s) gráficos(s) necessários e comente os resultados. "
   ]
  },
  {
   "cell_type": "code",
   "execution_count": 72,
   "id": "a9522bb1",
   "metadata": {},
   "outputs": [],
   "source": [
    "df_5 = pd.read_csv('data/athlete_events.csv')\n",
    "df_5.dropna(subset=['Medal'], inplace=True)\n",
    "\n",
    "df_5_sorted = df_5.sort_values('Year')\n",
    "df_5_2 = df_5_sorted.drop_duplicates(subset=['Year', 'Event'], keep='first')\n",
    "\n",
    "df_5_g_medal_esport_pais = df_5_sorted.groupby(by=['Team','Sport'], as_index=False).count()"
   ]
  },
  {
   "cell_type": "code",
   "execution_count": 73,
   "id": "aaf8603b",
   "metadata": {},
   "outputs": [],
   "source": [
    "df_5_g_medal_esport_pais.drop(columns=['ID','Name','Age','Height','Weight',\n",
    "                         'Sex','NOC','Games','Year','Season','City', 'Event'], inplace=True)\n",
    "df_aux = df_5_g_medal_esport_pais.sort_values('Medal', ascending=False)"
   ]
  },
  {
   "cell_type": "code",
   "execution_count": 74,
   "id": "3e03d3a0",
   "metadata": {},
   "outputs": [],
   "source": [
    "df_aux_top_5 = df_aux[((df_aux['Sport'] == 'Football') | \n",
    "                      (df_aux['Sport'] == 'Volleyball') | \n",
    "                      (df_aux['Sport'] == 'Basketball') | \n",
    "                      (df_aux['Sport'] == 'Sailing') | \n",
    "                      (df_aux['Sport'] == 'Athletics'))]"
   ]
  },
  {
   "cell_type": "code",
   "execution_count": 75,
   "id": "d9aa0734",
   "metadata": {
    "scrolled": false
   },
   "outputs": [],
   "source": [
    "df_top_5_volley = df_aux_top_5.sort_values(['Sport','Medal'], ascending=False).head()"
   ]
  },
  {
   "cell_type": "code",
   "execution_count": 76,
   "id": "fbd06f3e",
   "metadata": {},
   "outputs": [
    {
     "data": {
      "text/html": [
       "<div>\n",
       "<style scoped>\n",
       "    .dataframe tbody tr th:only-of-type {\n",
       "        vertical-align: middle;\n",
       "    }\n",
       "\n",
       "    .dataframe tbody tr th {\n",
       "        vertical-align: top;\n",
       "    }\n",
       "\n",
       "    .dataframe thead th {\n",
       "        text-align: right;\n",
       "    }\n",
       "</style>\n",
       "<table border=\"1\" class=\"dataframe\">\n",
       "  <thead>\n",
       "    <tr style=\"text-align: right;\">\n",
       "      <th></th>\n",
       "      <th>Team</th>\n",
       "      <th>Sport</th>\n",
       "      <th>Medal</th>\n",
       "    </tr>\n",
       "  </thead>\n",
       "  <tbody>\n",
       "    <tr>\n",
       "      <th>1444</th>\n",
       "      <td>Soviet Union</td>\n",
       "      <td>Volleyball</td>\n",
       "      <td>141</td>\n",
       "    </tr>\n",
       "    <tr>\n",
       "      <th>201</th>\n",
       "      <td>Brazil</td>\n",
       "      <td>Volleyball</td>\n",
       "      <td>120</td>\n",
       "    </tr>\n",
       "    <tr>\n",
       "      <th>1716</th>\n",
       "      <td>United States</td>\n",
       "      <td>Volleyball</td>\n",
       "      <td>120</td>\n",
       "    </tr>\n",
       "    <tr>\n",
       "      <th>915</th>\n",
       "      <td>Japan</td>\n",
       "      <td>Volleyball</td>\n",
       "      <td>101</td>\n",
       "    </tr>\n",
       "    <tr>\n",
       "      <th>873</th>\n",
       "      <td>Italy</td>\n",
       "      <td>Volleyball</td>\n",
       "      <td>72</td>\n",
       "    </tr>\n",
       "  </tbody>\n",
       "</table>\n",
       "</div>"
      ],
      "text/plain": [
       "               Team       Sport  Medal\n",
       "1444   Soviet Union  Volleyball    141\n",
       "201          Brazil  Volleyball    120\n",
       "1716  United States  Volleyball    120\n",
       "915           Japan  Volleyball    101\n",
       "873           Italy  Volleyball     72"
      ]
     },
     "execution_count": 76,
     "metadata": {},
     "output_type": "execute_result"
    }
   ],
   "source": [
    "df_top_5_volley"
   ]
  },
  {
   "cell_type": "code",
   "execution_count": 77,
   "id": "2c1f6c2b",
   "metadata": {},
   "outputs": [],
   "source": [
    "df_top_5_others = df_aux_top_5.sort_values(['Sport','Medal'], ascending=False)"
   ]
  },
  {
   "cell_type": "code",
   "execution_count": 78,
   "id": "1938fb45",
   "metadata": {},
   "outputs": [
    {
     "data": {
      "text/html": [
       "<div>\n",
       "<style scoped>\n",
       "    .dataframe tbody tr th:only-of-type {\n",
       "        vertical-align: middle;\n",
       "    }\n",
       "\n",
       "    .dataframe tbody tr th {\n",
       "        vertical-align: top;\n",
       "    }\n",
       "\n",
       "    .dataframe thead th {\n",
       "        text-align: right;\n",
       "    }\n",
       "</style>\n",
       "<table border=\"1\" class=\"dataframe\">\n",
       "  <thead>\n",
       "    <tr style=\"text-align: right;\">\n",
       "      <th></th>\n",
       "      <th>Team</th>\n",
       "      <th>Sport</th>\n",
       "      <th>Medal</th>\n",
       "    </tr>\n",
       "  </thead>\n",
       "  <tbody>\n",
       "    <tr>\n",
       "      <th>193</th>\n",
       "      <td>Brazil</td>\n",
       "      <td>Football</td>\n",
       "      <td>136</td>\n",
       "    </tr>\n",
       "    <tr>\n",
       "      <th>648</th>\n",
       "      <td>Germany</td>\n",
       "      <td>Football</td>\n",
       "      <td>104</td>\n",
       "    </tr>\n",
       "    <tr>\n",
       "      <th>1428</th>\n",
       "      <td>Soviet Union</td>\n",
       "      <td>Football</td>\n",
       "      <td>87</td>\n",
       "    </tr>\n",
       "    <tr>\n",
       "      <th>1688</th>\n",
       "      <td>United States</td>\n",
       "      <td>Football</td>\n",
       "      <td>79</td>\n",
       "    </tr>\n",
       "    <tr>\n",
       "      <th>790</th>\n",
       "      <td>Hungary</td>\n",
       "      <td>Football</td>\n",
       "      <td>79</td>\n",
       "    </tr>\n",
       "  </tbody>\n",
       "</table>\n",
       "</div>"
      ],
      "text/plain": [
       "               Team     Sport  Medal\n",
       "193          Brazil  Football    136\n",
       "648         Germany  Football    104\n",
       "1428   Soviet Union  Football     87\n",
       "1688  United States  Football     79\n",
       "790         Hungary  Football     79"
      ]
     },
     "execution_count": 78,
     "metadata": {},
     "output_type": "execute_result"
    }
   ],
   "source": [
    "df_top_5_foot = df_top_5_others[df_top_5_others['Sport'] == 'Football'].head()\n",
    "df_top_5_foot"
   ]
  },
  {
   "cell_type": "code",
   "execution_count": 79,
   "id": "7ce80eac",
   "metadata": {
    "scrolled": true
   },
   "outputs": [
    {
     "data": {
      "text/html": [
       "<div>\n",
       "<style scoped>\n",
       "    .dataframe tbody tr th:only-of-type {\n",
       "        vertical-align: middle;\n",
       "    }\n",
       "\n",
       "    .dataframe tbody tr th {\n",
       "        vertical-align: top;\n",
       "    }\n",
       "\n",
       "    .dataframe thead th {\n",
       "        text-align: right;\n",
       "    }\n",
       "</style>\n",
       "<table border=\"1\" class=\"dataframe\">\n",
       "  <thead>\n",
       "    <tr style=\"text-align: right;\">\n",
       "      <th></th>\n",
       "      <th>Team</th>\n",
       "      <th>Sport</th>\n",
       "      <th>Medal</th>\n",
       "    </tr>\n",
       "  </thead>\n",
       "  <tbody>\n",
       "    <tr>\n",
       "      <th>1678</th>\n",
       "      <td>United States</td>\n",
       "      <td>Basketball</td>\n",
       "      <td>341</td>\n",
       "    </tr>\n",
       "    <tr>\n",
       "      <th>1418</th>\n",
       "      <td>Soviet Union</td>\n",
       "      <td>Basketball</td>\n",
       "      <td>146</td>\n",
       "    </tr>\n",
       "    <tr>\n",
       "      <th>1809</th>\n",
       "      <td>Yugoslavia</td>\n",
       "      <td>Basketball</td>\n",
       "      <td>84</td>\n",
       "    </tr>\n",
       "    <tr>\n",
       "      <th>48</th>\n",
       "      <td>Australia</td>\n",
       "      <td>Basketball</td>\n",
       "      <td>60</td>\n",
       "    </tr>\n",
       "    <tr>\n",
       "      <th>1457</th>\n",
       "      <td>Spain</td>\n",
       "      <td>Basketball</td>\n",
       "      <td>60</td>\n",
       "    </tr>\n",
       "  </tbody>\n",
       "</table>\n",
       "</div>"
      ],
      "text/plain": [
       "               Team       Sport  Medal\n",
       "1678  United States  Basketball    341\n",
       "1418   Soviet Union  Basketball    146\n",
       "1809     Yugoslavia  Basketball     84\n",
       "48        Australia  Basketball     60\n",
       "1457          Spain  Basketball     60"
      ]
     },
     "execution_count": 79,
     "metadata": {},
     "output_type": "execute_result"
    }
   ],
   "source": [
    "df_top_5_basket = df_top_5_others[df_top_5_others['Sport'] == 'Basketball'].head()\n",
    "df_top_5_basket"
   ]
  },
  {
   "cell_type": "code",
   "execution_count": 80,
   "id": "0e0c125a",
   "metadata": {},
   "outputs": [
    {
     "data": {
      "text/html": [
       "<div>\n",
       "<style scoped>\n",
       "    .dataframe tbody tr th:only-of-type {\n",
       "        vertical-align: middle;\n",
       "    }\n",
       "\n",
       "    .dataframe tbody tr th {\n",
       "        vertical-align: top;\n",
       "    }\n",
       "\n",
       "    .dataframe thead th {\n",
       "        text-align: right;\n",
       "    }\n",
       "</style>\n",
       "<table border=\"1\" class=\"dataframe\">\n",
       "  <thead>\n",
       "    <tr style=\"text-align: right;\">\n",
       "      <th></th>\n",
       "      <th>Team</th>\n",
       "      <th>Sport</th>\n",
       "      <th>Medal</th>\n",
       "    </tr>\n",
       "  </thead>\n",
       "  <tbody>\n",
       "    <tr>\n",
       "      <th>1703</th>\n",
       "      <td>United States</td>\n",
       "      <td>Sailing</td>\n",
       "      <td>81</td>\n",
       "    </tr>\n",
       "    <tr>\n",
       "      <th>713</th>\n",
       "      <td>Great Britain</td>\n",
       "      <td>Sailing</td>\n",
       "      <td>62</td>\n",
       "    </tr>\n",
       "    <tr>\n",
       "      <th>60</th>\n",
       "      <td>Australia</td>\n",
       "      <td>Sailing</td>\n",
       "      <td>45</td>\n",
       "    </tr>\n",
       "    <tr>\n",
       "      <th>452</th>\n",
       "      <td>Denmark</td>\n",
       "      <td>Sailing</td>\n",
       "      <td>42</td>\n",
       "    </tr>\n",
       "    <tr>\n",
       "      <th>197</th>\n",
       "      <td>Brazil</td>\n",
       "      <td>Sailing</td>\n",
       "      <td>34</td>\n",
       "    </tr>\n",
       "  </tbody>\n",
       "</table>\n",
       "</div>"
      ],
      "text/plain": [
       "               Team    Sport  Medal\n",
       "1703  United States  Sailing     81\n",
       "713   Great Britain  Sailing     62\n",
       "60        Australia  Sailing     45\n",
       "452         Denmark  Sailing     42\n",
       "197          Brazil  Sailing     34"
      ]
     },
     "execution_count": 80,
     "metadata": {},
     "output_type": "execute_result"
    }
   ],
   "source": [
    "df_top_5_sail = df_top_5_others[df_top_5_others['Sport'] == 'Sailing'].head()\n",
    "df_top_5_sail"
   ]
  },
  {
   "cell_type": "code",
   "execution_count": 81,
   "id": "d875f004",
   "metadata": {},
   "outputs": [
    {
     "data": {
      "text/html": [
       "<div>\n",
       "<style scoped>\n",
       "    .dataframe tbody tr th:only-of-type {\n",
       "        vertical-align: middle;\n",
       "    }\n",
       "\n",
       "    .dataframe tbody tr th {\n",
       "        vertical-align: top;\n",
       "    }\n",
       "\n",
       "    .dataframe thead th {\n",
       "        text-align: right;\n",
       "    }\n",
       "</style>\n",
       "<table border=\"1\" class=\"dataframe\">\n",
       "  <thead>\n",
       "    <tr style=\"text-align: right;\">\n",
       "      <th></th>\n",
       "      <th>Team</th>\n",
       "      <th>Sport</th>\n",
       "      <th>Medal</th>\n",
       "    </tr>\n",
       "  </thead>\n",
       "  <tbody>\n",
       "    <tr>\n",
       "      <th>1676</th>\n",
       "      <td>United States</td>\n",
       "      <td>Athletics</td>\n",
       "      <td>1071</td>\n",
       "    </tr>\n",
       "    <tr>\n",
       "      <th>689</th>\n",
       "      <td>Great Britain</td>\n",
       "      <td>Athletics</td>\n",
       "      <td>334</td>\n",
       "    </tr>\n",
       "    <tr>\n",
       "      <th>1417</th>\n",
       "      <td>Soviet Union</td>\n",
       "      <td>Athletics</td>\n",
       "      <td>242</td>\n",
       "    </tr>\n",
       "    <tr>\n",
       "      <th>883</th>\n",
       "      <td>Jamaica</td>\n",
       "      <td>Athletics</td>\n",
       "      <td>156</td>\n",
       "    </tr>\n",
       "    <tr>\n",
       "      <th>637</th>\n",
       "      <td>Germany</td>\n",
       "      <td>Athletics</td>\n",
       "      <td>154</td>\n",
       "    </tr>\n",
       "  </tbody>\n",
       "</table>\n",
       "</div>"
      ],
      "text/plain": [
       "               Team      Sport  Medal\n",
       "1676  United States  Athletics   1071\n",
       "689   Great Britain  Athletics    334\n",
       "1417   Soviet Union  Athletics    242\n",
       "883         Jamaica  Athletics    156\n",
       "637         Germany  Athletics    154"
      ]
     },
     "execution_count": 81,
     "metadata": {},
     "output_type": "execute_result"
    }
   ],
   "source": [
    "df_top_5_athl = df_top_5_others[df_top_5_others['Sport'] == 'Athletics'].head()\n",
    "df_top_5_athl"
   ]
  },
  {
   "cell_type": "code",
   "execution_count": 82,
   "id": "feb3ef3d",
   "metadata": {},
   "outputs": [
    {
     "data": {
      "text/html": [
       "<div>\n",
       "<style scoped>\n",
       "    .dataframe tbody tr th:only-of-type {\n",
       "        vertical-align: middle;\n",
       "    }\n",
       "\n",
       "    .dataframe tbody tr th {\n",
       "        vertical-align: top;\n",
       "    }\n",
       "\n",
       "    .dataframe thead th {\n",
       "        text-align: right;\n",
       "    }\n",
       "</style>\n",
       "<table border=\"1\" class=\"dataframe\">\n",
       "  <thead>\n",
       "    <tr style=\"text-align: right;\">\n",
       "      <th></th>\n",
       "      <th>Team</th>\n",
       "      <th>Sport</th>\n",
       "      <th>Medal</th>\n",
       "    </tr>\n",
       "  </thead>\n",
       "  <tbody>\n",
       "    <tr>\n",
       "      <th>1444</th>\n",
       "      <td>Soviet Union</td>\n",
       "      <td>Volleyball</td>\n",
       "      <td>141</td>\n",
       "    </tr>\n",
       "    <tr>\n",
       "      <th>201</th>\n",
       "      <td>Brazil</td>\n",
       "      <td>Volleyball</td>\n",
       "      <td>120</td>\n",
       "    </tr>\n",
       "    <tr>\n",
       "      <th>1716</th>\n",
       "      <td>United States</td>\n",
       "      <td>Volleyball</td>\n",
       "      <td>120</td>\n",
       "    </tr>\n",
       "    <tr>\n",
       "      <th>915</th>\n",
       "      <td>Japan</td>\n",
       "      <td>Volleyball</td>\n",
       "      <td>101</td>\n",
       "    </tr>\n",
       "    <tr>\n",
       "      <th>873</th>\n",
       "      <td>Italy</td>\n",
       "      <td>Volleyball</td>\n",
       "      <td>72</td>\n",
       "    </tr>\n",
       "    <tr>\n",
       "      <th>193</th>\n",
       "      <td>Brazil</td>\n",
       "      <td>Football</td>\n",
       "      <td>136</td>\n",
       "    </tr>\n",
       "    <tr>\n",
       "      <th>648</th>\n",
       "      <td>Germany</td>\n",
       "      <td>Football</td>\n",
       "      <td>104</td>\n",
       "    </tr>\n",
       "    <tr>\n",
       "      <th>1428</th>\n",
       "      <td>Soviet Union</td>\n",
       "      <td>Football</td>\n",
       "      <td>87</td>\n",
       "    </tr>\n",
       "    <tr>\n",
       "      <th>1688</th>\n",
       "      <td>United States</td>\n",
       "      <td>Football</td>\n",
       "      <td>79</td>\n",
       "    </tr>\n",
       "    <tr>\n",
       "      <th>790</th>\n",
       "      <td>Hungary</td>\n",
       "      <td>Football</td>\n",
       "      <td>79</td>\n",
       "    </tr>\n",
       "    <tr>\n",
       "      <th>1678</th>\n",
       "      <td>United States</td>\n",
       "      <td>Basketball</td>\n",
       "      <td>341</td>\n",
       "    </tr>\n",
       "    <tr>\n",
       "      <th>1418</th>\n",
       "      <td>Soviet Union</td>\n",
       "      <td>Basketball</td>\n",
       "      <td>146</td>\n",
       "    </tr>\n",
       "    <tr>\n",
       "      <th>1809</th>\n",
       "      <td>Yugoslavia</td>\n",
       "      <td>Basketball</td>\n",
       "      <td>84</td>\n",
       "    </tr>\n",
       "    <tr>\n",
       "      <th>48</th>\n",
       "      <td>Australia</td>\n",
       "      <td>Basketball</td>\n",
       "      <td>60</td>\n",
       "    </tr>\n",
       "    <tr>\n",
       "      <th>1457</th>\n",
       "      <td>Spain</td>\n",
       "      <td>Basketball</td>\n",
       "      <td>60</td>\n",
       "    </tr>\n",
       "    <tr>\n",
       "      <th>1703</th>\n",
       "      <td>United States</td>\n",
       "      <td>Sailing</td>\n",
       "      <td>81</td>\n",
       "    </tr>\n",
       "    <tr>\n",
       "      <th>713</th>\n",
       "      <td>Great Britain</td>\n",
       "      <td>Sailing</td>\n",
       "      <td>62</td>\n",
       "    </tr>\n",
       "    <tr>\n",
       "      <th>60</th>\n",
       "      <td>Australia</td>\n",
       "      <td>Sailing</td>\n",
       "      <td>45</td>\n",
       "    </tr>\n",
       "    <tr>\n",
       "      <th>452</th>\n",
       "      <td>Denmark</td>\n",
       "      <td>Sailing</td>\n",
       "      <td>42</td>\n",
       "    </tr>\n",
       "    <tr>\n",
       "      <th>197</th>\n",
       "      <td>Brazil</td>\n",
       "      <td>Sailing</td>\n",
       "      <td>34</td>\n",
       "    </tr>\n",
       "    <tr>\n",
       "      <th>1676</th>\n",
       "      <td>United States</td>\n",
       "      <td>Athletics</td>\n",
       "      <td>1071</td>\n",
       "    </tr>\n",
       "    <tr>\n",
       "      <th>689</th>\n",
       "      <td>Great Britain</td>\n",
       "      <td>Athletics</td>\n",
       "      <td>334</td>\n",
       "    </tr>\n",
       "    <tr>\n",
       "      <th>1417</th>\n",
       "      <td>Soviet Union</td>\n",
       "      <td>Athletics</td>\n",
       "      <td>242</td>\n",
       "    </tr>\n",
       "    <tr>\n",
       "      <th>883</th>\n",
       "      <td>Jamaica</td>\n",
       "      <td>Athletics</td>\n",
       "      <td>156</td>\n",
       "    </tr>\n",
       "    <tr>\n",
       "      <th>637</th>\n",
       "      <td>Germany</td>\n",
       "      <td>Athletics</td>\n",
       "      <td>154</td>\n",
       "    </tr>\n",
       "  </tbody>\n",
       "</table>\n",
       "</div>"
      ],
      "text/plain": [
       "               Team       Sport  Medal\n",
       "1444   Soviet Union  Volleyball    141\n",
       "201          Brazil  Volleyball    120\n",
       "1716  United States  Volleyball    120\n",
       "915           Japan  Volleyball    101\n",
       "873           Italy  Volleyball     72\n",
       "193          Brazil    Football    136\n",
       "648         Germany    Football    104\n",
       "1428   Soviet Union    Football     87\n",
       "1688  United States    Football     79\n",
       "790         Hungary    Football     79\n",
       "1678  United States  Basketball    341\n",
       "1418   Soviet Union  Basketball    146\n",
       "1809     Yugoslavia  Basketball     84\n",
       "48        Australia  Basketball     60\n",
       "1457          Spain  Basketball     60\n",
       "1703  United States     Sailing     81\n",
       "713   Great Britain     Sailing     62\n",
       "60        Australia     Sailing     45\n",
       "452         Denmark     Sailing     42\n",
       "197          Brazil     Sailing     34\n",
       "1676  United States   Athletics   1071\n",
       "689   Great Britain   Athletics    334\n",
       "1417   Soviet Union   Athletics    242\n",
       "883         Jamaica   Athletics    156\n",
       "637         Germany   Athletics    154"
      ]
     },
     "metadata": {},
     "output_type": "display_data"
    }
   ],
   "source": [
    "df_5_5 = pd.concat([df_top_5_volley, df_top_5_foot, df_top_5_basket, df_top_5_sail, df_top_5_athl], axis=0)\n",
    "display(df_5_5)"
   ]
  },
  {
   "cell_type": "markdown",
   "id": "fb4b5a24",
   "metadata": {},
   "source": [
    "1. Top5 dos esportes que Brasil tem mais medalhas\n",
    "2. Top5 de Países para cada um destes esportes\n",
    "3. Objetivo final: verificar se o Brazil está entre os 5 países top, nos mesmos esportes em que tem melhor desempenho."
   ]
  },
  {
   "cell_type": "code",
   "execution_count": 84,
   "id": "3e03a6bf",
   "metadata": {
    "scrolled": false
   },
   "outputs": [
    {
     "data": {
      "application/vnd.plotly.v1+json": {
       "config": {
        "plotlyServerURL": "https://plot.ly"
       },
       "data": [
        {
         "alignmentgroup": "True",
         "bingroup": "y",
         "histfunc": "sum",
         "hovertemplate": "Team=Soviet Union<br>sum of Medal=%{x}<br>Sport=%{y}<extra></extra>",
         "legendgroup": "Soviet Union",
         "marker": {
          "color": "#EF553B",
          "pattern": {
           "shape": ""
          }
         },
         "name": "Soviet Union",
         "offsetgroup": "Soviet Union",
         "orientation": "h",
         "showlegend": true,
         "texttemplate": "%{value}",
         "type": "histogram",
         "x": [
          141,
          87,
          146,
          242
         ],
         "xaxis": "x",
         "y": [
          "Volleyball",
          "Football",
          "Basketball",
          "Athletics"
         ],
         "yaxis": "y"
        },
        {
         "alignmentgroup": "True",
         "bingroup": "y",
         "histfunc": "sum",
         "hovertemplate": "Team=Brazil<br>sum of Medal=%{x}<br>Sport=%{y}<extra></extra>",
         "legendgroup": "Brazil",
         "marker": {
          "color": "yellow",
          "pattern": {
           "shape": ""
          }
         },
         "name": "Brazil",
         "offsetgroup": "Brazil",
         "orientation": "h",
         "showlegend": true,
         "texttemplate": "%{value}",
         "type": "histogram",
         "x": [
          120,
          136,
          34
         ],
         "xaxis": "x",
         "y": [
          "Volleyball",
          "Football",
          "Sailing"
         ],
         "yaxis": "y"
        },
        {
         "alignmentgroup": "True",
         "bingroup": "y",
         "histfunc": "sum",
         "hovertemplate": "Team=United States<br>sum of Medal=%{x}<br>Sport=%{y}<extra></extra>",
         "legendgroup": "United States",
         "marker": {
          "color": "#00cc96",
          "pattern": {
           "shape": ""
          }
         },
         "name": "United States",
         "offsetgroup": "United States",
         "orientation": "h",
         "showlegend": true,
         "texttemplate": "%{value}",
         "type": "histogram",
         "x": [
          120,
          79,
          341,
          81,
          1071
         ],
         "xaxis": "x",
         "y": [
          "Volleyball",
          "Football",
          "Basketball",
          "Sailing",
          "Athletics"
         ],
         "yaxis": "y"
        },
        {
         "alignmentgroup": "True",
         "bingroup": "y",
         "histfunc": "sum",
         "hovertemplate": "Team=Japan<br>sum of Medal=%{x}<br>Sport=%{y}<extra></extra>",
         "legendgroup": "Japan",
         "marker": {
          "color": "#ab63fa",
          "pattern": {
           "shape": ""
          }
         },
         "name": "Japan",
         "offsetgroup": "Japan",
         "orientation": "h",
         "showlegend": true,
         "texttemplate": "%{value}",
         "type": "histogram",
         "x": [
          101
         ],
         "xaxis": "x",
         "y": [
          "Volleyball"
         ],
         "yaxis": "y"
        },
        {
         "alignmentgroup": "True",
         "bingroup": "y",
         "histfunc": "sum",
         "hovertemplate": "Team=Italy<br>sum of Medal=%{x}<br>Sport=%{y}<extra></extra>",
         "legendgroup": "Italy",
         "marker": {
          "color": "#FFA15A",
          "pattern": {
           "shape": ""
          }
         },
         "name": "Italy",
         "offsetgroup": "Italy",
         "orientation": "h",
         "showlegend": true,
         "texttemplate": "%{value}",
         "type": "histogram",
         "x": [
          72
         ],
         "xaxis": "x",
         "y": [
          "Volleyball"
         ],
         "yaxis": "y"
        },
        {
         "alignmentgroup": "True",
         "bingroup": "y",
         "histfunc": "sum",
         "hovertemplate": "Team=Germany<br>sum of Medal=%{x}<br>Sport=%{y}<extra></extra>",
         "legendgroup": "Germany",
         "marker": {
          "color": "#19d3f3",
          "pattern": {
           "shape": ""
          }
         },
         "name": "Germany",
         "offsetgroup": "Germany",
         "orientation": "h",
         "showlegend": true,
         "texttemplate": "%{value}",
         "type": "histogram",
         "x": [
          104,
          154
         ],
         "xaxis": "x",
         "y": [
          "Football",
          "Athletics"
         ],
         "yaxis": "y"
        },
        {
         "alignmentgroup": "True",
         "bingroup": "y",
         "histfunc": "sum",
         "hovertemplate": "Team=Hungary<br>sum of Medal=%{x}<br>Sport=%{y}<extra></extra>",
         "legendgroup": "Hungary",
         "marker": {
          "color": "#FF6692",
          "pattern": {
           "shape": ""
          }
         },
         "name": "Hungary",
         "offsetgroup": "Hungary",
         "orientation": "h",
         "showlegend": true,
         "texttemplate": "%{value}",
         "type": "histogram",
         "x": [
          79
         ],
         "xaxis": "x",
         "y": [
          "Football"
         ],
         "yaxis": "y"
        },
        {
         "alignmentgroup": "True",
         "bingroup": "y",
         "histfunc": "sum",
         "hovertemplate": "Team=Yugoslavia<br>sum of Medal=%{x}<br>Sport=%{y}<extra></extra>",
         "legendgroup": "Yugoslavia",
         "marker": {
          "color": "#B6E880",
          "pattern": {
           "shape": ""
          }
         },
         "name": "Yugoslavia",
         "offsetgroup": "Yugoslavia",
         "orientation": "h",
         "showlegend": true,
         "texttemplate": "%{value}",
         "type": "histogram",
         "x": [
          84
         ],
         "xaxis": "x",
         "y": [
          "Basketball"
         ],
         "yaxis": "y"
        },
        {
         "alignmentgroup": "True",
         "bingroup": "y",
         "histfunc": "sum",
         "hovertemplate": "Team=Australia<br>sum of Medal=%{x}<br>Sport=%{y}<extra></extra>",
         "legendgroup": "Australia",
         "marker": {
          "color": "#FF97FF",
          "pattern": {
           "shape": ""
          }
         },
         "name": "Australia",
         "offsetgroup": "Australia",
         "orientation": "h",
         "showlegend": true,
         "texttemplate": "%{value}",
         "type": "histogram",
         "x": [
          60,
          45
         ],
         "xaxis": "x",
         "y": [
          "Basketball",
          "Sailing"
         ],
         "yaxis": "y"
        },
        {
         "alignmentgroup": "True",
         "bingroup": "y",
         "histfunc": "sum",
         "hovertemplate": "Team=Spain<br>sum of Medal=%{x}<br>Sport=%{y}<extra></extra>",
         "legendgroup": "Spain",
         "marker": {
          "color": "#FECB52",
          "pattern": {
           "shape": ""
          }
         },
         "name": "Spain",
         "offsetgroup": "Spain",
         "orientation": "h",
         "showlegend": true,
         "texttemplate": "%{value}",
         "type": "histogram",
         "x": [
          60
         ],
         "xaxis": "x",
         "y": [
          "Basketball"
         ],
         "yaxis": "y"
        },
        {
         "alignmentgroup": "True",
         "bingroup": "y",
         "histfunc": "sum",
         "hovertemplate": "Team=Great Britain<br>sum of Medal=%{x}<br>Sport=%{y}<extra></extra>",
         "legendgroup": "Great Britain",
         "marker": {
          "color": "#636efa",
          "pattern": {
           "shape": ""
          }
         },
         "name": "Great Britain",
         "offsetgroup": "Great Britain",
         "orientation": "h",
         "showlegend": true,
         "texttemplate": "%{value}",
         "type": "histogram",
         "x": [
          62,
          334
         ],
         "xaxis": "x",
         "y": [
          "Sailing",
          "Athletics"
         ],
         "yaxis": "y"
        },
        {
         "alignmentgroup": "True",
         "bingroup": "y",
         "histfunc": "sum",
         "hovertemplate": "Team=Denmark<br>sum of Medal=%{x}<br>Sport=%{y}<extra></extra>",
         "legendgroup": "Denmark",
         "marker": {
          "color": "#EF553B",
          "pattern": {
           "shape": ""
          }
         },
         "name": "Denmark",
         "offsetgroup": "Denmark",
         "orientation": "h",
         "showlegend": true,
         "texttemplate": "%{value}",
         "type": "histogram",
         "x": [
          42
         ],
         "xaxis": "x",
         "y": [
          "Sailing"
         ],
         "yaxis": "y"
        },
        {
         "alignmentgroup": "True",
         "bingroup": "y",
         "histfunc": "sum",
         "hovertemplate": "Team=Jamaica<br>sum of Medal=%{x}<br>Sport=%{y}<extra></extra>",
         "legendgroup": "Jamaica",
         "marker": {
          "color": "#00cc96",
          "pattern": {
           "shape": ""
          }
         },
         "name": "Jamaica",
         "offsetgroup": "Jamaica",
         "orientation": "h",
         "showlegend": true,
         "texttemplate": "%{value}",
         "type": "histogram",
         "x": [
          156
         ],
         "xaxis": "x",
         "y": [
          "Athletics"
         ],
         "yaxis": "y"
        }
       ],
       "layout": {
        "barmode": "relative",
        "height": 500,
        "legend": {
         "title": {
          "text": "Country"
         },
         "tracegroupgap": 0
        },
        "template": {
         "data": {
          "bar": [
           {
            "error_x": {
             "color": "#2a3f5f"
            },
            "error_y": {
             "color": "#2a3f5f"
            },
            "marker": {
             "line": {
              "color": "#E5ECF6",
              "width": 0.5
             },
             "pattern": {
              "fillmode": "overlay",
              "size": 10,
              "solidity": 0.2
             }
            },
            "type": "bar"
           }
          ],
          "barpolar": [
           {
            "marker": {
             "line": {
              "color": "#E5ECF6",
              "width": 0.5
             },
             "pattern": {
              "fillmode": "overlay",
              "size": 10,
              "solidity": 0.2
             }
            },
            "type": "barpolar"
           }
          ],
          "carpet": [
           {
            "aaxis": {
             "endlinecolor": "#2a3f5f",
             "gridcolor": "white",
             "linecolor": "white",
             "minorgridcolor": "white",
             "startlinecolor": "#2a3f5f"
            },
            "baxis": {
             "endlinecolor": "#2a3f5f",
             "gridcolor": "white",
             "linecolor": "white",
             "minorgridcolor": "white",
             "startlinecolor": "#2a3f5f"
            },
            "type": "carpet"
           }
          ],
          "choropleth": [
           {
            "colorbar": {
             "outlinewidth": 0,
             "ticks": ""
            },
            "type": "choropleth"
           }
          ],
          "contour": [
           {
            "colorbar": {
             "outlinewidth": 0,
             "ticks": ""
            },
            "colorscale": [
             [
              0,
              "#0d0887"
             ],
             [
              0.1111111111111111,
              "#46039f"
             ],
             [
              0.2222222222222222,
              "#7201a8"
             ],
             [
              0.3333333333333333,
              "#9c179e"
             ],
             [
              0.4444444444444444,
              "#bd3786"
             ],
             [
              0.5555555555555556,
              "#d8576b"
             ],
             [
              0.6666666666666666,
              "#ed7953"
             ],
             [
              0.7777777777777778,
              "#fb9f3a"
             ],
             [
              0.8888888888888888,
              "#fdca26"
             ],
             [
              1,
              "#f0f921"
             ]
            ],
            "type": "contour"
           }
          ],
          "contourcarpet": [
           {
            "colorbar": {
             "outlinewidth": 0,
             "ticks": ""
            },
            "type": "contourcarpet"
           }
          ],
          "heatmap": [
           {
            "colorbar": {
             "outlinewidth": 0,
             "ticks": ""
            },
            "colorscale": [
             [
              0,
              "#0d0887"
             ],
             [
              0.1111111111111111,
              "#46039f"
             ],
             [
              0.2222222222222222,
              "#7201a8"
             ],
             [
              0.3333333333333333,
              "#9c179e"
             ],
             [
              0.4444444444444444,
              "#bd3786"
             ],
             [
              0.5555555555555556,
              "#d8576b"
             ],
             [
              0.6666666666666666,
              "#ed7953"
             ],
             [
              0.7777777777777778,
              "#fb9f3a"
             ],
             [
              0.8888888888888888,
              "#fdca26"
             ],
             [
              1,
              "#f0f921"
             ]
            ],
            "type": "heatmap"
           }
          ],
          "heatmapgl": [
           {
            "colorbar": {
             "outlinewidth": 0,
             "ticks": ""
            },
            "colorscale": [
             [
              0,
              "#0d0887"
             ],
             [
              0.1111111111111111,
              "#46039f"
             ],
             [
              0.2222222222222222,
              "#7201a8"
             ],
             [
              0.3333333333333333,
              "#9c179e"
             ],
             [
              0.4444444444444444,
              "#bd3786"
             ],
             [
              0.5555555555555556,
              "#d8576b"
             ],
             [
              0.6666666666666666,
              "#ed7953"
             ],
             [
              0.7777777777777778,
              "#fb9f3a"
             ],
             [
              0.8888888888888888,
              "#fdca26"
             ],
             [
              1,
              "#f0f921"
             ]
            ],
            "type": "heatmapgl"
           }
          ],
          "histogram": [
           {
            "marker": {
             "pattern": {
              "fillmode": "overlay",
              "size": 10,
              "solidity": 0.2
             }
            },
            "type": "histogram"
           }
          ],
          "histogram2d": [
           {
            "colorbar": {
             "outlinewidth": 0,
             "ticks": ""
            },
            "colorscale": [
             [
              0,
              "#0d0887"
             ],
             [
              0.1111111111111111,
              "#46039f"
             ],
             [
              0.2222222222222222,
              "#7201a8"
             ],
             [
              0.3333333333333333,
              "#9c179e"
             ],
             [
              0.4444444444444444,
              "#bd3786"
             ],
             [
              0.5555555555555556,
              "#d8576b"
             ],
             [
              0.6666666666666666,
              "#ed7953"
             ],
             [
              0.7777777777777778,
              "#fb9f3a"
             ],
             [
              0.8888888888888888,
              "#fdca26"
             ],
             [
              1,
              "#f0f921"
             ]
            ],
            "type": "histogram2d"
           }
          ],
          "histogram2dcontour": [
           {
            "colorbar": {
             "outlinewidth": 0,
             "ticks": ""
            },
            "colorscale": [
             [
              0,
              "#0d0887"
             ],
             [
              0.1111111111111111,
              "#46039f"
             ],
             [
              0.2222222222222222,
              "#7201a8"
             ],
             [
              0.3333333333333333,
              "#9c179e"
             ],
             [
              0.4444444444444444,
              "#bd3786"
             ],
             [
              0.5555555555555556,
              "#d8576b"
             ],
             [
              0.6666666666666666,
              "#ed7953"
             ],
             [
              0.7777777777777778,
              "#fb9f3a"
             ],
             [
              0.8888888888888888,
              "#fdca26"
             ],
             [
              1,
              "#f0f921"
             ]
            ],
            "type": "histogram2dcontour"
           }
          ],
          "mesh3d": [
           {
            "colorbar": {
             "outlinewidth": 0,
             "ticks": ""
            },
            "type": "mesh3d"
           }
          ],
          "parcoords": [
           {
            "line": {
             "colorbar": {
              "outlinewidth": 0,
              "ticks": ""
             }
            },
            "type": "parcoords"
           }
          ],
          "pie": [
           {
            "automargin": true,
            "type": "pie"
           }
          ],
          "scatter": [
           {
            "marker": {
             "colorbar": {
              "outlinewidth": 0,
              "ticks": ""
             }
            },
            "type": "scatter"
           }
          ],
          "scatter3d": [
           {
            "line": {
             "colorbar": {
              "outlinewidth": 0,
              "ticks": ""
             }
            },
            "marker": {
             "colorbar": {
              "outlinewidth": 0,
              "ticks": ""
             }
            },
            "type": "scatter3d"
           }
          ],
          "scattercarpet": [
           {
            "marker": {
             "colorbar": {
              "outlinewidth": 0,
              "ticks": ""
             }
            },
            "type": "scattercarpet"
           }
          ],
          "scattergeo": [
           {
            "marker": {
             "colorbar": {
              "outlinewidth": 0,
              "ticks": ""
             }
            },
            "type": "scattergeo"
           }
          ],
          "scattergl": [
           {
            "marker": {
             "colorbar": {
              "outlinewidth": 0,
              "ticks": ""
             }
            },
            "type": "scattergl"
           }
          ],
          "scattermapbox": [
           {
            "marker": {
             "colorbar": {
              "outlinewidth": 0,
              "ticks": ""
             }
            },
            "type": "scattermapbox"
           }
          ],
          "scatterpolar": [
           {
            "marker": {
             "colorbar": {
              "outlinewidth": 0,
              "ticks": ""
             }
            },
            "type": "scatterpolar"
           }
          ],
          "scatterpolargl": [
           {
            "marker": {
             "colorbar": {
              "outlinewidth": 0,
              "ticks": ""
             }
            },
            "type": "scatterpolargl"
           }
          ],
          "scatterternary": [
           {
            "marker": {
             "colorbar": {
              "outlinewidth": 0,
              "ticks": ""
             }
            },
            "type": "scatterternary"
           }
          ],
          "surface": [
           {
            "colorbar": {
             "outlinewidth": 0,
             "ticks": ""
            },
            "colorscale": [
             [
              0,
              "#0d0887"
             ],
             [
              0.1111111111111111,
              "#46039f"
             ],
             [
              0.2222222222222222,
              "#7201a8"
             ],
             [
              0.3333333333333333,
              "#9c179e"
             ],
             [
              0.4444444444444444,
              "#bd3786"
             ],
             [
              0.5555555555555556,
              "#d8576b"
             ],
             [
              0.6666666666666666,
              "#ed7953"
             ],
             [
              0.7777777777777778,
              "#fb9f3a"
             ],
             [
              0.8888888888888888,
              "#fdca26"
             ],
             [
              1,
              "#f0f921"
             ]
            ],
            "type": "surface"
           }
          ],
          "table": [
           {
            "cells": {
             "fill": {
              "color": "#EBF0F8"
             },
             "line": {
              "color": "white"
             }
            },
            "header": {
             "fill": {
              "color": "#C8D4E3"
             },
             "line": {
              "color": "white"
             }
            },
            "type": "table"
           }
          ]
         },
         "layout": {
          "annotationdefaults": {
           "arrowcolor": "#2a3f5f",
           "arrowhead": 0,
           "arrowwidth": 1
          },
          "autotypenumbers": "strict",
          "coloraxis": {
           "colorbar": {
            "outlinewidth": 0,
            "ticks": ""
           }
          },
          "colorscale": {
           "diverging": [
            [
             0,
             "#8e0152"
            ],
            [
             0.1,
             "#c51b7d"
            ],
            [
             0.2,
             "#de77ae"
            ],
            [
             0.3,
             "#f1b6da"
            ],
            [
             0.4,
             "#fde0ef"
            ],
            [
             0.5,
             "#f7f7f7"
            ],
            [
             0.6,
             "#e6f5d0"
            ],
            [
             0.7,
             "#b8e186"
            ],
            [
             0.8,
             "#7fbc41"
            ],
            [
             0.9,
             "#4d9221"
            ],
            [
             1,
             "#276419"
            ]
           ],
           "sequential": [
            [
             0,
             "#0d0887"
            ],
            [
             0.1111111111111111,
             "#46039f"
            ],
            [
             0.2222222222222222,
             "#7201a8"
            ],
            [
             0.3333333333333333,
             "#9c179e"
            ],
            [
             0.4444444444444444,
             "#bd3786"
            ],
            [
             0.5555555555555556,
             "#d8576b"
            ],
            [
             0.6666666666666666,
             "#ed7953"
            ],
            [
             0.7777777777777778,
             "#fb9f3a"
            ],
            [
             0.8888888888888888,
             "#fdca26"
            ],
            [
             1,
             "#f0f921"
            ]
           ],
           "sequentialminus": [
            [
             0,
             "#0d0887"
            ],
            [
             0.1111111111111111,
             "#46039f"
            ],
            [
             0.2222222222222222,
             "#7201a8"
            ],
            [
             0.3333333333333333,
             "#9c179e"
            ],
            [
             0.4444444444444444,
             "#bd3786"
            ],
            [
             0.5555555555555556,
             "#d8576b"
            ],
            [
             0.6666666666666666,
             "#ed7953"
            ],
            [
             0.7777777777777778,
             "#fb9f3a"
            ],
            [
             0.8888888888888888,
             "#fdca26"
            ],
            [
             1,
             "#f0f921"
            ]
           ]
          },
          "colorway": [
           "#636efa",
           "#EF553B",
           "#00cc96",
           "#ab63fa",
           "#FFA15A",
           "#19d3f3",
           "#FF6692",
           "#B6E880",
           "#FF97FF",
           "#FECB52"
          ],
          "font": {
           "color": "#2a3f5f"
          },
          "geo": {
           "bgcolor": "white",
           "lakecolor": "white",
           "landcolor": "#E5ECF6",
           "showlakes": true,
           "showland": true,
           "subunitcolor": "white"
          },
          "hoverlabel": {
           "align": "left"
          },
          "hovermode": "closest",
          "mapbox": {
           "style": "light"
          },
          "paper_bgcolor": "white",
          "plot_bgcolor": "#E5ECF6",
          "polar": {
           "angularaxis": {
            "gridcolor": "white",
            "linecolor": "white",
            "ticks": ""
           },
           "bgcolor": "#E5ECF6",
           "radialaxis": {
            "gridcolor": "white",
            "linecolor": "white",
            "ticks": ""
           }
          },
          "scene": {
           "xaxis": {
            "backgroundcolor": "#E5ECF6",
            "gridcolor": "white",
            "gridwidth": 2,
            "linecolor": "white",
            "showbackground": true,
            "ticks": "",
            "zerolinecolor": "white"
           },
           "yaxis": {
            "backgroundcolor": "#E5ECF6",
            "gridcolor": "white",
            "gridwidth": 2,
            "linecolor": "white",
            "showbackground": true,
            "ticks": "",
            "zerolinecolor": "white"
           },
           "zaxis": {
            "backgroundcolor": "#E5ECF6",
            "gridcolor": "white",
            "gridwidth": 2,
            "linecolor": "white",
            "showbackground": true,
            "ticks": "",
            "zerolinecolor": "white"
           }
          },
          "shapedefaults": {
           "line": {
            "color": "#2a3f5f"
           }
          },
          "ternary": {
           "aaxis": {
            "gridcolor": "white",
            "linecolor": "white",
            "ticks": ""
           },
           "baxis": {
            "gridcolor": "white",
            "linecolor": "white",
            "ticks": ""
           },
           "bgcolor": "#E5ECF6",
           "caxis": {
            "gridcolor": "white",
            "linecolor": "white",
            "ticks": ""
           }
          },
          "title": {
           "x": 0.05
          },
          "xaxis": {
           "automargin": true,
           "gridcolor": "white",
           "linecolor": "white",
           "ticks": "",
           "title": {
            "standoff": 15
           },
           "zerolinecolor": "white",
           "zerolinewidth": 2
          },
          "yaxis": {
           "automargin": true,
           "gridcolor": "white",
           "linecolor": "white",
           "ticks": "",
           "title": {
            "standoff": 15
           },
           "zerolinecolor": "white",
           "zerolinewidth": 2
          }
         }
        },
        "title": {
         "text": "Top5 of Top5"
        },
        "width": 1000,
        "xaxis": {
         "anchor": "y",
         "domain": [
          0,
          1
         ],
         "title": {
          "text": "Medals"
         }
        },
        "yaxis": {
         "anchor": "x",
         "categoryarray": [
          "Sailing",
          "Football",
          "Volleyball",
          "Basketball",
          "Athletics"
         ],
         "categoryorder": "array",
         "domain": [
          0,
          1
         ],
         "title": {
          "text": "Sports"
         }
        }
       }
      },
      "text/html": [
       "<div>                            <div id=\"5cce2047-edf0-46da-b408-427c66c8549f\" class=\"plotly-graph-div\" style=\"height:500px; width:1000px;\"></div>            <script type=\"text/javascript\">                require([\"plotly\"], function(Plotly) {                    window.PLOTLYENV=window.PLOTLYENV || {};                                    if (document.getElementById(\"5cce2047-edf0-46da-b408-427c66c8549f\")) {                    Plotly.newPlot(                        \"5cce2047-edf0-46da-b408-427c66c8549f\",                        [{\"alignmentgroup\":\"True\",\"bingroup\":\"y\",\"histfunc\":\"sum\",\"hovertemplate\":\"Team=Soviet Union<br>sum of Medal=%{x}<br>Sport=%{y}<extra></extra>\",\"legendgroup\":\"Soviet Union\",\"marker\":{\"color\":\"#EF553B\",\"pattern\":{\"shape\":\"\"}},\"name\":\"Soviet Union\",\"offsetgroup\":\"Soviet Union\",\"orientation\":\"h\",\"showlegend\":true,\"texttemplate\":\"%{value}\",\"x\":[141,87,146,242],\"xaxis\":\"x\",\"y\":[\"Volleyball\",\"Football\",\"Basketball\",\"Athletics\"],\"yaxis\":\"y\",\"type\":\"histogram\"},{\"alignmentgroup\":\"True\",\"bingroup\":\"y\",\"histfunc\":\"sum\",\"hovertemplate\":\"Team=Brazil<br>sum of Medal=%{x}<br>Sport=%{y}<extra></extra>\",\"legendgroup\":\"Brazil\",\"marker\":{\"color\":\"yellow\",\"pattern\":{\"shape\":\"\"}},\"name\":\"Brazil\",\"offsetgroup\":\"Brazil\",\"orientation\":\"h\",\"showlegend\":true,\"texttemplate\":\"%{value}\",\"x\":[120,136,34],\"xaxis\":\"x\",\"y\":[\"Volleyball\",\"Football\",\"Sailing\"],\"yaxis\":\"y\",\"type\":\"histogram\"},{\"alignmentgroup\":\"True\",\"bingroup\":\"y\",\"histfunc\":\"sum\",\"hovertemplate\":\"Team=United States<br>sum of Medal=%{x}<br>Sport=%{y}<extra></extra>\",\"legendgroup\":\"United States\",\"marker\":{\"color\":\"#00cc96\",\"pattern\":{\"shape\":\"\"}},\"name\":\"United States\",\"offsetgroup\":\"United States\",\"orientation\":\"h\",\"showlegend\":true,\"texttemplate\":\"%{value}\",\"x\":[120,79,341,81,1071],\"xaxis\":\"x\",\"y\":[\"Volleyball\",\"Football\",\"Basketball\",\"Sailing\",\"Athletics\"],\"yaxis\":\"y\",\"type\":\"histogram\"},{\"alignmentgroup\":\"True\",\"bingroup\":\"y\",\"histfunc\":\"sum\",\"hovertemplate\":\"Team=Japan<br>sum of Medal=%{x}<br>Sport=%{y}<extra></extra>\",\"legendgroup\":\"Japan\",\"marker\":{\"color\":\"#ab63fa\",\"pattern\":{\"shape\":\"\"}},\"name\":\"Japan\",\"offsetgroup\":\"Japan\",\"orientation\":\"h\",\"showlegend\":true,\"texttemplate\":\"%{value}\",\"x\":[101],\"xaxis\":\"x\",\"y\":[\"Volleyball\"],\"yaxis\":\"y\",\"type\":\"histogram\"},{\"alignmentgroup\":\"True\",\"bingroup\":\"y\",\"histfunc\":\"sum\",\"hovertemplate\":\"Team=Italy<br>sum of Medal=%{x}<br>Sport=%{y}<extra></extra>\",\"legendgroup\":\"Italy\",\"marker\":{\"color\":\"#FFA15A\",\"pattern\":{\"shape\":\"\"}},\"name\":\"Italy\",\"offsetgroup\":\"Italy\",\"orientation\":\"h\",\"showlegend\":true,\"texttemplate\":\"%{value}\",\"x\":[72],\"xaxis\":\"x\",\"y\":[\"Volleyball\"],\"yaxis\":\"y\",\"type\":\"histogram\"},{\"alignmentgroup\":\"True\",\"bingroup\":\"y\",\"histfunc\":\"sum\",\"hovertemplate\":\"Team=Germany<br>sum of Medal=%{x}<br>Sport=%{y}<extra></extra>\",\"legendgroup\":\"Germany\",\"marker\":{\"color\":\"#19d3f3\",\"pattern\":{\"shape\":\"\"}},\"name\":\"Germany\",\"offsetgroup\":\"Germany\",\"orientation\":\"h\",\"showlegend\":true,\"texttemplate\":\"%{value}\",\"x\":[104,154],\"xaxis\":\"x\",\"y\":[\"Football\",\"Athletics\"],\"yaxis\":\"y\",\"type\":\"histogram\"},{\"alignmentgroup\":\"True\",\"bingroup\":\"y\",\"histfunc\":\"sum\",\"hovertemplate\":\"Team=Hungary<br>sum of Medal=%{x}<br>Sport=%{y}<extra></extra>\",\"legendgroup\":\"Hungary\",\"marker\":{\"color\":\"#FF6692\",\"pattern\":{\"shape\":\"\"}},\"name\":\"Hungary\",\"offsetgroup\":\"Hungary\",\"orientation\":\"h\",\"showlegend\":true,\"texttemplate\":\"%{value}\",\"x\":[79],\"xaxis\":\"x\",\"y\":[\"Football\"],\"yaxis\":\"y\",\"type\":\"histogram\"},{\"alignmentgroup\":\"True\",\"bingroup\":\"y\",\"histfunc\":\"sum\",\"hovertemplate\":\"Team=Yugoslavia<br>sum of Medal=%{x}<br>Sport=%{y}<extra></extra>\",\"legendgroup\":\"Yugoslavia\",\"marker\":{\"color\":\"#B6E880\",\"pattern\":{\"shape\":\"\"}},\"name\":\"Yugoslavia\",\"offsetgroup\":\"Yugoslavia\",\"orientation\":\"h\",\"showlegend\":true,\"texttemplate\":\"%{value}\",\"x\":[84],\"xaxis\":\"x\",\"y\":[\"Basketball\"],\"yaxis\":\"y\",\"type\":\"histogram\"},{\"alignmentgroup\":\"True\",\"bingroup\":\"y\",\"histfunc\":\"sum\",\"hovertemplate\":\"Team=Australia<br>sum of Medal=%{x}<br>Sport=%{y}<extra></extra>\",\"legendgroup\":\"Australia\",\"marker\":{\"color\":\"#FF97FF\",\"pattern\":{\"shape\":\"\"}},\"name\":\"Australia\",\"offsetgroup\":\"Australia\",\"orientation\":\"h\",\"showlegend\":true,\"texttemplate\":\"%{value}\",\"x\":[60,45],\"xaxis\":\"x\",\"y\":[\"Basketball\",\"Sailing\"],\"yaxis\":\"y\",\"type\":\"histogram\"},{\"alignmentgroup\":\"True\",\"bingroup\":\"y\",\"histfunc\":\"sum\",\"hovertemplate\":\"Team=Spain<br>sum of Medal=%{x}<br>Sport=%{y}<extra></extra>\",\"legendgroup\":\"Spain\",\"marker\":{\"color\":\"#FECB52\",\"pattern\":{\"shape\":\"\"}},\"name\":\"Spain\",\"offsetgroup\":\"Spain\",\"orientation\":\"h\",\"showlegend\":true,\"texttemplate\":\"%{value}\",\"x\":[60],\"xaxis\":\"x\",\"y\":[\"Basketball\"],\"yaxis\":\"y\",\"type\":\"histogram\"},{\"alignmentgroup\":\"True\",\"bingroup\":\"y\",\"histfunc\":\"sum\",\"hovertemplate\":\"Team=Great Britain<br>sum of Medal=%{x}<br>Sport=%{y}<extra></extra>\",\"legendgroup\":\"Great Britain\",\"marker\":{\"color\":\"#636efa\",\"pattern\":{\"shape\":\"\"}},\"name\":\"Great Britain\",\"offsetgroup\":\"Great Britain\",\"orientation\":\"h\",\"showlegend\":true,\"texttemplate\":\"%{value}\",\"x\":[62,334],\"xaxis\":\"x\",\"y\":[\"Sailing\",\"Athletics\"],\"yaxis\":\"y\",\"type\":\"histogram\"},{\"alignmentgroup\":\"True\",\"bingroup\":\"y\",\"histfunc\":\"sum\",\"hovertemplate\":\"Team=Denmark<br>sum of Medal=%{x}<br>Sport=%{y}<extra></extra>\",\"legendgroup\":\"Denmark\",\"marker\":{\"color\":\"#EF553B\",\"pattern\":{\"shape\":\"\"}},\"name\":\"Denmark\",\"offsetgroup\":\"Denmark\",\"orientation\":\"h\",\"showlegend\":true,\"texttemplate\":\"%{value}\",\"x\":[42],\"xaxis\":\"x\",\"y\":[\"Sailing\"],\"yaxis\":\"y\",\"type\":\"histogram\"},{\"alignmentgroup\":\"True\",\"bingroup\":\"y\",\"histfunc\":\"sum\",\"hovertemplate\":\"Team=Jamaica<br>sum of Medal=%{x}<br>Sport=%{y}<extra></extra>\",\"legendgroup\":\"Jamaica\",\"marker\":{\"color\":\"#00cc96\",\"pattern\":{\"shape\":\"\"}},\"name\":\"Jamaica\",\"offsetgroup\":\"Jamaica\",\"orientation\":\"h\",\"showlegend\":true,\"texttemplate\":\"%{value}\",\"x\":[156],\"xaxis\":\"x\",\"y\":[\"Athletics\"],\"yaxis\":\"y\",\"type\":\"histogram\"}],                        {\"template\":{\"data\":{\"bar\":[{\"error_x\":{\"color\":\"#2a3f5f\"},\"error_y\":{\"color\":\"#2a3f5f\"},\"marker\":{\"line\":{\"color\":\"#E5ECF6\",\"width\":0.5},\"pattern\":{\"fillmode\":\"overlay\",\"size\":10,\"solidity\":0.2}},\"type\":\"bar\"}],\"barpolar\":[{\"marker\":{\"line\":{\"color\":\"#E5ECF6\",\"width\":0.5},\"pattern\":{\"fillmode\":\"overlay\",\"size\":10,\"solidity\":0.2}},\"type\":\"barpolar\"}],\"carpet\":[{\"aaxis\":{\"endlinecolor\":\"#2a3f5f\",\"gridcolor\":\"white\",\"linecolor\":\"white\",\"minorgridcolor\":\"white\",\"startlinecolor\":\"#2a3f5f\"},\"baxis\":{\"endlinecolor\":\"#2a3f5f\",\"gridcolor\":\"white\",\"linecolor\":\"white\",\"minorgridcolor\":\"white\",\"startlinecolor\":\"#2a3f5f\"},\"type\":\"carpet\"}],\"choropleth\":[{\"colorbar\":{\"outlinewidth\":0,\"ticks\":\"\"},\"type\":\"choropleth\"}],\"contour\":[{\"colorbar\":{\"outlinewidth\":0,\"ticks\":\"\"},\"colorscale\":[[0.0,\"#0d0887\"],[0.1111111111111111,\"#46039f\"],[0.2222222222222222,\"#7201a8\"],[0.3333333333333333,\"#9c179e\"],[0.4444444444444444,\"#bd3786\"],[0.5555555555555556,\"#d8576b\"],[0.6666666666666666,\"#ed7953\"],[0.7777777777777778,\"#fb9f3a\"],[0.8888888888888888,\"#fdca26\"],[1.0,\"#f0f921\"]],\"type\":\"contour\"}],\"contourcarpet\":[{\"colorbar\":{\"outlinewidth\":0,\"ticks\":\"\"},\"type\":\"contourcarpet\"}],\"heatmap\":[{\"colorbar\":{\"outlinewidth\":0,\"ticks\":\"\"},\"colorscale\":[[0.0,\"#0d0887\"],[0.1111111111111111,\"#46039f\"],[0.2222222222222222,\"#7201a8\"],[0.3333333333333333,\"#9c179e\"],[0.4444444444444444,\"#bd3786\"],[0.5555555555555556,\"#d8576b\"],[0.6666666666666666,\"#ed7953\"],[0.7777777777777778,\"#fb9f3a\"],[0.8888888888888888,\"#fdca26\"],[1.0,\"#f0f921\"]],\"type\":\"heatmap\"}],\"heatmapgl\":[{\"colorbar\":{\"outlinewidth\":0,\"ticks\":\"\"},\"colorscale\":[[0.0,\"#0d0887\"],[0.1111111111111111,\"#46039f\"],[0.2222222222222222,\"#7201a8\"],[0.3333333333333333,\"#9c179e\"],[0.4444444444444444,\"#bd3786\"],[0.5555555555555556,\"#d8576b\"],[0.6666666666666666,\"#ed7953\"],[0.7777777777777778,\"#fb9f3a\"],[0.8888888888888888,\"#fdca26\"],[1.0,\"#f0f921\"]],\"type\":\"heatmapgl\"}],\"histogram\":[{\"marker\":{\"pattern\":{\"fillmode\":\"overlay\",\"size\":10,\"solidity\":0.2}},\"type\":\"histogram\"}],\"histogram2d\":[{\"colorbar\":{\"outlinewidth\":0,\"ticks\":\"\"},\"colorscale\":[[0.0,\"#0d0887\"],[0.1111111111111111,\"#46039f\"],[0.2222222222222222,\"#7201a8\"],[0.3333333333333333,\"#9c179e\"],[0.4444444444444444,\"#bd3786\"],[0.5555555555555556,\"#d8576b\"],[0.6666666666666666,\"#ed7953\"],[0.7777777777777778,\"#fb9f3a\"],[0.8888888888888888,\"#fdca26\"],[1.0,\"#f0f921\"]],\"type\":\"histogram2d\"}],\"histogram2dcontour\":[{\"colorbar\":{\"outlinewidth\":0,\"ticks\":\"\"},\"colorscale\":[[0.0,\"#0d0887\"],[0.1111111111111111,\"#46039f\"],[0.2222222222222222,\"#7201a8\"],[0.3333333333333333,\"#9c179e\"],[0.4444444444444444,\"#bd3786\"],[0.5555555555555556,\"#d8576b\"],[0.6666666666666666,\"#ed7953\"],[0.7777777777777778,\"#fb9f3a\"],[0.8888888888888888,\"#fdca26\"],[1.0,\"#f0f921\"]],\"type\":\"histogram2dcontour\"}],\"mesh3d\":[{\"colorbar\":{\"outlinewidth\":0,\"ticks\":\"\"},\"type\":\"mesh3d\"}],\"parcoords\":[{\"line\":{\"colorbar\":{\"outlinewidth\":0,\"ticks\":\"\"}},\"type\":\"parcoords\"}],\"pie\":[{\"automargin\":true,\"type\":\"pie\"}],\"scatter\":[{\"marker\":{\"colorbar\":{\"outlinewidth\":0,\"ticks\":\"\"}},\"type\":\"scatter\"}],\"scatter3d\":[{\"line\":{\"colorbar\":{\"outlinewidth\":0,\"ticks\":\"\"}},\"marker\":{\"colorbar\":{\"outlinewidth\":0,\"ticks\":\"\"}},\"type\":\"scatter3d\"}],\"scattercarpet\":[{\"marker\":{\"colorbar\":{\"outlinewidth\":0,\"ticks\":\"\"}},\"type\":\"scattercarpet\"}],\"scattergeo\":[{\"marker\":{\"colorbar\":{\"outlinewidth\":0,\"ticks\":\"\"}},\"type\":\"scattergeo\"}],\"scattergl\":[{\"marker\":{\"colorbar\":{\"outlinewidth\":0,\"ticks\":\"\"}},\"type\":\"scattergl\"}],\"scattermapbox\":[{\"marker\":{\"colorbar\":{\"outlinewidth\":0,\"ticks\":\"\"}},\"type\":\"scattermapbox\"}],\"scatterpolar\":[{\"marker\":{\"colorbar\":{\"outlinewidth\":0,\"ticks\":\"\"}},\"type\":\"scatterpolar\"}],\"scatterpolargl\":[{\"marker\":{\"colorbar\":{\"outlinewidth\":0,\"ticks\":\"\"}},\"type\":\"scatterpolargl\"}],\"scatterternary\":[{\"marker\":{\"colorbar\":{\"outlinewidth\":0,\"ticks\":\"\"}},\"type\":\"scatterternary\"}],\"surface\":[{\"colorbar\":{\"outlinewidth\":0,\"ticks\":\"\"},\"colorscale\":[[0.0,\"#0d0887\"],[0.1111111111111111,\"#46039f\"],[0.2222222222222222,\"#7201a8\"],[0.3333333333333333,\"#9c179e\"],[0.4444444444444444,\"#bd3786\"],[0.5555555555555556,\"#d8576b\"],[0.6666666666666666,\"#ed7953\"],[0.7777777777777778,\"#fb9f3a\"],[0.8888888888888888,\"#fdca26\"],[1.0,\"#f0f921\"]],\"type\":\"surface\"}],\"table\":[{\"cells\":{\"fill\":{\"color\":\"#EBF0F8\"},\"line\":{\"color\":\"white\"}},\"header\":{\"fill\":{\"color\":\"#C8D4E3\"},\"line\":{\"color\":\"white\"}},\"type\":\"table\"}]},\"layout\":{\"annotationdefaults\":{\"arrowcolor\":\"#2a3f5f\",\"arrowhead\":0,\"arrowwidth\":1},\"autotypenumbers\":\"strict\",\"coloraxis\":{\"colorbar\":{\"outlinewidth\":0,\"ticks\":\"\"}},\"colorscale\":{\"diverging\":[[0,\"#8e0152\"],[0.1,\"#c51b7d\"],[0.2,\"#de77ae\"],[0.3,\"#f1b6da\"],[0.4,\"#fde0ef\"],[0.5,\"#f7f7f7\"],[0.6,\"#e6f5d0\"],[0.7,\"#b8e186\"],[0.8,\"#7fbc41\"],[0.9,\"#4d9221\"],[1,\"#276419\"]],\"sequential\":[[0.0,\"#0d0887\"],[0.1111111111111111,\"#46039f\"],[0.2222222222222222,\"#7201a8\"],[0.3333333333333333,\"#9c179e\"],[0.4444444444444444,\"#bd3786\"],[0.5555555555555556,\"#d8576b\"],[0.6666666666666666,\"#ed7953\"],[0.7777777777777778,\"#fb9f3a\"],[0.8888888888888888,\"#fdca26\"],[1.0,\"#f0f921\"]],\"sequentialminus\":[[0.0,\"#0d0887\"],[0.1111111111111111,\"#46039f\"],[0.2222222222222222,\"#7201a8\"],[0.3333333333333333,\"#9c179e\"],[0.4444444444444444,\"#bd3786\"],[0.5555555555555556,\"#d8576b\"],[0.6666666666666666,\"#ed7953\"],[0.7777777777777778,\"#fb9f3a\"],[0.8888888888888888,\"#fdca26\"],[1.0,\"#f0f921\"]]},\"colorway\":[\"#636efa\",\"#EF553B\",\"#00cc96\",\"#ab63fa\",\"#FFA15A\",\"#19d3f3\",\"#FF6692\",\"#B6E880\",\"#FF97FF\",\"#FECB52\"],\"font\":{\"color\":\"#2a3f5f\"},\"geo\":{\"bgcolor\":\"white\",\"lakecolor\":\"white\",\"landcolor\":\"#E5ECF6\",\"showlakes\":true,\"showland\":true,\"subunitcolor\":\"white\"},\"hoverlabel\":{\"align\":\"left\"},\"hovermode\":\"closest\",\"mapbox\":{\"style\":\"light\"},\"paper_bgcolor\":\"white\",\"plot_bgcolor\":\"#E5ECF6\",\"polar\":{\"angularaxis\":{\"gridcolor\":\"white\",\"linecolor\":\"white\",\"ticks\":\"\"},\"bgcolor\":\"#E5ECF6\",\"radialaxis\":{\"gridcolor\":\"white\",\"linecolor\":\"white\",\"ticks\":\"\"}},\"scene\":{\"xaxis\":{\"backgroundcolor\":\"#E5ECF6\",\"gridcolor\":\"white\",\"gridwidth\":2,\"linecolor\":\"white\",\"showbackground\":true,\"ticks\":\"\",\"zerolinecolor\":\"white\"},\"yaxis\":{\"backgroundcolor\":\"#E5ECF6\",\"gridcolor\":\"white\",\"gridwidth\":2,\"linecolor\":\"white\",\"showbackground\":true,\"ticks\":\"\",\"zerolinecolor\":\"white\"},\"zaxis\":{\"backgroundcolor\":\"#E5ECF6\",\"gridcolor\":\"white\",\"gridwidth\":2,\"linecolor\":\"white\",\"showbackground\":true,\"ticks\":\"\",\"zerolinecolor\":\"white\"}},\"shapedefaults\":{\"line\":{\"color\":\"#2a3f5f\"}},\"ternary\":{\"aaxis\":{\"gridcolor\":\"white\",\"linecolor\":\"white\",\"ticks\":\"\"},\"baxis\":{\"gridcolor\":\"white\",\"linecolor\":\"white\",\"ticks\":\"\"},\"bgcolor\":\"#E5ECF6\",\"caxis\":{\"gridcolor\":\"white\",\"linecolor\":\"white\",\"ticks\":\"\"}},\"title\":{\"x\":0.05},\"xaxis\":{\"automargin\":true,\"gridcolor\":\"white\",\"linecolor\":\"white\",\"ticks\":\"\",\"title\":{\"standoff\":15},\"zerolinecolor\":\"white\",\"zerolinewidth\":2},\"yaxis\":{\"automargin\":true,\"gridcolor\":\"white\",\"linecolor\":\"white\",\"ticks\":\"\",\"title\":{\"standoff\":15},\"zerolinecolor\":\"white\",\"zerolinewidth\":2}}},\"xaxis\":{\"anchor\":\"y\",\"domain\":[0.0,1.0],\"title\":{\"text\":\"Medals\"}},\"yaxis\":{\"anchor\":\"x\",\"domain\":[0.0,1.0],\"title\":{\"text\":\"Sports\"},\"categoryorder\":\"array\",\"categoryarray\":[\"Sailing\",\"Football\",\"Volleyball\",\"Basketball\",\"Athletics\"]},\"legend\":{\"title\":{\"text\":\"Country\"},\"tracegroupgap\":0},\"title\":{\"text\":\"Top5 of Top5\"},\"barmode\":\"relative\",\"height\":500,\"width\":1000},                        {\"responsive\": true}                    ).then(function(){\n",
       "                            \n",
       "var gd = document.getElementById('5cce2047-edf0-46da-b408-427c66c8549f');\n",
       "var x = new MutationObserver(function (mutations, observer) {{\n",
       "        var display = window.getComputedStyle(gd).display;\n",
       "        if (!display || display === 'none') {{\n",
       "            console.log([gd, 'removed!']);\n",
       "            Plotly.purge(gd);\n",
       "            observer.disconnect();\n",
       "        }}\n",
       "}});\n",
       "\n",
       "// Listen for the removal of the full notebook cells\n",
       "var notebookContainer = gd.closest('#notebook-container');\n",
       "if (notebookContainer) {{\n",
       "    x.observe(notebookContainer, {childList: true});\n",
       "}}\n",
       "\n",
       "// Listen for the clearing of the current output cell\n",
       "var outputEl = gd.closest('.output');\n",
       "if (outputEl) {{\n",
       "    x.observe(outputEl, {childList: true});\n",
       "}}\n",
       "\n",
       "                        })                };                });            </script>        </div>"
      ]
     },
     "metadata": {},
     "output_type": "display_data"
    }
   ],
   "source": [
    "fig = px.histogram(y='Sport', x=\"Medal\", data_frame=df_5_5, color='Team',\n",
    "                   text_auto=True, title = 'Top5 of Top5', color_discrete_map={'Brazil':'yellow'},\n",
    "                   category_orders={'Sport': ['Athletics','Basketball','Volleyball','Football','Sailing']},\n",
    "                  width=1000, height=500, orientation='h')\n",
    "\n",
    "fig.update_yaxes(title='Sports')\n",
    "fig.update_xaxes(title='Medals')\n",
    "\n",
    "fig.update_layout(legend=dict(title='Country'))\n",
    "\n",
    "fig.show()"
   ]
  },
  {
   "cell_type": "markdown",
   "id": "3affacc2",
   "metadata": {},
   "source": [
    "Conclusão: O Brasil ainda se coloca entre os Top 5 com 3 esportes, com boas pontuações, ficando em 5o lugar no Veleiro (?), 2o lugar em Volley e 1o Lugar no Futebol, como esperado. Vale pontuar que dois dos esportes que se tem mais medalhas no Brasil, não chegam a figurar entre os 5 melhores países no panorama mundial."
   ]
  },
  {
   "cell_type": "code",
   "execution_count": 85,
   "id": "ccabaa70",
   "metadata": {},
   "outputs": [],
   "source": [
    "sns.set(rc={'figure.figsize':(12.7,6.27)})"
   ]
  }
 ],
 "metadata": {
  "colab": {
   "collapsed_sections": [],
   "name": "Projeto Final- Questão 1, 2 e 3.ipynb",
   "provenance": [
    {
     "file_id": "1-Kb_Gp-6d44C4dE3V_fncO5Zhcre91TR",
     "timestamp": 1644972512663
    }
   ]
  },
  "kernelspec": {
   "display_name": "Python 3",
   "language": "python",
   "name": "python3"
  },
  "language_info": {
   "codemirror_mode": {
    "name": "ipython",
    "version": 3
   },
   "file_extension": ".py",
   "mimetype": "text/x-python",
   "name": "python",
   "nbconvert_exporter": "python",
   "pygments_lexer": "ipython3",
   "version": "3.8.8"
  }
 },
 "nbformat": 4,
 "nbformat_minor": 5
}
